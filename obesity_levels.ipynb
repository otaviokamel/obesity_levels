{
 "cells": [
  {
   "cell_type": "markdown",
   "id": "bd683ba8-dcd2-4bbe-8c6f-80993672c437",
   "metadata": {},
   "source": [
    "# Import"
   ]
  },
  {
   "cell_type": "code",
   "execution_count": 1,
   "id": "a2da1cf8-d69d-4070-b992-74e6f02fc48c",
   "metadata": {
    "tags": []
   },
   "outputs": [],
   "source": [
    "import pandas as pd\n",
    "import numpy as np\n",
    "import seaborn as sns\n",
    "\n",
    "from matplotlib import pyplot as plt\n",
    "from sklearn.preprocessing import MinMaxScaler, RobustScaler\n",
    "from sklearn.model_selection import cross_val_score, cross_validate, GridSearchCV, RandomizedSearchCV, train_test_split\n",
    "from sklearn.ensemble import RandomForestClassifier, ExtraTreesClassifier\n",
    "from boruta import BorutaPy\n",
    "from sklearn.naive_bayes import GaussianNB\n",
    "from sklearn.neighbors import KNeighborsClassifier\n",
    "from sklearn.tree import DecisionTreeClassifier\n",
    "from sklearn import tree\n",
    "from sklearn.metrics import classification_report, confusion_matrix, roc_curve, roc_auc_score\n",
    "from sklearn.model_selection import cross_validate, cross_val_score, cross_val_predict, StratifiedKFold\n",
    "from sklearn.metrics import make_scorer, accuracy_score\n",
    "from sklearn.svm import SVC\n",
    "from sklearn.neural_network import MLPClassifier\n",
    "from yellowbrick.classifier import ROCAUC\n"
   ]
  },
  {
   "cell_type": "markdown",
   "id": "261b9c4a-af62-4e97-8268-230a5b3595bb",
   "metadata": {
    "tags": []
   },
   "source": [
    "## 0. Global Settings"
   ]
  },
  {
   "cell_type": "code",
   "execution_count": 2,
   "id": "3b477f10-0456-42bf-a5e7-add3c3f15891",
   "metadata": {
    "tags": []
   },
   "outputs": [],
   "source": [
    "sns.set_style('darkgrid')\n",
    "\n",
    "pd.set_option('max_columns', 100)\n",
    "pd.set_option('max_rows', 50)\n",
    "pd.set_option('min_rows', 20)\n",
    "pd.set_option('precision', 2) # número de casas decimais nos dataframes\n",
    "pd.options.display.float_format = '{:.2f}'.format # notação científica"
   ]
  },
  {
   "cell_type": "code",
   "execution_count": 3,
   "id": "6b70b8bf-4e32-484d-bb26-09042468a9cb",
   "metadata": {
    "tags": []
   },
   "outputs": [
    {
     "name": "stdout",
     "output_type": "stream",
     "text": [
      "Populating the interactive namespace from numpy and matplotlib\n"
     ]
    }
   ],
   "source": [
    "%matplotlib inline\n",
    "\n",
    "%pylab inline\n",
    "\n",
    "plt.style.use( 'bmh' )\n",
    "plt.rcParams['figure.figsize'] = [12, 6]\n",
    "plt.rcParams['font.size'] = 24\n",
    "\n",
    "#pd.options.display.max_columns = None\n",
    "#pd.options.display.max_rows = None\n",
    "pd.set_option('display.expand_frame_repr', False)\n",
    "\n",
    "sns.set()\n",
    "\n",
    "sns.set_style('whitegrid')"
   ]
  },
  {
   "cell_type": "markdown",
   "id": "951ea3fa-27da-4cd5-ab26-d70a199bd883",
   "metadata": {
    "execution": {
     "iopub.execute_input": "2022-01-07T14:07:04.653155Z",
     "iopub.status.busy": "2022-01-07T14:07:04.653155Z",
     "iopub.status.idle": "2022-01-07T14:07:04.659150Z",
     "shell.execute_reply": "2022-01-07T14:07:04.659150Z",
     "shell.execute_reply.started": "2022-01-07T14:07:04.653155Z"
    },
    "tags": []
   },
   "source": [
    "# 1.0"
   ]
  },
  {
   "cell_type": "code",
   "execution_count": 4,
   "id": "10954bc0-28a2-4632-a214-5283db8a648f",
   "metadata": {
    "tags": []
   },
   "outputs": [],
   "source": [
    "df1 = pd.read_csv('ObesityDataSet_raw_and_data_sinthetic.csv')"
   ]
  },
  {
   "cell_type": "code",
   "execution_count": 5,
   "id": "a4c71abf-1b43-42e9-a072-83339d38cc83",
   "metadata": {
    "tags": []
   },
   "outputs": [
    {
     "data": {
      "text/html": [
       "<div>\n",
       "<style scoped>\n",
       "    .dataframe tbody tr th:only-of-type {\n",
       "        vertical-align: middle;\n",
       "    }\n",
       "\n",
       "    .dataframe tbody tr th {\n",
       "        vertical-align: top;\n",
       "    }\n",
       "\n",
       "    .dataframe thead th {\n",
       "        text-align: right;\n",
       "    }\n",
       "</style>\n",
       "<table border=\"1\" class=\"dataframe\">\n",
       "  <thead>\n",
       "    <tr style=\"text-align: right;\">\n",
       "      <th></th>\n",
       "      <th>Gender</th>\n",
       "      <th>Age</th>\n",
       "      <th>Height</th>\n",
       "      <th>Weight</th>\n",
       "      <th>family_history_with_overweight</th>\n",
       "      <th>FAVC</th>\n",
       "      <th>FCVC</th>\n",
       "      <th>NCP</th>\n",
       "      <th>CAEC</th>\n",
       "      <th>SMOKE</th>\n",
       "      <th>CH2O</th>\n",
       "      <th>SCC</th>\n",
       "      <th>FAF</th>\n",
       "      <th>TUE</th>\n",
       "      <th>CALC</th>\n",
       "      <th>MTRANS</th>\n",
       "      <th>NObeyesdad</th>\n",
       "    </tr>\n",
       "  </thead>\n",
       "  <tbody>\n",
       "    <tr>\n",
       "      <th>0</th>\n",
       "      <td>Female</td>\n",
       "      <td>21.00</td>\n",
       "      <td>1.62</td>\n",
       "      <td>64.00</td>\n",
       "      <td>yes</td>\n",
       "      <td>no</td>\n",
       "      <td>2.00</td>\n",
       "      <td>3.00</td>\n",
       "      <td>Sometimes</td>\n",
       "      <td>no</td>\n",
       "      <td>2.00</td>\n",
       "      <td>no</td>\n",
       "      <td>0.00</td>\n",
       "      <td>1.00</td>\n",
       "      <td>no</td>\n",
       "      <td>Public_Transportation</td>\n",
       "      <td>Normal_Weight</td>\n",
       "    </tr>\n",
       "    <tr>\n",
       "      <th>1</th>\n",
       "      <td>Female</td>\n",
       "      <td>21.00</td>\n",
       "      <td>1.52</td>\n",
       "      <td>56.00</td>\n",
       "      <td>yes</td>\n",
       "      <td>no</td>\n",
       "      <td>3.00</td>\n",
       "      <td>3.00</td>\n",
       "      <td>Sometimes</td>\n",
       "      <td>yes</td>\n",
       "      <td>3.00</td>\n",
       "      <td>yes</td>\n",
       "      <td>3.00</td>\n",
       "      <td>0.00</td>\n",
       "      <td>Sometimes</td>\n",
       "      <td>Public_Transportation</td>\n",
       "      <td>Normal_Weight</td>\n",
       "    </tr>\n",
       "    <tr>\n",
       "      <th>2</th>\n",
       "      <td>Male</td>\n",
       "      <td>23.00</td>\n",
       "      <td>1.80</td>\n",
       "      <td>77.00</td>\n",
       "      <td>yes</td>\n",
       "      <td>no</td>\n",
       "      <td>2.00</td>\n",
       "      <td>3.00</td>\n",
       "      <td>Sometimes</td>\n",
       "      <td>no</td>\n",
       "      <td>2.00</td>\n",
       "      <td>no</td>\n",
       "      <td>2.00</td>\n",
       "      <td>1.00</td>\n",
       "      <td>Frequently</td>\n",
       "      <td>Public_Transportation</td>\n",
       "      <td>Normal_Weight</td>\n",
       "    </tr>\n",
       "    <tr>\n",
       "      <th>3</th>\n",
       "      <td>Male</td>\n",
       "      <td>27.00</td>\n",
       "      <td>1.80</td>\n",
       "      <td>87.00</td>\n",
       "      <td>no</td>\n",
       "      <td>no</td>\n",
       "      <td>3.00</td>\n",
       "      <td>3.00</td>\n",
       "      <td>Sometimes</td>\n",
       "      <td>no</td>\n",
       "      <td>2.00</td>\n",
       "      <td>no</td>\n",
       "      <td>2.00</td>\n",
       "      <td>0.00</td>\n",
       "      <td>Frequently</td>\n",
       "      <td>Walking</td>\n",
       "      <td>Overweight_Level_I</td>\n",
       "    </tr>\n",
       "    <tr>\n",
       "      <th>4</th>\n",
       "      <td>Male</td>\n",
       "      <td>22.00</td>\n",
       "      <td>1.78</td>\n",
       "      <td>89.80</td>\n",
       "      <td>no</td>\n",
       "      <td>no</td>\n",
       "      <td>2.00</td>\n",
       "      <td>1.00</td>\n",
       "      <td>Sometimes</td>\n",
       "      <td>no</td>\n",
       "      <td>2.00</td>\n",
       "      <td>no</td>\n",
       "      <td>0.00</td>\n",
       "      <td>0.00</td>\n",
       "      <td>Sometimes</td>\n",
       "      <td>Public_Transportation</td>\n",
       "      <td>Overweight_Level_II</td>\n",
       "    </tr>\n",
       "  </tbody>\n",
       "</table>\n",
       "</div>"
      ],
      "text/plain": [
       "   Gender   Age  Height  Weight family_history_with_overweight FAVC  FCVC  NCP       CAEC SMOKE  CH2O  SCC  FAF  TUE        CALC                 MTRANS           NObeyesdad\n",
       "0  Female 21.00    1.62   64.00                            yes   no  2.00 3.00  Sometimes    no  2.00   no 0.00 1.00          no  Public_Transportation        Normal_Weight\n",
       "1  Female 21.00    1.52   56.00                            yes   no  3.00 3.00  Sometimes   yes  3.00  yes 3.00 0.00   Sometimes  Public_Transportation        Normal_Weight\n",
       "2    Male 23.00    1.80   77.00                            yes   no  2.00 3.00  Sometimes    no  2.00   no 2.00 1.00  Frequently  Public_Transportation        Normal_Weight\n",
       "3    Male 27.00    1.80   87.00                             no   no  3.00 3.00  Sometimes    no  2.00   no 2.00 0.00  Frequently                Walking   Overweight_Level_I\n",
       "4    Male 22.00    1.78   89.80                             no   no  2.00 1.00  Sometimes    no  2.00   no 0.00 0.00   Sometimes  Public_Transportation  Overweight_Level_II"
      ]
     },
     "execution_count": 5,
     "metadata": {},
     "output_type": "execute_result"
    }
   ],
   "source": [
    "df1.head()"
   ]
  },
  {
   "cell_type": "code",
   "execution_count": 6,
   "id": "d0226eb8-e321-43d1-ba11-8b9d6b10b5aa",
   "metadata": {
    "tags": []
   },
   "outputs": [
    {
     "name": "stdout",
     "output_type": "stream",
     "text": [
      "O dataset possui 2111 linhas e 17 colunas\n"
     ]
    }
   ],
   "source": [
    "print(f'O dataset possui {df1.shape[0]} linhas e {df1.shape[1]} colunas')"
   ]
  },
  {
   "cell_type": "code",
   "execution_count": 7,
   "id": "7be89327-c498-4c69-b3ef-bc5957f11819",
   "metadata": {
    "tags": []
   },
   "outputs": [
    {
     "data": {
      "text/html": [
       "<div>\n",
       "<style scoped>\n",
       "    .dataframe tbody tr th:only-of-type {\n",
       "        vertical-align: middle;\n",
       "    }\n",
       "\n",
       "    .dataframe tbody tr th {\n",
       "        vertical-align: top;\n",
       "    }\n",
       "\n",
       "    .dataframe thead th {\n",
       "        text-align: right;\n",
       "    }\n",
       "</style>\n",
       "<table border=\"1\" class=\"dataframe\">\n",
       "  <thead>\n",
       "    <tr style=\"text-align: right;\">\n",
       "      <th></th>\n",
       "      <th>Age</th>\n",
       "      <th>Height</th>\n",
       "      <th>Weight</th>\n",
       "      <th>FCVC</th>\n",
       "      <th>NCP</th>\n",
       "      <th>CH2O</th>\n",
       "      <th>FAF</th>\n",
       "      <th>TUE</th>\n",
       "    </tr>\n",
       "  </thead>\n",
       "  <tbody>\n",
       "    <tr>\n",
       "      <th>count</th>\n",
       "      <td>2111.00</td>\n",
       "      <td>2111.00</td>\n",
       "      <td>2111.00</td>\n",
       "      <td>2111.00</td>\n",
       "      <td>2111.00</td>\n",
       "      <td>2111.00</td>\n",
       "      <td>2111.00</td>\n",
       "      <td>2111.00</td>\n",
       "    </tr>\n",
       "    <tr>\n",
       "      <th>mean</th>\n",
       "      <td>24.31</td>\n",
       "      <td>1.70</td>\n",
       "      <td>86.59</td>\n",
       "      <td>2.42</td>\n",
       "      <td>2.69</td>\n",
       "      <td>2.01</td>\n",
       "      <td>1.01</td>\n",
       "      <td>0.66</td>\n",
       "    </tr>\n",
       "    <tr>\n",
       "      <th>std</th>\n",
       "      <td>6.35</td>\n",
       "      <td>0.09</td>\n",
       "      <td>26.19</td>\n",
       "      <td>0.53</td>\n",
       "      <td>0.78</td>\n",
       "      <td>0.61</td>\n",
       "      <td>0.85</td>\n",
       "      <td>0.61</td>\n",
       "    </tr>\n",
       "    <tr>\n",
       "      <th>min</th>\n",
       "      <td>14.00</td>\n",
       "      <td>1.45</td>\n",
       "      <td>39.00</td>\n",
       "      <td>1.00</td>\n",
       "      <td>1.00</td>\n",
       "      <td>1.00</td>\n",
       "      <td>0.00</td>\n",
       "      <td>0.00</td>\n",
       "    </tr>\n",
       "    <tr>\n",
       "      <th>25%</th>\n",
       "      <td>19.95</td>\n",
       "      <td>1.63</td>\n",
       "      <td>65.47</td>\n",
       "      <td>2.00</td>\n",
       "      <td>2.66</td>\n",
       "      <td>1.58</td>\n",
       "      <td>0.12</td>\n",
       "      <td>0.00</td>\n",
       "    </tr>\n",
       "    <tr>\n",
       "      <th>50%</th>\n",
       "      <td>22.78</td>\n",
       "      <td>1.70</td>\n",
       "      <td>83.00</td>\n",
       "      <td>2.39</td>\n",
       "      <td>3.00</td>\n",
       "      <td>2.00</td>\n",
       "      <td>1.00</td>\n",
       "      <td>0.63</td>\n",
       "    </tr>\n",
       "    <tr>\n",
       "      <th>75%</th>\n",
       "      <td>26.00</td>\n",
       "      <td>1.77</td>\n",
       "      <td>107.43</td>\n",
       "      <td>3.00</td>\n",
       "      <td>3.00</td>\n",
       "      <td>2.48</td>\n",
       "      <td>1.67</td>\n",
       "      <td>1.00</td>\n",
       "    </tr>\n",
       "    <tr>\n",
       "      <th>max</th>\n",
       "      <td>61.00</td>\n",
       "      <td>1.98</td>\n",
       "      <td>173.00</td>\n",
       "      <td>3.00</td>\n",
       "      <td>4.00</td>\n",
       "      <td>3.00</td>\n",
       "      <td>3.00</td>\n",
       "      <td>2.00</td>\n",
       "    </tr>\n",
       "  </tbody>\n",
       "</table>\n",
       "</div>"
      ],
      "text/plain": [
       "          Age  Height  Weight    FCVC     NCP    CH2O     FAF     TUE\n",
       "count 2111.00 2111.00 2111.00 2111.00 2111.00 2111.00 2111.00 2111.00\n",
       "mean    24.31    1.70   86.59    2.42    2.69    2.01    1.01    0.66\n",
       "std      6.35    0.09   26.19    0.53    0.78    0.61    0.85    0.61\n",
       "min     14.00    1.45   39.00    1.00    1.00    1.00    0.00    0.00\n",
       "25%     19.95    1.63   65.47    2.00    2.66    1.58    0.12    0.00\n",
       "50%     22.78    1.70   83.00    2.39    3.00    2.00    1.00    0.63\n",
       "75%     26.00    1.77  107.43    3.00    3.00    2.48    1.67    1.00\n",
       "max     61.00    1.98  173.00    3.00    4.00    3.00    3.00    2.00"
      ]
     },
     "execution_count": 7,
     "metadata": {},
     "output_type": "execute_result"
    }
   ],
   "source": [
    "df1.describe()"
   ]
  },
  {
   "cell_type": "code",
   "execution_count": 8,
   "id": "183622cf-0bce-4290-9413-4e58c941a88b",
   "metadata": {
    "tags": []
   },
   "outputs": [
    {
     "data": {
      "text/plain": [
       "0"
      ]
     },
     "execution_count": 8,
     "metadata": {},
     "output_type": "execute_result"
    }
   ],
   "source": [
    "df1.isna().sum().sum()"
   ]
  },
  {
   "cell_type": "code",
   "execution_count": 9,
   "id": "8c81f922-d2ec-4eb7-98c6-03305a09ac7b",
   "metadata": {
    "tags": []
   },
   "outputs": [
    {
     "data": {
      "text/plain": [
       "Gender                             object\n",
       "Age                               float64\n",
       "Height                            float64\n",
       "Weight                            float64\n",
       "family_history_with_overweight     object\n",
       "FAVC                               object\n",
       "FCVC                              float64\n",
       "NCP                               float64\n",
       "CAEC                               object\n",
       "SMOKE                              object\n",
       "CH2O                              float64\n",
       "SCC                                object\n",
       "FAF                               float64\n",
       "TUE                               float64\n",
       "CALC                               object\n",
       "MTRANS                             object\n",
       "NObeyesdad                         object\n",
       "dtype: object"
      ]
     },
     "execution_count": 9,
     "metadata": {},
     "output_type": "execute_result"
    }
   ],
   "source": [
    "df1.dtypes"
   ]
  },
  {
   "cell_type": "code",
   "execution_count": 10,
   "id": "8a1e0374-e34a-4429-a0a7-4c7b75d86df2",
   "metadata": {
    "tags": []
   },
   "outputs": [
    {
     "data": {
      "text/plain": [
       "object     9\n",
       "float64    8\n",
       "dtype: int64"
      ]
     },
     "execution_count": 10,
     "metadata": {},
     "output_type": "execute_result"
    }
   ],
   "source": [
    "df1.dtypes.value_counts()"
   ]
  },
  {
   "cell_type": "code",
   "execution_count": 11,
   "id": "12d4044e-125f-4f55-86d3-ac44b25b5894",
   "metadata": {
    "tags": []
   },
   "outputs": [],
   "source": [
    "num_attr = df1.select_dtypes(exclude='object')\n",
    "cat_attr = df1.select_dtypes(include='object')"
   ]
  },
  {
   "cell_type": "code",
   "execution_count": 12,
   "id": "a4ca9ee9-01f0-4af4-989a-d6c612c25015",
   "metadata": {
    "tags": []
   },
   "outputs": [
    {
     "data": {
      "image/png": "[encoded data removed]",
      "text/plain": [
       "<Figure size 864x432 with 1 Axes>"
      ]
     },
     "metadata": {},
     "output_type": "display_data"
    }
   ],
   "source": [
    "sns.countplot(x=df1['NObeyesdad']);"
   ]
  },
  {
   "cell_type": "code",
   "execution_count": 13,
   "id": "7a24c71a-a728-46d4-ae73-e20afd8a1a05",
   "metadata": {
    "tags": []
   },
   "outputs": [
    {
     "data": {
      "image/png": "[encoded data removed]",
      "text/plain": [
       "<Figure size 864x432 with 9 Axes>"
      ]
     },
     "metadata": {},
     "output_type": "display_data"
    }
   ],
   "source": [
    "df1.hist();"
   ]
  },
  {
   "cell_type": "code",
   "execution_count": 14,
   "id": "47a7adfa-d14e-478d-a595-1cc04c602058",
   "metadata": {
    "tags": []
   },
   "outputs": [
    {
     "data": {
      "image/png": "[encoded data removed]",
      "text/plain": [
       "<Figure size 864x648 with 1 Axes>"
      ]
     },
     "metadata": {},
     "output_type": "display_data"
    }
   ],
   "source": [
    "# Verificando correlação entre as características\n",
    "corr_input_var = num_attr.corr()\n",
    "\n",
    "fig, ax = plt.subplots(figsize=(12,9))\n",
    "sns.heatmap(corr_input_var, annot=True, cbar=False, cmap='Reds', linewidths=.5, ax=ax);"
   ]
  },
  {
   "cell_type": "code",
   "execution_count": 15,
   "id": "31ebc02c-4298-4b64-9500-bbfe0ec1a18a",
   "metadata": {},
   "outputs": [
    {
     "data": {
      "text/html": [
       "<div>\n",
       "<style scoped>\n",
       "    .dataframe tbody tr th:only-of-type {\n",
       "        vertical-align: middle;\n",
       "    }\n",
       "\n",
       "    .dataframe tbody tr th {\n",
       "        vertical-align: top;\n",
       "    }\n",
       "\n",
       "    .dataframe thead th {\n",
       "        text-align: right;\n",
       "    }\n",
       "</style>\n",
       "<table border=\"1\" class=\"dataframe\">\n",
       "  <thead>\n",
       "    <tr style=\"text-align: right;\">\n",
       "      <th></th>\n",
       "      <th>Gender</th>\n",
       "      <th>family_history_with_overweight</th>\n",
       "      <th>FAVC</th>\n",
       "      <th>CAEC</th>\n",
       "      <th>SMOKE</th>\n",
       "      <th>SCC</th>\n",
       "      <th>CALC</th>\n",
       "      <th>MTRANS</th>\n",
       "      <th>NObeyesdad</th>\n",
       "    </tr>\n",
       "  </thead>\n",
       "  <tbody>\n",
       "    <tr>\n",
       "      <th>count</th>\n",
       "      <td>2111</td>\n",
       "      <td>2111</td>\n",
       "      <td>2111</td>\n",
       "      <td>2111</td>\n",
       "      <td>2111</td>\n",
       "      <td>2111</td>\n",
       "      <td>2111</td>\n",
       "      <td>2111</td>\n",
       "      <td>2111</td>\n",
       "    </tr>\n",
       "    <tr>\n",
       "      <th>unique</th>\n",
       "      <td>2</td>\n",
       "      <td>2</td>\n",
       "      <td>2</td>\n",
       "      <td>4</td>\n",
       "      <td>2</td>\n",
       "      <td>2</td>\n",
       "      <td>4</td>\n",
       "      <td>5</td>\n",
       "      <td>7</td>\n",
       "    </tr>\n",
       "    <tr>\n",
       "      <th>top</th>\n",
       "      <td>Male</td>\n",
       "      <td>yes</td>\n",
       "      <td>yes</td>\n",
       "      <td>Sometimes</td>\n",
       "      <td>no</td>\n",
       "      <td>no</td>\n",
       "      <td>Sometimes</td>\n",
       "      <td>Public_Transportation</td>\n",
       "      <td>Obesity_Type_I</td>\n",
       "    </tr>\n",
       "    <tr>\n",
       "      <th>freq</th>\n",
       "      <td>1068</td>\n",
       "      <td>1726</td>\n",
       "      <td>1866</td>\n",
       "      <td>1765</td>\n",
       "      <td>2067</td>\n",
       "      <td>2015</td>\n",
       "      <td>1401</td>\n",
       "      <td>1580</td>\n",
       "      <td>351</td>\n",
       "    </tr>\n",
       "  </tbody>\n",
       "</table>\n",
       "</div>"
      ],
      "text/plain": [
       "       Gender family_history_with_overweight  FAVC       CAEC SMOKE   SCC       CALC                 MTRANS      NObeyesdad\n",
       "count    2111                           2111  2111       2111  2111  2111       2111                   2111            2111\n",
       "unique      2                              2     2          4     2     2          4                      5               7\n",
       "top      Male                            yes   yes  Sometimes    no    no  Sometimes  Public_Transportation  Obesity_Type_I\n",
       "freq     1068                           1726  1866       1765  2067  2015       1401                   1580             351"
      ]
     },
     "execution_count": 15,
     "metadata": {},
     "output_type": "execute_result"
    }
   ],
   "source": [
    "df1.describe(include='object') "
   ]
  },
  {
   "cell_type": "code",
   "execution_count": 16,
   "id": "c8feadd1-e048-44f8-9f14-7fcf9df7e00f",
   "metadata": {},
   "outputs": [
    {
     "data": {
      "image/png": "[encoded data removed]",
      "text/plain": [
       "<Figure size 864x432 with 1 Axes>"
      ]
     },
     "metadata": {},
     "output_type": "display_data"
    },
    {
     "data": {
      "image/png": "[encoded data removed]",
      "text/plain": [
       "<Figure size 864x432 with 1 Axes>"
      ]
     },
     "metadata": {},
     "output_type": "display_data"
    },
    {
     "data": {
      "image/png": "[encoded data removed]",
      "text/plain": [
       "<Figure size 864x432 with 1 Axes>"
      ]
     },
     "metadata": {},
     "output_type": "display_data"
    },
    {
     "data": {
      "image/png": "[encoded data removed]",
      "text/plain": [
       "<Figure size 864x432 with 1 Axes>"
      ]
     },
     "metadata": {},
     "output_type": "display_data"
    },
    {
     "data": {
      "image/png": "[encoded data removed]",
      "text/plain": [
       "<Figure size 864x432 with 1 Axes>"
      ]
     },
     "metadata": {},
     "output_type": "display_data"
    },
    {
     "data": {
      "image/png": "[encoded data removed]",
      "text/plain": [
       "<Figure size 864x432 with 1 Axes>"
      ]
     },
     "metadata": {},
     "output_type": "display_data"
    },
    {
     "data": {
      "image/png": "[encoded data removed]",
      "text/plain": [
       "<Figure size 864x432 with 1 Axes>"
      ]
     },
     "metadata": {},
     "output_type": "display_data"
    },
    {
     "data": {
      "image/png": "[encoded data removed]",
      "text/plain": [
       "<Figure size 864x432 with 1 Axes>"
      ]
     },
     "metadata": {},
     "output_type": "display_data"
    },
    {
     "data": {
      "image/png": "[encoded data removed]",
      "text/plain": [
       "<Figure size 864x432 with 1 Axes>"
      ]
     },
     "metadata": {},
     "output_type": "display_data"
    }
   ],
   "source": [
    "for column in df1.select_dtypes(include='object'):\n",
    "    if df1[column].nunique() < 10:\n",
    "        sns.countplot(x=column, data=df1)\n",
    "        plt.show()"
   ]
  },
  {
   "cell_type": "code",
   "execution_count": 17,
   "id": "073b805e-2e9f-43c6-b945-254100d20204",
   "metadata": {
    "tags": []
   },
   "outputs": [
    {
     "data": {
      "text/html": [
       "<div>\n",
       "<style scoped>\n",
       "    .dataframe tbody tr th:only-of-type {\n",
       "        vertical-align: middle;\n",
       "    }\n",
       "\n",
       "    .dataframe tbody tr th {\n",
       "        vertical-align: top;\n",
       "    }\n",
       "\n",
       "    .dataframe thead th {\n",
       "        text-align: right;\n",
       "    }\n",
       "</style>\n",
       "<table border=\"1\" class=\"dataframe\">\n",
       "  <thead>\n",
       "    <tr style=\"text-align: right;\">\n",
       "      <th>Gender</th>\n",
       "      <th>Female</th>\n",
       "      <th>Male</th>\n",
       "    </tr>\n",
       "    <tr>\n",
       "      <th>NObeyesdad</th>\n",
       "      <th></th>\n",
       "      <th></th>\n",
       "    </tr>\n",
       "  </thead>\n",
       "  <tbody>\n",
       "    <tr>\n",
       "      <th>Insufficient_Weight</th>\n",
       "      <td>0.64</td>\n",
       "      <td>0.36</td>\n",
       "    </tr>\n",
       "    <tr>\n",
       "      <th>Normal_Weight</th>\n",
       "      <td>0.49</td>\n",
       "      <td>0.51</td>\n",
       "    </tr>\n",
       "    <tr>\n",
       "      <th>Obesity_Type_I</th>\n",
       "      <td>0.44</td>\n",
       "      <td>0.56</td>\n",
       "    </tr>\n",
       "    <tr>\n",
       "      <th>Obesity_Type_II</th>\n",
       "      <td>0.01</td>\n",
       "      <td>0.99</td>\n",
       "    </tr>\n",
       "    <tr>\n",
       "      <th>Obesity_Type_III</th>\n",
       "      <td>1.00</td>\n",
       "      <td>0.00</td>\n",
       "    </tr>\n",
       "    <tr>\n",
       "      <th>Overweight_Level_I</th>\n",
       "      <td>0.50</td>\n",
       "      <td>0.50</td>\n",
       "    </tr>\n",
       "    <tr>\n",
       "      <th>Overweight_Level_II</th>\n",
       "      <td>0.36</td>\n",
       "      <td>0.64</td>\n",
       "    </tr>\n",
       "  </tbody>\n",
       "</table>\n",
       "</div>"
      ],
      "text/plain": [
       "Gender               Female  Male\n",
       "NObeyesdad                       \n",
       "Insufficient_Weight    0.64  0.36\n",
       "Normal_Weight          0.49  0.51\n",
       "Obesity_Type_I         0.44  0.56\n",
       "Obesity_Type_II        0.01  0.99\n",
       "Obesity_Type_III       1.00  0.00\n",
       "Overweight_Level_I     0.50  0.50\n",
       "Overweight_Level_II    0.36  0.64"
      ]
     },
     "metadata": {},
     "output_type": "display_data"
    },
    {
     "data": {
      "text/html": [
       "<div>\n",
       "<style scoped>\n",
       "    .dataframe tbody tr th:only-of-type {\n",
       "        vertical-align: middle;\n",
       "    }\n",
       "\n",
       "    .dataframe tbody tr th {\n",
       "        vertical-align: top;\n",
       "    }\n",
       "\n",
       "    .dataframe thead th {\n",
       "        text-align: right;\n",
       "    }\n",
       "</style>\n",
       "<table border=\"1\" class=\"dataframe\">\n",
       "  <thead>\n",
       "    <tr style=\"text-align: right;\">\n",
       "      <th>family_history_with_overweight</th>\n",
       "      <th>no</th>\n",
       "      <th>yes</th>\n",
       "    </tr>\n",
       "    <tr>\n",
       "      <th>NObeyesdad</th>\n",
       "      <th></th>\n",
       "      <th></th>\n",
       "    </tr>\n",
       "  </thead>\n",
       "  <tbody>\n",
       "    <tr>\n",
       "      <th>Insufficient_Weight</th>\n",
       "      <td>0.54</td>\n",
       "      <td>0.46</td>\n",
       "    </tr>\n",
       "    <tr>\n",
       "      <th>Normal_Weight</th>\n",
       "      <td>0.46</td>\n",
       "      <td>0.54</td>\n",
       "    </tr>\n",
       "    <tr>\n",
       "      <th>Obesity_Type_I</th>\n",
       "      <td>0.02</td>\n",
       "      <td>0.98</td>\n",
       "    </tr>\n",
       "    <tr>\n",
       "      <th>Obesity_Type_II</th>\n",
       "      <td>0.00</td>\n",
       "      <td>1.00</td>\n",
       "    </tr>\n",
       "    <tr>\n",
       "      <th>Obesity_Type_III</th>\n",
       "      <td>0.00</td>\n",
       "      <td>1.00</td>\n",
       "    </tr>\n",
       "    <tr>\n",
       "      <th>Overweight_Level_I</th>\n",
       "      <td>0.28</td>\n",
       "      <td>0.72</td>\n",
       "    </tr>\n",
       "    <tr>\n",
       "      <th>Overweight_Level_II</th>\n",
       "      <td>0.06</td>\n",
       "      <td>0.94</td>\n",
       "    </tr>\n",
       "  </tbody>\n",
       "</table>\n",
       "</div>"
      ],
      "text/plain": [
       "family_history_with_overweight   no  yes\n",
       "NObeyesdad                              \n",
       "Insufficient_Weight            0.54 0.46\n",
       "Normal_Weight                  0.46 0.54\n",
       "Obesity_Type_I                 0.02 0.98\n",
       "Obesity_Type_II                0.00 1.00\n",
       "Obesity_Type_III               0.00 1.00\n",
       "Overweight_Level_I             0.28 0.72\n",
       "Overweight_Level_II            0.06 0.94"
      ]
     },
     "metadata": {},
     "output_type": "display_data"
    },
    {
     "data": {
      "text/html": [
       "<div>\n",
       "<style scoped>\n",
       "    .dataframe tbody tr th:only-of-type {\n",
       "        vertical-align: middle;\n",
       "    }\n",
       "\n",
       "    .dataframe tbody tr th {\n",
       "        vertical-align: top;\n",
       "    }\n",
       "\n",
       "    .dataframe thead th {\n",
       "        text-align: right;\n",
       "    }\n",
       "</style>\n",
       "<table border=\"1\" class=\"dataframe\">\n",
       "  <thead>\n",
       "    <tr style=\"text-align: right;\">\n",
       "      <th>FAVC</th>\n",
       "      <th>no</th>\n",
       "      <th>yes</th>\n",
       "    </tr>\n",
       "    <tr>\n",
       "      <th>NObeyesdad</th>\n",
       "      <th></th>\n",
       "      <th></th>\n",
       "    </tr>\n",
       "  </thead>\n",
       "  <tbody>\n",
       "    <tr>\n",
       "      <th>Insufficient_Weight</th>\n",
       "      <td>0.19</td>\n",
       "      <td>0.81</td>\n",
       "    </tr>\n",
       "    <tr>\n",
       "      <th>Normal_Weight</th>\n",
       "      <td>0.28</td>\n",
       "      <td>0.72</td>\n",
       "    </tr>\n",
       "    <tr>\n",
       "      <th>Obesity_Type_I</th>\n",
       "      <td>0.03</td>\n",
       "      <td>0.97</td>\n",
       "    </tr>\n",
       "    <tr>\n",
       "      <th>Obesity_Type_II</th>\n",
       "      <td>0.02</td>\n",
       "      <td>0.98</td>\n",
       "    </tr>\n",
       "    <tr>\n",
       "      <th>Obesity_Type_III</th>\n",
       "      <td>0.00</td>\n",
       "      <td>1.00</td>\n",
       "    </tr>\n",
       "    <tr>\n",
       "      <th>Overweight_Level_I</th>\n",
       "      <td>0.08</td>\n",
       "      <td>0.92</td>\n",
       "    </tr>\n",
       "    <tr>\n",
       "      <th>Overweight_Level_II</th>\n",
       "      <td>0.26</td>\n",
       "      <td>0.74</td>\n",
       "    </tr>\n",
       "  </tbody>\n",
       "</table>\n",
       "</div>"
      ],
      "text/plain": [
       "FAVC                  no  yes\n",
       "NObeyesdad                   \n",
       "Insufficient_Weight 0.19 0.81\n",
       "Normal_Weight       0.28 0.72\n",
       "Obesity_Type_I      0.03 0.97\n",
       "Obesity_Type_II     0.02 0.98\n",
       "Obesity_Type_III    0.00 1.00\n",
       "Overweight_Level_I  0.08 0.92\n",
       "Overweight_Level_II 0.26 0.74"
      ]
     },
     "metadata": {},
     "output_type": "display_data"
    },
    {
     "data": {
      "text/html": [
       "<div>\n",
       "<style scoped>\n",
       "    .dataframe tbody tr th:only-of-type {\n",
       "        vertical-align: middle;\n",
       "    }\n",
       "\n",
       "    .dataframe tbody tr th {\n",
       "        vertical-align: top;\n",
       "    }\n",
       "\n",
       "    .dataframe thead th {\n",
       "        text-align: right;\n",
       "    }\n",
       "</style>\n",
       "<table border=\"1\" class=\"dataframe\">\n",
       "  <thead>\n",
       "    <tr style=\"text-align: right;\">\n",
       "      <th>CAEC</th>\n",
       "      <th>Always</th>\n",
       "      <th>Frequently</th>\n",
       "      <th>Sometimes</th>\n",
       "      <th>no</th>\n",
       "    </tr>\n",
       "    <tr>\n",
       "      <th>NObeyesdad</th>\n",
       "      <th></th>\n",
       "      <th></th>\n",
       "      <th></th>\n",
       "      <th></th>\n",
       "    </tr>\n",
       "  </thead>\n",
       "  <tbody>\n",
       "    <tr>\n",
       "      <th>Insufficient_Weight</th>\n",
       "      <td>0.01</td>\n",
       "      <td>0.44</td>\n",
       "      <td>0.54</td>\n",
       "      <td>0.01</td>\n",
       "    </tr>\n",
       "    <tr>\n",
       "      <th>Normal_Weight</th>\n",
       "      <td>0.12</td>\n",
       "      <td>0.29</td>\n",
       "      <td>0.55</td>\n",
       "      <td>0.03</td>\n",
       "    </tr>\n",
       "    <tr>\n",
       "      <th>Obesity_Type_I</th>\n",
       "      <td>0.02</td>\n",
       "      <td>0.02</td>\n",
       "      <td>0.96</td>\n",
       "      <td>0.00</td>\n",
       "    </tr>\n",
       "    <tr>\n",
       "      <th>Obesity_Type_II</th>\n",
       "      <td>0.01</td>\n",
       "      <td>0.00</td>\n",
       "      <td>0.99</td>\n",
       "      <td>0.00</td>\n",
       "    </tr>\n",
       "    <tr>\n",
       "      <th>Obesity_Type_III</th>\n",
       "      <td>0.00</td>\n",
       "      <td>0.00</td>\n",
       "      <td>1.00</td>\n",
       "      <td>0.00</td>\n",
       "    </tr>\n",
       "    <tr>\n",
       "      <th>Overweight_Level_I</th>\n",
       "      <td>0.02</td>\n",
       "      <td>0.05</td>\n",
       "      <td>0.81</td>\n",
       "      <td>0.12</td>\n",
       "    </tr>\n",
       "    <tr>\n",
       "      <th>Overweight_Level_II</th>\n",
       "      <td>0.01</td>\n",
       "      <td>0.06</td>\n",
       "      <td>0.93</td>\n",
       "      <td>0.00</td>\n",
       "    </tr>\n",
       "  </tbody>\n",
       "</table>\n",
       "</div>"
      ],
      "text/plain": [
       "CAEC                 Always  Frequently  Sometimes   no\n",
       "NObeyesdad                                             \n",
       "Insufficient_Weight    0.01        0.44       0.54 0.01\n",
       "Normal_Weight          0.12        0.29       0.55 0.03\n",
       "Obesity_Type_I         0.02        0.02       0.96 0.00\n",
       "Obesity_Type_II        0.01        0.00       0.99 0.00\n",
       "Obesity_Type_III       0.00        0.00       1.00 0.00\n",
       "Overweight_Level_I     0.02        0.05       0.81 0.12\n",
       "Overweight_Level_II    0.01        0.06       0.93 0.00"
      ]
     },
     "metadata": {},
     "output_type": "display_data"
    },
    {
     "data": {
      "text/html": [
       "<div>\n",
       "<style scoped>\n",
       "    .dataframe tbody tr th:only-of-type {\n",
       "        vertical-align: middle;\n",
       "    }\n",
       "\n",
       "    .dataframe tbody tr th {\n",
       "        vertical-align: top;\n",
       "    }\n",
       "\n",
       "    .dataframe thead th {\n",
       "        text-align: right;\n",
       "    }\n",
       "</style>\n",
       "<table border=\"1\" class=\"dataframe\">\n",
       "  <thead>\n",
       "    <tr style=\"text-align: right;\">\n",
       "      <th>SMOKE</th>\n",
       "      <th>no</th>\n",
       "      <th>yes</th>\n",
       "    </tr>\n",
       "    <tr>\n",
       "      <th>NObeyesdad</th>\n",
       "      <th></th>\n",
       "      <th></th>\n",
       "    </tr>\n",
       "  </thead>\n",
       "  <tbody>\n",
       "    <tr>\n",
       "      <th>Insufficient_Weight</th>\n",
       "      <td>1.00</td>\n",
       "      <td>0.00</td>\n",
       "    </tr>\n",
       "    <tr>\n",
       "      <th>Normal_Weight</th>\n",
       "      <td>0.95</td>\n",
       "      <td>0.05</td>\n",
       "    </tr>\n",
       "    <tr>\n",
       "      <th>Obesity_Type_I</th>\n",
       "      <td>0.98</td>\n",
       "      <td>0.02</td>\n",
       "    </tr>\n",
       "    <tr>\n",
       "      <th>Obesity_Type_II</th>\n",
       "      <td>0.95</td>\n",
       "      <td>0.05</td>\n",
       "    </tr>\n",
       "    <tr>\n",
       "      <th>Obesity_Type_III</th>\n",
       "      <td>1.00</td>\n",
       "      <td>0.00</td>\n",
       "    </tr>\n",
       "    <tr>\n",
       "      <th>Overweight_Level_I</th>\n",
       "      <td>0.99</td>\n",
       "      <td>0.01</td>\n",
       "    </tr>\n",
       "    <tr>\n",
       "      <th>Overweight_Level_II</th>\n",
       "      <td>0.98</td>\n",
       "      <td>0.02</td>\n",
       "    </tr>\n",
       "  </tbody>\n",
       "</table>\n",
       "</div>"
      ],
      "text/plain": [
       "SMOKE                 no  yes\n",
       "NObeyesdad                   \n",
       "Insufficient_Weight 1.00 0.00\n",
       "Normal_Weight       0.95 0.05\n",
       "Obesity_Type_I      0.98 0.02\n",
       "Obesity_Type_II     0.95 0.05\n",
       "Obesity_Type_III    1.00 0.00\n",
       "Overweight_Level_I  0.99 0.01\n",
       "Overweight_Level_II 0.98 0.02"
      ]
     },
     "metadata": {},
     "output_type": "display_data"
    },
    {
     "data": {
      "text/html": [
       "<div>\n",
       "<style scoped>\n",
       "    .dataframe tbody tr th:only-of-type {\n",
       "        vertical-align: middle;\n",
       "    }\n",
       "\n",
       "    .dataframe tbody tr th {\n",
       "        vertical-align: top;\n",
       "    }\n",
       "\n",
       "    .dataframe thead th {\n",
       "        text-align: right;\n",
       "    }\n",
       "</style>\n",
       "<table border=\"1\" class=\"dataframe\">\n",
       "  <thead>\n",
       "    <tr style=\"text-align: right;\">\n",
       "      <th>SCC</th>\n",
       "      <th>no</th>\n",
       "      <th>yes</th>\n",
       "    </tr>\n",
       "    <tr>\n",
       "      <th>NObeyesdad</th>\n",
       "      <th></th>\n",
       "      <th></th>\n",
       "    </tr>\n",
       "  </thead>\n",
       "  <tbody>\n",
       "    <tr>\n",
       "      <th>Insufficient_Weight</th>\n",
       "      <td>0.92</td>\n",
       "      <td>0.08</td>\n",
       "    </tr>\n",
       "    <tr>\n",
       "      <th>Normal_Weight</th>\n",
       "      <td>0.90</td>\n",
       "      <td>0.10</td>\n",
       "    </tr>\n",
       "    <tr>\n",
       "      <th>Obesity_Type_I</th>\n",
       "      <td>0.99</td>\n",
       "      <td>0.01</td>\n",
       "    </tr>\n",
       "    <tr>\n",
       "      <th>Obesity_Type_II</th>\n",
       "      <td>1.00</td>\n",
       "      <td>0.00</td>\n",
       "    </tr>\n",
       "    <tr>\n",
       "      <th>Obesity_Type_III</th>\n",
       "      <td>1.00</td>\n",
       "      <td>0.00</td>\n",
       "    </tr>\n",
       "    <tr>\n",
       "      <th>Overweight_Level_I</th>\n",
       "      <td>0.87</td>\n",
       "      <td>0.13</td>\n",
       "    </tr>\n",
       "    <tr>\n",
       "      <th>Overweight_Level_II</th>\n",
       "      <td>0.99</td>\n",
       "      <td>0.01</td>\n",
       "    </tr>\n",
       "  </tbody>\n",
       "</table>\n",
       "</div>"
      ],
      "text/plain": [
       "SCC                   no  yes\n",
       "NObeyesdad                   \n",
       "Insufficient_Weight 0.92 0.08\n",
       "Normal_Weight       0.90 0.10\n",
       "Obesity_Type_I      0.99 0.01\n",
       "Obesity_Type_II     1.00 0.00\n",
       "Obesity_Type_III    1.00 0.00\n",
       "Overweight_Level_I  0.87 0.13\n",
       "Overweight_Level_II 0.99 0.01"
      ]
     },
     "metadata": {},
     "output_type": "display_data"
    },
    {
     "data": {
      "text/html": [
       "<div>\n",
       "<style scoped>\n",
       "    .dataframe tbody tr th:only-of-type {\n",
       "        vertical-align: middle;\n",
       "    }\n",
       "\n",
       "    .dataframe tbody tr th {\n",
       "        vertical-align: top;\n",
       "    }\n",
       "\n",
       "    .dataframe thead th {\n",
       "        text-align: right;\n",
       "    }\n",
       "</style>\n",
       "<table border=\"1\" class=\"dataframe\">\n",
       "  <thead>\n",
       "    <tr style=\"text-align: right;\">\n",
       "      <th>CALC</th>\n",
       "      <th>Always</th>\n",
       "      <th>Frequently</th>\n",
       "      <th>Sometimes</th>\n",
       "      <th>no</th>\n",
       "    </tr>\n",
       "    <tr>\n",
       "      <th>NObeyesdad</th>\n",
       "      <th></th>\n",
       "      <th></th>\n",
       "      <th></th>\n",
       "      <th></th>\n",
       "    </tr>\n",
       "  </thead>\n",
       "  <tbody>\n",
       "    <tr>\n",
       "      <th>Insufficient_Weight</th>\n",
       "      <td>0.00</td>\n",
       "      <td>0.00</td>\n",
       "      <td>0.57</td>\n",
       "      <td>0.43</td>\n",
       "    </tr>\n",
       "    <tr>\n",
       "      <th>Normal_Weight</th>\n",
       "      <td>0.00</td>\n",
       "      <td>0.06</td>\n",
       "      <td>0.56</td>\n",
       "      <td>0.37</td>\n",
       "    </tr>\n",
       "    <tr>\n",
       "      <th>Obesity_Type_I</th>\n",
       "      <td>0.00</td>\n",
       "      <td>0.04</td>\n",
       "      <td>0.49</td>\n",
       "      <td>0.47</td>\n",
       "    </tr>\n",
       "    <tr>\n",
       "      <th>Obesity_Type_II</th>\n",
       "      <td>0.00</td>\n",
       "      <td>0.01</td>\n",
       "      <td>0.75</td>\n",
       "      <td>0.24</td>\n",
       "    </tr>\n",
       "    <tr>\n",
       "      <th>Obesity_Type_III</th>\n",
       "      <td>0.00</td>\n",
       "      <td>0.00</td>\n",
       "      <td>1.00</td>\n",
       "      <td>0.00</td>\n",
       "    </tr>\n",
       "    <tr>\n",
       "      <th>Overweight_Level_I</th>\n",
       "      <td>0.00</td>\n",
       "      <td>0.06</td>\n",
       "      <td>0.77</td>\n",
       "      <td>0.17</td>\n",
       "    </tr>\n",
       "    <tr>\n",
       "      <th>Overweight_Level_II</th>\n",
       "      <td>0.00</td>\n",
       "      <td>0.07</td>\n",
       "      <td>0.49</td>\n",
       "      <td>0.44</td>\n",
       "    </tr>\n",
       "  </tbody>\n",
       "</table>\n",
       "</div>"
      ],
      "text/plain": [
       "CALC                 Always  Frequently  Sometimes   no\n",
       "NObeyesdad                                             \n",
       "Insufficient_Weight    0.00        0.00       0.57 0.43\n",
       "Normal_Weight          0.00        0.06       0.56 0.37\n",
       "Obesity_Type_I         0.00        0.04       0.49 0.47\n",
       "Obesity_Type_II        0.00        0.01       0.75 0.24\n",
       "Obesity_Type_III       0.00        0.00       1.00 0.00\n",
       "Overweight_Level_I     0.00        0.06       0.77 0.17\n",
       "Overweight_Level_II    0.00        0.07       0.49 0.44"
      ]
     },
     "metadata": {},
     "output_type": "display_data"
    }
   ],
   "source": [
    "for col in df1.select_dtypes(include='object'):\n",
    "    if df1[col].nunique() <=4:\n",
    "        display(pd.crosstab(df1['NObeyesdad'], df1[col], normalize='index'))\n",
    "        #display(pd.crosstab(df1['NObeyesdad'], df1[col]))"
   ]
  },
  {
   "attachments": {
    "9ffe3b9a-7c88-4808-accd-26335562a843.png": {
     "image/png": "[encoded data removed]"
    }
   },
   "cell_type": "markdown",
   "id": "31d87e14-d015-4777-92c2-c8ce9ce6b74f",
   "metadata": {},
   "source": [
    "![image.png](attachment:9ffe3b9a-7c88-4808-accd-26335562a843.png)"
   ]
  },
  {
   "cell_type": "code",
   "execution_count": 18,
   "id": "df0a97ea-3daa-40a6-bb3f-f5407f856007",
   "metadata": {
    "tags": []
   },
   "outputs": [
    {
     "data": {
      "text/html": [
       "<div>\n",
       "<style scoped>\n",
       "    .dataframe tbody tr th:only-of-type {\n",
       "        vertical-align: middle;\n",
       "    }\n",
       "\n",
       "    .dataframe tbody tr th {\n",
       "        vertical-align: top;\n",
       "    }\n",
       "\n",
       "    .dataframe thead th {\n",
       "        text-align: right;\n",
       "    }\n",
       "</style>\n",
       "<table border=\"1\" class=\"dataframe\">\n",
       "  <thead>\n",
       "    <tr style=\"text-align: right;\">\n",
       "      <th>Gender</th>\n",
       "      <th>Female</th>\n",
       "      <th>Male</th>\n",
       "    </tr>\n",
       "    <tr>\n",
       "      <th>NObeyesdad</th>\n",
       "      <th></th>\n",
       "      <th></th>\n",
       "    </tr>\n",
       "  </thead>\n",
       "  <tbody>\n",
       "    <tr>\n",
       "      <th>Insufficient_Weight</th>\n",
       "      <td>0.64</td>\n",
       "      <td>0.36</td>\n",
       "    </tr>\n",
       "    <tr>\n",
       "      <th>Normal_Weight</th>\n",
       "      <td>0.49</td>\n",
       "      <td>0.51</td>\n",
       "    </tr>\n",
       "    <tr>\n",
       "      <th>Obesity_Type_I</th>\n",
       "      <td>0.44</td>\n",
       "      <td>0.56</td>\n",
       "    </tr>\n",
       "    <tr>\n",
       "      <th>Obesity_Type_II</th>\n",
       "      <td>0.01</td>\n",
       "      <td>0.99</td>\n",
       "    </tr>\n",
       "    <tr>\n",
       "      <th>Obesity_Type_III</th>\n",
       "      <td>1.00</td>\n",
       "      <td>0.00</td>\n",
       "    </tr>\n",
       "    <tr>\n",
       "      <th>Overweight_Level_I</th>\n",
       "      <td>0.50</td>\n",
       "      <td>0.50</td>\n",
       "    </tr>\n",
       "    <tr>\n",
       "      <th>Overweight_Level_II</th>\n",
       "      <td>0.36</td>\n",
       "      <td>0.64</td>\n",
       "    </tr>\n",
       "  </tbody>\n",
       "</table>\n",
       "</div>"
      ],
      "text/plain": [
       "Gender               Female  Male\n",
       "NObeyesdad                       \n",
       "Insufficient_Weight    0.64  0.36\n",
       "Normal_Weight          0.49  0.51\n",
       "Obesity_Type_I         0.44  0.56\n",
       "Obesity_Type_II        0.01  0.99\n",
       "Obesity_Type_III       1.00  0.00\n",
       "Overweight_Level_I     0.50  0.50\n",
       "Overweight_Level_II    0.36  0.64"
      ]
     },
     "metadata": {},
     "output_type": "display_data"
    },
    {
     "data": {
      "text/html": [
       "<div>\n",
       "<style scoped>\n",
       "    .dataframe tbody tr th:only-of-type {\n",
       "        vertical-align: middle;\n",
       "    }\n",
       "\n",
       "    .dataframe tbody tr th {\n",
       "        vertical-align: top;\n",
       "    }\n",
       "\n",
       "    .dataframe thead th {\n",
       "        text-align: right;\n",
       "    }\n",
       "</style>\n",
       "<table border=\"1\" class=\"dataframe\">\n",
       "  <thead>\n",
       "    <tr style=\"text-align: right;\">\n",
       "      <th>family_history_with_overweight</th>\n",
       "      <th>no</th>\n",
       "      <th>yes</th>\n",
       "    </tr>\n",
       "    <tr>\n",
       "      <th>NObeyesdad</th>\n",
       "      <th></th>\n",
       "      <th></th>\n",
       "    </tr>\n",
       "  </thead>\n",
       "  <tbody>\n",
       "    <tr>\n",
       "      <th>Insufficient_Weight</th>\n",
       "      <td>0.54</td>\n",
       "      <td>0.46</td>\n",
       "    </tr>\n",
       "    <tr>\n",
       "      <th>Normal_Weight</th>\n",
       "      <td>0.46</td>\n",
       "      <td>0.54</td>\n",
       "    </tr>\n",
       "    <tr>\n",
       "      <th>Obesity_Type_I</th>\n",
       "      <td>0.02</td>\n",
       "      <td>0.98</td>\n",
       "    </tr>\n",
       "    <tr>\n",
       "      <th>Obesity_Type_II</th>\n",
       "      <td>0.00</td>\n",
       "      <td>1.00</td>\n",
       "    </tr>\n",
       "    <tr>\n",
       "      <th>Obesity_Type_III</th>\n",
       "      <td>0.00</td>\n",
       "      <td>1.00</td>\n",
       "    </tr>\n",
       "    <tr>\n",
       "      <th>Overweight_Level_I</th>\n",
       "      <td>0.28</td>\n",
       "      <td>0.72</td>\n",
       "    </tr>\n",
       "    <tr>\n",
       "      <th>Overweight_Level_II</th>\n",
       "      <td>0.06</td>\n",
       "      <td>0.94</td>\n",
       "    </tr>\n",
       "  </tbody>\n",
       "</table>\n",
       "</div>"
      ],
      "text/plain": [
       "family_history_with_overweight   no  yes\n",
       "NObeyesdad                              \n",
       "Insufficient_Weight            0.54 0.46\n",
       "Normal_Weight                  0.46 0.54\n",
       "Obesity_Type_I                 0.02 0.98\n",
       "Obesity_Type_II                0.00 1.00\n",
       "Obesity_Type_III               0.00 1.00\n",
       "Overweight_Level_I             0.28 0.72\n",
       "Overweight_Level_II            0.06 0.94"
      ]
     },
     "metadata": {},
     "output_type": "display_data"
    },
    {
     "data": {
      "text/html": [
       "<div>\n",
       "<style scoped>\n",
       "    .dataframe tbody tr th:only-of-type {\n",
       "        vertical-align: middle;\n",
       "    }\n",
       "\n",
       "    .dataframe tbody tr th {\n",
       "        vertical-align: top;\n",
       "    }\n",
       "\n",
       "    .dataframe thead th {\n",
       "        text-align: right;\n",
       "    }\n",
       "</style>\n",
       "<table border=\"1\" class=\"dataframe\">\n",
       "  <thead>\n",
       "    <tr style=\"text-align: right;\">\n",
       "      <th>FAVC</th>\n",
       "      <th>no</th>\n",
       "      <th>yes</th>\n",
       "    </tr>\n",
       "    <tr>\n",
       "      <th>NObeyesdad</th>\n",
       "      <th></th>\n",
       "      <th></th>\n",
       "    </tr>\n",
       "  </thead>\n",
       "  <tbody>\n",
       "    <tr>\n",
       "      <th>Insufficient_Weight</th>\n",
       "      <td>0.19</td>\n",
       "      <td>0.81</td>\n",
       "    </tr>\n",
       "    <tr>\n",
       "      <th>Normal_Weight</th>\n",
       "      <td>0.28</td>\n",
       "      <td>0.72</td>\n",
       "    </tr>\n",
       "    <tr>\n",
       "      <th>Obesity_Type_I</th>\n",
       "      <td>0.03</td>\n",
       "      <td>0.97</td>\n",
       "    </tr>\n",
       "    <tr>\n",
       "      <th>Obesity_Type_II</th>\n",
       "      <td>0.02</td>\n",
       "      <td>0.98</td>\n",
       "    </tr>\n",
       "    <tr>\n",
       "      <th>Obesity_Type_III</th>\n",
       "      <td>0.00</td>\n",
       "      <td>1.00</td>\n",
       "    </tr>\n",
       "    <tr>\n",
       "      <th>Overweight_Level_I</th>\n",
       "      <td>0.08</td>\n",
       "      <td>0.92</td>\n",
       "    </tr>\n",
       "    <tr>\n",
       "      <th>Overweight_Level_II</th>\n",
       "      <td>0.26</td>\n",
       "      <td>0.74</td>\n",
       "    </tr>\n",
       "  </tbody>\n",
       "</table>\n",
       "</div>"
      ],
      "text/plain": [
       "FAVC                  no  yes\n",
       "NObeyesdad                   \n",
       "Insufficient_Weight 0.19 0.81\n",
       "Normal_Weight       0.28 0.72\n",
       "Obesity_Type_I      0.03 0.97\n",
       "Obesity_Type_II     0.02 0.98\n",
       "Obesity_Type_III    0.00 1.00\n",
       "Overweight_Level_I  0.08 0.92\n",
       "Overweight_Level_II 0.26 0.74"
      ]
     },
     "metadata": {},
     "output_type": "display_data"
    },
    {
     "data": {
      "text/html": [
       "<div>\n",
       "<style scoped>\n",
       "    .dataframe tbody tr th:only-of-type {\n",
       "        vertical-align: middle;\n",
       "    }\n",
       "\n",
       "    .dataframe tbody tr th {\n",
       "        vertical-align: top;\n",
       "    }\n",
       "\n",
       "    .dataframe thead th {\n",
       "        text-align: right;\n",
       "    }\n",
       "</style>\n",
       "<table border=\"1\" class=\"dataframe\">\n",
       "  <thead>\n",
       "    <tr style=\"text-align: right;\">\n",
       "      <th>CAEC</th>\n",
       "      <th>Always</th>\n",
       "      <th>Frequently</th>\n",
       "      <th>Sometimes</th>\n",
       "      <th>no</th>\n",
       "    </tr>\n",
       "    <tr>\n",
       "      <th>NObeyesdad</th>\n",
       "      <th></th>\n",
       "      <th></th>\n",
       "      <th></th>\n",
       "      <th></th>\n",
       "    </tr>\n",
       "  </thead>\n",
       "  <tbody>\n",
       "    <tr>\n",
       "      <th>Insufficient_Weight</th>\n",
       "      <td>0.01</td>\n",
       "      <td>0.44</td>\n",
       "      <td>0.54</td>\n",
       "      <td>0.01</td>\n",
       "    </tr>\n",
       "    <tr>\n",
       "      <th>Normal_Weight</th>\n",
       "      <td>0.12</td>\n",
       "      <td>0.29</td>\n",
       "      <td>0.55</td>\n",
       "      <td>0.03</td>\n",
       "    </tr>\n",
       "    <tr>\n",
       "      <th>Obesity_Type_I</th>\n",
       "      <td>0.02</td>\n",
       "      <td>0.02</td>\n",
       "      <td>0.96</td>\n",
       "      <td>0.00</td>\n",
       "    </tr>\n",
       "    <tr>\n",
       "      <th>Obesity_Type_II</th>\n",
       "      <td>0.01</td>\n",
       "      <td>0.00</td>\n",
       "      <td>0.99</td>\n",
       "      <td>0.00</td>\n",
       "    </tr>\n",
       "    <tr>\n",
       "      <th>Obesity_Type_III</th>\n",
       "      <td>0.00</td>\n",
       "      <td>0.00</td>\n",
       "      <td>1.00</td>\n",
       "      <td>0.00</td>\n",
       "    </tr>\n",
       "    <tr>\n",
       "      <th>Overweight_Level_I</th>\n",
       "      <td>0.02</td>\n",
       "      <td>0.05</td>\n",
       "      <td>0.81</td>\n",
       "      <td>0.12</td>\n",
       "    </tr>\n",
       "    <tr>\n",
       "      <th>Overweight_Level_II</th>\n",
       "      <td>0.01</td>\n",
       "      <td>0.06</td>\n",
       "      <td>0.93</td>\n",
       "      <td>0.00</td>\n",
       "    </tr>\n",
       "  </tbody>\n",
       "</table>\n",
       "</div>"
      ],
      "text/plain": [
       "CAEC                 Always  Frequently  Sometimes   no\n",
       "NObeyesdad                                             \n",
       "Insufficient_Weight    0.01        0.44       0.54 0.01\n",
       "Normal_Weight          0.12        0.29       0.55 0.03\n",
       "Obesity_Type_I         0.02        0.02       0.96 0.00\n",
       "Obesity_Type_II        0.01        0.00       0.99 0.00\n",
       "Obesity_Type_III       0.00        0.00       1.00 0.00\n",
       "Overweight_Level_I     0.02        0.05       0.81 0.12\n",
       "Overweight_Level_II    0.01        0.06       0.93 0.00"
      ]
     },
     "metadata": {},
     "output_type": "display_data"
    },
    {
     "data": {
      "text/html": [
       "<div>\n",
       "<style scoped>\n",
       "    .dataframe tbody tr th:only-of-type {\n",
       "        vertical-align: middle;\n",
       "    }\n",
       "\n",
       "    .dataframe tbody tr th {\n",
       "        vertical-align: top;\n",
       "    }\n",
       "\n",
       "    .dataframe thead th {\n",
       "        text-align: right;\n",
       "    }\n",
       "</style>\n",
       "<table border=\"1\" class=\"dataframe\">\n",
       "  <thead>\n",
       "    <tr style=\"text-align: right;\">\n",
       "      <th>SMOKE</th>\n",
       "      <th>no</th>\n",
       "      <th>yes</th>\n",
       "    </tr>\n",
       "    <tr>\n",
       "      <th>NObeyesdad</th>\n",
       "      <th></th>\n",
       "      <th></th>\n",
       "    </tr>\n",
       "  </thead>\n",
       "  <tbody>\n",
       "    <tr>\n",
       "      <th>Insufficient_Weight</th>\n",
       "      <td>1.00</td>\n",
       "      <td>0.00</td>\n",
       "    </tr>\n",
       "    <tr>\n",
       "      <th>Normal_Weight</th>\n",
       "      <td>0.95</td>\n",
       "      <td>0.05</td>\n",
       "    </tr>\n",
       "    <tr>\n",
       "      <th>Obesity_Type_I</th>\n",
       "      <td>0.98</td>\n",
       "      <td>0.02</td>\n",
       "    </tr>\n",
       "    <tr>\n",
       "      <th>Obesity_Type_II</th>\n",
       "      <td>0.95</td>\n",
       "      <td>0.05</td>\n",
       "    </tr>\n",
       "    <tr>\n",
       "      <th>Obesity_Type_III</th>\n",
       "      <td>1.00</td>\n",
       "      <td>0.00</td>\n",
       "    </tr>\n",
       "    <tr>\n",
       "      <th>Overweight_Level_I</th>\n",
       "      <td>0.99</td>\n",
       "      <td>0.01</td>\n",
       "    </tr>\n",
       "    <tr>\n",
       "      <th>Overweight_Level_II</th>\n",
       "      <td>0.98</td>\n",
       "      <td>0.02</td>\n",
       "    </tr>\n",
       "  </tbody>\n",
       "</table>\n",
       "</div>"
      ],
      "text/plain": [
       "SMOKE                 no  yes\n",
       "NObeyesdad                   \n",
       "Insufficient_Weight 1.00 0.00\n",
       "Normal_Weight       0.95 0.05\n",
       "Obesity_Type_I      0.98 0.02\n",
       "Obesity_Type_II     0.95 0.05\n",
       "Obesity_Type_III    1.00 0.00\n",
       "Overweight_Level_I  0.99 0.01\n",
       "Overweight_Level_II 0.98 0.02"
      ]
     },
     "metadata": {},
     "output_type": "display_data"
    },
    {
     "data": {
      "text/html": [
       "<div>\n",
       "<style scoped>\n",
       "    .dataframe tbody tr th:only-of-type {\n",
       "        vertical-align: middle;\n",
       "    }\n",
       "\n",
       "    .dataframe tbody tr th {\n",
       "        vertical-align: top;\n",
       "    }\n",
       "\n",
       "    .dataframe thead th {\n",
       "        text-align: right;\n",
       "    }\n",
       "</style>\n",
       "<table border=\"1\" class=\"dataframe\">\n",
       "  <thead>\n",
       "    <tr style=\"text-align: right;\">\n",
       "      <th>SCC</th>\n",
       "      <th>no</th>\n",
       "      <th>yes</th>\n",
       "    </tr>\n",
       "    <tr>\n",
       "      <th>NObeyesdad</th>\n",
       "      <th></th>\n",
       "      <th></th>\n",
       "    </tr>\n",
       "  </thead>\n",
       "  <tbody>\n",
       "    <tr>\n",
       "      <th>Insufficient_Weight</th>\n",
       "      <td>0.92</td>\n",
       "      <td>0.08</td>\n",
       "    </tr>\n",
       "    <tr>\n",
       "      <th>Normal_Weight</th>\n",
       "      <td>0.90</td>\n",
       "      <td>0.10</td>\n",
       "    </tr>\n",
       "    <tr>\n",
       "      <th>Obesity_Type_I</th>\n",
       "      <td>0.99</td>\n",
       "      <td>0.01</td>\n",
       "    </tr>\n",
       "    <tr>\n",
       "      <th>Obesity_Type_II</th>\n",
       "      <td>1.00</td>\n",
       "      <td>0.00</td>\n",
       "    </tr>\n",
       "    <tr>\n",
       "      <th>Obesity_Type_III</th>\n",
       "      <td>1.00</td>\n",
       "      <td>0.00</td>\n",
       "    </tr>\n",
       "    <tr>\n",
       "      <th>Overweight_Level_I</th>\n",
       "      <td>0.87</td>\n",
       "      <td>0.13</td>\n",
       "    </tr>\n",
       "    <tr>\n",
       "      <th>Overweight_Level_II</th>\n",
       "      <td>0.99</td>\n",
       "      <td>0.01</td>\n",
       "    </tr>\n",
       "  </tbody>\n",
       "</table>\n",
       "</div>"
      ],
      "text/plain": [
       "SCC                   no  yes\n",
       "NObeyesdad                   \n",
       "Insufficient_Weight 0.92 0.08\n",
       "Normal_Weight       0.90 0.10\n",
       "Obesity_Type_I      0.99 0.01\n",
       "Obesity_Type_II     1.00 0.00\n",
       "Obesity_Type_III    1.00 0.00\n",
       "Overweight_Level_I  0.87 0.13\n",
       "Overweight_Level_II 0.99 0.01"
      ]
     },
     "metadata": {},
     "output_type": "display_data"
    },
    {
     "data": {
      "text/html": [
       "<div>\n",
       "<style scoped>\n",
       "    .dataframe tbody tr th:only-of-type {\n",
       "        vertical-align: middle;\n",
       "    }\n",
       "\n",
       "    .dataframe tbody tr th {\n",
       "        vertical-align: top;\n",
       "    }\n",
       "\n",
       "    .dataframe thead th {\n",
       "        text-align: right;\n",
       "    }\n",
       "</style>\n",
       "<table border=\"1\" class=\"dataframe\">\n",
       "  <thead>\n",
       "    <tr style=\"text-align: right;\">\n",
       "      <th>CALC</th>\n",
       "      <th>Always</th>\n",
       "      <th>Frequently</th>\n",
       "      <th>Sometimes</th>\n",
       "      <th>no</th>\n",
       "    </tr>\n",
       "    <tr>\n",
       "      <th>NObeyesdad</th>\n",
       "      <th></th>\n",
       "      <th></th>\n",
       "      <th></th>\n",
       "      <th></th>\n",
       "    </tr>\n",
       "  </thead>\n",
       "  <tbody>\n",
       "    <tr>\n",
       "      <th>Insufficient_Weight</th>\n",
       "      <td>0.00</td>\n",
       "      <td>0.00</td>\n",
       "      <td>0.57</td>\n",
       "      <td>0.43</td>\n",
       "    </tr>\n",
       "    <tr>\n",
       "      <th>Normal_Weight</th>\n",
       "      <td>0.00</td>\n",
       "      <td>0.06</td>\n",
       "      <td>0.56</td>\n",
       "      <td>0.37</td>\n",
       "    </tr>\n",
       "    <tr>\n",
       "      <th>Obesity_Type_I</th>\n",
       "      <td>0.00</td>\n",
       "      <td>0.04</td>\n",
       "      <td>0.49</td>\n",
       "      <td>0.47</td>\n",
       "    </tr>\n",
       "    <tr>\n",
       "      <th>Obesity_Type_II</th>\n",
       "      <td>0.00</td>\n",
       "      <td>0.01</td>\n",
       "      <td>0.75</td>\n",
       "      <td>0.24</td>\n",
       "    </tr>\n",
       "    <tr>\n",
       "      <th>Obesity_Type_III</th>\n",
       "      <td>0.00</td>\n",
       "      <td>0.00</td>\n",
       "      <td>1.00</td>\n",
       "      <td>0.00</td>\n",
       "    </tr>\n",
       "    <tr>\n",
       "      <th>Overweight_Level_I</th>\n",
       "      <td>0.00</td>\n",
       "      <td>0.06</td>\n",
       "      <td>0.77</td>\n",
       "      <td>0.17</td>\n",
       "    </tr>\n",
       "    <tr>\n",
       "      <th>Overweight_Level_II</th>\n",
       "      <td>0.00</td>\n",
       "      <td>0.07</td>\n",
       "      <td>0.49</td>\n",
       "      <td>0.44</td>\n",
       "    </tr>\n",
       "  </tbody>\n",
       "</table>\n",
       "</div>"
      ],
      "text/plain": [
       "CALC                 Always  Frequently  Sometimes   no\n",
       "NObeyesdad                                             \n",
       "Insufficient_Weight    0.00        0.00       0.57 0.43\n",
       "Normal_Weight          0.00        0.06       0.56 0.37\n",
       "Obesity_Type_I         0.00        0.04       0.49 0.47\n",
       "Obesity_Type_II        0.00        0.01       0.75 0.24\n",
       "Obesity_Type_III       0.00        0.00       1.00 0.00\n",
       "Overweight_Level_I     0.00        0.06       0.77 0.17\n",
       "Overweight_Level_II    0.00        0.07       0.49 0.44"
      ]
     },
     "metadata": {},
     "output_type": "display_data"
    }
   ],
   "source": [
    "### Verificando frequência relativa entre atributos categóricos com menos de 5 valores distintos\n",
    "for col in df1.drop('NObeyesdad', axis=1).select_dtypes(include='object'):\n",
    "    if df1[col].nunique() <=4:\n",
    "        display(pd.crosstab(df1['NObeyesdad'], df1[col], normalize='index'))"
   ]
  },
  {
   "cell_type": "markdown",
   "id": "bba5e251-e81a-46e0-8e52-43b596356eaa",
   "metadata": {
    "execution": {
     "iopub.execute_input": "2022-01-11T15:07:33.324232Z",
     "iopub.status.busy": "2022-01-11T15:07:33.324232Z",
     "iopub.status.idle": "2022-01-11T15:07:33.342257Z",
     "shell.execute_reply": "2022-01-11T15:07:33.342257Z",
     "shell.execute_reply.started": "2022-01-11T15:07:33.324232Z"
    },
    "tags": []
   },
   "source": [
    "# Análise Exploratória de Dados"
   ]
  },
  {
   "cell_type": "code",
   "execution_count": 19,
   "id": "0eb7b8ed-7a16-48c2-82d9-7baaec0e28bf",
   "metadata": {
    "tags": []
   },
   "outputs": [
    {
     "data": {
      "image/png": "[encoded data removed]",
      "text/plain": [
       "<Figure size 864x432 with 1 Axes>"
      ]
     },
     "metadata": {},
     "output_type": "display_data"
    }
   ],
   "source": [
    "df_temporario = df1[['Weight', 'NObeyesdad']].groupby('NObeyesdad').mean().reset_index()\n",
    "ax = sns.barplot(data=df_temporario, x='NObeyesdad', y='Weight');\n",
    "\n",
    "# código para mostrar os valores das colunas no gráfico\n",
    "for p in ax.patches:\n",
    "    ax.annotate(format(p.get_height(), '.2f'), (p.get_x() + p.get_width() / 2., p.get_height()), \n",
    "       ha = 'center', va = 'center', xytext = (0, 10), textcoords = 'offset points')"
   ]
  },
  {
   "cell_type": "code",
   "execution_count": 20,
   "id": "ef6cd180-508b-4870-9eb3-8f1d5b913c43",
   "metadata": {
    "tags": []
   },
   "outputs": [
    {
     "data": {
      "image/png": "[encoded data removed]",
      "text/plain": [
       "<Figure size 864x432 with 1 Axes>"
      ]
     },
     "metadata": {},
     "output_type": "display_data"
    }
   ],
   "source": [
    "df_temporario = df1[['Height', 'NObeyesdad']].groupby('NObeyesdad').mean().reset_index()\n",
    "ax = sns.barplot(data=df_temporario, x='NObeyesdad', y='Height');\n",
    "\n",
    "# código para mostrar os valores das colunas no gráfico\n",
    "for p in ax.patches:\n",
    "    ax.annotate(format(p.get_height(), '.2f'), (p.get_x() + p.get_width() / 2., p.get_height()), \n",
    "       ha = 'center', va = 'center', xytext = (0, 10), textcoords = 'offset points')"
   ]
  },
  {
   "cell_type": "code",
   "execution_count": 21,
   "id": "ee3ec45f-3eae-4c59-992c-6d984fb2afa5",
   "metadata": {
    "tags": []
   },
   "outputs": [
    {
     "data": {
      "image/png": "[encoded data removed]",
      "text/plain": [
       "<Figure size 864x432 with 1 Axes>"
      ]
     },
     "metadata": {},
     "output_type": "display_data"
    }
   ],
   "source": [
    "df_temporario = df1[['Age', 'NObeyesdad']].groupby('NObeyesdad').mean().reset_index()\n",
    "ax = sns.barplot(data=df_temporario, x='NObeyesdad', y='Age');\n",
    "\n",
    "# código para mostrar os valores das colunas no gráfico\n",
    "for p in ax.patches:\n",
    "    ax.annotate(format(p.get_height(), '.2f'), (p.get_x() + p.get_width() / 2., p.get_height()), \n",
    "       ha = 'center', va = 'center', xytext = (0, 10), textcoords = 'offset points')"
   ]
  },
  {
   "cell_type": "markdown",
   "id": "cbfbda02-3f5a-495f-b470-630e4d68192f",
   "metadata": {
    "execution": {
     "iopub.execute_input": "2022-01-07T14:41:13.728881Z",
     "iopub.status.busy": "2022-01-07T14:41:13.728881Z",
     "iopub.status.idle": "2022-01-07T14:41:13.739880Z",
     "shell.execute_reply": "2022-01-07T14:41:13.738889Z",
     "shell.execute_reply.started": "2022-01-07T14:41:13.728881Z"
    },
    "tags": []
   },
   "source": [
    "# Pre-Processing"
   ]
  },
  {
   "cell_type": "code",
   "execution_count": 22,
   "id": "f7a26ced-d8f4-4712-91e6-f32787b86ba6",
   "metadata": {
    "tags": []
   },
   "outputs": [],
   "source": [
    "df2 = df1.copy()"
   ]
  },
  {
   "cell_type": "markdown",
   "id": "dd73d699-506f-4124-8401-4c1af1fb12e9",
   "metadata": {
    "execution": {
     "iopub.execute_input": "2022-01-07T14:34:31.171538Z",
     "iopub.status.busy": "2022-01-07T14:34:31.171538Z",
     "iopub.status.idle": "2022-01-07T14:34:31.177544Z",
     "shell.execute_reply": "2022-01-07T14:34:31.177544Z",
     "shell.execute_reply.started": "2022-01-07T14:34:31.171538Z"
    },
    "tags": []
   },
   "source": [
    "## Escalonamento"
   ]
  },
  {
   "cell_type": "code",
   "execution_count": 23,
   "id": "f74e60ef-aba4-4209-8a47-ade7da714eeb",
   "metadata": {
    "tags": []
   },
   "outputs": [
    {
     "data": {
      "text/plain": [
       "Index(['Age', 'Height', 'Weight', 'FCVC', 'NCP', 'CH2O', 'FAF', 'TUE'], dtype='object')"
      ]
     },
     "execution_count": 23,
     "metadata": {},
     "output_type": "execute_result"
    }
   ],
   "source": [
    "num_attr.columns"
   ]
  },
  {
   "cell_type": "markdown",
   "id": "30232f01-3879-426b-bfc6-c4587e030c7c",
   "metadata": {
    "execution": {
     "iopub.execute_input": "2022-01-07T14:36:52.702477Z",
     "iopub.status.busy": "2022-01-07T14:36:52.702477Z",
     "iopub.status.idle": "2022-01-07T14:36:52.710484Z",
     "shell.execute_reply": "2022-01-07T14:36:52.709482Z",
     "shell.execute_reply.started": "2022-01-07T14:36:52.702477Z"
    },
    "tags": []
   },
   "source": [
    "Checando Outliers para escolher RobustScaler ou MinMaxScaler"
   ]
  },
  {
   "cell_type": "code",
   "execution_count": 24,
   "id": "7cdf9bff-71c7-4df9-bfa3-dfddcd932cda",
   "metadata": {
    "tags": []
   },
   "outputs": [
    {
     "data": {
      "image/png": "[encoded data removed]",
      "text/plain": [
       "<Figure size 864x432 with 1 Axes>"
      ]
     },
     "metadata": {},
     "output_type": "display_data"
    }
   ],
   "source": [
    "sns.boxplot(x = df2['Age']);"
   ]
  },
  {
   "cell_type": "code",
   "execution_count": 25,
   "id": "457b9dde-3dd7-4b2a-937f-c12aafb53dc2",
   "metadata": {
    "tags": []
   },
   "outputs": [
    {
     "data": {
      "image/png": "[encoded data removed]",
      "text/plain": [
       "<Figure size 864x432 with 1 Axes>"
      ]
     },
     "metadata": {},
     "output_type": "display_data"
    }
   ],
   "source": [
    "sns.boxplot(x = df2['Height']);"
   ]
  },
  {
   "cell_type": "code",
   "execution_count": 26,
   "id": "812b6b2e-4f6d-4070-a826-ff1cb5b34d31",
   "metadata": {
    "tags": []
   },
   "outputs": [
    {
     "data": {
      "image/png": "[encoded data removed]",
      "text/plain": [
       "<Figure size 864x432 with 1 Axes>"
      ]
     },
     "metadata": {},
     "output_type": "display_data"
    }
   ],
   "source": [
    "sns.boxplot(x = df2['Weight']);"
   ]
  },
  {
   "cell_type": "code",
   "execution_count": 27,
   "id": "127bfd31-a46b-4d1f-b4d6-10d938d7f72e",
   "metadata": {
    "tags": []
   },
   "outputs": [
    {
     "data": {
      "image/png": "[encoded data removed]",
      "text/plain": [
       "<Figure size 864x432 with 1 Axes>"
      ]
     },
     "metadata": {},
     "output_type": "display_data"
    }
   ],
   "source": [
    "sns.boxplot(x = df2['FCVC']);"
   ]
  },
  {
   "cell_type": "code",
   "execution_count": 28,
   "id": "276e2c38-64f8-4453-9ec1-301102beadf2",
   "metadata": {
    "tags": []
   },
   "outputs": [
    {
     "data": {
      "image/png": "[encoded data removed]",
      "text/plain": [
       "<Figure size 864x432 with 1 Axes>"
      ]
     },
     "metadata": {},
     "output_type": "display_data"
    }
   ],
   "source": [
    "sns.boxplot(x = df2['NCP']);"
   ]
  },
  {
   "cell_type": "code",
   "execution_count": 29,
   "id": "5ef485ac-37e2-47ba-8db0-f18702065680",
   "metadata": {
    "tags": []
   },
   "outputs": [
    {
     "data": {
      "image/png": "[encoded data removed]",
      "text/plain": [
       "<Figure size 864x432 with 1 Axes>"
      ]
     },
     "metadata": {},
     "output_type": "display_data"
    }
   ],
   "source": [
    "sns.boxplot(x = df2['CH2O']);"
   ]
  },
  {
   "cell_type": "code",
   "execution_count": 30,
   "id": "0c78ae8b-41e3-4e23-9849-23590b79f366",
   "metadata": {
    "tags": []
   },
   "outputs": [
    {
     "data": {
      "image/png": "[encoded data removed]",
      "text/plain": [
       "<Figure size 864x432 with 1 Axes>"
      ]
     },
     "metadata": {},
     "output_type": "display_data"
    }
   ],
   "source": [
    "sns.boxplot(x = df2['FAF']);"
   ]
  },
  {
   "cell_type": "code",
   "execution_count": 31,
   "id": "1f9559e7-b395-43c6-bd7f-7816fcd5302a",
   "metadata": {
    "tags": []
   },
   "outputs": [
    {
     "data": {
      "image/png": "[encoded data removed]",
      "text/plain": [
       "<Figure size 864x432 with 1 Axes>"
      ]
     },
     "metadata": {},
     "output_type": "display_data"
    }
   ],
   "source": [
    "sns.boxplot(x = df2['TUE']);"
   ]
  },
  {
   "cell_type": "code",
   "execution_count": 32,
   "id": "f4d89d4a-f68e-4565-84e3-267b736019b0",
   "metadata": {
    "tags": []
   },
   "outputs": [],
   "source": [
    "rs = RobustScaler()\n",
    "mms = MinMaxScaler()\n",
    "\n",
    "df2['Age'] = rs.fit_transform(df2[['Age']])\n",
    "\n",
    "# o robust scaler \"piorou\" a escala\n",
    "#df2['NCP'] = rs.fit_transform(df2[['NCP']])\n",
    "\n",
    "df2['Height'] = mms.fit_transform(df2[['Height']])\n",
    "\n",
    "df2['Weight'] = mms.fit_transform(df2[['Weight']])\n",
    "\n",
    "df2['FCVC'] = mms.fit_transform(df2[['FCVC']])\n",
    "\n",
    "df2['CH2O'] = mms.fit_transform(df2[['CH2O']])\n",
    "\n",
    "df2['FAF'] = mms.fit_transform(df2[['FAF']])\n",
    "\n",
    "df2['TUE'] = mms.fit_transform(df2[['TUE']])"
   ]
  },
  {
   "cell_type": "code",
   "execution_count": 33,
   "id": "7d98a94d-6660-414f-9afb-064889c4e7f0",
   "metadata": {
    "tags": []
   },
   "outputs": [
    {
     "data": {
      "text/html": [
       "<div>\n",
       "<style scoped>\n",
       "    .dataframe tbody tr th:only-of-type {\n",
       "        vertical-align: middle;\n",
       "    }\n",
       "\n",
       "    .dataframe tbody tr th {\n",
       "        vertical-align: top;\n",
       "    }\n",
       "\n",
       "    .dataframe thead th {\n",
       "        text-align: right;\n",
       "    }\n",
       "</style>\n",
       "<table border=\"1\" class=\"dataframe\">\n",
       "  <thead>\n",
       "    <tr style=\"text-align: right;\">\n",
       "      <th></th>\n",
       "      <th>Gender</th>\n",
       "      <th>Age</th>\n",
       "      <th>Height</th>\n",
       "      <th>Weight</th>\n",
       "      <th>family_history_with_overweight</th>\n",
       "      <th>FAVC</th>\n",
       "      <th>FCVC</th>\n",
       "      <th>NCP</th>\n",
       "      <th>CAEC</th>\n",
       "      <th>SMOKE</th>\n",
       "      <th>CH2O</th>\n",
       "      <th>SCC</th>\n",
       "      <th>FAF</th>\n",
       "      <th>TUE</th>\n",
       "      <th>CALC</th>\n",
       "      <th>MTRANS</th>\n",
       "      <th>NObeyesdad</th>\n",
       "    </tr>\n",
       "  </thead>\n",
       "  <tbody>\n",
       "    <tr>\n",
       "      <th>0</th>\n",
       "      <td>Female</td>\n",
       "      <td>-0.29</td>\n",
       "      <td>0.32</td>\n",
       "      <td>0.19</td>\n",
       "      <td>yes</td>\n",
       "      <td>no</td>\n",
       "      <td>0.50</td>\n",
       "      <td>3.00</td>\n",
       "      <td>Sometimes</td>\n",
       "      <td>no</td>\n",
       "      <td>0.50</td>\n",
       "      <td>no</td>\n",
       "      <td>0.00</td>\n",
       "      <td>0.50</td>\n",
       "      <td>no</td>\n",
       "      <td>Public_Transportation</td>\n",
       "      <td>Normal_Weight</td>\n",
       "    </tr>\n",
       "    <tr>\n",
       "      <th>1</th>\n",
       "      <td>Female</td>\n",
       "      <td>-0.29</td>\n",
       "      <td>0.13</td>\n",
       "      <td>0.13</td>\n",
       "      <td>yes</td>\n",
       "      <td>no</td>\n",
       "      <td>1.00</td>\n",
       "      <td>3.00</td>\n",
       "      <td>Sometimes</td>\n",
       "      <td>yes</td>\n",
       "      <td>1.00</td>\n",
       "      <td>yes</td>\n",
       "      <td>1.00</td>\n",
       "      <td>0.00</td>\n",
       "      <td>Sometimes</td>\n",
       "      <td>Public_Transportation</td>\n",
       "      <td>Normal_Weight</td>\n",
       "    </tr>\n",
       "    <tr>\n",
       "      <th>2</th>\n",
       "      <td>Male</td>\n",
       "      <td>0.04</td>\n",
       "      <td>0.66</td>\n",
       "      <td>0.28</td>\n",
       "      <td>yes</td>\n",
       "      <td>no</td>\n",
       "      <td>0.50</td>\n",
       "      <td>3.00</td>\n",
       "      <td>Sometimes</td>\n",
       "      <td>no</td>\n",
       "      <td>0.50</td>\n",
       "      <td>no</td>\n",
       "      <td>0.67</td>\n",
       "      <td>0.50</td>\n",
       "      <td>Frequently</td>\n",
       "      <td>Public_Transportation</td>\n",
       "      <td>Normal_Weight</td>\n",
       "    </tr>\n",
       "    <tr>\n",
       "      <th>3</th>\n",
       "      <td>Male</td>\n",
       "      <td>0.70</td>\n",
       "      <td>0.66</td>\n",
       "      <td>0.36</td>\n",
       "      <td>no</td>\n",
       "      <td>no</td>\n",
       "      <td>1.00</td>\n",
       "      <td>3.00</td>\n",
       "      <td>Sometimes</td>\n",
       "      <td>no</td>\n",
       "      <td>0.50</td>\n",
       "      <td>no</td>\n",
       "      <td>0.67</td>\n",
       "      <td>0.00</td>\n",
       "      <td>Frequently</td>\n",
       "      <td>Walking</td>\n",
       "      <td>Overweight_Level_I</td>\n",
       "    </tr>\n",
       "    <tr>\n",
       "      <th>4</th>\n",
       "      <td>Male</td>\n",
       "      <td>-0.13</td>\n",
       "      <td>0.62</td>\n",
       "      <td>0.38</td>\n",
       "      <td>no</td>\n",
       "      <td>no</td>\n",
       "      <td>0.50</td>\n",
       "      <td>1.00</td>\n",
       "      <td>Sometimes</td>\n",
       "      <td>no</td>\n",
       "      <td>0.50</td>\n",
       "      <td>no</td>\n",
       "      <td>0.00</td>\n",
       "      <td>0.00</td>\n",
       "      <td>Sometimes</td>\n",
       "      <td>Public_Transportation</td>\n",
       "      <td>Overweight_Level_II</td>\n",
       "    </tr>\n",
       "  </tbody>\n",
       "</table>\n",
       "</div>"
      ],
      "text/plain": [
       "   Gender   Age  Height  Weight family_history_with_overweight FAVC  FCVC  NCP       CAEC SMOKE  CH2O  SCC  FAF  TUE        CALC                 MTRANS           NObeyesdad\n",
       "0  Female -0.29    0.32    0.19                            yes   no  0.50 3.00  Sometimes    no  0.50   no 0.00 0.50          no  Public_Transportation        Normal_Weight\n",
       "1  Female -0.29    0.13    0.13                            yes   no  1.00 3.00  Sometimes   yes  1.00  yes 1.00 0.00   Sometimes  Public_Transportation        Normal_Weight\n",
       "2    Male  0.04    0.66    0.28                            yes   no  0.50 3.00  Sometimes    no  0.50   no 0.67 0.50  Frequently  Public_Transportation        Normal_Weight\n",
       "3    Male  0.70    0.66    0.36                             no   no  1.00 3.00  Sometimes    no  0.50   no 0.67 0.00  Frequently                Walking   Overweight_Level_I\n",
       "4    Male -0.13    0.62    0.38                             no   no  0.50 1.00  Sometimes    no  0.50   no 0.00 0.00   Sometimes  Public_Transportation  Overweight_Level_II"
      ]
     },
     "execution_count": 33,
     "metadata": {},
     "output_type": "execute_result"
    }
   ],
   "source": [
    "df2.head()"
   ]
  },
  {
   "cell_type": "markdown",
   "id": "cb5c9e3c-636a-4f5f-a209-55878803c145",
   "metadata": {
    "execution": {
     "iopub.execute_input": "2022-01-07T14:34:20.764899Z",
     "iopub.status.busy": "2022-01-07T14:34:20.764899Z",
     "iopub.status.idle": "2022-01-07T14:34:20.781905Z",
     "shell.execute_reply": "2022-01-07T14:34:20.781905Z",
     "shell.execute_reply.started": "2022-01-07T14:34:20.764899Z"
    },
    "tags": []
   },
   "source": [
    "## Encoding"
   ]
  },
  {
   "cell_type": "code",
   "execution_count": 34,
   "id": "a85deffc-dcc5-4f0d-89da-83a59c58c17a",
   "metadata": {},
   "outputs": [
    {
     "data": {
      "text/plain": [
       "Index(['Gender', 'family_history_with_overweight', 'FAVC', 'CAEC', 'SMOKE',\n",
       "       'SCC', 'CALC', 'MTRANS', 'NObeyesdad'],\n",
       "      dtype='object')"
      ]
     },
     "execution_count": 34,
     "metadata": {},
     "output_type": "execute_result"
    }
   ],
   "source": [
    "cat_attr.columns"
   ]
  },
  {
   "cell_type": "code",
   "execution_count": 35,
   "id": "aec13746-5f75-456d-a2bd-a89fc3e22d92",
   "metadata": {
    "tags": []
   },
   "outputs": [
    {
     "data": {
      "text/plain": [
       "Gender                            2\n",
       "family_history_with_overweight    2\n",
       "FAVC                              2\n",
       "CAEC                              4\n",
       "SMOKE                             2\n",
       "SCC                               2\n",
       "CALC                              4\n",
       "MTRANS                            5\n",
       "NObeyesdad                        7\n",
       "dtype: int64"
      ]
     },
     "execution_count": 35,
     "metadata": {},
     "output_type": "execute_result"
    }
   ],
   "source": [
    "cat_attr.nunique()"
   ]
  },
  {
   "cell_type": "code",
   "execution_count": 36,
   "id": "cbf2313a-7af7-4110-bfb4-56723f82ed47",
   "metadata": {
    "tags": []
   },
   "outputs": [
    {
     "data": {
      "text/plain": [
       "array(['Female', 'Male'], dtype=object)"
      ]
     },
     "execution_count": 36,
     "metadata": {},
     "output_type": "execute_result"
    }
   ],
   "source": [
    "df2['Gender'].unique()"
   ]
  },
  {
   "cell_type": "code",
   "execution_count": 37,
   "id": "201cfd31-2607-46e8-8b41-5a6d6f7ccbd6",
   "metadata": {
    "tags": []
   },
   "outputs": [],
   "source": [
    "temp_dict = {'Female': 1, 'Male': 0}\n",
    "df2['Gender'] = df2['Gender'].map(temp_dict)"
   ]
  },
  {
   "cell_type": "code",
   "execution_count": 38,
   "id": "252ca074-102d-4fc0-beb6-038fcc56ba8d",
   "metadata": {
    "tags": []
   },
   "outputs": [
    {
     "data": {
      "text/plain": [
       "array(['yes', 'no'], dtype=object)"
      ]
     },
     "execution_count": 38,
     "metadata": {},
     "output_type": "execute_result"
    }
   ],
   "source": [
    "df2['family_history_with_overweight'].unique()"
   ]
  },
  {
   "cell_type": "code",
   "execution_count": 39,
   "id": "ccc95938-d915-4200-8002-9ca5372b486f",
   "metadata": {
    "tags": []
   },
   "outputs": [],
   "source": [
    "temp_dict = {'yes': 1, 'no': 0}\n",
    "df2['family_history_with_overweight'] = df2['family_history_with_overweight'].map(temp_dict)"
   ]
  },
  {
   "cell_type": "code",
   "execution_count": 40,
   "id": "0430eada-330a-4ab3-a121-fa441844ed82",
   "metadata": {
    "tags": []
   },
   "outputs": [
    {
     "data": {
      "text/plain": [
       "array(['no', 'yes'], dtype=object)"
      ]
     },
     "execution_count": 40,
     "metadata": {},
     "output_type": "execute_result"
    }
   ],
   "source": [
    "df2['FAVC'].unique()"
   ]
  },
  {
   "cell_type": "code",
   "execution_count": 41,
   "id": "94e04f36-3d69-4d8b-8c4b-777e4883563d",
   "metadata": {
    "tags": []
   },
   "outputs": [],
   "source": [
    "temp_dict = {'yes': 1, 'no': 0}\n",
    "df2['FAVC'] = df2['FAVC'].map(temp_dict)"
   ]
  },
  {
   "cell_type": "code",
   "execution_count": 42,
   "id": "a15960cf-d22f-4698-ac41-64f89680a345",
   "metadata": {
    "tags": []
   },
   "outputs": [
    {
     "data": {
      "text/plain": [
       "array(['Sometimes', 'Frequently', 'Always', 'no'], dtype=object)"
      ]
     },
     "execution_count": 42,
     "metadata": {},
     "output_type": "execute_result"
    }
   ],
   "source": [
    "df2['CAEC'].unique()"
   ]
  },
  {
   "cell_type": "code",
   "execution_count": 43,
   "id": "cb76c514-d685-4b60-a364-77d83653d308",
   "metadata": {
    "tags": []
   },
   "outputs": [],
   "source": [
    "ordinal_encoding = {'no': 0, 'Sometimes': 1, 'Frequently': 2, 'Always': 3}\n",
    "df2['CAEC'] = df2['CAEC'].map(ordinal_encoding)"
   ]
  },
  {
   "cell_type": "code",
   "execution_count": 44,
   "id": "0ef93433-a488-4671-b49e-c004ec8e83fb",
   "metadata": {
    "tags": []
   },
   "outputs": [
    {
     "data": {
      "text/plain": [
       "array(['no', 'yes'], dtype=object)"
      ]
     },
     "execution_count": 44,
     "metadata": {},
     "output_type": "execute_result"
    }
   ],
   "source": [
    "df2['SMOKE'].unique()"
   ]
  },
  {
   "cell_type": "code",
   "execution_count": 45,
   "id": "d9d1962b-bb37-4f49-bd35-6a85ed93953c",
   "metadata": {
    "tags": []
   },
   "outputs": [],
   "source": [
    "temp_dict = {'yes': 1, 'no': 0}\n",
    "df2['SMOKE'] = df2['SMOKE'].map(temp_dict)"
   ]
  },
  {
   "cell_type": "code",
   "execution_count": 46,
   "id": "19bb5977-adb7-47c3-8a39-23d15b7dc8f4",
   "metadata": {
    "tags": []
   },
   "outputs": [
    {
     "data": {
      "text/plain": [
       "array(['no', 'yes'], dtype=object)"
      ]
     },
     "execution_count": 46,
     "metadata": {},
     "output_type": "execute_result"
    }
   ],
   "source": [
    "df2['SCC'].unique()"
   ]
  },
  {
   "cell_type": "code",
   "execution_count": 47,
   "id": "467f3348-3a84-4ed6-b214-bae8cc011fca",
   "metadata": {
    "tags": []
   },
   "outputs": [],
   "source": [
    "temp_dict = {'yes': 1, 'no': 0}\n",
    "df2['SCC'] = df2['SCC'].map(temp_dict)"
   ]
  },
  {
   "cell_type": "code",
   "execution_count": 48,
   "id": "81a706c7-dd24-49dc-9c26-d0e5293c845f",
   "metadata": {
    "tags": []
   },
   "outputs": [
    {
     "data": {
      "text/plain": [
       "array(['no', 'Sometimes', 'Frequently', 'Always'], dtype=object)"
      ]
     },
     "execution_count": 48,
     "metadata": {},
     "output_type": "execute_result"
    }
   ],
   "source": [
    "df2['CALC'].unique()"
   ]
  },
  {
   "cell_type": "code",
   "execution_count": 49,
   "id": "edde557d-2571-4ed7-8e18-bc51903f26dd",
   "metadata": {
    "tags": []
   },
   "outputs": [],
   "source": [
    "ordinal_encoding = {'no': 0, 'Sometimes': 1, 'Frequently': 2, 'Always': 3}\n",
    "df2['CALC'] = df2['CALC'].map(ordinal_encoding)"
   ]
  },
  {
   "cell_type": "code",
   "execution_count": 50,
   "id": "029083db-b723-4e4f-be6f-8f56da0751d4",
   "metadata": {
    "tags": []
   },
   "outputs": [
    {
     "data": {
      "text/plain": [
       "array(['Public_Transportation', 'Walking', 'Automobile', 'Motorbike',\n",
       "       'Bike'], dtype=object)"
      ]
     },
     "execution_count": 50,
     "metadata": {},
     "output_type": "execute_result"
    }
   ],
   "source": [
    "df2['MTRANS'].unique()"
   ]
  },
  {
   "cell_type": "code",
   "execution_count": 51,
   "id": "4d950682-b389-47c0-a786-172e39059961",
   "metadata": {
    "tags": []
   },
   "outputs": [],
   "source": [
    "frequency_encoder = df2.groupby('MTRANS').size()/len(df1)\n",
    "df2.loc[:, 'MTRANS'] = df2['MTRANS'].map(frequency_encoder)"
   ]
  },
  {
   "cell_type": "code",
   "execution_count": 52,
   "id": "392bfa02-d0b2-4c0d-8a26-35efb0fd4001",
   "metadata": {
    "tags": []
   },
   "outputs": [
    {
     "data": {
      "text/plain": [
       "array(['Normal_Weight', 'Overweight_Level_I', 'Overweight_Level_II',\n",
       "       'Obesity_Type_I', 'Insufficient_Weight', 'Obesity_Type_II',\n",
       "       'Obesity_Type_III'], dtype=object)"
      ]
     },
     "execution_count": 52,
     "metadata": {},
     "output_type": "execute_result"
    }
   ],
   "source": [
    "# É PRECISO PESQUISAR SOBRE SE HÁ ALGUMA FORMA MELHOR DE FAZER O ENCODING DA VARIÁVEL ALVO\n",
    "\n",
    "# comparar os resultados utilizando encodings diferentes para a variável alvo\n",
    "\n",
    "df2['NObeyesdad'].unique()"
   ]
  },
  {
   "cell_type": "code",
   "execution_count": 53,
   "id": "8c2d21a5-164b-4580-ba2b-35fb8b470806",
   "metadata": {
    "tags": []
   },
   "outputs": [],
   "source": [
    "# frequency_encoder = df2.groupby('NObeyesdad').size()/len(df1)\n",
    "# df2.loc[:, 'target'] = df2['NObeyesdad'].map(frequency_encoder)"
   ]
  },
  {
   "cell_type": "code",
   "execution_count": 54,
   "id": "393a8e12-930a-4046-8e93-f94c0e9e5d08",
   "metadata": {
    "tags": []
   },
   "outputs": [],
   "source": [
    "temp_dict = {'Insufficient_Weight' : 0, 'Normal_Weight': 1, 'Overweight_Level_I': 2, 'Overweight_Level_II': 3, 'Obesity_Type_I': 4, 'Obesity_Type_II': 5, 'Obesity_Type_III': 6}\n",
    "df2['target'] = df2['NObeyesdad'].map(temp_dict)"
   ]
  },
  {
   "cell_type": "code",
   "execution_count": 55,
   "id": "96f029d6-f464-4927-ad66-06cd1f62bdc2",
   "metadata": {
    "tags": []
   },
   "outputs": [
    {
     "data": {
      "text/html": [
       "<div>\n",
       "<style scoped>\n",
       "    .dataframe tbody tr th:only-of-type {\n",
       "        vertical-align: middle;\n",
       "    }\n",
       "\n",
       "    .dataframe tbody tr th {\n",
       "        vertical-align: top;\n",
       "    }\n",
       "\n",
       "    .dataframe thead th {\n",
       "        text-align: right;\n",
       "    }\n",
       "</style>\n",
       "<table border=\"1\" class=\"dataframe\">\n",
       "  <thead>\n",
       "    <tr style=\"text-align: right;\">\n",
       "      <th></th>\n",
       "      <th>Gender</th>\n",
       "      <th>Age</th>\n",
       "      <th>Height</th>\n",
       "      <th>Weight</th>\n",
       "      <th>family_history_with_overweight</th>\n",
       "      <th>FAVC</th>\n",
       "      <th>FCVC</th>\n",
       "      <th>NCP</th>\n",
       "      <th>CAEC</th>\n",
       "      <th>SMOKE</th>\n",
       "      <th>CH2O</th>\n",
       "      <th>SCC</th>\n",
       "      <th>FAF</th>\n",
       "      <th>TUE</th>\n",
       "      <th>CALC</th>\n",
       "      <th>MTRANS</th>\n",
       "      <th>NObeyesdad</th>\n",
       "      <th>target</th>\n",
       "    </tr>\n",
       "  </thead>\n",
       "  <tbody>\n",
       "    <tr>\n",
       "      <th>2098</th>\n",
       "      <td>1</td>\n",
       "      <td>0.53</td>\n",
       "      <td>0.30</td>\n",
       "      <td>0.49</td>\n",
       "      <td>1</td>\n",
       "      <td>1</td>\n",
       "      <td>1.00</td>\n",
       "      <td>3.00</td>\n",
       "      <td>1</td>\n",
       "      <td>0</td>\n",
       "      <td>0.67</td>\n",
       "      <td>0</td>\n",
       "      <td>0.02</td>\n",
       "      <td>0.28</td>\n",
       "      <td>1</td>\n",
       "      <td>0.75</td>\n",
       "      <td>Obesity_Type_III</td>\n",
       "      <td>6</td>\n",
       "    </tr>\n",
       "    <tr>\n",
       "      <th>709</th>\n",
       "      <td>1</td>\n",
       "      <td>-0.79</td>\n",
       "      <td>0.47</td>\n",
       "      <td>0.08</td>\n",
       "      <td>0</td>\n",
       "      <td>1</td>\n",
       "      <td>0.30</td>\n",
       "      <td>3.43</td>\n",
       "      <td>1</td>\n",
       "      <td>0</td>\n",
       "      <td>0.03</td>\n",
       "      <td>0</td>\n",
       "      <td>0.27</td>\n",
       "      <td>0.52</td>\n",
       "      <td>1</td>\n",
       "      <td>0.75</td>\n",
       "      <td>Insufficient_Weight</td>\n",
       "      <td>0</td>\n",
       "    </tr>\n",
       "    <tr>\n",
       "      <th>1825</th>\n",
       "      <td>1</td>\n",
       "      <td>-0.76</td>\n",
       "      <td>0.70</td>\n",
       "      <td>0.77</td>\n",
       "      <td>1</td>\n",
       "      <td>1</td>\n",
       "      <td>1.00</td>\n",
       "      <td>3.00</td>\n",
       "      <td>1</td>\n",
       "      <td>0</td>\n",
       "      <td>0.86</td>\n",
       "      <td>0</td>\n",
       "      <td>0.67</td>\n",
       "      <td>0.41</td>\n",
       "      <td>1</td>\n",
       "      <td>0.75</td>\n",
       "      <td>Obesity_Type_III</td>\n",
       "      <td>6</td>\n",
       "    </tr>\n",
       "    <tr>\n",
       "      <th>1734</th>\n",
       "      <td>0</td>\n",
       "      <td>1.31</td>\n",
       "      <td>0.60</td>\n",
       "      <td>0.61</td>\n",
       "      <td>1</td>\n",
       "      <td>1</td>\n",
       "      <td>0.56</td>\n",
       "      <td>3.00</td>\n",
       "      <td>1</td>\n",
       "      <td>0</td>\n",
       "      <td>0.60</td>\n",
       "      <td>0</td>\n",
       "      <td>0.33</td>\n",
       "      <td>0.78</td>\n",
       "      <td>1</td>\n",
       "      <td>0.22</td>\n",
       "      <td>Obesity_Type_II</td>\n",
       "      <td>5</td>\n",
       "    </tr>\n",
       "    <tr>\n",
       "      <th>1170</th>\n",
       "      <td>1</td>\n",
       "      <td>2.53</td>\n",
       "      <td>0.47</td>\n",
       "      <td>0.29</td>\n",
       "      <td>1</td>\n",
       "      <td>1</td>\n",
       "      <td>1.00</td>\n",
       "      <td>3.00</td>\n",
       "      <td>1</td>\n",
       "      <td>0</td>\n",
       "      <td>0.58</td>\n",
       "      <td>0</td>\n",
       "      <td>0.00</td>\n",
       "      <td>0.00</td>\n",
       "      <td>0</td>\n",
       "      <td>0.22</td>\n",
       "      <td>Overweight_Level_II</td>\n",
       "      <td>3</td>\n",
       "    </tr>\n",
       "  </tbody>\n",
       "</table>\n",
       "</div>"
      ],
      "text/plain": [
       "      Gender   Age  Height  Weight  family_history_with_overweight  FAVC  FCVC  NCP  CAEC  SMOKE  CH2O  SCC  FAF  TUE  CALC  MTRANS           NObeyesdad  target\n",
       "2098       1  0.53    0.30    0.49                               1     1  1.00 3.00     1      0  0.67    0 0.02 0.28     1    0.75     Obesity_Type_III       6\n",
       "709        1 -0.79    0.47    0.08                               0     1  0.30 3.43     1      0  0.03    0 0.27 0.52     1    0.75  Insufficient_Weight       0\n",
       "1825       1 -0.76    0.70    0.77                               1     1  1.00 3.00     1      0  0.86    0 0.67 0.41     1    0.75     Obesity_Type_III       6\n",
       "1734       0  1.31    0.60    0.61                               1     1  0.56 3.00     1      0  0.60    0 0.33 0.78     1    0.22      Obesity_Type_II       5\n",
       "1170       1  2.53    0.47    0.29                               1     1  1.00 3.00     1      0  0.58    0 0.00 0.00     0    0.22  Overweight_Level_II       3"
      ]
     },
     "execution_count": 55,
     "metadata": {},
     "output_type": "execute_result"
    }
   ],
   "source": [
    "df2.sample(5)"
   ]
  },
  {
   "cell_type": "markdown",
   "id": "5bb9d6ad-4ef9-4fff-ae9c-b490efd23aee",
   "metadata": {},
   "source": [
    "# 6.0 Feature Selection"
   ]
  },
  {
   "cell_type": "code",
   "execution_count": 56,
   "id": "a0d5726a-0ed5-4a6c-a2fe-6d4ffee30853",
   "metadata": {
    "tags": []
   },
   "outputs": [],
   "source": [
    "df3 = df2.copy()"
   ]
  },
  {
   "cell_type": "markdown",
   "id": "3bccc709-049d-4f30-a16c-1245d9eacd76",
   "metadata": {},
   "source": [
    "## 6.1 Split Dataframe into Training and Test Dataset"
   ]
  },
  {
   "cell_type": "code",
   "execution_count": 57,
   "id": "834d8a29-0f2e-4bd3-906a-3571ea35d417",
   "metadata": {
    "tags": []
   },
   "outputs": [
    {
     "name": "stdout",
     "output_type": "stream",
     "text": [
      "\n",
      "Tamanho treino: 1899\n",
      "Tamanho teste: 212\n"
     ]
    }
   ],
   "source": [
    "x_full, x_test, y_full, y_test = train_test_split(df2.drop(['NObeyesdad', 'target'], axis=1), df2['target'], random_state = 16, train_size=0.90)\n",
    "\n",
    "print('\\nTamanho treino: {}'.format(x_full.shape[0]))\n",
    "print('Tamanho teste: {}'.format(x_test.shape[0]))"
   ]
  },
  {
   "cell_type": "code",
   "execution_count": 58,
   "id": "ef503380-4592-467b-af8e-4c839bf3c948",
   "metadata": {
    "tags": []
   },
   "outputs": [
    {
     "name": "stdout",
     "output_type": "stream",
     "text": [
      "\n",
      "Tamanho treino: 1519\n",
      "Tamanho validação: 380\n"
     ]
    }
   ],
   "source": [
    "X_train, X_val, y_train, y_val = train_test_split(x_full, y_full, random_state = 16, train_size=0.80)\n",
    "\n",
    "print('\\nTamanho treino: {}'.format(X_train.shape[0]))\n",
    "print('Tamanho validação: {}'.format(X_val.shape[0]))"
   ]
  },
  {
   "cell_type": "markdown",
   "id": "c0b0efe2-0987-44fc-a724-07e1dc6abfcf",
   "metadata": {},
   "source": [
    "## 6.2 Boruta as Feature Selector"
   ]
  },
  {
   "cell_type": "code",
   "execution_count": 59,
   "id": "3de52aa2-c983-42d1-a740-a8cda498729e",
   "metadata": {
    "tags": []
   },
   "outputs": [],
   "source": [
    "# training and test dataset for Boruta\n",
    "X_train_n = X_train.values\n",
    "y_train_n = y_train.values.ravel()"
   ]
  },
  {
   "cell_type": "code",
   "execution_count": 60,
   "id": "b9755ca2-f567-4a80-baef-3214d7fd2f08",
   "metadata": {
    "tags": []
   },
   "outputs": [
    {
     "name": "stdout",
     "output_type": "stream",
     "text": [
      "Iteration: \t1 / 100\n",
      "Confirmed: \t0\n",
      "Tentative: \t16\n",
      "Rejected: \t0\n",
      "Iteration: \t2 / 100\n",
      "Confirmed: \t0\n",
      "Tentative: \t16\n",
      "Rejected: \t0\n",
      "Iteration: \t3 / 100\n",
      "Confirmed: \t0\n",
      "Tentative: \t16\n",
      "Rejected: \t0\n",
      "Iteration: \t4 / 100\n",
      "Confirmed: \t0\n",
      "Tentative: \t16\n",
      "Rejected: \t0\n",
      "Iteration: \t5 / 100\n",
      "Confirmed: \t0\n",
      "Tentative: \t16\n",
      "Rejected: \t0\n",
      "Iteration: \t6 / 100\n",
      "Confirmed: \t0\n",
      "Tentative: \t16\n",
      "Rejected: \t0\n",
      "Iteration: \t7 / 100\n",
      "Confirmed: \t0\n",
      "Tentative: \t16\n",
      "Rejected: \t0\n",
      "Iteration: \t8 / 100\n",
      "Confirmed: \t12\n",
      "Tentative: \t0\n",
      "Rejected: \t4\n",
      "\n",
      "\n",
      "BorutaPy finished running.\n",
      "\n",
      "Iteration: \t9 / 100\n",
      "Confirmed: \t12\n",
      "Tentative: \t0\n",
      "Rejected: \t4\n"
     ]
    }
   ],
   "source": [
    "# define RandomForestRegressor\n",
    "rf = RandomForestClassifier(n_jobs=-2)\n",
    "\n",
    "# define Boruta\n",
    "boruta = BorutaPy(rf, n_estimators='auto', verbose=2, random_state=42).fit(X_train_n, y_train_n)"
   ]
  },
  {
   "cell_type": "markdown",
   "id": "f01ba1d9-2430-49c1-a2aa-90154ea19847",
   "metadata": {
    "execution": {
     "iopub.execute_input": "2020-07-27T17:37:35.277199Z",
     "iopub.status.busy": "2020-07-27T17:37:35.277199Z",
     "iopub.status.idle": "2020-07-27T17:37:35.280201Z",
     "shell.execute_reply": "2020-07-27T17:37:35.280201Z",
     "shell.execute_reply.started": "2020-07-27T17:37:35.277199Z"
    }
   },
   "source": [
    "### 6.2.1 Best Features from Boruta"
   ]
  },
  {
   "cell_type": "code",
   "execution_count": 61,
   "id": "e2d8f0d6-4ad0-4711-a2d2-c67294a49cd1",
   "metadata": {
    "tags": []
   },
   "outputs": [],
   "source": [
    "cols_selected = boruta.support_.tolist()\n",
    "\n",
    "# best features\n",
    "X_train_fs = X_train\n",
    "cols_selected_boruta = X_train_fs.iloc[:, cols_selected].columns.to_list()\n",
    "\n",
    "# not selected boruta\n",
    "cols_not_selected_boruta = list(np.setdiff1d(X_train_fs.columns, cols_selected_boruta))"
   ]
  },
  {
   "cell_type": "code",
   "execution_count": 62,
   "id": "ac5f406e-91f6-4449-81b3-c31931624dc4",
   "metadata": {
    "tags": []
   },
   "outputs": [
    {
     "data": {
      "text/plain": [
       "['Gender',\n",
       " 'Age',\n",
       " 'Height',\n",
       " 'Weight',\n",
       " 'family_history_with_overweight',\n",
       " 'FCVC',\n",
       " 'NCP',\n",
       " 'CAEC',\n",
       " 'CH2O',\n",
       " 'FAF',\n",
       " 'TUE',\n",
       " 'CALC']"
      ]
     },
     "execution_count": 62,
     "metadata": {},
     "output_type": "execute_result"
    }
   ],
   "source": [
    "cols_selected_boruta"
   ]
  },
  {
   "cell_type": "code",
   "execution_count": 63,
   "id": "b1de4799-f25f-4e35-8c90-a34e84205414",
   "metadata": {
    "tags": []
   },
   "outputs": [
    {
     "data": {
      "text/plain": [
       "['FAVC', 'MTRANS', 'SCC', 'SMOKE']"
      ]
     },
     "execution_count": 63,
     "metadata": {},
     "output_type": "execute_result"
    }
   ],
   "source": [
    "cols_not_selected_boruta"
   ]
  },
  {
   "cell_type": "markdown",
   "id": "35bc43db-256d-40c9-a4dc-e76fb33b9f95",
   "metadata": {
    "execution": {
     "iopub.execute_input": "2020-07-27T17:37:35.277199Z",
     "iopub.status.busy": "2020-07-27T17:37:35.277199Z",
     "iopub.status.idle": "2020-07-27T17:37:35.280201Z",
     "shell.execute_reply": "2020-07-27T17:37:35.280201Z",
     "shell.execute_reply.started": "2020-07-27T17:37:35.277199Z"
    }
   },
   "source": [
    "### 6.2.1 Best Features from Boruta"
   ]
  },
  {
   "cell_type": "markdown",
   "id": "9955c134-cc18-4fc1-beef-84c21ffbf55e",
   "metadata": {},
   "source": [
    "## 6.3 Manual Feature Selection"
   ]
  },
  {
   "cell_type": "code",
   "execution_count": 64,
   "id": "ef3fd3a1-790f-444f-8f7a-18bfdfa68237",
   "metadata": {
    "tags": []
   },
   "outputs": [],
   "source": [
    "# foram incluídos os senos do month e do week_of_year, pois não faz sentido ter as funções de cos sem ter o seno no modelo, pois elas juntas é que representam as variáveis originais\n",
    "cols_selected_boruta = ['Gender',\n",
    " 'Age',\n",
    " 'Height',\n",
    " 'Weight',\n",
    " 'family_history_with_overweight',\n",
    " 'FCVC',\n",
    " 'NCP',\n",
    " 'CAEC',\n",
    " 'CH2O',\n",
    " 'FAF',\n",
    " 'TUE',\n",
    " 'CALC']\n",
    "\n",
    "target = df2['target']"
   ]
  },
  {
   "cell_type": "markdown",
   "id": "e7793e03-738f-4552-aa1b-fb78867d7705",
   "metadata": {},
   "source": [
    "## 6.4 Seleção por Importância"
   ]
  },
  {
   "cell_type": "markdown",
   "id": "8d3327e3-8546-4190-8b22-4e1101e7c832",
   "metadata": {},
   "source": [
    "### 6.4.1 Feature Selection Using Random Forest Classifier"
   ]
  },
  {
   "cell_type": "code",
   "execution_count": 65,
   "id": "11add8c4-69ad-4697-be02-d00ac0f43f27",
   "metadata": {
    "tags": []
   },
   "outputs": [],
   "source": [
    "# model\n",
    "rf = RandomForestClassifier(n_estimators=100, n_jobs=-5, random_state=42 ).fit(X_train_n, y_train_n)"
   ]
  },
  {
   "cell_type": "code",
   "execution_count": 66,
   "id": "3d4a63d0-cac9-48d9-9e5b-76866c002971",
   "metadata": {
    "tags": []
   },
   "outputs": [
    {
     "data": {
      "text/html": [
       "<div>\n",
       "<style scoped>\n",
       "    .dataframe tbody tr th:only-of-type {\n",
       "        vertical-align: middle;\n",
       "    }\n",
       "\n",
       "    .dataframe tbody tr th {\n",
       "        vertical-align: top;\n",
       "    }\n",
       "\n",
       "    .dataframe thead th {\n",
       "        text-align: right;\n",
       "    }\n",
       "</style>\n",
       "<table border=\"1\" class=\"dataframe\">\n",
       "  <thead>\n",
       "    <tr style=\"text-align: right;\">\n",
       "      <th></th>\n",
       "      <th>importance</th>\n",
       "    </tr>\n",
       "  </thead>\n",
       "  <tbody>\n",
       "    <tr>\n",
       "      <th>Weight</th>\n",
       "      <td>0.35</td>\n",
       "    </tr>\n",
       "    <tr>\n",
       "      <th>Height</th>\n",
       "      <td>0.10</td>\n",
       "    </tr>\n",
       "    <tr>\n",
       "      <th>Age</th>\n",
       "      <td>0.10</td>\n",
       "    </tr>\n",
       "    <tr>\n",
       "      <th>FCVC</th>\n",
       "      <td>0.08</td>\n",
       "    </tr>\n",
       "    <tr>\n",
       "      <th>Gender</th>\n",
       "      <td>0.05</td>\n",
       "    </tr>\n",
       "    <tr>\n",
       "      <th>NCP</th>\n",
       "      <td>0.05</td>\n",
       "    </tr>\n",
       "    <tr>\n",
       "      <th>CH2O</th>\n",
       "      <td>0.04</td>\n",
       "    </tr>\n",
       "    <tr>\n",
       "      <th>FAF</th>\n",
       "      <td>0.04</td>\n",
       "    </tr>\n",
       "    <tr>\n",
       "      <th>TUE</th>\n",
       "      <td>0.04</td>\n",
       "    </tr>\n",
       "    <tr>\n",
       "      <th>CAEC</th>\n",
       "      <td>0.03</td>\n",
       "    </tr>\n",
       "    <tr>\n",
       "      <th>family_history_with_overweight</th>\n",
       "      <td>0.03</td>\n",
       "    </tr>\n",
       "    <tr>\n",
       "      <th>CALC</th>\n",
       "      <td>0.03</td>\n",
       "    </tr>\n",
       "    <tr>\n",
       "      <th>MTRANS</th>\n",
       "      <td>0.02</td>\n",
       "    </tr>\n",
       "    <tr>\n",
       "      <th>FAVC</th>\n",
       "      <td>0.02</td>\n",
       "    </tr>\n",
       "    <tr>\n",
       "      <th>SCC</th>\n",
       "      <td>0.01</td>\n",
       "    </tr>\n",
       "    <tr>\n",
       "      <th>SMOKE</th>\n",
       "      <td>0.00</td>\n",
       "    </tr>\n",
       "  </tbody>\n",
       "</table>\n",
       "</div>"
      ],
      "text/plain": [
       "                                importance\n",
       "Weight                                0.35\n",
       "Height                                0.10\n",
       "Age                                   0.10\n",
       "FCVC                                  0.08\n",
       "Gender                                0.05\n",
       "NCP                                   0.05\n",
       "CH2O                                  0.04\n",
       "FAF                                   0.04\n",
       "TUE                                   0.04\n",
       "CAEC                                  0.03\n",
       "family_history_with_overweight        0.03\n",
       "CALC                                  0.03\n",
       "MTRANS                                0.02\n",
       "FAVC                                  0.02\n",
       "SCC                                   0.01\n",
       "SMOKE                                 0.00"
      ]
     },
     "execution_count": 66,
     "metadata": {},
     "output_type": "execute_result"
    }
   ],
   "source": [
    "feature_importances = pd.DataFrame(rf.feature_importances_,\n",
    "                                   index = X_train.columns,\n",
    "                                    columns=['importance']).sort_values('importance', ascending=False)\n",
    "feature_importances"
   ]
  },
  {
   "cell_type": "code",
   "execution_count": 67,
   "id": "c24d85fb-6f8e-4ee1-a702-5af82337bc6f",
   "metadata": {
    "tags": []
   },
   "outputs": [
    {
     "data": {
      "image/png": "[encoded data removed]",
      "text/plain": [
       "<Figure size 864x432 with 1 Axes>"
      ]
     },
     "metadata": {},
     "output_type": "display_data"
    }
   ],
   "source": [
    "pd.Series(rf.feature_importances_, index=X_train.columns).plot(kind='barh');"
   ]
  },
  {
   "cell_type": "code",
   "execution_count": 68,
   "id": "81cc5da2-c21a-47d1-9d4d-10d6913934fb",
   "metadata": {
    "tags": []
   },
   "outputs": [
    {
     "data": {
      "image/png": "[encoded data removed]",
      "text/plain": [
       "<Figure size 864x432 with 1 Axes>"
      ]
     },
     "metadata": {},
     "output_type": "display_data"
    }
   ],
   "source": [
    "pd.Series(rf.feature_importances_, index=X_train.columns).nlargest(len(X_train.columns)).plot(kind='barh');"
   ]
  },
  {
   "cell_type": "code",
   "execution_count": 69,
   "id": "40f8696f-8464-4a3f-a4a4-578dbce260fe",
   "metadata": {
    "tags": []
   },
   "outputs": [
    {
     "data": {
      "image/png": "[encoded data removed]",
      "text/plain": [
       "<Figure size 864x432 with 1 Axes>"
      ]
     },
     "metadata": {},
     "output_type": "display_data"
    }
   ],
   "source": [
    "feat_importances = pd.Series(rf.feature_importances_, index=X_train.columns)\n",
    "feat_importances.nlargest(8).plot(kind='barh');"
   ]
  },
  {
   "cell_type": "markdown",
   "id": "3c0b8562-1c56-4d55-94e6-704e41f6cc02",
   "metadata": {},
   "source": [
    "### 6.4.2 Feature Selection Using Extra-Trees Classifier"
   ]
  },
  {
   "cell_type": "code",
   "execution_count": 70,
   "id": "22edcbae-f5f2-4c00-a112-693a87c026b8",
   "metadata": {
    "tags": []
   },
   "outputs": [
    {
     "data": {
      "text/html": [
       "<div>\n",
       "<style scoped>\n",
       "    .dataframe tbody tr th:only-of-type {\n",
       "        vertical-align: middle;\n",
       "    }\n",
       "\n",
       "    .dataframe tbody tr th {\n",
       "        vertical-align: top;\n",
       "    }\n",
       "\n",
       "    .dataframe thead th {\n",
       "        text-align: right;\n",
       "    }\n",
       "</style>\n",
       "<table border=\"1\" class=\"dataframe\">\n",
       "  <thead>\n",
       "    <tr style=\"text-align: right;\">\n",
       "      <th></th>\n",
       "      <th>importance</th>\n",
       "    </tr>\n",
       "  </thead>\n",
       "  <tbody>\n",
       "    <tr>\n",
       "      <th>Weight</th>\n",
       "      <td>0.28</td>\n",
       "    </tr>\n",
       "    <tr>\n",
       "      <th>Age</th>\n",
       "      <td>0.08</td>\n",
       "    </tr>\n",
       "    <tr>\n",
       "      <th>Height</th>\n",
       "      <td>0.08</td>\n",
       "    </tr>\n",
       "    <tr>\n",
       "      <th>Gender</th>\n",
       "      <td>0.08</td>\n",
       "    </tr>\n",
       "    <tr>\n",
       "      <th>FCVC</th>\n",
       "      <td>0.07</td>\n",
       "    </tr>\n",
       "    <tr>\n",
       "      <th>NCP</th>\n",
       "      <td>0.06</td>\n",
       "    </tr>\n",
       "    <tr>\n",
       "      <th>CALC</th>\n",
       "      <td>0.05</td>\n",
       "    </tr>\n",
       "    <tr>\n",
       "      <th>TUE</th>\n",
       "      <td>0.05</td>\n",
       "    </tr>\n",
       "    <tr>\n",
       "      <th>family_history_with_overweight</th>\n",
       "      <td>0.05</td>\n",
       "    </tr>\n",
       "    <tr>\n",
       "      <th>CH2O</th>\n",
       "      <td>0.04</td>\n",
       "    </tr>\n",
       "    <tr>\n",
       "      <th>FAF</th>\n",
       "      <td>0.04</td>\n",
       "    </tr>\n",
       "    <tr>\n",
       "      <th>MTRANS</th>\n",
       "      <td>0.04</td>\n",
       "    </tr>\n",
       "    <tr>\n",
       "      <th>CAEC</th>\n",
       "      <td>0.04</td>\n",
       "    </tr>\n",
       "    <tr>\n",
       "      <th>FAVC</th>\n",
       "      <td>0.03</td>\n",
       "    </tr>\n",
       "    <tr>\n",
       "      <th>SCC</th>\n",
       "      <td>0.01</td>\n",
       "    </tr>\n",
       "    <tr>\n",
       "      <th>SMOKE</th>\n",
       "      <td>0.00</td>\n",
       "    </tr>\n",
       "  </tbody>\n",
       "</table>\n",
       "</div>"
      ],
      "text/plain": [
       "                                importance\n",
       "Weight                                0.28\n",
       "Age                                   0.08\n",
       "Height                                0.08\n",
       "Gender                                0.08\n",
       "FCVC                                  0.07\n",
       "NCP                                   0.06\n",
       "CALC                                  0.05\n",
       "TUE                                   0.05\n",
       "family_history_with_overweight        0.05\n",
       "CH2O                                  0.04\n",
       "FAF                                   0.04\n",
       "MTRANS                                0.04\n",
       "CAEC                                  0.04\n",
       "FAVC                                  0.03\n",
       "SCC                                   0.01\n",
       "SMOKE                                 0.00"
      ]
     },
     "execution_count": 70,
     "metadata": {},
     "output_type": "execute_result"
    }
   ],
   "source": [
    "et = ExtraTreesClassifier(n_jobs=-5)\n",
    "et.fit(X_train_n, y_train_n)\n",
    "\n",
    "feature_importances = pd.DataFrame(et.feature_importances_,\n",
    "                                   index = X_train.columns,\n",
    "                                    columns=['importance']).sort_values('importance', ascending=False)\n",
    "feature_importances"
   ]
  },
  {
   "cell_type": "code",
   "execution_count": 71,
   "id": "e6cca574-e4e8-4118-a2da-c09c2bf34d9f",
   "metadata": {
    "tags": []
   },
   "outputs": [
    {
     "data": {
      "image/png": "[encoded data removed]",
      "text/plain": [
       "<Figure size 864x432 with 1 Axes>"
      ]
     },
     "metadata": {},
     "output_type": "display_data"
    }
   ],
   "source": [
    "feat_importances = pd.Series(et.feature_importances_, X_train.columns)\n",
    "feat_importances.nlargest(17).plot(kind='barh');"
   ]
  },
  {
   "cell_type": "markdown",
   "id": "72146945-7dd4-4d74-82ba-8d675cc3412c",
   "metadata": {
    "tags": []
   },
   "source": [
    "# .0 Machine Learning Modelling"
   ]
  },
  {
   "cell_type": "code",
   "execution_count": 72,
   "id": "fc04b66d-035d-4537-951a-91c58f175712",
   "metadata": {
    "tags": []
   },
   "outputs": [
    {
     "name": "stdout",
     "output_type": "stream",
     "text": [
      "\n",
      "Tamanho treino: 1899\n",
      "Tamanho teste: 212\n"
     ]
    }
   ],
   "source": [
    "x_full_select, x_test_select, y_full_select, y_test_select = train_test_split(df2.drop(['NObeyesdad', 'target', 'SMOKE', 'SCC'], axis=1), df2['target'], random_state = 16, train_size=0.90)\n",
    "\n",
    "print('\\nTamanho treino: {}'.format(x_full_select.shape[0]))\n",
    "print('Tamanho teste: {}'.format(x_test_select.shape[0]))"
   ]
  },
  {
   "cell_type": "code",
   "execution_count": 73,
   "id": "f3bb8876-aca2-4482-99d2-55d023c888ab",
   "metadata": {
    "tags": []
   },
   "outputs": [
    {
     "data": {
      "text/plain": [
       "(1899, 14)"
      ]
     },
     "execution_count": 73,
     "metadata": {},
     "output_type": "execute_result"
    }
   ],
   "source": [
    "x_full_select.shape"
   ]
  },
  {
   "cell_type": "code",
   "execution_count": 74,
   "id": "9daed2da-987e-403f-a6e9-4239ae4a7df2",
   "metadata": {
    "tags": []
   },
   "outputs": [
    {
     "name": "stdout",
     "output_type": "stream",
     "text": [
      "\n",
      "Tamanho treino: 1519\n",
      "Tamanho validação: 380\n"
     ]
    }
   ],
   "source": [
    "X_train, X_val, y_train, y_val = train_test_split(x_full, y_full, random_state = 16, train_size=0.80)\n",
    "\n",
    "print('\\nTamanho treino: {}'.format(X_train.shape[0]))\n",
    "print('Tamanho validação: {}'.format(X_val.shape[0]))"
   ]
  },
  {
   "attachments": {
    "c1ecebc7-3140-4e2a-923c-83a75b0beb9f.png": {
     "image/png": "[encoded data removed]"
    }
   },
   "cell_type": "markdown",
   "id": "d4e41dae-58c1-45f9-9351-9a760a282086",
   "metadata": {},
   "source": [
    "![image.png](attachment:c1ecebc7-3140-4e2a-923c-83a75b0beb9f.png)"
   ]
  },
  {
   "cell_type": "code",
   "execution_count": 75,
   "id": "3cee508a-2f99-49a4-a36c-182faeb87a06",
   "metadata": {
    "tags": []
   },
   "outputs": [],
   "source": [
    "skf = StratifiedKFold(n_splits=10, shuffle=True, random_state=16)\n",
    "\n",
    "def stratified_kfold_evaluation(skf, model):\n",
    "    lst_accu_stratified = []\n",
    "\n",
    "    for train_index, val_index in skf.split(x_full, y_full):\n",
    "        model.fit(x_full.iloc[train_index], y_full.iloc[train_index])\n",
    "        lst_accu_stratified.append(model.score(x_full.iloc[val_index], y_full.iloc[val_index]))\n",
    "        result = model.predict(x_full.iloc[val_index])\n",
    "        print(classification_report(y_full.iloc[val_index], result))\n",
    "\n",
    "    # Print the output.\n",
    "    print('List of possible accuracy:', lst_accu_stratified)\n",
    "    print('\\nMaximum Accuracy That can be obtained from this model is:',\n",
    "          max(lst_accu_stratified)*100, '%')\n",
    "    print('\\nMinimum Accuracy:',\n",
    "          min(lst_accu_stratified)*100, '%')\n",
    "    print('\\nOverall Accuracy:',\n",
    "          mean(lst_accu_stratified)*100, '%')\n",
    "    print('\\nStandard Deviation is:', np.std(lst_accu_stratified)*100, '%')\n",
    "    \n",
    "    \n",
    "# inserir matrizes de confusao e a media\n",
    "\n",
    "# inserir grid search"
   ]
  },
  {
   "cell_type": "code",
   "execution_count": 76,
   "id": "dcdc8d19-5e0b-4061-adb3-9080d008794d",
   "metadata": {
    "tags": []
   },
   "outputs": [],
   "source": [
    "#     metrics = np.array(metrics)\n",
    "#     print(f'Métrica média: {metrics.mean()}, desvio padrão: {metrics.std()}')\n",
    "    \n",
    "# kfold_trainning(KFold(n_splits=10))"
   ]
  },
  {
   "cell_type": "code",
   "execution_count": 77,
   "id": "85442509-f71c-46b5-a119-376dc28ded26",
   "metadata": {
    "tags": []
   },
   "outputs": [],
   "source": [
    "def classification_report_with_accuracy_score(y_true, y_pred):\n",
    "  print(classification_report(y_true, y_pred))\n",
    "  return accuracy_score(y_true, y_true)"
   ]
  },
  {
   "cell_type": "code",
   "execution_count": 78,
   "id": "b2a170e2-ac62-440c-8138-bdeae87231ef",
   "metadata": {
    "tags": []
   },
   "outputs": [],
   "source": [
    "# kf = KFold(n_splits=10, shuffle=True, random_state=16)\n",
    "\n",
    "# for train_index, test_index in kf.split(10):\n",
    "#     print(\"TRAIN:\", train_index, \"TEST:\", test_index)\n",
    "#     X_train, X_test = X[train_index], X[test_index]\n",
    "#     y_train, y_test = y[train_index], y[test_index]"
   ]
  },
  {
   "cell_type": "markdown",
   "id": "40e39a15-6e89-47e3-805f-570c6bc41cd9",
   "metadata": {
    "tags": []
   },
   "source": [
    "## .1 Dummy Model"
   ]
  },
  {
   "cell_type": "code",
   "execution_count": 79,
   "id": "98946df8-4f3b-402b-b2b7-7a4d71def898",
   "metadata": {
    "tags": []
   },
   "outputs": [
    {
     "name": "stdout",
     "output_type": "stream",
     "text": [
      "              precision    recall  f1-score   support\n",
      "\n",
      "           0       0.12      0.15      0.14        46\n",
      "           1       0.06      0.07      0.06        46\n",
      "           2       0.16      0.19      0.17        53\n",
      "           3       0.14      0.24      0.18        51\n",
      "           4       0.12      0.13      0.13        62\n",
      "           5       0.07      0.07      0.07        58\n",
      "           6       0.00      0.00      0.00        64\n",
      "\n",
      "    accuracy                           0.12       380\n",
      "   macro avg       0.10      0.12      0.11       380\n",
      "weighted avg       0.09      0.12      0.10       380\n",
      "\n"
     ]
    },
    {
     "name": "stderr",
     "output_type": "stream",
     "text": [
      "C:\\Users\\Wesley Sousa\\.conda\\envs\\sidi\\lib\\site-packages\\sklearn\\metrics\\_classification.py:1318: UndefinedMetricWarning: Precision and F-score are ill-defined and being set to 0.0 in labels with no predicted samples. Use `zero_division` parameter to control this behavior.\n",
      "  _warn_prf(average, modifier, msg_start, len(result))\n",
      "C:\\Users\\Wesley Sousa\\.conda\\envs\\sidi\\lib\\site-packages\\sklearn\\metrics\\_classification.py:1318: UndefinedMetricWarning: Precision and F-score are ill-defined and being set to 0.0 in labels with no predicted samples. Use `zero_division` parameter to control this behavior.\n",
      "  _warn_prf(average, modifier, msg_start, len(result))\n",
      "C:\\Users\\Wesley Sousa\\.conda\\envs\\sidi\\lib\\site-packages\\sklearn\\metrics\\_classification.py:1318: UndefinedMetricWarning: Precision and F-score are ill-defined and being set to 0.0 in labels with no predicted samples. Use `zero_division` parameter to control this behavior.\n",
      "  _warn_prf(average, modifier, msg_start, len(result))\n"
     ]
    },
    {
     "data": {
      "text/plain": [
       "1.0"
      ]
     },
     "execution_count": 79,
     "metadata": {},
     "output_type": "execute_result"
    }
   ],
   "source": [
    "dummy_pred = randint(0, 6, size=y_val.shape)\n",
    "classification_report_with_accuracy_score(y_val, dummy_pred)"
   ]
  },
  {
   "cell_type": "markdown",
   "id": "a43d0ee1-9c48-4e93-befb-59b701971e93",
   "metadata": {
    "execution": {
     "iopub.execute_input": "2022-01-11T15:51:34.847108Z",
     "iopub.status.busy": "2022-01-11T15:51:34.846107Z",
     "iopub.status.idle": "2022-01-11T15:51:34.853116Z",
     "shell.execute_reply": "2022-01-11T15:51:34.853116Z",
     "shell.execute_reply.started": "2022-01-11T15:51:34.846107Z"
    },
    "tags": []
   },
   "source": [
    "## .2 K-Nearest Neighbors (KNN)"
   ]
  },
  {
   "cell_type": "code",
   "execution_count": 80,
   "id": "0ff4a9c4-db92-48f6-a023-47bf5bc0fe8c",
   "metadata": {
    "tags": []
   },
   "outputs": [
    {
     "name": "stdout",
     "output_type": "stream",
     "text": [
      "              precision    recall  f1-score   support\n",
      "\n",
      "           0       0.66      0.92      0.77        25\n",
      "           1       0.38      0.24      0.29        25\n",
      "           2       0.66      0.70      0.68        27\n",
      "           3       0.73      0.73      0.73        26\n",
      "           4       0.86      0.75      0.80        32\n",
      "           5       0.89      0.92      0.91        26\n",
      "           6       1.00      1.00      1.00        29\n",
      "\n",
      "    accuracy                           0.76       190\n",
      "   macro avg       0.74      0.75      0.74       190\n",
      "weighted avg       0.75      0.76      0.75       190\n",
      "\n",
      "              precision    recall  f1-score   support\n",
      "\n",
      "           0       0.67      0.88      0.76        25\n",
      "           1       0.59      0.40      0.48        25\n",
      "           2       0.89      0.63      0.74        27\n",
      "           3       0.72      0.88      0.79        26\n",
      "           4       0.79      0.84      0.82        32\n",
      "           5       0.89      0.89      0.89        27\n",
      "           6       0.96      0.96      0.96        28\n",
      "\n",
      "    accuracy                           0.79       190\n",
      "   macro avg       0.79      0.78      0.78       190\n",
      "weighted avg       0.79      0.79      0.78       190\n",
      "\n",
      "              precision    recall  f1-score   support\n",
      "\n",
      "           0       0.83      1.00      0.91        25\n",
      "           1       0.69      0.44      0.54        25\n",
      "           2       0.81      0.63      0.71        27\n",
      "           3       0.73      0.73      0.73        26\n",
      "           4       0.67      0.81      0.73        32\n",
      "           5       0.83      0.93      0.88        27\n",
      "           6       1.00      1.00      1.00        28\n",
      "\n",
      "    accuracy                           0.79       190\n",
      "   macro avg       0.79      0.79      0.78       190\n",
      "weighted avg       0.79      0.79      0.79       190\n",
      "\n",
      "              precision    recall  f1-score   support\n",
      "\n",
      "           0       0.84      0.88      0.86        24\n",
      "           1       0.68      0.50      0.58        26\n",
      "           2       0.69      0.74      0.71        27\n",
      "           3       0.71      0.77      0.74        26\n",
      "           4       0.80      0.88      0.84        32\n",
      "           5       0.92      0.89      0.91        27\n",
      "           6       1.00      1.00      1.00        28\n",
      "\n",
      "    accuracy                           0.81       190\n",
      "   macro avg       0.81      0.81      0.80       190\n",
      "weighted avg       0.81      0.81      0.81       190\n",
      "\n",
      "              precision    recall  f1-score   support\n",
      "\n",
      "           0       0.72      0.96      0.82        24\n",
      "           1       0.75      0.35      0.47        26\n",
      "           2       0.81      0.81      0.81        27\n",
      "           3       0.67      0.69      0.68        26\n",
      "           4       0.76      0.78      0.77        32\n",
      "           5       0.84      0.96      0.90        27\n",
      "           6       1.00      1.00      1.00        28\n",
      "\n",
      "    accuracy                           0.79       190\n",
      "   macro avg       0.79      0.79      0.78       190\n",
      "weighted avg       0.79      0.79      0.78       190\n",
      "\n",
      "              precision    recall  f1-score   support\n",
      "\n",
      "           0       0.84      0.88      0.86        24\n",
      "           1       0.72      0.50      0.59        26\n",
      "           2       0.67      0.74      0.70        27\n",
      "           3       0.69      0.77      0.73        26\n",
      "           4       0.83      0.78      0.81        32\n",
      "           5       0.86      0.89      0.87        27\n",
      "           6       0.93      1.00      0.97        28\n",
      "\n",
      "    accuracy                           0.79       190\n",
      "   macro avg       0.79      0.79      0.79       190\n",
      "weighted avg       0.79      0.79      0.79       190\n",
      "\n",
      "              precision    recall  f1-score   support\n",
      "\n",
      "           0       0.77      0.96      0.85        24\n",
      "           1       0.68      0.50      0.58        26\n",
      "           2       0.76      0.81      0.79        27\n",
      "           3       0.86      0.73      0.79        26\n",
      "           4       0.83      0.91      0.87        32\n",
      "           5       0.93      0.96      0.95        27\n",
      "           6       1.00      0.96      0.98        28\n",
      "\n",
      "    accuracy                           0.84       190\n",
      "   macro avg       0.83      0.83      0.83       190\n",
      "weighted avg       0.84      0.84      0.83       190\n",
      "\n",
      "              precision    recall  f1-score   support\n",
      "\n",
      "           0       0.73      0.76      0.75        25\n",
      "           1       0.57      0.50      0.53        26\n",
      "           2       0.79      0.88      0.84        26\n",
      "           3       0.89      0.63      0.74        27\n",
      "           4       0.81      0.84      0.83        31\n",
      "           5       0.81      1.00      0.90        26\n",
      "           6       1.00      1.00      1.00        29\n",
      "\n",
      "    accuracy                           0.81       190\n",
      "   macro avg       0.80      0.80      0.80       190\n",
      "weighted avg       0.81      0.81      0.80       190\n",
      "\n",
      "              precision    recall  f1-score   support\n",
      "\n",
      "           0       0.74      0.80      0.77        25\n",
      "           1       0.52      0.42      0.47        26\n",
      "           2       0.60      0.69      0.64        26\n",
      "           3       0.79      0.70      0.75        27\n",
      "           4       0.87      0.84      0.85        31\n",
      "           5       0.86      0.96      0.91        26\n",
      "           6       1.00      1.00      1.00        29\n",
      "\n",
      "    accuracy                           0.78       190\n",
      "   macro avg       0.77      0.77      0.77       190\n",
      "weighted avg       0.78      0.78      0.78       190\n",
      "\n",
      "              precision    recall  f1-score   support\n",
      "\n",
      "           0       0.74      0.92      0.82        25\n",
      "           1       0.62      0.32      0.42        25\n",
      "           2       0.75      0.81      0.78        26\n",
      "           3       0.85      0.85      0.85        27\n",
      "           4       0.84      0.84      0.84        31\n",
      "           5       0.87      1.00      0.93        26\n",
      "           6       1.00      1.00      1.00        29\n",
      "\n",
      "    accuracy                           0.83       189\n",
      "   macro avg       0.81      0.82      0.81       189\n",
      "weighted avg       0.81      0.83      0.81       189\n",
      "\n"
     ]
    }
   ],
   "source": [
    "knn = KNeighborsClassifier(n_neighbors=5)\n",
    "cross_validate(knn, x_full, y_full)\n",
    "\n",
    "knn_score = cross_val_score(knn, x_full, y_full, cv=10, scoring=make_scorer(classification_report_with_accuracy_score))"
   ]
  },
  {
   "cell_type": "code",
   "execution_count": 81,
   "id": "381c17cc-46fd-449a-a182-6f64b65e284a",
   "metadata": {
    "tags": []
   },
   "outputs": [
    {
     "name": "stdout",
     "output_type": "stream",
     "text": [
      "              precision    recall  f1-score   support\n",
      "\n",
      "           0       0.82      0.92      0.87        25\n",
      "           1       0.69      0.44      0.54        25\n",
      "           2       0.87      0.74      0.80        27\n",
      "           3       0.61      0.85      0.71        26\n",
      "           4       0.88      0.88      0.88        32\n",
      "           5       0.93      0.96      0.94        26\n",
      "           6       1.00      0.97      0.98        29\n",
      "\n",
      "    accuracy                           0.83       190\n",
      "   macro avg       0.83      0.82      0.82       190\n",
      "weighted avg       0.83      0.83      0.82       190\n",
      "\n",
      "              precision    recall  f1-score   support\n",
      "\n",
      "           0       0.77      0.92      0.84        25\n",
      "           1       0.53      0.40      0.45        25\n",
      "           2       0.83      0.74      0.78        27\n",
      "           3       0.65      0.58      0.61        26\n",
      "           4       0.83      0.91      0.87        32\n",
      "           5       0.84      0.96      0.90        27\n",
      "           6       1.00      1.00      1.00        28\n",
      "\n",
      "    accuracy                           0.79       190\n",
      "   macro avg       0.78      0.79      0.78       190\n",
      "weighted avg       0.78      0.79      0.79       190\n",
      "\n",
      "              precision    recall  f1-score   support\n",
      "\n",
      "           0       0.81      1.00      0.89        25\n",
      "           1       0.62      0.40      0.49        25\n",
      "           2       0.63      0.70      0.67        27\n",
      "           3       0.68      0.73      0.70        26\n",
      "           4       0.81      0.78      0.79        32\n",
      "           5       0.92      0.89      0.91        27\n",
      "           6       1.00      1.00      1.00        28\n",
      "\n",
      "    accuracy                           0.79       190\n",
      "   macro avg       0.78      0.79      0.78       190\n",
      "weighted avg       0.79      0.79      0.78       190\n",
      "\n",
      "              precision    recall  f1-score   support\n",
      "\n",
      "           0       0.65      0.83      0.73        24\n",
      "           1       0.61      0.42      0.50        26\n",
      "           2       0.70      0.70      0.70        27\n",
      "           3       1.00      0.73      0.84        26\n",
      "           4       0.81      0.91      0.85        32\n",
      "           5       0.84      0.96      0.90        27\n",
      "           6       1.00      1.00      1.00        28\n",
      "\n",
      "    accuracy                           0.80       190\n",
      "   macro avg       0.80      0.79      0.79       190\n",
      "weighted avg       0.80      0.80      0.79       190\n",
      "\n",
      "              precision    recall  f1-score   support\n",
      "\n",
      "           0       0.77      0.96      0.85        24\n",
      "           1       0.63      0.46      0.53        26\n",
      "           2       0.76      0.70      0.73        27\n",
      "           3       0.71      0.85      0.77        26\n",
      "           4       0.78      0.78      0.78        32\n",
      "           5       0.88      0.85      0.87        27\n",
      "           6       1.00      0.96      0.98        28\n",
      "\n",
      "    accuracy                           0.79       190\n",
      "   macro avg       0.79      0.80      0.79       190\n",
      "weighted avg       0.79      0.79      0.79       190\n",
      "\n",
      "              precision    recall  f1-score   support\n",
      "\n",
      "           0       0.67      0.92      0.77        24\n",
      "           1       0.64      0.35      0.45        26\n",
      "           2       0.70      0.70      0.70        27\n",
      "           3       0.73      0.73      0.73        26\n",
      "           4       0.73      0.69      0.71        32\n",
      "           5       0.81      0.96      0.88        27\n",
      "           6       1.00      1.00      1.00        28\n",
      "\n",
      "    accuracy                           0.76       190\n",
      "   macro avg       0.76      0.76      0.75       190\n",
      "weighted avg       0.76      0.76      0.75       190\n",
      "\n",
      "              precision    recall  f1-score   support\n",
      "\n",
      "           0       0.72      0.88      0.79        24\n",
      "           1       0.71      0.38      0.50        26\n",
      "           2       0.71      0.81      0.76        27\n",
      "           3       0.78      0.69      0.73        26\n",
      "           4       0.74      0.78      0.76        32\n",
      "           5       0.87      0.96      0.91        27\n",
      "           6       0.97      1.00      0.98        28\n",
      "\n",
      "    accuracy                           0.79       190\n",
      "   macro avg       0.79      0.79      0.78       190\n",
      "weighted avg       0.79      0.79      0.78       190\n",
      "\n",
      "              precision    recall  f1-score   support\n",
      "\n",
      "           0       0.69      0.80      0.74        25\n",
      "           1       0.58      0.42      0.49        26\n",
      "           2       0.74      0.77      0.75        26\n",
      "           3       0.88      0.81      0.85        27\n",
      "           4       0.88      0.90      0.89        31\n",
      "           5       0.90      1.00      0.95        26\n",
      "           6       1.00      1.00      1.00        29\n",
      "\n",
      "    accuracy                           0.82       190\n",
      "   macro avg       0.81      0.82      0.81       190\n",
      "weighted avg       0.81      0.82      0.81       190\n",
      "\n",
      "              precision    recall  f1-score   support\n",
      "\n",
      "           0       0.76      0.88      0.81        25\n",
      "           1       0.53      0.38      0.44        26\n",
      "           2       0.67      0.69      0.68        26\n",
      "           3       0.81      0.78      0.79        27\n",
      "           4       0.82      0.74      0.78        31\n",
      "           5       0.81      0.96      0.88        26\n",
      "           6       0.97      1.00      0.98        29\n",
      "\n",
      "    accuracy                           0.78       190\n",
      "   macro avg       0.76      0.78      0.77       190\n",
      "weighted avg       0.77      0.78      0.77       190\n",
      "\n",
      "              precision    recall  f1-score   support\n",
      "\n",
      "           0       0.73      0.88      0.80        25\n",
      "           1       0.87      0.52      0.65        25\n",
      "           2       0.71      0.77      0.74        26\n",
      "           3       0.71      0.81      0.76        27\n",
      "           4       0.83      0.77      0.80        31\n",
      "           5       0.96      0.96      0.96        26\n",
      "           6       0.97      1.00      0.98        29\n",
      "\n",
      "    accuracy                           0.82       189\n",
      "   macro avg       0.83      0.82      0.81       189\n",
      "weighted avg       0.83      0.82      0.82       189\n",
      "\n",
      "List of possible accuracy: [0.8263157894736842, 0.7947368421052632, 0.7894736842105263, 0.8, 0.7947368421052632, 0.7631578947368421, 0.7894736842105263, 0.8210526315789474, 0.7789473684210526, 0.8201058201058201]\n",
      "\n",
      "Maximum Accuracy That can be obtained from this model is: 82.63157894736842 %\n",
      "\n",
      "Minimum Accuracy: 76.31578947368422 %\n",
      "\n",
      "Overall Accuracy: 79.78000556947926 %\n",
      "\n",
      "Standard Deviation is: 1.889217523621729 %\n"
     ]
    }
   ],
   "source": [
    "stratified_kfold_evaluation(skf, knn)"
   ]
  },
  {
   "cell_type": "code",
   "execution_count": 82,
   "id": "b3419abd-f5f1-4c36-bb59-7a4772b3a1aa",
   "metadata": {
    "tags": []
   },
   "outputs": [],
   "source": [
    "resultados_knn = []\n",
    "\n",
    "for k in range (2, 21):\n",
    "    knn = KNeighborsClassifier(n_neighbors=k)\n",
    "    knn.fit(X_train, y_train)\n",
    "\n",
    "    resultados_knn.append(knn.score(X_val, y_val))"
   ]
  },
  {
   "cell_type": "code",
   "execution_count": 83,
   "id": "d127c1e5-30e8-410e-b340-0dedb3345fac",
   "metadata": {
    "tags": []
   },
   "outputs": [
    {
     "data": {
      "text/plain": [
       "[0.8368421052631579,\n",
       " 0.8473684210526315,\n",
       " 0.8368421052631579,\n",
       " 0.8394736842105263,\n",
       " 0.8184210526315789,\n",
       " 0.8,\n",
       " 0.7947368421052632,\n",
       " 0.7868421052631579,\n",
       " 0.7710526315789473,\n",
       " 0.7710526315789473,\n",
       " 0.7684210526315789,\n",
       " 0.7631578947368421,\n",
       " 0.7631578947368421,\n",
       " 0.7552631578947369,\n",
       " 0.7657894736842106,\n",
       " 0.7552631578947369,\n",
       " 0.75,\n",
       " 0.7473684210526316,\n",
       " 0.7394736842105263]"
      ]
     },
     "execution_count": 83,
     "metadata": {},
     "output_type": "execute_result"
    }
   ],
   "source": [
    "resultados_knn"
   ]
  },
  {
   "cell_type": "code",
   "execution_count": 84,
   "id": "1aabaf67-43df-4e73-b240-b49358a51e1d",
   "metadata": {
    "tags": []
   },
   "outputs": [
    {
     "data": {
      "image/png": "[encoded data removed]",
      "text/plain": [
       "<Figure size 864x432 with 1 Axes>"
      ]
     },
     "metadata": {},
     "output_type": "display_data"
    }
   ],
   "source": [
    "xticks = list(range(2, 21))\n",
    "plt.xlabel('N')\n",
    "plt.ylabel('Accuracy')\n",
    "#plt.xticks(ticks=xticks, labels=xticks)\n",
    "#plt.set_xticks(xticks, labels=xticks)\n",
    "sns.lineplot(x=xticks, y=resultados_knn);"
   ]
  },
  {
   "cell_type": "code",
   "execution_count": 85,
   "id": "a6853fc7-632f-4677-994a-b5e609bf2edd",
   "metadata": {
    "tags": []
   },
   "outputs": [
    {
     "data": {
      "text/plain": [
       "(0.7847645429362881, 0.03413670863372445)"
      ]
     },
     "execution_count": 85,
     "metadata": {},
     "output_type": "execute_result"
    }
   ],
   "source": [
    "(np.mean(resultados_knn), np.std(resultados_knn))"
   ]
  },
  {
   "cell_type": "code",
   "execution_count": 86,
   "id": "6da6299b-536e-4111-a397-0e3e57f1c5d6",
   "metadata": {
    "tags": []
   },
   "outputs": [
    {
     "data": {
      "text/plain": [
       "0.8473684210526315"
      ]
     },
     "execution_count": 86,
     "metadata": {},
     "output_type": "execute_result"
    }
   ],
   "source": [
    "knn_best = KNeighborsClassifier(n_neighbors=3)\n",
    "knn_best.fit(X_train, y_train)\n",
    "\n",
    "knn_best.score(X_val, y_val)"
   ]
  },
  {
   "cell_type": "code",
   "execution_count": 87,
   "id": "90cea97f-c247-4c3b-898f-abdd5e9487b3",
   "metadata": {
    "tags": []
   },
   "outputs": [
    {
     "name": "stdout",
     "output_type": "stream",
     "text": [
      "              precision    recall  f1-score   support\n",
      "\n",
      "           0       0.72      0.92      0.81        25\n",
      "           1       0.62      0.52      0.57        25\n",
      "           2       0.80      0.74      0.77        27\n",
      "           3       0.81      0.85      0.83        26\n",
      "           4       0.84      0.81      0.83        32\n",
      "           5       0.96      0.92      0.94        26\n",
      "           6       1.00      1.00      1.00        29\n",
      "\n",
      "    accuracy                           0.83       190\n",
      "   macro avg       0.82      0.82      0.82       190\n",
      "weighted avg       0.83      0.83      0.82       190\n",
      "\n",
      "              precision    recall  f1-score   support\n",
      "\n",
      "           0       0.69      0.96      0.80        25\n",
      "           1       0.53      0.40      0.45        25\n",
      "           2       0.86      0.67      0.75        27\n",
      "           3       0.73      0.92      0.81        26\n",
      "           4       0.86      0.75      0.80        32\n",
      "           5       0.92      0.89      0.91        27\n",
      "           6       0.96      0.96      0.96        28\n",
      "\n",
      "    accuracy                           0.79       190\n",
      "   macro avg       0.79      0.79      0.78       190\n",
      "weighted avg       0.80      0.79      0.79       190\n",
      "\n",
      "              precision    recall  f1-score   support\n",
      "\n",
      "           0       0.89      0.96      0.92        25\n",
      "           1       0.57      0.52      0.54        25\n",
      "           2       0.79      0.56      0.65        27\n",
      "           3       0.70      0.81      0.75        26\n",
      "           4       0.76      0.81      0.79        32\n",
      "           5       0.86      0.93      0.89        27\n",
      "           6       1.00      1.00      1.00        28\n",
      "\n",
      "    accuracy                           0.80       190\n",
      "   macro avg       0.80      0.80      0.79       190\n",
      "weighted avg       0.80      0.80      0.79       190\n",
      "\n",
      "              precision    recall  f1-score   support\n",
      "\n",
      "           0       0.88      0.88      0.88        24\n",
      "           1       0.68      0.50      0.58        26\n",
      "           2       0.75      0.78      0.76        27\n",
      "           3       0.72      0.81      0.76        26\n",
      "           4       0.84      0.97      0.90        32\n",
      "           5       0.96      0.89      0.92        27\n",
      "           6       1.00      1.00      1.00        28\n",
      "\n",
      "    accuracy                           0.84       190\n",
      "   macro avg       0.83      0.83      0.83       190\n",
      "weighted avg       0.83      0.84      0.83       190\n",
      "\n",
      "              precision    recall  f1-score   support\n",
      "\n",
      "           0       0.72      0.96      0.82        24\n",
      "           1       0.85      0.42      0.56        26\n",
      "           2       0.81      0.78      0.79        27\n",
      "           3       0.66      0.73      0.69        26\n",
      "           4       0.84      0.84      0.84        32\n",
      "           5       0.87      0.96      0.91        27\n",
      "           6       1.00      1.00      1.00        28\n",
      "\n",
      "    accuracy                           0.82       190\n",
      "   macro avg       0.82      0.81      0.80       190\n",
      "weighted avg       0.82      0.82      0.81       190\n",
      "\n",
      "              precision    recall  f1-score   support\n",
      "\n",
      "           0       0.81      0.92      0.86        24\n",
      "           1       0.77      0.65      0.71        26\n",
      "           2       0.72      0.67      0.69        27\n",
      "           3       0.74      0.77      0.75        26\n",
      "           4       0.81      0.78      0.79        32\n",
      "           5       0.86      0.93      0.89        27\n",
      "           6       0.97      1.00      0.98        28\n",
      "\n",
      "    accuracy                           0.82       190\n",
      "   macro avg       0.81      0.82      0.81       190\n",
      "weighted avg       0.81      0.82      0.81       190\n",
      "\n",
      "              precision    recall  f1-score   support\n",
      "\n",
      "           0       0.74      0.96      0.84        24\n",
      "           1       0.56      0.54      0.55        26\n",
      "           2       0.81      0.81      0.81        27\n",
      "           3       0.86      0.69      0.77        26\n",
      "           4       0.88      0.91      0.89        32\n",
      "           5       0.96      0.93      0.94        27\n",
      "           6       1.00      0.96      0.98        28\n",
      "\n",
      "    accuracy                           0.83       190\n",
      "   macro avg       0.83      0.83      0.83       190\n",
      "weighted avg       0.84      0.83      0.83       190\n",
      "\n",
      "              precision    recall  f1-score   support\n",
      "\n",
      "           0       0.78      0.84      0.81        25\n",
      "           1       0.70      0.54      0.61        26\n",
      "           2       0.80      0.92      0.86        26\n",
      "           3       0.90      0.67      0.77        27\n",
      "           4       0.83      0.94      0.88        31\n",
      "           5       0.90      1.00      0.95        26\n",
      "           6       1.00      1.00      1.00        29\n",
      "\n",
      "    accuracy                           0.85       190\n",
      "   macro avg       0.84      0.84      0.84       190\n",
      "weighted avg       0.85      0.85      0.84       190\n",
      "\n",
      "              precision    recall  f1-score   support\n",
      "\n",
      "           0       0.78      0.84      0.81        25\n",
      "           1       0.54      0.50      0.52        26\n",
      "           2       0.66      0.73      0.69        26\n",
      "           3       0.77      0.63      0.69        27\n",
      "           4       0.84      0.84      0.84        31\n",
      "           5       0.89      0.96      0.93        26\n",
      "           6       1.00      1.00      1.00        29\n",
      "\n",
      "    accuracy                           0.79       190\n",
      "   macro avg       0.78      0.79      0.78       190\n",
      "weighted avg       0.79      0.79      0.79       190\n",
      "\n",
      "              precision    recall  f1-score   support\n",
      "\n",
      "           0       0.71      0.96      0.81        25\n",
      "           1       0.62      0.32      0.42        25\n",
      "           2       0.81      0.85      0.83        26\n",
      "           3       0.88      0.85      0.87        27\n",
      "           4       0.84      0.84      0.84        31\n",
      "           5       0.86      0.96      0.91        26\n",
      "           6       1.00      1.00      1.00        29\n",
      "\n",
      "    accuracy                           0.83       189\n",
      "   macro avg       0.82      0.83      0.81       189\n",
      "weighted avg       0.82      0.83      0.82       189\n",
      "\n"
     ]
    },
    {
     "data": {
      "text/plain": [
       "array([1., 1., 1., 1., 1., 1., 1., 1., 1., 1.])"
      ]
     },
     "execution_count": 87,
     "metadata": {},
     "output_type": "execute_result"
    }
   ],
   "source": [
    "cross_val_score(knn_best, x_full, y_full, cv=10, scoring=make_scorer(classification_report_with_accuracy_score))"
   ]
  },
  {
   "cell_type": "code",
   "execution_count": 88,
   "id": "508786c2-8b6a-4400-bf35-59b083fa3c49",
   "metadata": {
    "tags": []
   },
   "outputs": [
    {
     "data": {
      "image/png": "[encoded data removed]",
      "text/plain": [
       "<Figure size 864x432 with 2 Axes>"
      ]
     },
     "metadata": {},
     "output_type": "display_data"
    }
   ],
   "source": [
    "y_pred = cross_val_predict(knn, x_full, y_full, cv=10)\n",
    "confusion_matrix_knn = pd.crosstab(y_full, y_pred, rownames=['Atual'], colnames=['Predição'])\n",
    "sns.heatmap(confusion_matrix_knn, annot=True, fmt='d');"
   ]
  },
  {
   "cell_type": "code",
   "execution_count": 89,
   "id": "a1ac47c3-1e73-47eb-9559-135ef0165d98",
   "metadata": {},
   "outputs": [],
   "source": [
    "y_pred_proba = knn_best.predict_proba(X_val)"
   ]
  },
  {
   "cell_type": "code",
   "execution_count": 90,
   "id": "1ff5c9a3-f86c-497c-9bbd-3cc22508338d",
   "metadata": {},
   "outputs": [
    {
     "data": {
      "text/plain": [
       "0.9449765831024501"
      ]
     },
     "execution_count": 90,
     "metadata": {},
     "output_type": "execute_result"
    }
   ],
   "source": [
    "roc_auc_score(y_val, y_pred_proba, multi_class='ovr' )"
   ]
  },
  {
   "cell_type": "code",
   "execution_count": null,
   "id": "76d89b04-9250-461b-89e3-06d705b617b9",
   "metadata": {},
   "outputs": [],
   "source": []
  },
  {
   "cell_type": "markdown",
   "id": "094d142b-936b-4e2e-8120-1a9a16652634",
   "metadata": {
    "execution": {
     "iopub.execute_input": "2022-01-11T15:51:42.016813Z",
     "iopub.status.busy": "2022-01-11T15:51:42.015803Z",
     "iopub.status.idle": "2022-01-11T15:51:42.020807Z",
     "shell.execute_reply": "2022-01-11T15:51:42.020807Z",
     "shell.execute_reply.started": "2022-01-11T15:51:42.016813Z"
    }
   },
   "source": [
    "## .3 Decision Tree"
   ]
  },
  {
   "cell_type": "code",
   "execution_count": 111,
   "id": "28ce62e4-7a5e-4e87-86c5-9a0bd69d6bc5",
   "metadata": {
    "tags": []
   },
   "outputs": [],
   "source": [
    "dt = DecisionTreeClassifier()"
   ]
  },
  {
   "cell_type": "code",
   "execution_count": 112,
   "id": "86be41b2-6617-484b-ad15-bd9ead39bbfe",
   "metadata": {
    "tags": []
   },
   "outputs": [
    {
     "name": "stdout",
     "output_type": "stream",
     "text": [
      "              precision    recall  f1-score   support\n",
      "\n",
      "           0       0.92      0.96      0.94        25\n",
      "           1       0.92      0.92      0.92        25\n",
      "           2       0.96      0.96      0.96        27\n",
      "           3       0.96      0.88      0.92        26\n",
      "           4       0.91      0.97      0.94        32\n",
      "           5       1.00      1.00      1.00        26\n",
      "           6       1.00      0.97      0.98        29\n",
      "\n",
      "    accuracy                           0.95       190\n",
      "   macro avg       0.95      0.95      0.95       190\n",
      "weighted avg       0.95      0.95      0.95       190\n",
      "\n",
      "              precision    recall  f1-score   support\n",
      "\n",
      "           0       0.96      1.00      0.98        25\n",
      "           1       0.86      0.76      0.81        25\n",
      "           2       0.77      0.89      0.83        27\n",
      "           3       1.00      0.85      0.92        26\n",
      "           4       0.94      0.97      0.95        32\n",
      "           5       0.96      1.00      0.98        27\n",
      "           6       1.00      1.00      1.00        28\n",
      "\n",
      "    accuracy                           0.93       190\n",
      "   macro avg       0.93      0.92      0.92       190\n",
      "weighted avg       0.93      0.93      0.93       190\n",
      "\n",
      "              precision    recall  f1-score   support\n",
      "\n",
      "           0       0.88      0.92      0.90        25\n",
      "           1       0.77      0.80      0.78        25\n",
      "           2       0.91      0.78      0.84        27\n",
      "           3       0.93      1.00      0.96        26\n",
      "           4       0.94      0.97      0.95        32\n",
      "           5       0.96      0.93      0.94        27\n",
      "           6       1.00      1.00      1.00        28\n",
      "\n",
      "    accuracy                           0.92       190\n",
      "   macro avg       0.91      0.91      0.91       190\n",
      "weighted avg       0.92      0.92      0.92       190\n",
      "\n",
      "              precision    recall  f1-score   support\n",
      "\n",
      "           0       1.00      1.00      1.00        24\n",
      "           1       0.86      0.92      0.89        26\n",
      "           2       0.92      0.81      0.86        27\n",
      "           3       0.93      0.96      0.94        26\n",
      "           4       0.97      0.91      0.94        32\n",
      "           5       0.96      1.00      0.98        27\n",
      "           6       0.97      1.00      0.98        28\n",
      "\n",
      "    accuracy                           0.94       190\n",
      "   macro avg       0.94      0.94      0.94       190\n",
      "weighted avg       0.94      0.94      0.94       190\n",
      "\n",
      "              precision    recall  f1-score   support\n",
      "\n",
      "           0       0.92      1.00      0.96        24\n",
      "           1       0.96      0.88      0.92        26\n",
      "           2       0.96      0.93      0.94        27\n",
      "           3       0.89      0.96      0.93        26\n",
      "           4       0.94      0.91      0.92        32\n",
      "           5       0.96      0.93      0.94        27\n",
      "           6       0.97      1.00      0.98        28\n",
      "\n",
      "    accuracy                           0.94       190\n",
      "   macro avg       0.94      0.94      0.94       190\n",
      "weighted avg       0.94      0.94      0.94       190\n",
      "\n",
      "              precision    recall  f1-score   support\n",
      "\n",
      "           0       0.96      0.96      0.96        24\n",
      "           1       0.79      0.88      0.84        26\n",
      "           2       0.92      0.81      0.86        27\n",
      "           3       0.92      0.92      0.92        26\n",
      "           4       0.94      0.91      0.92        32\n",
      "           5       0.96      1.00      0.98        27\n",
      "           6       1.00      1.00      1.00        28\n",
      "\n",
      "    accuracy                           0.93       190\n",
      "   macro avg       0.93      0.93      0.93       190\n",
      "weighted avg       0.93      0.93      0.93       190\n",
      "\n",
      "              precision    recall  f1-score   support\n",
      "\n",
      "           0       1.00      0.92      0.96        24\n",
      "           1       0.86      0.96      0.91        26\n",
      "           2       0.96      0.93      0.94        27\n",
      "           3       0.96      0.96      0.96        26\n",
      "           4       0.94      0.97      0.95        32\n",
      "           5       1.00      0.96      0.98        27\n",
      "           6       1.00      1.00      1.00        28\n",
      "\n",
      "    accuracy                           0.96       190\n",
      "   macro avg       0.96      0.96      0.96       190\n",
      "weighted avg       0.96      0.96      0.96       190\n",
      "\n",
      "              precision    recall  f1-score   support\n",
      "\n",
      "           0       1.00      0.88      0.94        25\n",
      "           1       0.83      0.92      0.87        26\n",
      "           2       0.89      0.92      0.91        26\n",
      "           3       0.96      0.89      0.92        27\n",
      "           4       0.97      1.00      0.98        31\n",
      "           5       1.00      1.00      1.00        26\n",
      "           6       1.00      1.00      1.00        29\n",
      "\n",
      "    accuracy                           0.95       190\n",
      "   macro avg       0.95      0.95      0.95       190\n",
      "weighted avg       0.95      0.95      0.95       190\n",
      "\n",
      "              precision    recall  f1-score   support\n",
      "\n",
      "           0       0.93      1.00      0.96        25\n",
      "           1       1.00      0.85      0.92        26\n",
      "           2       0.96      0.96      0.96        26\n",
      "           3       0.87      1.00      0.93        27\n",
      "           4       0.96      0.87      0.92        31\n",
      "           5       0.93      0.96      0.94        26\n",
      "           6       1.00      1.00      1.00        29\n",
      "\n",
      "    accuracy                           0.95       190\n",
      "   macro avg       0.95      0.95      0.95       190\n",
      "weighted avg       0.95      0.95      0.95       190\n",
      "\n",
      "              precision    recall  f1-score   support\n",
      "\n",
      "           0       0.93      1.00      0.96        25\n",
      "           1       0.80      0.80      0.80        25\n",
      "           2       0.88      0.81      0.84        26\n",
      "           3       0.93      0.93      0.93        27\n",
      "           4       0.97      0.97      0.97        31\n",
      "           5       1.00      1.00      1.00        26\n",
      "           6       1.00      1.00      1.00        29\n",
      "\n",
      "    accuracy                           0.93       189\n",
      "   macro avg       0.93      0.93      0.93       189\n",
      "weighted avg       0.93      0.93      0.93       189\n",
      "\n",
      "List of possible accuracy: [0.9526315789473684, 0.9263157894736842, 0.9157894736842105, 0.9421052631578948, 0.9421052631578948, 0.9263157894736842, 0.9578947368421052, 0.9473684210526315, 0.9473684210526315, 0.9312169312169312]\n",
      "\n",
      "Maximum Accuracy That can be obtained from this model is: 95.78947368421052 %\n",
      "\n",
      "Minimum Accuracy: 91.57894736842105 %\n",
      "\n",
      "Overall Accuracy: 93.89111668059037 %\n",
      "\n",
      "Standard Deviation is: 1.274041387414303 %\n"
     ]
    }
   ],
   "source": [
    "tree_best = stratified_kfold_evaluation(skf, dt)"
   ]
  },
  {
   "cell_type": "markdown",
   "id": "cc0f0639-52d2-4221-a85d-d5a89129a986",
   "metadata": {
    "execution": {
     "iopub.execute_input": "2022-01-11T15:51:51.452139Z",
     "iopub.status.busy": "2022-01-11T15:51:51.452139Z",
     "iopub.status.idle": "2022-01-11T15:51:51.470142Z",
     "shell.execute_reply": "2022-01-11T15:51:51.469154Z",
     "shell.execute_reply.started": "2022-01-11T15:51:51.452139Z"
    }
   },
   "source": [
    "## .4 Random Forest"
   ]
  },
  {
   "cell_type": "code",
   "execution_count": 93,
   "id": "f5776444-ea3d-492f-b315-a2efbc4342ba",
   "metadata": {
    "tags": []
   },
   "outputs": [],
   "source": [
    "rf = RandomForestClassifier()"
   ]
  },
  {
   "cell_type": "code",
   "execution_count": 94,
   "id": "89a37c3a-e611-4253-a4d7-9659bc45fd46",
   "metadata": {
    "tags": []
   },
   "outputs": [
    {
     "name": "stdout",
     "output_type": "stream",
     "text": [
      "              precision    recall  f1-score   support\n",
      "\n",
      "           0       0.96      1.00      0.98        25\n",
      "           1       0.88      0.88      0.88        25\n",
      "           2       0.93      0.93      0.93        27\n",
      "           3       1.00      0.92      0.96        26\n",
      "           4       0.97      1.00      0.98        32\n",
      "           5       0.96      1.00      0.98        26\n",
      "           6       1.00      0.97      0.98        29\n",
      "\n",
      "    accuracy                           0.96       190\n",
      "   macro avg       0.96      0.96      0.96       190\n",
      "weighted avg       0.96      0.96      0.96       190\n",
      "\n",
      "              precision    recall  f1-score   support\n",
      "\n",
      "           0       0.96      0.96      0.96        25\n",
      "           1       0.72      0.92      0.81        25\n",
      "           2       1.00      0.74      0.85        27\n",
      "           3       0.96      0.88      0.92        26\n",
      "           4       0.94      1.00      0.97        32\n",
      "           5       1.00      1.00      1.00        27\n",
      "           6       1.00      1.00      1.00        28\n",
      "\n",
      "    accuracy                           0.93       190\n",
      "   macro avg       0.94      0.93      0.93       190\n",
      "weighted avg       0.94      0.93      0.93       190\n",
      "\n",
      "              precision    recall  f1-score   support\n",
      "\n",
      "           0       1.00      0.96      0.98        25\n",
      "           1       0.86      0.96      0.91        25\n",
      "           2       0.96      0.85      0.90        27\n",
      "           3       0.86      0.92      0.89        26\n",
      "           4       1.00      0.94      0.97        32\n",
      "           5       0.96      1.00      0.98        27\n",
      "           6       1.00      1.00      1.00        28\n",
      "\n",
      "    accuracy                           0.95       190\n",
      "   macro avg       0.95      0.95      0.95       190\n",
      "weighted avg       0.95      0.95      0.95       190\n",
      "\n",
      "              precision    recall  f1-score   support\n",
      "\n",
      "           0       1.00      0.96      0.98        24\n",
      "           1       0.83      0.92      0.87        26\n",
      "           2       0.95      0.74      0.83        27\n",
      "           3       0.84      1.00      0.91        26\n",
      "           4       1.00      0.97      0.98        32\n",
      "           5       1.00      1.00      1.00        27\n",
      "           6       1.00      1.00      1.00        28\n",
      "\n",
      "    accuracy                           0.94       190\n",
      "   macro avg       0.95      0.94      0.94       190\n",
      "weighted avg       0.95      0.94      0.94       190\n",
      "\n",
      "              precision    recall  f1-score   support\n",
      "\n",
      "           0       0.96      1.00      0.98        24\n",
      "           1       0.89      0.92      0.91        26\n",
      "           2       0.96      0.89      0.92        27\n",
      "           3       0.93      0.96      0.94        26\n",
      "           4       1.00      0.97      0.98        32\n",
      "           5       1.00      0.96      0.98        27\n",
      "           6       0.97      1.00      0.98        28\n",
      "\n",
      "    accuracy                           0.96       190\n",
      "   macro avg       0.96      0.96      0.96       190\n",
      "weighted avg       0.96      0.96      0.96       190\n",
      "\n",
      "              precision    recall  f1-score   support\n",
      "\n",
      "           0       1.00      0.92      0.96        24\n",
      "           1       0.80      0.92      0.86        26\n",
      "           2       0.96      0.85      0.90        27\n",
      "           3       0.89      0.96      0.93        26\n",
      "           4       1.00      0.97      0.98        32\n",
      "           5       1.00      1.00      1.00        27\n",
      "           6       1.00      1.00      1.00        28\n",
      "\n",
      "    accuracy                           0.95       190\n",
      "   macro avg       0.95      0.95      0.95       190\n",
      "weighted avg       0.95      0.95      0.95       190\n",
      "\n",
      "              precision    recall  f1-score   support\n",
      "\n",
      "           0       1.00      0.92      0.96        24\n",
      "           1       0.81      0.96      0.88        26\n",
      "           2       0.93      0.93      0.93        27\n",
      "           3       0.96      0.88      0.92        26\n",
      "           4       0.97      0.94      0.95        32\n",
      "           5       1.00      1.00      1.00        27\n",
      "           6       1.00      1.00      1.00        28\n",
      "\n",
      "    accuracy                           0.95       190\n",
      "   macro avg       0.95      0.95      0.95       190\n",
      "weighted avg       0.95      0.95      0.95       190\n",
      "\n",
      "              precision    recall  f1-score   support\n",
      "\n",
      "           0       1.00      0.88      0.94        25\n",
      "           1       0.79      1.00      0.88        26\n",
      "           2       0.96      0.88      0.92        26\n",
      "           3       1.00      0.96      0.98        27\n",
      "           4       1.00      0.97      0.98        31\n",
      "           5       1.00      1.00      1.00        26\n",
      "           6       1.00      1.00      1.00        29\n",
      "\n",
      "    accuracy                           0.96       190\n",
      "   macro avg       0.96      0.96      0.96       190\n",
      "weighted avg       0.97      0.96      0.96       190\n",
      "\n",
      "              precision    recall  f1-score   support\n",
      "\n",
      "           0       1.00      0.92      0.96        25\n",
      "           1       0.90      1.00      0.95        26\n",
      "           2       0.93      1.00      0.96        26\n",
      "           3       0.96      0.93      0.94        27\n",
      "           4       1.00      0.94      0.97        31\n",
      "           5       1.00      1.00      1.00        26\n",
      "           6       1.00      1.00      1.00        29\n",
      "\n",
      "    accuracy                           0.97       190\n",
      "   macro avg       0.97      0.97      0.97       190\n",
      "weighted avg       0.97      0.97      0.97       190\n",
      "\n",
      "              precision    recall  f1-score   support\n",
      "\n",
      "           0       0.96      0.88      0.92        25\n",
      "           1       0.80      0.96      0.87        25\n",
      "           2       0.96      0.88      0.92        26\n",
      "           3       0.96      0.93      0.94        27\n",
      "           4       0.97      0.97      0.97        31\n",
      "           5       1.00      1.00      1.00        26\n",
      "           6       1.00      1.00      1.00        29\n",
      "\n",
      "    accuracy                           0.95       189\n",
      "   macro avg       0.95      0.95      0.95       189\n",
      "weighted avg       0.95      0.95      0.95       189\n",
      "\n",
      "List of possible accuracy: [0.9578947368421052, 0.9315789473684211, 0.9473684210526315, 0.9421052631578948, 0.9578947368421052, 0.9473684210526315, 0.9473684210526315, 0.9578947368421052, 0.968421052631579, 0.9470899470899471]\n",
      "\n",
      "Maximum Accuracy That can be obtained from this model is: 96.84210526315789 %\n",
      "\n",
      "Minimum Accuracy: 93.15789473684211 %\n",
      "\n",
      "Overall Accuracy: 95.04984683932052 %\n",
      "\n",
      "Standard Deviation is: 0.9771065260005886 %\n"
     ]
    }
   ],
   "source": [
    "stratified_kfold_evaluation(skf, rf)"
   ]
  },
  {
   "cell_type": "markdown",
   "id": "afceb8ee-0872-4bd2-a452-138037d86b43",
   "metadata": {
    "execution": {
     "iopub.execute_input": "2022-01-11T15:51:54.922712Z",
     "iopub.status.busy": "2022-01-11T15:51:54.922712Z",
     "iopub.status.idle": "2022-01-11T15:51:54.934723Z",
     "shell.execute_reply": "2022-01-11T15:51:54.933723Z",
     "shell.execute_reply.started": "2022-01-11T15:51:54.922712Z"
    }
   },
   "source": [
    "## .5 Multilayer Perceptron (MLP)"
   ]
  },
  {
   "cell_type": "code",
   "execution_count": 97,
   "id": "87009167-76b2-4020-910e-c209830166a6",
   "metadata": {
    "tags": []
   },
   "outputs": [],
   "source": [
    "mlp = MLPClassifier(max_iter=5000, random_state=16)"
   ]
  },
  {
   "cell_type": "code",
   "execution_count": 98,
   "id": "6097178f-fc5e-44df-9698-addc5258ae6c",
   "metadata": {
    "tags": []
   },
   "outputs": [
    {
     "name": "stdout",
     "output_type": "stream",
     "text": [
      "              precision    recall  f1-score   support\n",
      "\n",
      "           0       0.89      0.96      0.92        25\n",
      "           1       0.95      0.80      0.87        25\n",
      "           2       0.90      0.96      0.93        27\n",
      "           3       0.96      0.92      0.94        26\n",
      "           4       0.94      0.97      0.95        32\n",
      "           5       0.93      0.96      0.94        26\n",
      "           6       1.00      0.97      0.98        29\n",
      "\n",
      "    accuracy                           0.94       190\n",
      "   macro avg       0.94      0.93      0.93       190\n",
      "weighted avg       0.94      0.94      0.94       190\n",
      "\n",
      "              precision    recall  f1-score   support\n",
      "\n",
      "           0       0.96      0.96      0.96        25\n",
      "           1       0.79      0.88      0.83        25\n",
      "           2       0.78      0.78      0.78        27\n",
      "           3       0.91      0.81      0.86        26\n",
      "           4       0.97      0.97      0.97        32\n",
      "           5       1.00      1.00      1.00        27\n",
      "           6       1.00      1.00      1.00        28\n",
      "\n",
      "    accuracy                           0.92       190\n",
      "   macro avg       0.92      0.91      0.91       190\n",
      "weighted avg       0.92      0.92      0.92       190\n",
      "\n",
      "              precision    recall  f1-score   support\n",
      "\n",
      "           0       1.00      0.96      0.98        25\n",
      "           1       0.88      0.92      0.90        25\n",
      "           2       0.82      0.85      0.84        27\n",
      "           3       0.85      0.85      0.85        26\n",
      "           4       0.94      0.97      0.95        32\n",
      "           5       1.00      0.93      0.96        27\n",
      "           6       1.00      1.00      1.00        28\n",
      "\n",
      "    accuracy                           0.93       190\n",
      "   macro avg       0.93      0.92      0.93       190\n",
      "weighted avg       0.93      0.93      0.93       190\n",
      "\n",
      "              precision    recall  f1-score   support\n",
      "\n",
      "           0       1.00      0.96      0.98        24\n",
      "           1       0.86      0.96      0.91        26\n",
      "           2       0.96      0.81      0.88        27\n",
      "           3       0.89      0.92      0.91        26\n",
      "           4       0.91      0.97      0.94        32\n",
      "           5       1.00      0.96      0.98        27\n",
      "           6       1.00      1.00      1.00        28\n",
      "\n",
      "    accuracy                           0.94       190\n",
      "   macro avg       0.95      0.94      0.94       190\n",
      "weighted avg       0.94      0.94      0.94       190\n",
      "\n",
      "              precision    recall  f1-score   support\n",
      "\n",
      "           0       0.86      1.00      0.92        24\n",
      "           1       0.90      0.69      0.78        26\n",
      "           2       0.83      0.93      0.88        27\n",
      "           3       0.96      0.92      0.94        26\n",
      "           4       0.97      0.97      0.97        32\n",
      "           5       1.00      0.96      0.98        27\n",
      "           6       0.97      1.00      0.98        28\n",
      "\n",
      "    accuracy                           0.93       190\n",
      "   macro avg       0.93      0.92      0.92       190\n",
      "weighted avg       0.93      0.93      0.92       190\n",
      "\n",
      "              precision    recall  f1-score   support\n",
      "\n",
      "           0       0.88      0.92      0.90        24\n",
      "           1       0.77      0.77      0.77        26\n",
      "           2       0.88      0.81      0.85        27\n",
      "           3       0.89      0.96      0.93        26\n",
      "           4       1.00      0.97      0.98        32\n",
      "           5       1.00      1.00      1.00        27\n",
      "           6       1.00      1.00      1.00        28\n",
      "\n",
      "    accuracy                           0.92       190\n",
      "   macro avg       0.92      0.92      0.92       190\n",
      "weighted avg       0.92      0.92      0.92       190\n",
      "\n",
      "              precision    recall  f1-score   support\n",
      "\n",
      "           0       0.96      0.92      0.94        24\n",
      "           1       0.85      0.88      0.87        26\n",
      "           2       0.86      0.93      0.89        27\n",
      "           3       0.96      0.88      0.92        26\n",
      "           4       0.97      0.97      0.97        32\n",
      "           5       1.00      1.00      1.00        27\n",
      "           6       1.00      1.00      1.00        28\n",
      "\n",
      "    accuracy                           0.94       190\n",
      "   macro avg       0.94      0.94      0.94       190\n",
      "weighted avg       0.94      0.94      0.94       190\n",
      "\n",
      "              precision    recall  f1-score   support\n",
      "\n",
      "           0       1.00      0.96      0.98        25\n",
      "           1       0.92      0.85      0.88        26\n",
      "           2       0.85      0.85      0.85        26\n",
      "           3       0.87      0.96      0.91        27\n",
      "           4       0.97      0.94      0.95        31\n",
      "           5       0.96      1.00      0.98        26\n",
      "           6       1.00      1.00      1.00        29\n",
      "\n",
      "    accuracy                           0.94       190\n",
      "   macro avg       0.94      0.94      0.94       190\n",
      "weighted avg       0.94      0.94      0.94       190\n",
      "\n",
      "              precision    recall  f1-score   support\n",
      "\n",
      "           0       0.96      1.00      0.98        25\n",
      "           1       1.00      0.88      0.94        26\n",
      "           2       0.88      0.88      0.88        26\n",
      "           3       0.90      0.96      0.93        27\n",
      "           4       1.00      1.00      1.00        31\n",
      "           5       1.00      1.00      1.00        26\n",
      "           6       1.00      1.00      1.00        29\n",
      "\n",
      "    accuracy                           0.96       190\n",
      "   macro avg       0.96      0.96      0.96       190\n",
      "weighted avg       0.96      0.96      0.96       190\n",
      "\n",
      "              precision    recall  f1-score   support\n",
      "\n",
      "           0       0.96      0.92      0.94        25\n",
      "           1       0.88      0.84      0.86        25\n",
      "           2       0.88      0.88      0.88        26\n",
      "           3       0.90      0.96      0.93        27\n",
      "           4       1.00      1.00      1.00        31\n",
      "           5       1.00      1.00      1.00        26\n",
      "           6       1.00      1.00      1.00        29\n",
      "\n",
      "    accuracy                           0.95       189\n",
      "   macro avg       0.94      0.94      0.94       189\n",
      "weighted avg       0.95      0.95      0.95       189\n",
      "\n",
      "List of possible accuracy: [0.9368421052631579, 0.9157894736842105, 0.9263157894736842, 0.9421052631578948, 0.9263157894736842, 0.9210526315789473, 0.9421052631578948, 0.9368421052631579, 0.9631578947368421, 0.9470899470899471]\n",
      "\n",
      "Maximum Accuracy That can be obtained from this model is: 96.3157894736842 %\n",
      "\n",
      "Minimum Accuracy: 91.57894736842105 %\n",
      "\n",
      "Overall Accuracy: 93.57616262879421 %\n",
      "\n",
      "Standard Deviation is: 1.3249127425773761 %\n"
     ]
    }
   ],
   "source": [
    "stratified_kfold_evaluation(skf, mlp)"
   ]
  },
  {
   "cell_type": "markdown",
   "id": "c032425f-15ce-4229-be95-fcf2af1f2c8f",
   "metadata": {
    "execution": {
     "iopub.execute_input": "2022-01-11T15:52:00.814069Z",
     "iopub.status.busy": "2022-01-11T15:52:00.814069Z",
     "iopub.status.idle": "2022-01-11T15:52:00.820074Z",
     "shell.execute_reply": "2022-01-11T15:52:00.820074Z",
     "shell.execute_reply.started": "2022-01-11T15:52:00.814069Z"
    }
   },
   "source": [
    "## .6 Naive-Bayes"
   ]
  },
  {
   "cell_type": "markdown",
   "id": "2ba4b8dd-a9d5-4c31-a3bc-79e46be5baf9",
   "metadata": {},
   "source": [
    "## qual o correto do sklearn? kkkkkk"
   ]
  },
  {
   "cell_type": "code",
   "execution_count": 95,
   "id": "c5ae7cca-a8cd-4ea0-9465-a159f16cb388",
   "metadata": {
    "tags": []
   },
   "outputs": [],
   "source": [
    "nb = GaussianNB()"
   ]
  },
  {
   "cell_type": "code",
   "execution_count": 96,
   "id": "1d7d7047-b600-4f7f-b226-aca9d1de1cf9",
   "metadata": {
    "tags": []
   },
   "outputs": [
    {
     "name": "stdout",
     "output_type": "stream",
     "text": [
      "              precision    recall  f1-score   support\n",
      "\n",
      "           0       0.68      0.92      0.78        25\n",
      "           1       0.86      0.24      0.38        25\n",
      "           2       0.40      0.15      0.22        27\n",
      "           3       0.58      0.27      0.37        26\n",
      "           4       0.40      0.50      0.44        32\n",
      "           5       0.44      1.00      0.61        26\n",
      "           6       1.00      0.97      0.98        29\n",
      "\n",
      "    accuracy                           0.58       190\n",
      "   macro avg       0.62      0.58      0.54       190\n",
      "weighted avg       0.62      0.58      0.54       190\n",
      "\n",
      "              precision    recall  f1-score   support\n",
      "\n",
      "           0       0.69      1.00      0.82        25\n",
      "           1       0.50      0.28      0.36        25\n",
      "           2       0.67      0.30      0.41        27\n",
      "           3       0.60      0.23      0.33        26\n",
      "           4       0.44      0.50      0.47        32\n",
      "           5       0.50      1.00      0.67        27\n",
      "           6       1.00      1.00      1.00        28\n",
      "\n",
      "    accuracy                           0.62       190\n",
      "   macro avg       0.63      0.62      0.58       190\n",
      "weighted avg       0.63      0.62      0.58       190\n",
      "\n",
      "              precision    recall  f1-score   support\n",
      "\n",
      "           0       0.44      0.96      0.60        25\n",
      "           1       0.14      0.04      0.06        25\n",
      "           2       0.30      0.11      0.16        27\n",
      "           3       0.56      0.19      0.29        26\n",
      "           4       0.59      0.41      0.48        32\n",
      "           5       0.44      0.96      0.60        27\n",
      "           6       1.00      1.00      1.00        28\n",
      "\n",
      "    accuracy                           0.53       190\n",
      "   macro avg       0.50      0.52      0.46       190\n",
      "weighted avg       0.50      0.53      0.46       190\n",
      "\n",
      "              precision    recall  f1-score   support\n",
      "\n",
      "           0       0.59      0.83      0.69        24\n",
      "           1       0.54      0.27      0.36        26\n",
      "           2       0.62      0.30      0.40        27\n",
      "           3       0.25      0.08      0.12        26\n",
      "           4       0.47      0.44      0.45        32\n",
      "           5       0.41      0.96      0.57        27\n",
      "           6       1.00      1.00      1.00        28\n",
      "\n",
      "    accuracy                           0.55       190\n",
      "   macro avg       0.55      0.55      0.51       190\n",
      "weighted avg       0.55      0.55      0.51       190\n",
      "\n",
      "              precision    recall  f1-score   support\n",
      "\n",
      "           0       0.65      0.92      0.76        24\n",
      "           1       0.62      0.31      0.41        26\n",
      "           2       0.73      0.41      0.52        27\n",
      "           3       0.50      0.12      0.19        26\n",
      "           4       0.48      0.31      0.38        32\n",
      "           5       0.33      0.93      0.49        27\n",
      "           6       1.00      0.93      0.96        28\n",
      "\n",
      "    accuracy                           0.55       190\n",
      "   macro avg       0.62      0.56      0.53       190\n",
      "weighted avg       0.61      0.55      0.53       190\n",
      "\n",
      "              precision    recall  f1-score   support\n",
      "\n",
      "           0       0.71      0.92      0.80        24\n",
      "           1       0.57      0.31      0.40        26\n",
      "           2       0.53      0.33      0.41        27\n",
      "           3       1.00      0.12      0.21        26\n",
      "           4       0.29      0.31      0.30        32\n",
      "           5       0.44      1.00      0.61        27\n",
      "           6       1.00      1.00      1.00        28\n",
      "\n",
      "    accuracy                           0.56       190\n",
      "   macro avg       0.65      0.57      0.53       190\n",
      "weighted avg       0.64      0.56      0.53       190\n",
      "\n",
      "              precision    recall  f1-score   support\n",
      "\n",
      "           0       0.79      0.96      0.87        24\n",
      "           1       0.82      0.54      0.65        26\n",
      "           2       0.50      0.26      0.34        27\n",
      "           3       0.57      0.15      0.24        26\n",
      "           4       0.44      0.59      0.51        32\n",
      "           5       0.52      1.00      0.68        27\n",
      "           6       1.00      1.00      1.00        28\n",
      "\n",
      "    accuracy                           0.64       190\n",
      "   macro avg       0.66      0.64      0.61       190\n",
      "weighted avg       0.66      0.64      0.61       190\n",
      "\n",
      "              precision    recall  f1-score   support\n",
      "\n",
      "           0       0.62      0.84      0.71        25\n",
      "           1       0.53      0.31      0.39        26\n",
      "           2       0.30      0.12      0.17        26\n",
      "           3       0.80      0.15      0.25        27\n",
      "           4       0.37      0.48      0.42        31\n",
      "           5       0.46      1.00      0.63        26\n",
      "           6       1.00      1.00      1.00        29\n",
      "\n",
      "    accuracy                           0.56       190\n",
      "   macro avg       0.58      0.56      0.51       190\n",
      "weighted avg       0.58      0.56      0.51       190\n",
      "\n",
      "              precision    recall  f1-score   support\n",
      "\n",
      "           0       0.79      0.88      0.83        25\n",
      "           1       0.58      0.27      0.37        26\n",
      "           2       0.56      0.38      0.45        26\n",
      "           3       0.61      0.41      0.49        27\n",
      "           4       0.44      0.45      0.44        31\n",
      "           5       0.50      1.00      0.67        26\n",
      "           6       0.97      1.00      0.98        29\n",
      "\n",
      "    accuracy                           0.63       190\n",
      "   macro avg       0.63      0.63      0.61       190\n",
      "weighted avg       0.63      0.63      0.61       190\n",
      "\n",
      "              precision    recall  f1-score   support\n",
      "\n",
      "           0       0.68      1.00      0.81        25\n",
      "           1       0.62      0.32      0.42        25\n",
      "           2       0.69      0.35      0.46        26\n",
      "           3       0.71      0.19      0.29        27\n",
      "           4       0.42      0.45      0.44        31\n",
      "           5       0.46      1.00      0.63        26\n",
      "           6       0.97      1.00      0.98        29\n",
      "\n",
      "    accuracy                           0.61       189\n",
      "   macro avg       0.65      0.61      0.58       189\n",
      "weighted avg       0.65      0.61      0.58       189\n",
      "\n",
      "List of possible accuracy: [0.5789473684210527, 0.6157894736842106, 0.5263157894736842, 0.5526315789473685, 0.5526315789473685, 0.5631578947368421, 0.6421052631578947, 0.5578947368421052, 0.6263157894736842, 0.6137566137566137]\n",
      "\n",
      "Maximum Accuracy That can be obtained from this model is: 64.21052631578948 %\n",
      "\n",
      "Minimum Accuracy: 52.63157894736842 %\n",
      "\n",
      "Overall Accuracy: 58.29546087440824 %\n",
      "\n",
      "Standard Deviation is: 3.672707031735587 %\n"
     ]
    }
   ],
   "source": [
    "stratified_kfold_evaluation(skf, nb)"
   ]
  },
  {
   "cell_type": "markdown",
   "id": "b9c20407-0b68-43b1-9660-efe16f3d5ade",
   "metadata": {
    "tags": []
   },
   "source": [
    "## .7 Support Vector Machine (SVM)"
   ]
  },
  {
   "cell_type": "code",
   "execution_count": 97,
   "id": "b66d2b22-3e34-46a0-b72d-0829cc85a9be",
   "metadata": {
    "tags": []
   },
   "outputs": [],
   "source": [
    "svm = SVC()"
   ]
  },
  {
   "cell_type": "code",
   "execution_count": 98,
   "id": "224f018c-82cc-4a35-9177-b8984cef76e0",
   "metadata": {
    "tags": []
   },
   "outputs": [
    {
     "name": "stdout",
     "output_type": "stream",
     "text": [
      "              precision    recall  f1-score   support\n",
      "\n",
      "           0       0.75      0.84      0.79        25\n",
      "           1       0.77      0.40      0.53        25\n",
      "           2       0.67      0.59      0.63        27\n",
      "           3       0.55      0.65      0.60        26\n",
      "           4       0.71      0.75      0.73        32\n",
      "           5       0.78      0.96      0.86        26\n",
      "           6       1.00      0.97      0.98        29\n",
      "\n",
      "    accuracy                           0.74       190\n",
      "   macro avg       0.75      0.74      0.73       190\n",
      "weighted avg       0.75      0.74      0.73       190\n",
      "\n",
      "              precision    recall  f1-score   support\n",
      "\n",
      "           0       0.79      0.92      0.85        25\n",
      "           1       0.65      0.52      0.58        25\n",
      "           2       0.82      0.67      0.73        27\n",
      "           3       0.65      0.58      0.61        26\n",
      "           4       0.74      0.78      0.76        32\n",
      "           5       0.79      1.00      0.89        27\n",
      "           6       1.00      1.00      1.00        28\n",
      "\n",
      "    accuracy                           0.78       190\n",
      "   macro avg       0.78      0.78      0.77       190\n",
      "weighted avg       0.78      0.78      0.78       190\n",
      "\n",
      "              precision    recall  f1-score   support\n",
      "\n",
      "           0       0.92      0.96      0.94        25\n",
      "           1       0.58      0.60      0.59        25\n",
      "           2       0.57      0.59      0.58        27\n",
      "           3       0.52      0.42      0.47        26\n",
      "           4       0.69      0.56      0.62        32\n",
      "           5       0.74      0.93      0.82        27\n",
      "           6       0.97      1.00      0.98        28\n",
      "\n",
      "    accuracy                           0.72       190\n",
      "   macro avg       0.71      0.72      0.71       190\n",
      "weighted avg       0.71      0.72      0.71       190\n",
      "\n",
      "              precision    recall  f1-score   support\n",
      "\n",
      "           0       0.91      0.88      0.89        24\n",
      "           1       0.68      0.50      0.58        26\n",
      "           2       0.55      0.67      0.60        27\n",
      "           3       0.74      0.54      0.62        26\n",
      "           4       0.70      0.81      0.75        32\n",
      "           5       0.87      0.96      0.91        27\n",
      "           6       0.97      1.00      0.98        28\n",
      "\n",
      "    accuracy                           0.77       190\n",
      "   macro avg       0.77      0.77      0.76       190\n",
      "weighted avg       0.77      0.77      0.76       190\n",
      "\n",
      "              precision    recall  f1-score   support\n",
      "\n",
      "           0       0.79      0.96      0.87        24\n",
      "           1       0.72      0.50      0.59        26\n",
      "           2       0.62      0.74      0.68        27\n",
      "           3       0.67      0.54      0.60        26\n",
      "           4       0.68      0.66      0.67        32\n",
      "           5       0.78      0.93      0.85        27\n",
      "           6       1.00      0.96      0.98        28\n",
      "\n",
      "    accuracy                           0.75       190\n",
      "   macro avg       0.75      0.75      0.75       190\n",
      "weighted avg       0.75      0.75      0.75       190\n",
      "\n",
      "              precision    recall  f1-score   support\n",
      "\n",
      "           0       0.68      0.88      0.76        24\n",
      "           1       0.60      0.46      0.52        26\n",
      "           2       0.59      0.63      0.61        27\n",
      "           3       0.68      0.58      0.62        26\n",
      "           4       0.80      0.62      0.70        32\n",
      "           5       0.74      0.96      0.84        27\n",
      "           6       1.00      1.00      1.00        28\n",
      "\n",
      "    accuracy                           0.73       190\n",
      "   macro avg       0.73      0.73      0.72       190\n",
      "weighted avg       0.73      0.73      0.72       190\n",
      "\n",
      "              precision    recall  f1-score   support\n",
      "\n",
      "           0       0.96      0.92      0.94        24\n",
      "           1       0.87      0.50      0.63        26\n",
      "           2       0.46      0.67      0.55        27\n",
      "           3       0.61      0.54      0.57        26\n",
      "           4       0.73      0.69      0.71        32\n",
      "           5       0.84      0.96      0.90        27\n",
      "           6       0.97      1.00      0.98        28\n",
      "\n",
      "    accuracy                           0.75       190\n",
      "   macro avg       0.78      0.75      0.75       190\n",
      "weighted avg       0.77      0.75      0.75       190\n",
      "\n",
      "              precision    recall  f1-score   support\n",
      "\n",
      "           0       0.84      0.84      0.84        25\n",
      "           1       0.57      0.50      0.53        26\n",
      "           2       0.57      0.65      0.61        26\n",
      "           3       0.74      0.63      0.68        27\n",
      "           4       0.72      0.68      0.70        31\n",
      "           5       0.87      1.00      0.93        26\n",
      "           6       0.97      1.00      0.98        29\n",
      "\n",
      "    accuracy                           0.76       190\n",
      "   macro avg       0.75      0.76      0.75       190\n",
      "weighted avg       0.75      0.76      0.75       190\n",
      "\n",
      "              precision    recall  f1-score   support\n",
      "\n",
      "           0       0.79      0.88      0.83        25\n",
      "           1       0.69      0.42      0.52        26\n",
      "           2       0.65      0.77      0.70        26\n",
      "           3       0.73      0.81      0.77        27\n",
      "           4       0.85      0.74      0.79        31\n",
      "           5       0.89      0.96      0.93        26\n",
      "           6       0.97      1.00      0.98        29\n",
      "\n",
      "    accuracy                           0.80       190\n",
      "   macro avg       0.79      0.80      0.79       190\n",
      "weighted avg       0.80      0.80      0.79       190\n",
      "\n",
      "              precision    recall  f1-score   support\n",
      "\n",
      "           0       0.73      0.88      0.80        25\n",
      "           1       0.62      0.32      0.42        25\n",
      "           2       0.78      0.81      0.79        26\n",
      "           3       0.64      0.67      0.65        27\n",
      "           4       0.70      0.68      0.69        31\n",
      "           5       0.81      0.96      0.88        26\n",
      "           6       0.97      1.00      0.98        29\n",
      "\n",
      "    accuracy                           0.76       189\n",
      "   macro avg       0.75      0.76      0.75       189\n",
      "weighted avg       0.75      0.76      0.75       189\n",
      "\n",
      "List of possible accuracy: [0.7421052631578947, 0.7842105263157895, 0.7210526315789474, 0.7684210526315789, 0.7526315789473684, 0.7315789473684211, 0.7526315789473684, 0.7578947368421053, 0.8, 0.7619047619047619]\n",
      "\n",
      "Maximum Accuracy That can be obtained from this model is: 80.0 %\n",
      "\n",
      "Minimum Accuracy: 72.10526315789474 %\n",
      "\n",
      "Overall Accuracy: 75.72431077694235 %\n",
      "\n",
      "Standard Deviation is: 2.223191853834744 %\n"
     ]
    }
   ],
   "source": [
    "stratified_kfold_evaluation(skf, svm)"
   ]
  },
  {
   "cell_type": "markdown",
   "id": "bcb7a1cf-d5e9-49bf-9881-a277db45afdc",
   "metadata": {
    "tags": []
   },
   "source": [
    "# .0 Hyperparameter Fine Tuning"
   ]
  },
  {
   "cell_type": "markdown",
   "id": "c641722f-8794-4041-81ca-5da67a4bf767",
   "metadata": {
    "tags": []
   },
   "source": [
    "## .1 Grid Search"
   ]
  },
  {
   "cell_type": "code",
   "execution_count": null,
   "id": "8b016463-e0d3-4025-a914-0836f82ae8e3",
   "metadata": {},
   "outputs": [],
   "source": []
  },
  {
   "cell_type": "markdown",
   "id": "0e90306d-8e22-44cb-bcd4-b2555c51f1b6",
   "metadata": {},
   "source": [
    "## .1.1 KNN "
   ]
  },
  {
   "cell_type": "code",
   "execution_count": 99,
   "id": "bbaf31ea-d57e-4edb-9f96-f011bcc7f0e0",
   "metadata": {
    "tags": []
   },
   "outputs": [],
   "source": [
    "# knn_param = [\n",
    "#     {'n_neighbors': np.arange(2, 21),\n",
    "#      'algorithm': ['auto', 'ball_tree', 'kd_tree', 'brute'],\n",
    "#      'weights': ['uniform', 'distance'],\n",
    "#      'metric': ['euclidean', 'manhattan', 'chebyshev']},\n",
    "    \n",
    "#      {'n_neighbors': np.arange(2, 21),\n",
    "#       'algorithm': ['auto', 'ball_tree', 'kd_tree', 'brute'],\n",
    "#       'weights': ['uniform', 'distance'],\n",
    "#       'metric': ['seuclidean', 'mahalanobis'],\n",
    "#       'metric_params': [{'V': np.cov(x_full)}]}\n",
    "# ]"
   ]
  },
  {
   "cell_type": "code",
   "execution_count": 100,
   "id": "18f80b11-e325-437e-be66-563d4190e830",
   "metadata": {
    "tags": []
   },
   "outputs": [],
   "source": [
    "knn_param = {\n",
    "    'n_neighbors': np.arange(2, 21),\n",
    "     'algorithm': ['auto', 'ball_tree', 'kd_tree', 'brute'],\n",
    "     'weights': ['uniform', 'distance'],\n",
    "     'metric': ['euclidean', 'manhattan', 'chebyshev']\n",
    "}"
   ]
  },
  {
   "cell_type": "code",
   "execution_count": 101,
   "id": "ab323b59-9351-452a-89aa-beed0209fc03",
   "metadata": {
    "tags": []
   },
   "outputs": [
    {
     "name": "stdout",
     "output_type": "stream",
     "text": [
      "0.870465051517683\n",
      "{'algorithm': 'auto', 'metric': 'manhattan', 'n_neighbors': 4, 'weights': 'distance'}\n"
     ]
    }
   ],
   "source": [
    "grid_search = GridSearchCV(estimator=knn, param_grid=knn_param, cv=skf.split(x_full, y_full))\n",
    "grid_search.fit(x_full, y_full)\n",
    "print(grid_search.best_score_)\n",
    "print(grid_search.best_params_)"
   ]
  },
  {
   "cell_type": "code",
   "execution_count": 106,
   "id": "faccf77c-dff1-4665-9942-3eeeeb91695b",
   "metadata": {},
   "outputs": [],
   "source": [
    "# {'algorithm': 'auto', 'metric': 'manhattan', 'n_neighbors': 4, 'weights': 'distance'}"
   ]
  },
  {
   "cell_type": "markdown",
   "id": "09c03953-b678-4f35-80e5-25b8e4806055",
   "metadata": {},
   "source": [
    "## .1.2 Decision Tree"
   ]
  },
  {
   "cell_type": "code",
   "execution_count": 107,
   "id": "e63a38c0-27d1-4f27-9bda-c1f898075b30",
   "metadata": {
    "tags": []
   },
   "outputs": [],
   "source": [
    "dt_param = {\n",
    "    'max_depth': [None, 3, 5, 9, 12, 15],\n",
    "    'criterion': ['gini', 'entropy'],\n",
    "    'splitter': ['best', 'random'],\n",
    "    'min_samples_split': [2, 4, 6, 8],\n",
    "    'min_samples_leaf': [1, 2, 3, 4, 5],\n",
    "    'max_features': [None, 'auto', 'sqrt', 'log2']    \n",
    "}"
   ]
  },
  {
   "cell_type": "code",
   "execution_count": 108,
   "id": "f25ca2f1-258e-4f0e-acac-17d16772cdbc",
   "metadata": {
    "tags": []
   },
   "outputs": [
    {
     "name": "stdout",
     "output_type": "stream",
     "text": [
      "0.9499693678641046\n",
      "{'criterion': 'entropy', 'max_depth': None, 'max_features': None, 'min_samples_leaf': 1, 'min_samples_split': 2, 'splitter': 'best'}\n"
     ]
    }
   ],
   "source": [
    "grid_search = GridSearchCV(estimator=dt, param_grid=dt_param, cv=skf.split(x_full, y_full))\n",
    "grid_search.fit(x_full, y_full)\n",
    "print(grid_search.best_score_)\n",
    "print(grid_search.best_params_)"
   ]
  },
  {
   "cell_type": "code",
   "execution_count": 109,
   "id": "1233b302-9f0a-4aa3-8529-7344853b1b65",
   "metadata": {
    "tags": []
   },
   "outputs": [],
   "source": [
    "# {'criterion': 'entropy', 'max_depth': 12, 'max_features': None, 'min_samples_leaf': 1, 'min_samples_split': 2, 'splitter': 'best'}"
   ]
  },
  {
   "cell_type": "markdown",
   "id": "e14dde45-aa67-4fb7-b848-30c2e32cd3d4",
   "metadata": {},
   "source": [
    "## .1.3 Random Forest"
   ]
  },
  {
   "cell_type": "code",
   "execution_count": 110,
   "id": "242d4f30-059b-4998-97e7-a5b781b1bb10",
   "metadata": {
    "tags": []
   },
   "outputs": [],
   "source": [
    "rf_param = {\n",
    "    'max_depth': [None, 3, 5, 9, 12, 15],\n",
    "    'criterion': ['gini', 'entropy'],\n",
    "    'plitter': ['best', 'random'],\n",
    "    'min_samples_split': [2, 4, 6, 8],\n",
    "    'min_samples_leaf': [1, 2, 3, 4, 5],\n",
    "    'max_features': ['auto', 'sqrt', 'log2']    \n",
    "}\n",
    "\n",
    "rf_param = {\n",
    "    'estimator__max_depth': [None, 3, 5, 9, 12, 15],\n",
    "    'estimator__criterion': ['gini', 'entropy'],\n",
    "    'estimator__plitter': ['best', 'random'],\n",
    "    'estimator__min_samples_split': [2, 4, 6, 8],\n",
    "    'estimator__min_samples_leaf': [1, 2, 3, 4, 5],\n",
    "    'estimator__max_features': ['auto', 'sqrt', 'log2']    \n",
    "}"
   ]
  },
  {
   "cell_type": "code",
   "execution_count": 111,
   "id": "71ffb5a4-ec63-4214-aabb-c5d45e72b044",
   "metadata": {
    "tags": []
   },
   "outputs": [
    {
     "data": {
      "text/plain": [
       "dict_keys(['bootstrap', 'ccp_alpha', 'class_weight', 'criterion', 'max_depth', 'max_features', 'max_leaf_nodes', 'max_samples', 'min_impurity_decrease', 'min_samples_leaf', 'min_samples_split', 'min_weight_fraction_leaf', 'n_estimators', 'n_jobs', 'oob_score', 'random_state', 'verbose', 'warm_start'])"
      ]
     },
     "execution_count": 111,
     "metadata": {},
     "output_type": "execute_result"
    }
   ],
   "source": [
    "rf.get_params().keys()"
   ]
  },
  {
   "cell_type": "code",
   "execution_count": 112,
   "id": "73dc1a2b-f2be-476d-aa35-383520e66809",
   "metadata": {
    "tags": []
   },
   "outputs": [
    {
     "ename": "ValueError",
     "evalue": "Invalid parameter estimator for estimator RandomForestClassifier(). Check the list of available parameters with `estimator.get_params().keys()`.",
     "output_type": "error",
     "traceback": [
      "\u001b[1;31m---------------------------------------------------------------------------\u001b[0m",
      "\u001b[1;31mValueError\u001b[0m                                Traceback (most recent call last)",
      "\u001b[1;32mC:\\Users\\WESLEY~1\\AppData\\Local\\Temp/ipykernel_13672/3173908765.py\u001b[0m in \u001b[0;36m<module>\u001b[1;34m\u001b[0m\n\u001b[0;32m      1\u001b[0m \u001b[0mgrid_search\u001b[0m \u001b[1;33m=\u001b[0m \u001b[0mGridSearchCV\u001b[0m\u001b[1;33m(\u001b[0m\u001b[0mestimator\u001b[0m\u001b[1;33m=\u001b[0m\u001b[0mrf\u001b[0m\u001b[1;33m,\u001b[0m \u001b[0mparam_grid\u001b[0m\u001b[1;33m=\u001b[0m\u001b[0mrf_param\u001b[0m\u001b[1;33m,\u001b[0m \u001b[0mcv\u001b[0m\u001b[1;33m=\u001b[0m\u001b[0mskf\u001b[0m\u001b[1;33m.\u001b[0m\u001b[0msplit\u001b[0m\u001b[1;33m(\u001b[0m\u001b[0mx_full\u001b[0m\u001b[1;33m,\u001b[0m \u001b[0my_full\u001b[0m\u001b[1;33m)\u001b[0m\u001b[1;33m)\u001b[0m\u001b[1;33m\u001b[0m\u001b[1;33m\u001b[0m\u001b[0m\n\u001b[1;32m----> 2\u001b[1;33m \u001b[0mgrid_search\u001b[0m\u001b[1;33m.\u001b[0m\u001b[0mfit\u001b[0m\u001b[1;33m(\u001b[0m\u001b[0mx_full\u001b[0m\u001b[1;33m,\u001b[0m \u001b[0my_full\u001b[0m\u001b[1;33m)\u001b[0m\u001b[1;33m\u001b[0m\u001b[1;33m\u001b[0m\u001b[0m\n\u001b[0m",
      "\u001b[1;32m~\\.conda\\envs\\sidi\\lib\\site-packages\\sklearn\\model_selection\\_search.py\u001b[0m in \u001b[0;36mfit\u001b[1;34m(self, X, y, groups, **fit_params)\u001b[0m\n\u001b[0;32m    889\u001b[0m                 \u001b[1;32mreturn\u001b[0m \u001b[0mresults\u001b[0m\u001b[1;33m\u001b[0m\u001b[1;33m\u001b[0m\u001b[0m\n\u001b[0;32m    890\u001b[0m \u001b[1;33m\u001b[0m\u001b[0m\n\u001b[1;32m--> 891\u001b[1;33m             \u001b[0mself\u001b[0m\u001b[1;33m.\u001b[0m\u001b[0m_run_search\u001b[0m\u001b[1;33m(\u001b[0m\u001b[0mevaluate_candidates\u001b[0m\u001b[1;33m)\u001b[0m\u001b[1;33m\u001b[0m\u001b[1;33m\u001b[0m\u001b[0m\n\u001b[0m\u001b[0;32m    892\u001b[0m \u001b[1;33m\u001b[0m\u001b[0m\n\u001b[0;32m    893\u001b[0m             \u001b[1;31m# multimetric is determined here because in the case of a callable\u001b[0m\u001b[1;33m\u001b[0m\u001b[1;33m\u001b[0m\u001b[1;33m\u001b[0m\u001b[0m\n",
      "\u001b[1;32m~\\.conda\\envs\\sidi\\lib\\site-packages\\sklearn\\model_selection\\_search.py\u001b[0m in \u001b[0;36m_run_search\u001b[1;34m(self, evaluate_candidates)\u001b[0m\n\u001b[0;32m   1390\u001b[0m     \u001b[1;32mdef\u001b[0m \u001b[0m_run_search\u001b[0m\u001b[1;33m(\u001b[0m\u001b[0mself\u001b[0m\u001b[1;33m,\u001b[0m \u001b[0mevaluate_candidates\u001b[0m\u001b[1;33m)\u001b[0m\u001b[1;33m:\u001b[0m\u001b[1;33m\u001b[0m\u001b[1;33m\u001b[0m\u001b[0m\n\u001b[0;32m   1391\u001b[0m         \u001b[1;34m\"\"\"Search all candidates in param_grid\"\"\"\u001b[0m\u001b[1;33m\u001b[0m\u001b[1;33m\u001b[0m\u001b[0m\n\u001b[1;32m-> 1392\u001b[1;33m         \u001b[0mevaluate_candidates\u001b[0m\u001b[1;33m(\u001b[0m\u001b[0mParameterGrid\u001b[0m\u001b[1;33m(\u001b[0m\u001b[0mself\u001b[0m\u001b[1;33m.\u001b[0m\u001b[0mparam_grid\u001b[0m\u001b[1;33m)\u001b[0m\u001b[1;33m)\u001b[0m\u001b[1;33m\u001b[0m\u001b[1;33m\u001b[0m\u001b[0m\n\u001b[0m\u001b[0;32m   1393\u001b[0m \u001b[1;33m\u001b[0m\u001b[0m\n\u001b[0;32m   1394\u001b[0m \u001b[1;33m\u001b[0m\u001b[0m\n",
      "\u001b[1;32m~\\.conda\\envs\\sidi\\lib\\site-packages\\sklearn\\model_selection\\_search.py\u001b[0m in \u001b[0;36mevaluate_candidates\u001b[1;34m(candidate_params, cv, more_results)\u001b[0m\n\u001b[0;32m    836\u001b[0m                     )\n\u001b[0;32m    837\u001b[0m \u001b[1;33m\u001b[0m\u001b[0m\n\u001b[1;32m--> 838\u001b[1;33m                 out = parallel(\n\u001b[0m\u001b[0;32m    839\u001b[0m                     delayed(_fit_and_score)(\n\u001b[0;32m    840\u001b[0m                         \u001b[0mclone\u001b[0m\u001b[1;33m(\u001b[0m\u001b[0mbase_estimator\u001b[0m\u001b[1;33m)\u001b[0m\u001b[1;33m,\u001b[0m\u001b[1;33m\u001b[0m\u001b[1;33m\u001b[0m\u001b[0m\n",
      "\u001b[1;32m~\\.conda\\envs\\sidi\\lib\\site-packages\\joblib\\parallel.py\u001b[0m in \u001b[0;36m__call__\u001b[1;34m(self, iterable)\u001b[0m\n\u001b[0;32m   1039\u001b[0m             \u001b[1;31m# remaining jobs.\u001b[0m\u001b[1;33m\u001b[0m\u001b[1;33m\u001b[0m\u001b[1;33m\u001b[0m\u001b[0m\n\u001b[0;32m   1040\u001b[0m             \u001b[0mself\u001b[0m\u001b[1;33m.\u001b[0m\u001b[0m_iterating\u001b[0m \u001b[1;33m=\u001b[0m \u001b[1;32mFalse\u001b[0m\u001b[1;33m\u001b[0m\u001b[1;33m\u001b[0m\u001b[0m\n\u001b[1;32m-> 1041\u001b[1;33m             \u001b[1;32mif\u001b[0m \u001b[0mself\u001b[0m\u001b[1;33m.\u001b[0m\u001b[0mdispatch_one_batch\u001b[0m\u001b[1;33m(\u001b[0m\u001b[0miterator\u001b[0m\u001b[1;33m)\u001b[0m\u001b[1;33m:\u001b[0m\u001b[1;33m\u001b[0m\u001b[1;33m\u001b[0m\u001b[0m\n\u001b[0m\u001b[0;32m   1042\u001b[0m                 \u001b[0mself\u001b[0m\u001b[1;33m.\u001b[0m\u001b[0m_iterating\u001b[0m \u001b[1;33m=\u001b[0m \u001b[0mself\u001b[0m\u001b[1;33m.\u001b[0m\u001b[0m_original_iterator\u001b[0m \u001b[1;32mis\u001b[0m \u001b[1;32mnot\u001b[0m \u001b[1;32mNone\u001b[0m\u001b[1;33m\u001b[0m\u001b[1;33m\u001b[0m\u001b[0m\n\u001b[0;32m   1043\u001b[0m \u001b[1;33m\u001b[0m\u001b[0m\n",
      "\u001b[1;32m~\\.conda\\envs\\sidi\\lib\\site-packages\\joblib\\parallel.py\u001b[0m in \u001b[0;36mdispatch_one_batch\u001b[1;34m(self, iterator)\u001b[0m\n\u001b[0;32m    857\u001b[0m                 \u001b[1;32mreturn\u001b[0m \u001b[1;32mFalse\u001b[0m\u001b[1;33m\u001b[0m\u001b[1;33m\u001b[0m\u001b[0m\n\u001b[0;32m    858\u001b[0m             \u001b[1;32melse\u001b[0m\u001b[1;33m:\u001b[0m\u001b[1;33m\u001b[0m\u001b[1;33m\u001b[0m\u001b[0m\n\u001b[1;32m--> 859\u001b[1;33m                 \u001b[0mself\u001b[0m\u001b[1;33m.\u001b[0m\u001b[0m_dispatch\u001b[0m\u001b[1;33m(\u001b[0m\u001b[0mtasks\u001b[0m\u001b[1;33m)\u001b[0m\u001b[1;33m\u001b[0m\u001b[1;33m\u001b[0m\u001b[0m\n\u001b[0m\u001b[0;32m    860\u001b[0m                 \u001b[1;32mreturn\u001b[0m \u001b[1;32mTrue\u001b[0m\u001b[1;33m\u001b[0m\u001b[1;33m\u001b[0m\u001b[0m\n\u001b[0;32m    861\u001b[0m \u001b[1;33m\u001b[0m\u001b[0m\n",
      "\u001b[1;32m~\\.conda\\envs\\sidi\\lib\\site-packages\\joblib\\parallel.py\u001b[0m in \u001b[0;36m_dispatch\u001b[1;34m(self, batch)\u001b[0m\n\u001b[0;32m    775\u001b[0m         \u001b[1;32mwith\u001b[0m \u001b[0mself\u001b[0m\u001b[1;33m.\u001b[0m\u001b[0m_lock\u001b[0m\u001b[1;33m:\u001b[0m\u001b[1;33m\u001b[0m\u001b[1;33m\u001b[0m\u001b[0m\n\u001b[0;32m    776\u001b[0m             \u001b[0mjob_idx\u001b[0m \u001b[1;33m=\u001b[0m \u001b[0mlen\u001b[0m\u001b[1;33m(\u001b[0m\u001b[0mself\u001b[0m\u001b[1;33m.\u001b[0m\u001b[0m_jobs\u001b[0m\u001b[1;33m)\u001b[0m\u001b[1;33m\u001b[0m\u001b[1;33m\u001b[0m\u001b[0m\n\u001b[1;32m--> 777\u001b[1;33m             \u001b[0mjob\u001b[0m \u001b[1;33m=\u001b[0m \u001b[0mself\u001b[0m\u001b[1;33m.\u001b[0m\u001b[0m_backend\u001b[0m\u001b[1;33m.\u001b[0m\u001b[0mapply_async\u001b[0m\u001b[1;33m(\u001b[0m\u001b[0mbatch\u001b[0m\u001b[1;33m,\u001b[0m \u001b[0mcallback\u001b[0m\u001b[1;33m=\u001b[0m\u001b[0mcb\u001b[0m\u001b[1;33m)\u001b[0m\u001b[1;33m\u001b[0m\u001b[1;33m\u001b[0m\u001b[0m\n\u001b[0m\u001b[0;32m    778\u001b[0m             \u001b[1;31m# A job can complete so quickly than its callback is\u001b[0m\u001b[1;33m\u001b[0m\u001b[1;33m\u001b[0m\u001b[1;33m\u001b[0m\u001b[0m\n\u001b[0;32m    779\u001b[0m             \u001b[1;31m# called before we get here, causing self._jobs to\u001b[0m\u001b[1;33m\u001b[0m\u001b[1;33m\u001b[0m\u001b[1;33m\u001b[0m\u001b[0m\n",
      "\u001b[1;32m~\\.conda\\envs\\sidi\\lib\\site-packages\\joblib\\_parallel_backends.py\u001b[0m in \u001b[0;36mapply_async\u001b[1;34m(self, func, callback)\u001b[0m\n\u001b[0;32m    206\u001b[0m     \u001b[1;32mdef\u001b[0m \u001b[0mapply_async\u001b[0m\u001b[1;33m(\u001b[0m\u001b[0mself\u001b[0m\u001b[1;33m,\u001b[0m \u001b[0mfunc\u001b[0m\u001b[1;33m,\u001b[0m \u001b[0mcallback\u001b[0m\u001b[1;33m=\u001b[0m\u001b[1;32mNone\u001b[0m\u001b[1;33m)\u001b[0m\u001b[1;33m:\u001b[0m\u001b[1;33m\u001b[0m\u001b[1;33m\u001b[0m\u001b[0m\n\u001b[0;32m    207\u001b[0m         \u001b[1;34m\"\"\"Schedule a func to be run\"\"\"\u001b[0m\u001b[1;33m\u001b[0m\u001b[1;33m\u001b[0m\u001b[0m\n\u001b[1;32m--> 208\u001b[1;33m         \u001b[0mresult\u001b[0m \u001b[1;33m=\u001b[0m \u001b[0mImmediateResult\u001b[0m\u001b[1;33m(\u001b[0m\u001b[0mfunc\u001b[0m\u001b[1;33m)\u001b[0m\u001b[1;33m\u001b[0m\u001b[1;33m\u001b[0m\u001b[0m\n\u001b[0m\u001b[0;32m    209\u001b[0m         \u001b[1;32mif\u001b[0m \u001b[0mcallback\u001b[0m\u001b[1;33m:\u001b[0m\u001b[1;33m\u001b[0m\u001b[1;33m\u001b[0m\u001b[0m\n\u001b[0;32m    210\u001b[0m             \u001b[0mcallback\u001b[0m\u001b[1;33m(\u001b[0m\u001b[0mresult\u001b[0m\u001b[1;33m)\u001b[0m\u001b[1;33m\u001b[0m\u001b[1;33m\u001b[0m\u001b[0m\n",
      "\u001b[1;32m~\\.conda\\envs\\sidi\\lib\\site-packages\\joblib\\_parallel_backends.py\u001b[0m in \u001b[0;36m__init__\u001b[1;34m(self, batch)\u001b[0m\n\u001b[0;32m    570\u001b[0m         \u001b[1;31m# Don't delay the application, to avoid keeping the input\u001b[0m\u001b[1;33m\u001b[0m\u001b[1;33m\u001b[0m\u001b[1;33m\u001b[0m\u001b[0m\n\u001b[0;32m    571\u001b[0m         \u001b[1;31m# arguments in memory\u001b[0m\u001b[1;33m\u001b[0m\u001b[1;33m\u001b[0m\u001b[1;33m\u001b[0m\u001b[0m\n\u001b[1;32m--> 572\u001b[1;33m         \u001b[0mself\u001b[0m\u001b[1;33m.\u001b[0m\u001b[0mresults\u001b[0m \u001b[1;33m=\u001b[0m \u001b[0mbatch\u001b[0m\u001b[1;33m(\u001b[0m\u001b[1;33m)\u001b[0m\u001b[1;33m\u001b[0m\u001b[1;33m\u001b[0m\u001b[0m\n\u001b[0m\u001b[0;32m    573\u001b[0m \u001b[1;33m\u001b[0m\u001b[0m\n\u001b[0;32m    574\u001b[0m     \u001b[1;32mdef\u001b[0m \u001b[0mget\u001b[0m\u001b[1;33m(\u001b[0m\u001b[0mself\u001b[0m\u001b[1;33m)\u001b[0m\u001b[1;33m:\u001b[0m\u001b[1;33m\u001b[0m\u001b[1;33m\u001b[0m\u001b[0m\n",
      "\u001b[1;32m~\\.conda\\envs\\sidi\\lib\\site-packages\\joblib\\parallel.py\u001b[0m in \u001b[0;36m__call__\u001b[1;34m(self)\u001b[0m\n\u001b[0;32m    260\u001b[0m         \u001b[1;31m# change the default number of processes to -1\u001b[0m\u001b[1;33m\u001b[0m\u001b[1;33m\u001b[0m\u001b[1;33m\u001b[0m\u001b[0m\n\u001b[0;32m    261\u001b[0m         \u001b[1;32mwith\u001b[0m \u001b[0mparallel_backend\u001b[0m\u001b[1;33m(\u001b[0m\u001b[0mself\u001b[0m\u001b[1;33m.\u001b[0m\u001b[0m_backend\u001b[0m\u001b[1;33m,\u001b[0m \u001b[0mn_jobs\u001b[0m\u001b[1;33m=\u001b[0m\u001b[0mself\u001b[0m\u001b[1;33m.\u001b[0m\u001b[0m_n_jobs\u001b[0m\u001b[1;33m)\u001b[0m\u001b[1;33m:\u001b[0m\u001b[1;33m\u001b[0m\u001b[1;33m\u001b[0m\u001b[0m\n\u001b[1;32m--> 262\u001b[1;33m             return [func(*args, **kwargs)\n\u001b[0m\u001b[0;32m    263\u001b[0m                     for func, args, kwargs in self.items]\n\u001b[0;32m    264\u001b[0m \u001b[1;33m\u001b[0m\u001b[0m\n",
      "\u001b[1;32m~\\.conda\\envs\\sidi\\lib\\site-packages\\joblib\\parallel.py\u001b[0m in \u001b[0;36m<listcomp>\u001b[1;34m(.0)\u001b[0m\n\u001b[0;32m    260\u001b[0m         \u001b[1;31m# change the default number of processes to -1\u001b[0m\u001b[1;33m\u001b[0m\u001b[1;33m\u001b[0m\u001b[1;33m\u001b[0m\u001b[0m\n\u001b[0;32m    261\u001b[0m         \u001b[1;32mwith\u001b[0m \u001b[0mparallel_backend\u001b[0m\u001b[1;33m(\u001b[0m\u001b[0mself\u001b[0m\u001b[1;33m.\u001b[0m\u001b[0m_backend\u001b[0m\u001b[1;33m,\u001b[0m \u001b[0mn_jobs\u001b[0m\u001b[1;33m=\u001b[0m\u001b[0mself\u001b[0m\u001b[1;33m.\u001b[0m\u001b[0m_n_jobs\u001b[0m\u001b[1;33m)\u001b[0m\u001b[1;33m:\u001b[0m\u001b[1;33m\u001b[0m\u001b[1;33m\u001b[0m\u001b[0m\n\u001b[1;32m--> 262\u001b[1;33m             return [func(*args, **kwargs)\n\u001b[0m\u001b[0;32m    263\u001b[0m                     for func, args, kwargs in self.items]\n\u001b[0;32m    264\u001b[0m \u001b[1;33m\u001b[0m\u001b[0m\n",
      "\u001b[1;32m~\\.conda\\envs\\sidi\\lib\\site-packages\\sklearn\\utils\\fixes.py\u001b[0m in \u001b[0;36m__call__\u001b[1;34m(self, *args, **kwargs)\u001b[0m\n\u001b[0;32m    214\u001b[0m     \u001b[1;32mdef\u001b[0m \u001b[0m__call__\u001b[0m\u001b[1;33m(\u001b[0m\u001b[0mself\u001b[0m\u001b[1;33m,\u001b[0m \u001b[1;33m*\u001b[0m\u001b[0margs\u001b[0m\u001b[1;33m,\u001b[0m \u001b[1;33m**\u001b[0m\u001b[0mkwargs\u001b[0m\u001b[1;33m)\u001b[0m\u001b[1;33m:\u001b[0m\u001b[1;33m\u001b[0m\u001b[1;33m\u001b[0m\u001b[0m\n\u001b[0;32m    215\u001b[0m         \u001b[1;32mwith\u001b[0m \u001b[0mconfig_context\u001b[0m\u001b[1;33m(\u001b[0m\u001b[1;33m**\u001b[0m\u001b[0mself\u001b[0m\u001b[1;33m.\u001b[0m\u001b[0mconfig\u001b[0m\u001b[1;33m)\u001b[0m\u001b[1;33m:\u001b[0m\u001b[1;33m\u001b[0m\u001b[1;33m\u001b[0m\u001b[0m\n\u001b[1;32m--> 216\u001b[1;33m             \u001b[1;32mreturn\u001b[0m \u001b[0mself\u001b[0m\u001b[1;33m.\u001b[0m\u001b[0mfunction\u001b[0m\u001b[1;33m(\u001b[0m\u001b[1;33m*\u001b[0m\u001b[0margs\u001b[0m\u001b[1;33m,\u001b[0m \u001b[1;33m**\u001b[0m\u001b[0mkwargs\u001b[0m\u001b[1;33m)\u001b[0m\u001b[1;33m\u001b[0m\u001b[1;33m\u001b[0m\u001b[0m\n\u001b[0m\u001b[0;32m    217\u001b[0m \u001b[1;33m\u001b[0m\u001b[0m\n\u001b[0;32m    218\u001b[0m \u001b[1;33m\u001b[0m\u001b[0m\n",
      "\u001b[1;32m~\\.conda\\envs\\sidi\\lib\\site-packages\\sklearn\\model_selection\\_validation.py\u001b[0m in \u001b[0;36m_fit_and_score\u001b[1;34m(estimator, X, y, scorer, train, test, verbose, parameters, fit_params, return_train_score, return_parameters, return_n_test_samples, return_times, return_estimator, split_progress, candidate_progress, error_score)\u001b[0m\n\u001b[0;32m    666\u001b[0m             \u001b[0mcloned_parameters\u001b[0m\u001b[1;33m[\u001b[0m\u001b[0mk\u001b[0m\u001b[1;33m]\u001b[0m \u001b[1;33m=\u001b[0m \u001b[0mclone\u001b[0m\u001b[1;33m(\u001b[0m\u001b[0mv\u001b[0m\u001b[1;33m,\u001b[0m \u001b[0msafe\u001b[0m\u001b[1;33m=\u001b[0m\u001b[1;32mFalse\u001b[0m\u001b[1;33m)\u001b[0m\u001b[1;33m\u001b[0m\u001b[1;33m\u001b[0m\u001b[0m\n\u001b[0;32m    667\u001b[0m \u001b[1;33m\u001b[0m\u001b[0m\n\u001b[1;32m--> 668\u001b[1;33m         \u001b[0mestimator\u001b[0m \u001b[1;33m=\u001b[0m \u001b[0mestimator\u001b[0m\u001b[1;33m.\u001b[0m\u001b[0mset_params\u001b[0m\u001b[1;33m(\u001b[0m\u001b[1;33m**\u001b[0m\u001b[0mcloned_parameters\u001b[0m\u001b[1;33m)\u001b[0m\u001b[1;33m\u001b[0m\u001b[1;33m\u001b[0m\u001b[0m\n\u001b[0m\u001b[0;32m    669\u001b[0m \u001b[1;33m\u001b[0m\u001b[0m\n\u001b[0;32m    670\u001b[0m     \u001b[0mstart_time\u001b[0m \u001b[1;33m=\u001b[0m \u001b[0mtime\u001b[0m\u001b[1;33m.\u001b[0m\u001b[0mtime\u001b[0m\u001b[1;33m(\u001b[0m\u001b[1;33m)\u001b[0m\u001b[1;33m\u001b[0m\u001b[1;33m\u001b[0m\u001b[0m\n",
      "\u001b[1;32m~\\.conda\\envs\\sidi\\lib\\site-packages\\sklearn\\base.py\u001b[0m in \u001b[0;36mset_params\u001b[1;34m(self, **params)\u001b[0m\n\u001b[0;32m    243\u001b[0m             \u001b[0mkey\u001b[0m\u001b[1;33m,\u001b[0m \u001b[0mdelim\u001b[0m\u001b[1;33m,\u001b[0m \u001b[0msub_key\u001b[0m \u001b[1;33m=\u001b[0m \u001b[0mkey\u001b[0m\u001b[1;33m.\u001b[0m\u001b[0mpartition\u001b[0m\u001b[1;33m(\u001b[0m\u001b[1;34m\"__\"\u001b[0m\u001b[1;33m)\u001b[0m\u001b[1;33m\u001b[0m\u001b[1;33m\u001b[0m\u001b[0m\n\u001b[0;32m    244\u001b[0m             \u001b[1;32mif\u001b[0m \u001b[0mkey\u001b[0m \u001b[1;32mnot\u001b[0m \u001b[1;32min\u001b[0m \u001b[0mvalid_params\u001b[0m\u001b[1;33m:\u001b[0m\u001b[1;33m\u001b[0m\u001b[1;33m\u001b[0m\u001b[0m\n\u001b[1;32m--> 245\u001b[1;33m                 raise ValueError(\n\u001b[0m\u001b[0;32m    246\u001b[0m                     \u001b[1;34m\"Invalid parameter %s for estimator %s. \"\u001b[0m\u001b[1;33m\u001b[0m\u001b[1;33m\u001b[0m\u001b[0m\n\u001b[0;32m    247\u001b[0m                     \u001b[1;34m\"Check the list of available parameters \"\u001b[0m\u001b[1;33m\u001b[0m\u001b[1;33m\u001b[0m\u001b[0m\n",
      "\u001b[1;31mValueError\u001b[0m: Invalid parameter estimator for estimator RandomForestClassifier(). Check the list of available parameters with `estimator.get_params().keys()`."
     ]
    }
   ],
   "source": [
    "grid_search = GridSearchCV(estimator=rf, param_grid=rf_param, cv=skf.split(x_full, y_full))\n",
    "grid_search.fit(x_full, y_full)"
   ]
  },
  {
   "cell_type": "code",
   "execution_count": null,
   "id": "649f437b-f65d-4a06-a9cd-fa64be43c4e6",
   "metadata": {
    "tags": []
   },
   "outputs": [],
   "source": [
    "for param in grid_search.get_params().keys():\n",
    "    print(param)"
   ]
  },
  {
   "cell_type": "markdown",
   "id": "490d52aa-095e-4f0c-9605-62f7d462ac59",
   "metadata": {},
   "source": [
    "## .1.4 MLP"
   ]
  },
  {
   "cell_type": "code",
   "execution_count": null,
   "id": "31c31a48-48b8-4a22-88df-90d94c018f45",
   "metadata": {
    "tags": []
   },
   "outputs": [],
   "source": [
    "mlp_param = {\n",
    "    'random_state'=16\n",
    "    'activation': ['tahn', 'relu', 'identity', 'logistic'],\n",
    "    'solver': ['lbfgs', 'sgd', 'adam'],\n",
    "    'alpha': [0.01, 0.001, 0.0001, 0.00001]\n",
    "}"
   ]
  },
  {
   "cell_type": "code",
   "execution_count": null,
   "id": "e246d9cb-6538-4495-9adf-f617f75fc042",
   "metadata": {
    "tags": []
   },
   "outputs": [],
   "source": [
    "grid_search = GridSearchCV(estimator=mlp, param_grid=mlp_param, cv=skf.split(x_full, y_full))\n",
    "grid_search.fit(x_full, y_full)\n",
    "print(grid_search.best_score_)\n",
    "print(grid_search.best_params_)"
   ]
  },
  {
   "cell_type": "code",
   "execution_count": null,
   "id": "04e6dd3f-fdf6-498c-8a7f-74ef2d83da09",
   "metadata": {
    "tags": []
   },
   "outputs": [],
   "source": [
    "# {'activation': 'identity', 'alpha': 0.01, 'solver': 'lbfgs'}"
   ]
  },
  {
   "cell_type": "markdown",
   "id": "479b9113-68c7-4d92-b18e-a504f4f9c07a",
   "metadata": {},
   "source": [
    "## .1.5 Naive-Bayes"
   ]
  },
  {
   "cell_type": "code",
   "execution_count": null,
   "id": "f68ab426-6fd3-4bbc-bd72-420036acab52",
   "metadata": {
    "tags": []
   },
   "outputs": [],
   "source": [
    "nb_param = {}"
   ]
  },
  {
   "cell_type": "code",
   "execution_count": null,
   "id": "735cd8d2-3a5a-4f65-b842-b9c06a1d517a",
   "metadata": {
    "tags": []
   },
   "outputs": [],
   "source": [
    "grid_search = GridSearchCV(estimator=nb, param_grid=nb_param, cv=skf.split(x_full, y_full))\n",
    "grid_search.fit(x_full, y_full)\n",
    "print(grid_search.best_score_)\n",
    "print(grid_search.best_params_)"
   ]
  },
  {
   "cell_type": "markdown",
   "id": "47253ee3-0c5f-435f-a6ab-5c92c80f6981",
   "metadata": {},
   "source": [
    "## .1.6 SVM"
   ]
  },
  {
   "cell_type": "code",
   "execution_count": null,
   "id": "c684e8c5-1c04-46f2-8d08-7b6f3b070705",
   "metadata": {
    "tags": []
   },
   "outputs": [],
   "source": [
    "svm_param = {\n",
    "    'C': [0.1, 0.3, 0.5, 0.75, 1],\n",
    "    'kernel': ['linear', 'rbf', 'sigmoid']\n",
    "}"
   ]
  },
  {
   "cell_type": "code",
   "execution_count": null,
   "id": "65a4f2b6-bd85-44ba-bd10-955b6e1bd74a",
   "metadata": {
    "tags": []
   },
   "outputs": [],
   "source": [
    "grid_search = GridSearchCV(estimator=svm, param_grid=svm_param, cv=skf.split(x_full, y_full))\n",
    "grid_search.fit(x_full, y_full)\n",
    "print(grid_search.best_score_)\n",
    "print(grid_search.best_params_)"
   ]
  },
  {
   "cell_type": "code",
   "execution_count": null,
   "id": "015a5ec6-5957-43e4-8965-8c2a3647cf69",
   "metadata": {
    "tags": []
   },
   "outputs": [],
   "source": [
    "# C=1, kernel='linear'"
   ]
  },
  {
   "cell_type": "markdown",
   "id": "6a12e656-ccc6-4406-b476-154e27d0476d",
   "metadata": {},
   "source": [
    "## .2 Final Models"
   ]
  },
  {
   "cell_type": "markdown",
   "id": "4a9c07cc-02c8-4e68-a151-dce5401e0232",
   "metadata": {
    "execution": {
     "iopub.execute_input": "2022-01-12T21:28:28.218767Z",
     "iopub.status.busy": "2022-01-12T21:28:28.217766Z",
     "iopub.status.idle": "2022-01-12T21:28:28.231778Z",
     "shell.execute_reply": "2022-01-12T21:28:28.230778Z",
     "shell.execute_reply.started": "2022-01-12T21:28:28.218767Z"
    },
    "tags": []
   },
   "source": [
    "FAZER TABELA COM OS RESULTADOS ANTES E DEPOIS DO GRID SEARCH"
   ]
  },
  {
   "cell_type": "markdown",
   "id": "e636c54a-0ba4-4178-8bc3-2bea8848b858",
   "metadata": {},
   "source": [
    "E COMPARAR OS OS RESULTADOS USANDO TODOS OS FEATURES, E TIRANDO O SMOKE E OUTRO LÁ"
   ]
  },
  {
   "cell_type": "code",
   "execution_count": null,
   "id": "727c2b4e-6a60-4db6-a21f-a3390c769394",
   "metadata": {
    "tags": []
   },
   "outputs": [],
   "source": [
    "knn2 = KNeighborsClassifier(algorithm='auto', metric='manhattan', n_neighbors=4, weights='distance')\n",
    "stratified_kfold_evaluation(skf, knn2)"
   ]
  },
  {
   "cell_type": "code",
   "execution_count": null,
   "id": "66f2b73d-ce52-4f0a-be41-bff01ae47e91",
   "metadata": {
    "tags": []
   },
   "outputs": [],
   "source": [
    "svm2 = SVC(kernel='linear')\n",
    "stratified_kfold_evaluation(skf, svm2)"
   ]
  },
  {
   "cell_type": "code",
   "execution_count": null,
   "id": "ecd220c0-7a9a-41c1-b994-68409d20c4be",
   "metadata": {
    "tags": []
   },
   "outputs": [],
   "source": [
    "dt2 = DecisionTreeClassifier(criterion='entropy', max_depth=12, max_features=None, min_samples_leaf=1, min_samples_split=2, splitter='best')\n",
    "stratified_kfold_evaluation(skf, dt2)"
   ]
  },
  {
   "cell_type": "code",
   "execution_count": null,
   "id": "5c96038c-c859-4332-8e32-cb6434fdb884",
   "metadata": {
    "tags": []
   },
   "outputs": [],
   "source": [
    "mlp2 = MLPClassifier(activation='identity', alpha=0.01, solver='lbfgs', max_iter=5000, random_state=16)\n",
    "stratified_kfold_evaluation(skf, mlp2)"
   ]
  },
  {
   "cell_type": "code",
   "execution_count": null,
   "id": "3df42487-f29d-4767-b43d-b9322e018c54",
   "metadata": {},
   "outputs": [],
   "source": []
  },
  {
   "cell_type": "code",
   "execution_count": null,
   "id": "da95fbef-ae5d-4ef5-9526-fc49696713d6",
   "metadata": {},
   "outputs": [],
   "source": []
  },
  {
   "cell_type": "code",
   "execution_count": null,
   "id": "1bf497d4-67c7-47c0-abef-cacfa9a39949",
   "metadata": {},
   "outputs": [],
   "source": []
  },
  {
   "cell_type": "code",
   "execution_count": null,
   "id": "49ac0cdb-ef07-44f3-9d8a-2ed9f7ace2d9",
   "metadata": {},
   "outputs": [],
   "source": []
  },
  {
   "cell_type": "markdown",
   "id": "bc2a9217-c5d1-4c19-9434-8903c8dd08c1",
   "metadata": {
    "execution": {
     "iopub.execute_input": "2022-01-12T23:15:21.119566Z",
     "iopub.status.busy": "2022-01-12T23:15:21.119566Z",
     "iopub.status.idle": "2022-01-12T23:15:21.127572Z",
     "shell.execute_reply": "2022-01-12T23:15:21.127572Z",
     "shell.execute_reply.started": "2022-01-12T23:15:21.119566Z"
    },
    "tags": []
   },
   "source": [
    "# Rascunho"
   ]
  },
  {
   "cell_type": "code",
   "execution_count": null,
   "id": "ee58c6a6-153d-4e09-aca3-25a9887c0de1",
   "metadata": {},
   "outputs": [],
   "source": []
  },
  {
   "cell_type": "code",
   "execution_count": null,
   "id": "36c460cd-3f19-4046-a541-20d0d004a2b2",
   "metadata": {},
   "outputs": [],
   "source": []
  },
  {
   "cell_type": "code",
   "execution_count": null,
   "id": "5a260216-6a4f-480b-ab45-034663f4b86a",
   "metadata": {
    "tags": []
   },
   "outputs": [],
   "source": [
    "best_estimator = DecisionTreeClassifier(criterion='entropy', max_depth=9, min_samples_leaf=4, min_samples_split=4)\n",
    "\n",
    "best_params = [('criterion', 'entropy'),\n",
    "             ('max_depth', 9),\n",
    "             ('max_features', None),\n",
    "             ('min_samples_leaf', 4),\n",
    "             ('min_samples_split', 4),\n",
    "             ('splitter', 'best')]\n",
    "\n",
    "best_score = 0."
   ]
  },
  {
   "cell_type": "code",
   "execution_count": null,
   "id": "259ea3cd-4ce2-4542-8589-3858fb5254da",
   "metadata": {
    "tags": []
   },
   "outputs": [],
   "source": [
    "modelo_final = best_estimator.fit(X_train_final, y_train)\n",
    "modelo_final_pred = dtc.predict(X_test_final)\n",
    "\n",
    "print(classification_report(y_test, modelo_final_pred))"
   ]
  },
  {
   "cell_type": "code",
   "execution_count": null,
   "id": "2d6fdda8-442e-4f5d-900f-0f451c6bdabd",
   "metadata": {
    "tags": []
   },
   "outputs": [],
   "source": [
    "confusion_matrix_rf = pd.crosstab(y_test, modelo_final_pred, rownames=['Atual'], colnames=['Predição'])\n",
    "sns.heatmap(confusion_matrix_rf, annot=True, fmt='d');"
   ]
  },
  {
   "cell_type": "code",
   "execution_count": null,
   "id": "01597be8-d4c0-4d88-8ab5-fd0519b8753d",
   "metadata": {
    "tags": []
   },
   "outputs": [],
   "source": []
  },
  {
   "cell_type": "code",
   "execution_count": null,
   "id": "7f0d6ca8-3950-41db-9e64-050f8c29d134",
   "metadata": {},
   "outputs": [],
   "source": []
  },
  {
   "cell_type": "code",
   "execution_count": null,
   "id": "5ffc4f52-c954-4b82-b207-84b809b04873",
   "metadata": {},
   "outputs": [],
   "source": []
  },
  {
   "cell_type": "code",
   "execution_count": null,
   "id": "edb0d11c-2ba7-44e1-aace-4c49d215ce03",
   "metadata": {},
   "outputs": [],
   "source": []
  },
  {
   "cell_type": "code",
   "execution_count": null,
   "id": "453e1dea-db64-4360-abb6-bdb4c8ce5ab5",
   "metadata": {},
   "outputs": [],
   "source": []
  },
  {
   "cell_type": "markdown",
   "id": "c833be4f-2ea9-4a86-915a-6c5bbeb1a9ac",
   "metadata": {
    "execution": {
     "iopub.execute_input": "2022-01-12T15:16:39.789065Z",
     "iopub.status.busy": "2022-01-12T15:16:39.789065Z",
     "iopub.status.idle": "2022-01-12T15:16:39.802076Z",
     "shell.execute_reply": "2022-01-12T15:16:39.802076Z",
     "shell.execute_reply.started": "2022-01-12T15:16:39.789065Z"
    },
    "tags": []
   },
   "source": [
    "# Matriz de Confusão"
   ]
  },
  {
   "cell_type": "code",
   "execution_count": null,
   "id": "34bb8642-c541-48e2-9858-c4b85576b5f5",
   "metadata": {},
   "outputs": [],
   "source": [
    "np.mean(conf_matrix,axis=0)\n",
    "\n",
    "# tirar media das matrizes???"
   ]
  },
  {
   "cell_type": "code",
   "execution_count": null,
   "id": "e29809df-d62b-43d4-a160-e0117ac4a7a8",
   "metadata": {},
   "outputs": [],
   "source": []
  },
  {
   "cell_type": "code",
   "execution_count": null,
   "id": "c67250f3-df7e-48f1-96b5-65afb6f08d3c",
   "metadata": {},
   "outputs": [],
   "source": []
  },
  {
   "cell_type": "code",
   "execution_count": null,
   "id": "1d56a894-1476-48b0-84b0-f224d2c79683",
   "metadata": {
    "tags": []
   },
   "outputs": [],
   "source": [
    "nb = GaussianNB()\n",
    "nb.fit(X_train_final, y_train)\n",
    "\n",
    "res_nb = nb.predict(X_test_final)"
   ]
  },
  {
   "cell_type": "code",
   "execution_count": null,
   "id": "63ccaf70-cee1-40ef-babf-2832bc5dcb74",
   "metadata": {
    "tags": []
   },
   "outputs": [],
   "source": [
    "print(classification_report(y_test, res_nb))"
   ]
  },
  {
   "cell_type": "code",
   "execution_count": null,
   "id": "ce6a9efc-b15e-4efd-9382-6d8b6fd22b38",
   "metadata": {
    "tags": []
   },
   "outputs": [],
   "source": [
    "ax = pl.subplot()\n",
    "labels = ['Requeima', 'Refugo']\n",
    "\n",
    "confusion_matrix = pd.crosstab(y_test, res_nb, rownames=['Atual'], colnames=['Predição'])\n",
    "sns.heatmap(confusion_matrix, annot=True, fmt='d');"
   ]
  },
  {
   "cell_type": "markdown",
   "id": "9eca4ffd-144c-4637-b918-243075e141c1",
   "metadata": {
    "id": "--LWCotE-p81",
    "tags": []
   },
   "source": [
    "## 6.3 Árvore de decisão"
   ]
  },
  {
   "cell_type": "code",
   "execution_count": null,
   "id": "3876fac6-d892-4e47-b225-006a301e974a",
   "metadata": {
    "colab": {
     "base_uri": "https://localhost:8080/"
    },
    "id": "KaQq5JHo8jLj",
    "outputId": "54b5c124-8ca5-4ba2-9690-73f08dfe3ab6",
    "tags": []
   },
   "outputs": [],
   "source": [
    "dtc = DecisionTreeClassifier(criterion='entropy', max_depth=3)\n",
    "dtc = dtc.fit(X_train_final, y_train)\n",
    "\n",
    "res_dtc = dtc.predict(X_test_final)\n",
    "\n",
    "print(classification_report(y_test, res_dtc))"
   ]
  },
  {
   "cell_type": "code",
   "execution_count": null,
   "id": "61e96550-9e84-4832-9737-a62f47d6d8d3",
   "metadata": {
    "colab": {
     "base_uri": "https://localhost:8080/",
     "height": 296
    },
    "id": "wO37CCyz5vO3",
    "outputId": "604a2eac-d9c0-4f98-8859-f87a63019103",
    "tags": []
   },
   "outputs": [],
   "source": [
    "confusion_matrix_dtc = pd.crosstab(y_test, res_dtc, rownames=['Atual'], colnames=['Predição'])\n",
    "sns.heatmap(confusion_matrix_dtc, annot=True, fmt='d');"
   ]
  },
  {
   "cell_type": "code",
   "execution_count": null,
   "id": "983fc69f-6d8b-46e2-ba78-65757b93d535",
   "metadata": {
    "tags": []
   },
   "outputs": [],
   "source": [
    "arvore = DecisionTreeClassifier(criterion='entropy', max_depth=3)\n",
    "cross_validate(arvore, X_full, y_full)\n",
    "\n",
    "arvore_score = cross_val_score(arvore, X_full, y_full, cv=10, scoring=make_scorer(classification_report_with_accuracy_score))"
   ]
  },
  {
   "cell_type": "markdown",
   "id": "263a048a-87e7-47e3-98ce-b32c9463748e",
   "metadata": {
    "id": "lq2tdVFzp-cs",
    "tags": []
   },
   "source": [
    "## 6.4 Random Forest"
   ]
  },
  {
   "cell_type": "code",
   "execution_count": null,
   "id": "c524aa4e-7ecf-4214-ba85-45f0a0644220",
   "metadata": {
    "tags": []
   },
   "outputs": [],
   "source": [
    "rf = RandomForestClassifier(n_estimators=200)\n",
    "cross_validate(rf, X_full, y_full)\n",
    "\n",
    "rf_score = cross_val_score(rf, X_full, y_full, cv=10, scoring=make_scorer(classification_report_with_accuracy_score))"
   ]
  },
  {
   "cell_type": "code",
   "execution_count": null,
   "id": "6900dfb7-ad60-43af-aeb2-2bfaed037172",
   "metadata": {
    "tags": []
   },
   "outputs": [],
   "source": [
    "rf.fit(X_train_final, y_train)\n",
    "res_rf = rf.predict(X_test_final)"
   ]
  },
  {
   "cell_type": "code",
   "execution_count": null,
   "id": "61f65127-4ac1-49fe-97b9-7f2a4010a474",
   "metadata": {
    "tags": []
   },
   "outputs": [],
   "source": [
    "confusion_matrix_rf = pd.crosstab(y_test, res_rf, rownames=['Atual'], colnames=['Predição'])\n",
    "sns.heatmap(confusion_matrix_rf, annot=True, fmt='d');"
   ]
  },
  {
   "cell_type": "markdown",
   "id": "1940edc6-e380-40ba-a498-19358f86caa6",
   "metadata": {},
   "source": [
    "# Métricas"
   ]
  },
  {
   "cell_type": "markdown",
   "id": "aa0fde62-c2c2-4f69-b146-2612e63e1862",
   "metadata": {},
   "source": [
    "## 7.1 Curva ROC e AUC"
   ]
  },
  {
   "cell_type": "code",
   "execution_count": 102,
   "id": "97d184e6-7bb2-466b-bb2a-c0500f674592",
   "metadata": {},
   "outputs": [],
   "source": [
    "y_pred_proba = knn_best.predict_proba(X_val)"
   ]
  },
  {
   "cell_type": "code",
   "execution_count": 104,
   "id": "4ecf6d59-8dc3-4783-b018-9522c1209bad",
   "metadata": {},
   "outputs": [
    {
     "name": "stderr",
     "output_type": "stream",
     "text": [
      "C:\\Users\\Wesley Sousa\\.conda\\envs\\sidi\\lib\\site-packages\\sklearn\\base.py:450: UserWarning: X does not have valid feature names, but KNeighborsClassifier was fitted with feature names\n",
      "  warnings.warn(\n"
     ]
    },
    {
     "data": {
      "image/png": "[encoded data removed]",
      "text/plain": [
       "<Figure size 864x432 with 1 Axes>"
      ]
     },
     "metadata": {},
     "output_type": "display_data"
    },
    {
     "data": {
      "text/plain": [
       "<AxesSubplot:title={'center':'ROC Curves for KNeighborsClassifier'}, xlabel='False Positive Rate', ylabel='True Positive Rate'>"
      ]
     },
     "execution_count": 104,
     "metadata": {},
     "output_type": "execute_result"
    }
   ],
   "source": [
    "visualizer = ROCAUC(knn_best, encoder={     0 : 'Insufficient_Weight', \n",
    "                                            1 : 'Normal_Weight', \n",
    "                                            2 : 'Overweight_Level_I', \n",
    "                                            3 : 'Overweight_Level_II', \n",
    "                                            4 : 'Obesity_Type_I', \n",
    "                                            5 : 'Obesity_Type_II', \n",
    "                                            6 : 'Obesity_Type_III'})\n",
    "    \n",
    "visualizer.fit(X_train, y_train)\n",
    "visualizer.score(X_val, y_val)\n",
    "visualizer.show()"
   ]
  },
  {
   "cell_type": "code",
   "execution_count": 109,
   "id": "f1771539-77f4-4159-b133-69250e3e17c4",
   "metadata": {},
   "outputs": [
    {
     "ename": "AttributeError",
     "evalue": "'NoneType' object has no attribute 'predict_proba'",
     "output_type": "error",
     "traceback": [
      "\u001b[1;31m---------------------------------------------------------------------------\u001b[0m",
      "\u001b[1;31mAttributeError\u001b[0m                            Traceback (most recent call last)",
      "\u001b[1;32mC:\\Users\\WESLEY~1\\AppData\\Local\\Temp/ipykernel_25624/2841369506.py\u001b[0m in \u001b[0;36m<module>\u001b[1;34m\u001b[0m\n\u001b[1;32m----> 1\u001b[1;33m \u001b[0my_pred_proba\u001b[0m \u001b[1;33m=\u001b[0m \u001b[0mtree_best\u001b[0m\u001b[1;33m.\u001b[0m\u001b[0mpredict_proba\u001b[0m\u001b[1;33m(\u001b[0m\u001b[0mX_val\u001b[0m\u001b[1;33m)\u001b[0m\u001b[1;33m\u001b[0m\u001b[1;33m\u001b[0m\u001b[0m\n\u001b[0m",
      "\u001b[1;31mAttributeError\u001b[0m: 'NoneType' object has no attribute 'predict_proba'"
     ]
    }
   ],
   "source": [
    "y_pred_proba = tree_best.predict_proba(X_val)"
   ]
  },
  {
   "cell_type": "code",
   "execution_count": 110,
   "id": "a4ad49d1-7037-46ac-ae31-4eb568c5ff25",
   "metadata": {},
   "outputs": [
    {
     "ename": "YellowbrickTypeError",
     "evalue": "This estimator is not a classifier; try a regression or clustering score visualizer instead!",
     "output_type": "error",
     "traceback": [
      "\u001b[1;31m---------------------------------------------------------------------------\u001b[0m",
      "\u001b[1;31mYellowbrickTypeError\u001b[0m                      Traceback (most recent call last)",
      "\u001b[1;32mC:\\Users\\WESLEY~1\\AppData\\Local\\Temp/ipykernel_25624/3200644217.py\u001b[0m in \u001b[0;36m<module>\u001b[1;34m\u001b[0m\n\u001b[1;32m----> 1\u001b[1;33m visualizer = ROCAUC(tree_best, encoder={     0 : 'Insufficient_Weight', \n\u001b[0m\u001b[0;32m      2\u001b[0m                                             \u001b[1;36m1\u001b[0m \u001b[1;33m:\u001b[0m \u001b[1;34m'Normal_Weight'\u001b[0m\u001b[1;33m,\u001b[0m\u001b[1;33m\u001b[0m\u001b[1;33m\u001b[0m\u001b[0m\n\u001b[0;32m      3\u001b[0m                                             \u001b[1;36m2\u001b[0m \u001b[1;33m:\u001b[0m \u001b[1;34m'Overweight_Level_I'\u001b[0m\u001b[1;33m,\u001b[0m\u001b[1;33m\u001b[0m\u001b[1;33m\u001b[0m\u001b[0m\n\u001b[0;32m      4\u001b[0m                                             \u001b[1;36m3\u001b[0m \u001b[1;33m:\u001b[0m \u001b[1;34m'Overweight_Level_II'\u001b[0m\u001b[1;33m,\u001b[0m\u001b[1;33m\u001b[0m\u001b[1;33m\u001b[0m\u001b[0m\n\u001b[0;32m      5\u001b[0m                                             \u001b[1;36m4\u001b[0m \u001b[1;33m:\u001b[0m \u001b[1;34m'Obesity_Type_I'\u001b[0m\u001b[1;33m,\u001b[0m\u001b[1;33m\u001b[0m\u001b[1;33m\u001b[0m\u001b[0m\n",
      "\u001b[1;32m~\\.conda\\envs\\sidi\\lib\\site-packages\\yellowbrick\\classifier\\rocauc.py\u001b[0m in \u001b[0;36m__init__\u001b[1;34m(self, estimator, ax, micro, macro, per_class, binary, classes, encoder, is_fitted, force_model, **kwargs)\u001b[0m\n\u001b[0;32m    196\u001b[0m         \u001b[1;33m**\u001b[0m\u001b[0mkwargs\u001b[0m\u001b[1;33m\u001b[0m\u001b[1;33m\u001b[0m\u001b[0m\n\u001b[0;32m    197\u001b[0m     ):\n\u001b[1;32m--> 198\u001b[1;33m         super(ROCAUC, self).__init__(\n\u001b[0m\u001b[0;32m    199\u001b[0m             \u001b[0mestimator\u001b[0m\u001b[1;33m,\u001b[0m\u001b[1;33m\u001b[0m\u001b[1;33m\u001b[0m\u001b[0m\n\u001b[0;32m    200\u001b[0m             \u001b[0max\u001b[0m\u001b[1;33m=\u001b[0m\u001b[0max\u001b[0m\u001b[1;33m,\u001b[0m\u001b[1;33m\u001b[0m\u001b[1;33m\u001b[0m\u001b[0m\n",
      "\u001b[1;32m~\\.conda\\envs\\sidi\\lib\\site-packages\\yellowbrick\\classifier\\base.py\u001b[0m in \u001b[0;36m__init__\u001b[1;34m(self, estimator, ax, fig, classes, encoder, is_fitted, force_model, **kwargs)\u001b[0m\n\u001b[0;32m    120\u001b[0m         \u001b[1;31m# A bit of type checking\u001b[0m\u001b[1;33m\u001b[0m\u001b[1;33m\u001b[0m\u001b[1;33m\u001b[0m\u001b[0m\n\u001b[0;32m    121\u001b[0m         \u001b[1;32mif\u001b[0m \u001b[1;32mnot\u001b[0m \u001b[0mforce_model\u001b[0m \u001b[1;32mand\u001b[0m \u001b[1;32mnot\u001b[0m \u001b[0misclassifier\u001b[0m\u001b[1;33m(\u001b[0m\u001b[0mestimator\u001b[0m\u001b[1;33m)\u001b[0m\u001b[1;33m:\u001b[0m\u001b[1;33m\u001b[0m\u001b[1;33m\u001b[0m\u001b[0m\n\u001b[1;32m--> 122\u001b[1;33m             raise YellowbrickTypeError(\n\u001b[0m\u001b[0;32m    123\u001b[0m                 \u001b[1;34m\"This estimator is not a classifier; \"\u001b[0m\u001b[1;33m\u001b[0m\u001b[1;33m\u001b[0m\u001b[0m\n\u001b[0;32m    124\u001b[0m                 \u001b[1;34m\"try a regression or clustering score visualizer instead!\"\u001b[0m\u001b[1;33m\u001b[0m\u001b[1;33m\u001b[0m\u001b[0m\n",
      "\u001b[1;31mYellowbrickTypeError\u001b[0m: This estimator is not a classifier; try a regression or clustering score visualizer instead!"
     ]
    }
   ],
   "source": [
    "visualizer = ROCAUC(tree_best, encoder={     0 : 'Insufficient_Weight', \n",
    "                                            1 : 'Normal_Weight', \n",
    "                                            2 : 'Overweight_Level_I', \n",
    "                                            3 : 'Overweight_Level_II', \n",
    "                                            4 : 'Obesity_Type_I', \n",
    "                                            5 : 'Obesity_Type_II', \n",
    "                                            6 : 'Obesity_Type_III'})\n",
    "    \n",
    "visualizer.fit(X_train, y_train)\n",
    "visualizer.score(X_val, y_val)\n",
    "visualizer.show()"
   ]
  },
  {
   "cell_type": "code",
   "execution_count": 108,
   "id": "f69fe649-3d71-46d0-b7b6-2e7ded38703c",
   "metadata": {},
   "outputs": [],
   "source": [
    "tree_best"
   ]
  },
  {
   "cell_type": "code",
   "execution_count": null,
   "id": "66d89d9c-f80b-4788-b749-b0b308d5416f",
   "metadata": {},
   "outputs": [],
   "source": []
  },
  {
   "cell_type": "code",
   "execution_count": null,
   "id": "64c12ef5-418b-454a-a928-f33b362bf9e0",
   "metadata": {},
   "outputs": [],
   "source": []
  },
  {
   "cell_type": "code",
   "execution_count": null,
   "id": "caf2fd4d-63e1-4f3e-9439-d4cce536d94c",
   "metadata": {},
   "outputs": [],
   "source": []
  }
 ],
 "metadata": {
  "kernelspec": {
   "display_name": "Python 3 (ipykernel)",
   "language": "python",
   "name": "python3"
  },
  "language_info": {
   "codemirror_mode": {
    "name": "ipython",
    "version": 3
   },
   "file_extension": ".py",
   "mimetype": "text/x-python",
   "name": "python",
   "nbconvert_exporter": "python",
   "pygments_lexer": "ipython3",
   "version": "3.8.12"
  }
 },
 "nbformat": 4,
 "nbformat_minor": 5
}
