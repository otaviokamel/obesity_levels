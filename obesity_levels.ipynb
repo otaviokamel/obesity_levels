{
 "cells": [
  {
   "cell_type": "markdown",
   "id": "bd683ba8-dcd2-4bbe-8c6f-80993672c437",
   "metadata": {},
   "source": [
    "# Import"
   ]
  },
  {
   "cell_type": "code",
   "execution_count": 74,
   "id": "a2da1cf8-d69d-4070-b992-74e6f02fc48c",
   "metadata": {
    "execution": {
     "iopub.execute_input": "2022-01-07T18:50:32.226869Z",
     "iopub.status.busy": "2022-01-07T18:50:32.226869Z",
     "iopub.status.idle": "2022-01-07T18:50:32.239880Z",
     "shell.execute_reply": "2022-01-07T18:50:32.239880Z",
     "shell.execute_reply.started": "2022-01-07T18:50:32.226869Z"
    },
    "tags": []
   },
   "outputs": [],
   "source": [
    "import pandas as pd\n",
    "import numpy as np\n",
    "import seaborn as sns\n",
    "\n",
    "from matplotlib import pyplot as plt\n",
    "from sklearn.preprocessing import MinMaxScaler, RobustScaler\n",
    "from sklearn.model_selection import cross_val_score, cross_validate, GridSearchCV, RandomizedSearchCV, train_test_split\n",
    "from sklearn.ensemble import RandomForestClassifier, ExtraTreesClassifier\n",
    "from boruta import BorutaPy"
   ]
  },
  {
   "cell_type": "markdown",
   "id": "261b9c4a-af62-4e97-8268-230a5b3595bb",
   "metadata": {
    "tags": []
   },
   "source": [
    "## 0. Global Settings"
   ]
  },
  {
   "cell_type": "code",
   "execution_count": 2,
   "id": "3e3f0dc3-fa01-49ce-8bfe-3aa2988d149f",
   "metadata": {
    "execution": {
     "iopub.execute_input": "2022-01-07T15:11:38.979505Z",
     "iopub.status.busy": "2022-01-07T15:11:38.979505Z",
     "iopub.status.idle": "2022-01-07T15:11:38.994518Z",
     "shell.execute_reply": "2022-01-07T15:11:38.993518Z",
     "shell.execute_reply.started": "2022-01-07T15:11:38.979505Z"
    },
    "tags": []
   },
   "outputs": [],
   "source": [
    "np.random.seed(0)"
   ]
  },
  {
   "cell_type": "code",
   "execution_count": 3,
   "id": "3b477f10-0456-42bf-a5e7-add3c3f15891",
   "metadata": {
    "execution": {
     "iopub.execute_input": "2022-01-07T15:11:38.995520Z",
     "iopub.status.busy": "2022-01-07T15:11:38.995520Z",
     "iopub.status.idle": "2022-01-07T15:11:39.009532Z",
     "shell.execute_reply": "2022-01-07T15:11:39.009532Z",
     "shell.execute_reply.started": "2022-01-07T15:11:38.995520Z"
    },
    "tags": []
   },
   "outputs": [],
   "source": [
    "sns.set_style('darkgrid')\n",
    "\n",
    "pd.set_option('max_columns', 100)\n",
    "pd.set_option('max_rows', 50)\n",
    "pd.set_option('min_rows', 20)\n",
    "pd.set_option('precision', 2) # número de casas decimais nos dataframes\n",
    "pd.options.display.float_format = '{:.2f}'.format # notação científica"
   ]
  },
  {
   "cell_type": "code",
   "execution_count": 4,
   "id": "6b70b8bf-4e32-484d-bb26-09042468a9cb",
   "metadata": {
    "execution": {
     "iopub.execute_input": "2022-01-07T15:11:39.011534Z",
     "iopub.status.busy": "2022-01-07T15:11:39.011534Z",
     "iopub.status.idle": "2022-01-07T15:11:39.042562Z",
     "shell.execute_reply": "2022-01-07T15:11:39.041561Z",
     "shell.execute_reply.started": "2022-01-07T15:11:39.011534Z"
    },
    "tags": []
   },
   "outputs": [
    {
     "name": "stdout",
     "output_type": "stream",
     "text": [
      "Populating the interactive namespace from numpy and matplotlib\n"
     ]
    }
   ],
   "source": [
    "%matplotlib inline\n",
    "\n",
    "%pylab inline\n",
    "\n",
    "plt.style.use( 'bmh' )\n",
    "plt.rcParams['figure.figsize'] = [12, 6]\n",
    "plt.rcParams['font.size'] = 24\n",
    "\n",
    "#display( HTML( '<style>.container { width:100% !important; }</style>') )      nem sei o que faz,  mas só funcionou quando estava dentro de       def jupytyer_settings():\n",
    "pd.options.display.max_columns = None\n",
    "pd.options.display.max_rows = None\n",
    "pd.set_option( 'display.expand_frame_repr', False )\n",
    "\n",
    "sns.set()\n",
    "\n",
    "sns.set_style('whitegrid')"
   ]
  },
  {
   "cell_type": "markdown",
   "id": "951ea3fa-27da-4cd5-ab26-d70a199bd883",
   "metadata": {
    "execution": {
     "iopub.execute_input": "2022-01-07T14:07:04.653155Z",
     "iopub.status.busy": "2022-01-07T14:07:04.653155Z",
     "iopub.status.idle": "2022-01-07T14:07:04.659150Z",
     "shell.execute_reply": "2022-01-07T14:07:04.659150Z",
     "shell.execute_reply.started": "2022-01-07T14:07:04.653155Z"
    },
    "tags": []
   },
   "source": [
    "# 1.0"
   ]
  },
  {
   "cell_type": "code",
   "execution_count": 5,
   "id": "10954bc0-28a2-4632-a214-5283db8a648f",
   "metadata": {
    "execution": {
     "iopub.execute_input": "2022-01-07T15:11:39.043563Z",
     "iopub.status.busy": "2022-01-07T15:11:39.043563Z",
     "iopub.status.idle": "2022-01-07T15:11:39.057577Z",
     "shell.execute_reply": "2022-01-07T15:11:39.057577Z",
     "shell.execute_reply.started": "2022-01-07T15:11:39.043563Z"
    },
    "tags": []
   },
   "outputs": [],
   "source": [
    "df1 = pd.read_csv('ObesityDataSet_raw_and_data_sinthetic.csv')"
   ]
  },
  {
   "cell_type": "code",
   "execution_count": 6,
   "id": "a4c71abf-1b43-42e9-a072-83339d38cc83",
   "metadata": {
    "execution": {
     "iopub.execute_input": "2022-01-07T15:11:39.059578Z",
     "iopub.status.busy": "2022-01-07T15:11:39.059578Z",
     "iopub.status.idle": "2022-01-07T15:11:39.090606Z",
     "shell.execute_reply": "2022-01-07T15:11:39.089604Z",
     "shell.execute_reply.started": "2022-01-07T15:11:39.059578Z"
    },
    "tags": []
   },
   "outputs": [
    {
     "data": {
      "text/html": [
       "<div>\n",
       "<style scoped>\n",
       "    .dataframe tbody tr th:only-of-type {\n",
       "        vertical-align: middle;\n",
       "    }\n",
       "\n",
       "    .dataframe tbody tr th {\n",
       "        vertical-align: top;\n",
       "    }\n",
       "\n",
       "    .dataframe thead th {\n",
       "        text-align: right;\n",
       "    }\n",
       "</style>\n",
       "<table border=\"1\" class=\"dataframe\">\n",
       "  <thead>\n",
       "    <tr style=\"text-align: right;\">\n",
       "      <th></th>\n",
       "      <th>Gender</th>\n",
       "      <th>Age</th>\n",
       "      <th>Height</th>\n",
       "      <th>Weight</th>\n",
       "      <th>family_history_with_overweight</th>\n",
       "      <th>FAVC</th>\n",
       "      <th>FCVC</th>\n",
       "      <th>NCP</th>\n",
       "      <th>CAEC</th>\n",
       "      <th>SMOKE</th>\n",
       "      <th>CH2O</th>\n",
       "      <th>SCC</th>\n",
       "      <th>FAF</th>\n",
       "      <th>TUE</th>\n",
       "      <th>CALC</th>\n",
       "      <th>MTRANS</th>\n",
       "      <th>NObeyesdad</th>\n",
       "    </tr>\n",
       "  </thead>\n",
       "  <tbody>\n",
       "    <tr>\n",
       "      <th>0</th>\n",
       "      <td>Female</td>\n",
       "      <td>21.00</td>\n",
       "      <td>1.62</td>\n",
       "      <td>64.00</td>\n",
       "      <td>yes</td>\n",
       "      <td>no</td>\n",
       "      <td>2.00</td>\n",
       "      <td>3.00</td>\n",
       "      <td>Sometimes</td>\n",
       "      <td>no</td>\n",
       "      <td>2.00</td>\n",
       "      <td>no</td>\n",
       "      <td>0.00</td>\n",
       "      <td>1.00</td>\n",
       "      <td>no</td>\n",
       "      <td>Public_Transportation</td>\n",
       "      <td>Normal_Weight</td>\n",
       "    </tr>\n",
       "    <tr>\n",
       "      <th>1</th>\n",
       "      <td>Female</td>\n",
       "      <td>21.00</td>\n",
       "      <td>1.52</td>\n",
       "      <td>56.00</td>\n",
       "      <td>yes</td>\n",
       "      <td>no</td>\n",
       "      <td>3.00</td>\n",
       "      <td>3.00</td>\n",
       "      <td>Sometimes</td>\n",
       "      <td>yes</td>\n",
       "      <td>3.00</td>\n",
       "      <td>yes</td>\n",
       "      <td>3.00</td>\n",
       "      <td>0.00</td>\n",
       "      <td>Sometimes</td>\n",
       "      <td>Public_Transportation</td>\n",
       "      <td>Normal_Weight</td>\n",
       "    </tr>\n",
       "    <tr>\n",
       "      <th>2</th>\n",
       "      <td>Male</td>\n",
       "      <td>23.00</td>\n",
       "      <td>1.80</td>\n",
       "      <td>77.00</td>\n",
       "      <td>yes</td>\n",
       "      <td>no</td>\n",
       "      <td>2.00</td>\n",
       "      <td>3.00</td>\n",
       "      <td>Sometimes</td>\n",
       "      <td>no</td>\n",
       "      <td>2.00</td>\n",
       "      <td>no</td>\n",
       "      <td>2.00</td>\n",
       "      <td>1.00</td>\n",
       "      <td>Frequently</td>\n",
       "      <td>Public_Transportation</td>\n",
       "      <td>Normal_Weight</td>\n",
       "    </tr>\n",
       "    <tr>\n",
       "      <th>3</th>\n",
       "      <td>Male</td>\n",
       "      <td>27.00</td>\n",
       "      <td>1.80</td>\n",
       "      <td>87.00</td>\n",
       "      <td>no</td>\n",
       "      <td>no</td>\n",
       "      <td>3.00</td>\n",
       "      <td>3.00</td>\n",
       "      <td>Sometimes</td>\n",
       "      <td>no</td>\n",
       "      <td>2.00</td>\n",
       "      <td>no</td>\n",
       "      <td>2.00</td>\n",
       "      <td>0.00</td>\n",
       "      <td>Frequently</td>\n",
       "      <td>Walking</td>\n",
       "      <td>Overweight_Level_I</td>\n",
       "    </tr>\n",
       "    <tr>\n",
       "      <th>4</th>\n",
       "      <td>Male</td>\n",
       "      <td>22.00</td>\n",
       "      <td>1.78</td>\n",
       "      <td>89.80</td>\n",
       "      <td>no</td>\n",
       "      <td>no</td>\n",
       "      <td>2.00</td>\n",
       "      <td>1.00</td>\n",
       "      <td>Sometimes</td>\n",
       "      <td>no</td>\n",
       "      <td>2.00</td>\n",
       "      <td>no</td>\n",
       "      <td>0.00</td>\n",
       "      <td>0.00</td>\n",
       "      <td>Sometimes</td>\n",
       "      <td>Public_Transportation</td>\n",
       "      <td>Overweight_Level_II</td>\n",
       "    </tr>\n",
       "  </tbody>\n",
       "</table>\n",
       "</div>"
      ],
      "text/plain": [
       "   Gender   Age  Height  Weight family_history_with_overweight FAVC  FCVC  NCP       CAEC SMOKE  CH2O  SCC  FAF  TUE        CALC                 MTRANS           NObeyesdad\n",
       "0  Female 21.00    1.62   64.00                            yes   no  2.00 3.00  Sometimes    no  2.00   no 0.00 1.00          no  Public_Transportation        Normal_Weight\n",
       "1  Female 21.00    1.52   56.00                            yes   no  3.00 3.00  Sometimes   yes  3.00  yes 3.00 0.00   Sometimes  Public_Transportation        Normal_Weight\n",
       "2    Male 23.00    1.80   77.00                            yes   no  2.00 3.00  Sometimes    no  2.00   no 2.00 1.00  Frequently  Public_Transportation        Normal_Weight\n",
       "3    Male 27.00    1.80   87.00                             no   no  3.00 3.00  Sometimes    no  2.00   no 2.00 0.00  Frequently                Walking   Overweight_Level_I\n",
       "4    Male 22.00    1.78   89.80                             no   no  2.00 1.00  Sometimes    no  2.00   no 0.00 0.00   Sometimes  Public_Transportation  Overweight_Level_II"
      ]
     },
     "execution_count": 6,
     "metadata": {},
     "output_type": "execute_result"
    }
   ],
   "source": [
    "df1.head()"
   ]
  },
  {
   "cell_type": "code",
   "execution_count": 7,
   "id": "d0226eb8-e321-43d1-ba11-8b9d6b10b5aa",
   "metadata": {
    "execution": {
     "iopub.execute_input": "2022-01-07T15:11:39.091607Z",
     "iopub.status.busy": "2022-01-07T15:11:39.091607Z",
     "iopub.status.idle": "2022-01-07T15:11:39.106620Z",
     "shell.execute_reply": "2022-01-07T15:11:39.105618Z",
     "shell.execute_reply.started": "2022-01-07T15:11:39.091607Z"
    },
    "tags": []
   },
   "outputs": [
    {
     "name": "stdout",
     "output_type": "stream",
     "text": [
      "O dataset possui 2111 linhas e 17 colunas\n"
     ]
    }
   ],
   "source": [
    "print(f'O dataset possui {df1.shape[0]} linhas e {df1.shape[1]} colunas')"
   ]
  },
  {
   "cell_type": "code",
   "execution_count": 8,
   "id": "7be89327-c498-4c69-b3ef-bc5957f11819",
   "metadata": {
    "execution": {
     "iopub.execute_input": "2022-01-07T15:11:39.107622Z",
     "iopub.status.busy": "2022-01-07T15:11:39.107622Z",
     "iopub.status.idle": "2022-01-07T15:11:39.153661Z",
     "shell.execute_reply": "2022-01-07T15:11:39.153661Z",
     "shell.execute_reply.started": "2022-01-07T15:11:39.107622Z"
    },
    "tags": []
   },
   "outputs": [
    {
     "data": {
      "text/html": [
       "<div>\n",
       "<style scoped>\n",
       "    .dataframe tbody tr th:only-of-type {\n",
       "        vertical-align: middle;\n",
       "    }\n",
       "\n",
       "    .dataframe tbody tr th {\n",
       "        vertical-align: top;\n",
       "    }\n",
       "\n",
       "    .dataframe thead th {\n",
       "        text-align: right;\n",
       "    }\n",
       "</style>\n",
       "<table border=\"1\" class=\"dataframe\">\n",
       "  <thead>\n",
       "    <tr style=\"text-align: right;\">\n",
       "      <th></th>\n",
       "      <th>Age</th>\n",
       "      <th>Height</th>\n",
       "      <th>Weight</th>\n",
       "      <th>FCVC</th>\n",
       "      <th>NCP</th>\n",
       "      <th>CH2O</th>\n",
       "      <th>FAF</th>\n",
       "      <th>TUE</th>\n",
       "    </tr>\n",
       "  </thead>\n",
       "  <tbody>\n",
       "    <tr>\n",
       "      <th>count</th>\n",
       "      <td>2111.00</td>\n",
       "      <td>2111.00</td>\n",
       "      <td>2111.00</td>\n",
       "      <td>2111.00</td>\n",
       "      <td>2111.00</td>\n",
       "      <td>2111.00</td>\n",
       "      <td>2111.00</td>\n",
       "      <td>2111.00</td>\n",
       "    </tr>\n",
       "    <tr>\n",
       "      <th>mean</th>\n",
       "      <td>24.31</td>\n",
       "      <td>1.70</td>\n",
       "      <td>86.59</td>\n",
       "      <td>2.42</td>\n",
       "      <td>2.69</td>\n",
       "      <td>2.01</td>\n",
       "      <td>1.01</td>\n",
       "      <td>0.66</td>\n",
       "    </tr>\n",
       "    <tr>\n",
       "      <th>std</th>\n",
       "      <td>6.35</td>\n",
       "      <td>0.09</td>\n",
       "      <td>26.19</td>\n",
       "      <td>0.53</td>\n",
       "      <td>0.78</td>\n",
       "      <td>0.61</td>\n",
       "      <td>0.85</td>\n",
       "      <td>0.61</td>\n",
       "    </tr>\n",
       "    <tr>\n",
       "      <th>min</th>\n",
       "      <td>14.00</td>\n",
       "      <td>1.45</td>\n",
       "      <td>39.00</td>\n",
       "      <td>1.00</td>\n",
       "      <td>1.00</td>\n",
       "      <td>1.00</td>\n",
       "      <td>0.00</td>\n",
       "      <td>0.00</td>\n",
       "    </tr>\n",
       "    <tr>\n",
       "      <th>25%</th>\n",
       "      <td>19.95</td>\n",
       "      <td>1.63</td>\n",
       "      <td>65.47</td>\n",
       "      <td>2.00</td>\n",
       "      <td>2.66</td>\n",
       "      <td>1.58</td>\n",
       "      <td>0.12</td>\n",
       "      <td>0.00</td>\n",
       "    </tr>\n",
       "    <tr>\n",
       "      <th>50%</th>\n",
       "      <td>22.78</td>\n",
       "      <td>1.70</td>\n",
       "      <td>83.00</td>\n",
       "      <td>2.39</td>\n",
       "      <td>3.00</td>\n",
       "      <td>2.00</td>\n",
       "      <td>1.00</td>\n",
       "      <td>0.63</td>\n",
       "    </tr>\n",
       "    <tr>\n",
       "      <th>75%</th>\n",
       "      <td>26.00</td>\n",
       "      <td>1.77</td>\n",
       "      <td>107.43</td>\n",
       "      <td>3.00</td>\n",
       "      <td>3.00</td>\n",
       "      <td>2.48</td>\n",
       "      <td>1.67</td>\n",
       "      <td>1.00</td>\n",
       "    </tr>\n",
       "    <tr>\n",
       "      <th>max</th>\n",
       "      <td>61.00</td>\n",
       "      <td>1.98</td>\n",
       "      <td>173.00</td>\n",
       "      <td>3.00</td>\n",
       "      <td>4.00</td>\n",
       "      <td>3.00</td>\n",
       "      <td>3.00</td>\n",
       "      <td>2.00</td>\n",
       "    </tr>\n",
       "  </tbody>\n",
       "</table>\n",
       "</div>"
      ],
      "text/plain": [
       "          Age  Height  Weight    FCVC     NCP    CH2O     FAF     TUE\n",
       "count 2111.00 2111.00 2111.00 2111.00 2111.00 2111.00 2111.00 2111.00\n",
       "mean    24.31    1.70   86.59    2.42    2.69    2.01    1.01    0.66\n",
       "std      6.35    0.09   26.19    0.53    0.78    0.61    0.85    0.61\n",
       "min     14.00    1.45   39.00    1.00    1.00    1.00    0.00    0.00\n",
       "25%     19.95    1.63   65.47    2.00    2.66    1.58    0.12    0.00\n",
       "50%     22.78    1.70   83.00    2.39    3.00    2.00    1.00    0.63\n",
       "75%     26.00    1.77  107.43    3.00    3.00    2.48    1.67    1.00\n",
       "max     61.00    1.98  173.00    3.00    4.00    3.00    3.00    2.00"
      ]
     },
     "execution_count": 8,
     "metadata": {},
     "output_type": "execute_result"
    }
   ],
   "source": [
    "df1.describe()"
   ]
  },
  {
   "cell_type": "code",
   "execution_count": 9,
   "id": "183622cf-0bce-4290-9413-4e58c941a88b",
   "metadata": {
    "execution": {
     "iopub.execute_input": "2022-01-07T15:11:39.155663Z",
     "iopub.status.busy": "2022-01-07T15:11:39.155663Z",
     "iopub.status.idle": "2022-01-07T15:11:39.169677Z",
     "shell.execute_reply": "2022-01-07T15:11:39.169677Z",
     "shell.execute_reply.started": "2022-01-07T15:11:39.155663Z"
    },
    "tags": []
   },
   "outputs": [
    {
     "data": {
      "text/plain": [
       "0"
      ]
     },
     "execution_count": 9,
     "metadata": {},
     "output_type": "execute_result"
    }
   ],
   "source": [
    "df1.isna().sum().sum()"
   ]
  },
  {
   "cell_type": "code",
   "execution_count": 10,
   "id": "8c81f922-d2ec-4eb7-98c6-03305a09ac7b",
   "metadata": {
    "execution": {
     "iopub.execute_input": "2022-01-07T15:11:39.174681Z",
     "iopub.status.busy": "2022-01-07T15:11:39.173680Z",
     "iopub.status.idle": "2022-01-07T15:11:39.185692Z",
     "shell.execute_reply": "2022-01-07T15:11:39.185692Z",
     "shell.execute_reply.started": "2022-01-07T15:11:39.173680Z"
    },
    "tags": []
   },
   "outputs": [
    {
     "data": {
      "text/plain": [
       "Gender                             object\n",
       "Age                               float64\n",
       "Height                            float64\n",
       "Weight                            float64\n",
       "family_history_with_overweight     object\n",
       "FAVC                               object\n",
       "FCVC                              float64\n",
       "NCP                               float64\n",
       "CAEC                               object\n",
       "SMOKE                              object\n",
       "CH2O                              float64\n",
       "SCC                                object\n",
       "FAF                               float64\n",
       "TUE                               float64\n",
       "CALC                               object\n",
       "MTRANS                             object\n",
       "NObeyesdad                         object\n",
       "dtype: object"
      ]
     },
     "execution_count": 10,
     "metadata": {},
     "output_type": "execute_result"
    }
   ],
   "source": [
    "df1.dtypes"
   ]
  },
  {
   "cell_type": "code",
   "execution_count": 11,
   "id": "8a1e0374-e34a-4429-a0a7-4c7b75d86df2",
   "metadata": {
    "execution": {
     "iopub.execute_input": "2022-01-07T15:11:39.187694Z",
     "iopub.status.busy": "2022-01-07T15:11:39.187694Z",
     "iopub.status.idle": "2022-01-07T15:11:39.202707Z",
     "shell.execute_reply": "2022-01-07T15:11:39.201706Z",
     "shell.execute_reply.started": "2022-01-07T15:11:39.187694Z"
    },
    "tags": []
   },
   "outputs": [
    {
     "data": {
      "text/plain": [
       "object     9\n",
       "float64    8\n",
       "dtype: int64"
      ]
     },
     "execution_count": 11,
     "metadata": {},
     "output_type": "execute_result"
    }
   ],
   "source": [
    "df1.dtypes.value_counts()"
   ]
  },
  {
   "cell_type": "code",
   "execution_count": 12,
   "id": "12d4044e-125f-4f55-86d3-ac44b25b5894",
   "metadata": {
    "execution": {
     "iopub.execute_input": "2022-01-07T15:11:39.203707Z",
     "iopub.status.busy": "2022-01-07T15:11:39.203707Z",
     "iopub.status.idle": "2022-01-07T15:11:39.217719Z",
     "shell.execute_reply": "2022-01-07T15:11:39.217719Z",
     "shell.execute_reply.started": "2022-01-07T15:11:39.203707Z"
    },
    "tags": []
   },
   "outputs": [],
   "source": [
    "num_attr = df1.select_dtypes(exclude='object')\n",
    "cat_attr = df1.select_dtypes(include='object')"
   ]
  },
  {
   "cell_type": "code",
   "execution_count": 13,
   "id": "a4ca9ee9-01f0-4af4-989a-d6c612c25015",
   "metadata": {
    "execution": {
     "iopub.execute_input": "2022-01-07T15:11:39.219721Z",
     "iopub.status.busy": "2022-01-07T15:11:39.219721Z",
     "iopub.status.idle": "2022-01-07T15:11:39.458543Z",
     "shell.execute_reply": "2022-01-07T15:11:39.457541Z",
     "shell.execute_reply.started": "2022-01-07T15:11:39.219721Z"
    },
    "tags": []
   },
   "outputs": [
    {
     "data": {
      "image/png": "[encoded data removed]",
      "text/plain": [
       "<Figure size 864x432 with 1 Axes>"
      ]
     },
     "metadata": {},
     "output_type": "display_data"
    }
   ],
   "source": [
    "sns.countplot(x=df1['NObeyesdad']);"
   ]
  },
  {
   "cell_type": "code",
   "execution_count": 14,
   "id": "7a24c71a-a728-46d4-ae73-e20afd8a1a05",
   "metadata": {
    "execution": {
     "iopub.execute_input": "2022-01-07T15:11:39.459546Z",
     "iopub.status.busy": "2022-01-07T15:11:39.459546Z",
     "iopub.status.idle": "2022-01-07T15:11:40.751706Z",
     "shell.execute_reply": "2022-01-07T15:11:40.751706Z",
     "shell.execute_reply.started": "2022-01-07T15:11:39.459546Z"
    },
    "tags": []
   },
   "outputs": [
    {
     "data": {
      "image/png": "[encoded data removed]",
      "text/plain": [
       "<Figure size 864x432 with 9 Axes>"
      ]
     },
     "metadata": {},
     "output_type": "display_data"
    }
   ],
   "source": [
    "df1.hist();"
   ]
  },
  {
   "cell_type": "code",
   "execution_count": 15,
   "id": "47a7adfa-d14e-478d-a595-1cc04c602058",
   "metadata": {
    "execution": {
     "iopub.execute_input": "2022-01-07T15:11:40.753709Z",
     "iopub.status.busy": "2022-01-07T15:11:40.753709Z",
     "iopub.status.idle": "2022-01-07T15:11:41.183985Z",
     "shell.execute_reply": "2022-01-07T15:11:41.183985Z",
     "shell.execute_reply.started": "2022-01-07T15:11:40.753709Z"
    },
    "tags": []
   },
   "outputs": [
    {
     "data": {
      "image/png": "[encoded data removed]",
      "text/plain": [
       "<Figure size 864x648 with 1 Axes>"
      ]
     },
     "metadata": {},
     "output_type": "display_data"
    }
   ],
   "source": [
    "# Verificando correlação entre as características\n",
    "corr_input_var = num_attr.corr()\n",
    "\n",
    "fig, ax = plt.subplots(figsize=(12,9))\n",
    "sns.heatmap(corr_input_var, annot=True, cbar=False, cmap='Reds', linewidths=.5, ax=ax);"
   ]
  },
  {
   "cell_type": "code",
   "execution_count": 16,
   "id": "31ebc02c-4298-4b64-9500-bbfe0ec1a18a",
   "metadata": {
    "execution": {
     "iopub.execute_input": "2022-01-07T15:11:41.185990Z",
     "iopub.status.busy": "2022-01-07T15:11:41.184989Z",
     "iopub.status.idle": "2022-01-07T15:11:41.214014Z",
     "shell.execute_reply": "2022-01-07T15:11:41.214014Z",
     "shell.execute_reply.started": "2022-01-07T15:11:41.185990Z"
    }
   },
   "outputs": [
    {
     "data": {
      "text/html": [
       "<div>\n",
       "<style scoped>\n",
       "    .dataframe tbody tr th:only-of-type {\n",
       "        vertical-align: middle;\n",
       "    }\n",
       "\n",
       "    .dataframe tbody tr th {\n",
       "        vertical-align: top;\n",
       "    }\n",
       "\n",
       "    .dataframe thead th {\n",
       "        text-align: right;\n",
       "    }\n",
       "</style>\n",
       "<table border=\"1\" class=\"dataframe\">\n",
       "  <thead>\n",
       "    <tr style=\"text-align: right;\">\n",
       "      <th></th>\n",
       "      <th>Gender</th>\n",
       "      <th>family_history_with_overweight</th>\n",
       "      <th>FAVC</th>\n",
       "      <th>CAEC</th>\n",
       "      <th>SMOKE</th>\n",
       "      <th>SCC</th>\n",
       "      <th>CALC</th>\n",
       "      <th>MTRANS</th>\n",
       "      <th>NObeyesdad</th>\n",
       "    </tr>\n",
       "  </thead>\n",
       "  <tbody>\n",
       "    <tr>\n",
       "      <th>count</th>\n",
       "      <td>2111</td>\n",
       "      <td>2111</td>\n",
       "      <td>2111</td>\n",
       "      <td>2111</td>\n",
       "      <td>2111</td>\n",
       "      <td>2111</td>\n",
       "      <td>2111</td>\n",
       "      <td>2111</td>\n",
       "      <td>2111</td>\n",
       "    </tr>\n",
       "    <tr>\n",
       "      <th>unique</th>\n",
       "      <td>2</td>\n",
       "      <td>2</td>\n",
       "      <td>2</td>\n",
       "      <td>4</td>\n",
       "      <td>2</td>\n",
       "      <td>2</td>\n",
       "      <td>4</td>\n",
       "      <td>5</td>\n",
       "      <td>7</td>\n",
       "    </tr>\n",
       "    <tr>\n",
       "      <th>top</th>\n",
       "      <td>Male</td>\n",
       "      <td>yes</td>\n",
       "      <td>yes</td>\n",
       "      <td>Sometimes</td>\n",
       "      <td>no</td>\n",
       "      <td>no</td>\n",
       "      <td>Sometimes</td>\n",
       "      <td>Public_Transportation</td>\n",
       "      <td>Obesity_Type_I</td>\n",
       "    </tr>\n",
       "    <tr>\n",
       "      <th>freq</th>\n",
       "      <td>1068</td>\n",
       "      <td>1726</td>\n",
       "      <td>1866</td>\n",
       "      <td>1765</td>\n",
       "      <td>2067</td>\n",
       "      <td>2015</td>\n",
       "      <td>1401</td>\n",
       "      <td>1580</td>\n",
       "      <td>351</td>\n",
       "    </tr>\n",
       "  </tbody>\n",
       "</table>\n",
       "</div>"
      ],
      "text/plain": [
       "       Gender family_history_with_overweight  FAVC       CAEC SMOKE   SCC       CALC                 MTRANS      NObeyesdad\n",
       "count    2111                           2111  2111       2111  2111  2111       2111                   2111            2111\n",
       "unique      2                              2     2          4     2     2          4                      5               7\n",
       "top      Male                            yes   yes  Sometimes    no    no  Sometimes  Public_Transportation  Obesity_Type_I\n",
       "freq     1068                           1726  1866       1765  2067  2015       1401                   1580             351"
      ]
     },
     "execution_count": 16,
     "metadata": {},
     "output_type": "execute_result"
    }
   ],
   "source": [
    "df1.describe(include='object') "
   ]
  },
  {
   "cell_type": "code",
   "execution_count": 17,
   "id": "c8feadd1-e048-44f8-9f14-7fcf9df7e00f",
   "metadata": {
    "execution": {
     "iopub.execute_input": "2022-01-07T15:11:41.216018Z",
     "iopub.status.busy": "2022-01-07T15:11:41.216018Z",
     "iopub.status.idle": "2022-01-07T15:11:42.635294Z",
     "shell.execute_reply": "2022-01-07T15:11:42.635294Z",
     "shell.execute_reply.started": "2022-01-07T15:11:41.216018Z"
    }
   },
   "outputs": [
    {
     "data": {
      "image/png": "[encoded data removed]",
      "text/plain": [
       "<Figure size 864x432 with 1 Axes>"
      ]
     },
     "metadata": {},
     "output_type": "display_data"
    },
    {
     "data": {
      "image/png": "[encoded data removed]",
      "text/plain": [
       "<Figure size 864x432 with 1 Axes>"
      ]
     },
     "metadata": {},
     "output_type": "display_data"
    },
    {
     "data": {
      "image/png": "[encoded data removed]",
      "text/plain": [
       "<Figure size 864x432 with 1 Axes>"
      ]
     },
     "metadata": {},
     "output_type": "display_data"
    },
    {
     "data": {
      "image/png": "[encoded data removed]",
      "text/plain": [
       "<Figure size 864x432 with 1 Axes>"
      ]
     },
     "metadata": {},
     "output_type": "display_data"
    },
    {
     "data": {
      "image/png": "[encoded data removed]",
      "text/plain": [
       "<Figure size 864x432 with 1 Axes>"
      ]
     },
     "metadata": {},
     "output_type": "display_data"
    },
    {
     "data": {
      "image/png": "[encoded data removed]",
      "text/plain": [
       "<Figure size 864x432 with 1 Axes>"
      ]
     },
     "metadata": {},
     "output_type": "display_data"
    },
    {
     "data": {
      "image/png": "[encoded data removed]",
      "text/plain": [
       "<Figure size 864x432 with 1 Axes>"
      ]
     },
     "metadata": {},
     "output_type": "display_data"
    },
    {
     "data": {
      "image/png": "[encoded data removed]",
      "text/plain": [
       "<Figure size 864x432 with 1 Axes>"
      ]
     },
     "metadata": {},
     "output_type": "display_data"
    },
    {
     "data": {
      "image/png": "[encoded data removed]",
      "text/plain": [
       "<Figure size 864x432 with 1 Axes>"
      ]
     },
     "metadata": {},
     "output_type": "display_data"
    }
   ],
   "source": [
    "for column in df1.select_dtypes(include='object'):\n",
    "    if df1[column].nunique() < 10:\n",
    "        sns.countplot(x=column, data=df1)\n",
    "        plt.show()"
   ]
  },
  {
   "cell_type": "code",
   "execution_count": 18,
   "id": "073b805e-2e9f-43c6-b945-254100d20204",
   "metadata": {
    "execution": {
     "iopub.execute_input": "2022-01-07T15:11:42.637296Z",
     "iopub.status.busy": "2022-01-07T15:11:42.636295Z",
     "iopub.status.idle": "2022-01-07T15:11:42.747394Z",
     "shell.execute_reply": "2022-01-07T15:11:42.747394Z",
     "shell.execute_reply.started": "2022-01-07T15:11:42.637296Z"
    },
    "tags": []
   },
   "outputs": [
    {
     "data": {
      "text/html": [
       "<div>\n",
       "<style scoped>\n",
       "    .dataframe tbody tr th:only-of-type {\n",
       "        vertical-align: middle;\n",
       "    }\n",
       "\n",
       "    .dataframe tbody tr th {\n",
       "        vertical-align: top;\n",
       "    }\n",
       "\n",
       "    .dataframe thead th {\n",
       "        text-align: right;\n",
       "    }\n",
       "</style>\n",
       "<table border=\"1\" class=\"dataframe\">\n",
       "  <thead>\n",
       "    <tr style=\"text-align: right;\">\n",
       "      <th>Gender</th>\n",
       "      <th>Female</th>\n",
       "      <th>Male</th>\n",
       "    </tr>\n",
       "    <tr>\n",
       "      <th>NObeyesdad</th>\n",
       "      <th></th>\n",
       "      <th></th>\n",
       "    </tr>\n",
       "  </thead>\n",
       "  <tbody>\n",
       "    <tr>\n",
       "      <th>Insufficient_Weight</th>\n",
       "      <td>0.64</td>\n",
       "      <td>0.36</td>\n",
       "    </tr>\n",
       "    <tr>\n",
       "      <th>Normal_Weight</th>\n",
       "      <td>0.49</td>\n",
       "      <td>0.51</td>\n",
       "    </tr>\n",
       "    <tr>\n",
       "      <th>Obesity_Type_I</th>\n",
       "      <td>0.44</td>\n",
       "      <td>0.56</td>\n",
       "    </tr>\n",
       "    <tr>\n",
       "      <th>Obesity_Type_II</th>\n",
       "      <td>0.01</td>\n",
       "      <td>0.99</td>\n",
       "    </tr>\n",
       "    <tr>\n",
       "      <th>Obesity_Type_III</th>\n",
       "      <td>1.00</td>\n",
       "      <td>0.00</td>\n",
       "    </tr>\n",
       "    <tr>\n",
       "      <th>Overweight_Level_I</th>\n",
       "      <td>0.50</td>\n",
       "      <td>0.50</td>\n",
       "    </tr>\n",
       "    <tr>\n",
       "      <th>Overweight_Level_II</th>\n",
       "      <td>0.36</td>\n",
       "      <td>0.64</td>\n",
       "    </tr>\n",
       "  </tbody>\n",
       "</table>\n",
       "</div>"
      ],
      "text/plain": [
       "Gender               Female  Male\n",
       "NObeyesdad                       \n",
       "Insufficient_Weight    0.64  0.36\n",
       "Normal_Weight          0.49  0.51\n",
       "Obesity_Type_I         0.44  0.56\n",
       "Obesity_Type_II        0.01  0.99\n",
       "Obesity_Type_III       1.00  0.00\n",
       "Overweight_Level_I     0.50  0.50\n",
       "Overweight_Level_II    0.36  0.64"
      ]
     },
     "metadata": {},
     "output_type": "display_data"
    },
    {
     "data": {
      "text/html": [
       "<div>\n",
       "<style scoped>\n",
       "    .dataframe tbody tr th:only-of-type {\n",
       "        vertical-align: middle;\n",
       "    }\n",
       "\n",
       "    .dataframe tbody tr th {\n",
       "        vertical-align: top;\n",
       "    }\n",
       "\n",
       "    .dataframe thead th {\n",
       "        text-align: right;\n",
       "    }\n",
       "</style>\n",
       "<table border=\"1\" class=\"dataframe\">\n",
       "  <thead>\n",
       "    <tr style=\"text-align: right;\">\n",
       "      <th>family_history_with_overweight</th>\n",
       "      <th>no</th>\n",
       "      <th>yes</th>\n",
       "    </tr>\n",
       "    <tr>\n",
       "      <th>NObeyesdad</th>\n",
       "      <th></th>\n",
       "      <th></th>\n",
       "    </tr>\n",
       "  </thead>\n",
       "  <tbody>\n",
       "    <tr>\n",
       "      <th>Insufficient_Weight</th>\n",
       "      <td>0.54</td>\n",
       "      <td>0.46</td>\n",
       "    </tr>\n",
       "    <tr>\n",
       "      <th>Normal_Weight</th>\n",
       "      <td>0.46</td>\n",
       "      <td>0.54</td>\n",
       "    </tr>\n",
       "    <tr>\n",
       "      <th>Obesity_Type_I</th>\n",
       "      <td>0.02</td>\n",
       "      <td>0.98</td>\n",
       "    </tr>\n",
       "    <tr>\n",
       "      <th>Obesity_Type_II</th>\n",
       "      <td>0.00</td>\n",
       "      <td>1.00</td>\n",
       "    </tr>\n",
       "    <tr>\n",
       "      <th>Obesity_Type_III</th>\n",
       "      <td>0.00</td>\n",
       "      <td>1.00</td>\n",
       "    </tr>\n",
       "    <tr>\n",
       "      <th>Overweight_Level_I</th>\n",
       "      <td>0.28</td>\n",
       "      <td>0.72</td>\n",
       "    </tr>\n",
       "    <tr>\n",
       "      <th>Overweight_Level_II</th>\n",
       "      <td>0.06</td>\n",
       "      <td>0.94</td>\n",
       "    </tr>\n",
       "  </tbody>\n",
       "</table>\n",
       "</div>"
      ],
      "text/plain": [
       "family_history_with_overweight   no  yes\n",
       "NObeyesdad                              \n",
       "Insufficient_Weight            0.54 0.46\n",
       "Normal_Weight                  0.46 0.54\n",
       "Obesity_Type_I                 0.02 0.98\n",
       "Obesity_Type_II                0.00 1.00\n",
       "Obesity_Type_III               0.00 1.00\n",
       "Overweight_Level_I             0.28 0.72\n",
       "Overweight_Level_II            0.06 0.94"
      ]
     },
     "metadata": {},
     "output_type": "display_data"
    },
    {
     "data": {
      "text/html": [
       "<div>\n",
       "<style scoped>\n",
       "    .dataframe tbody tr th:only-of-type {\n",
       "        vertical-align: middle;\n",
       "    }\n",
       "\n",
       "    .dataframe tbody tr th {\n",
       "        vertical-align: top;\n",
       "    }\n",
       "\n",
       "    .dataframe thead th {\n",
       "        text-align: right;\n",
       "    }\n",
       "</style>\n",
       "<table border=\"1\" class=\"dataframe\">\n",
       "  <thead>\n",
       "    <tr style=\"text-align: right;\">\n",
       "      <th>FAVC</th>\n",
       "      <th>no</th>\n",
       "      <th>yes</th>\n",
       "    </tr>\n",
       "    <tr>\n",
       "      <th>NObeyesdad</th>\n",
       "      <th></th>\n",
       "      <th></th>\n",
       "    </tr>\n",
       "  </thead>\n",
       "  <tbody>\n",
       "    <tr>\n",
       "      <th>Insufficient_Weight</th>\n",
       "      <td>0.19</td>\n",
       "      <td>0.81</td>\n",
       "    </tr>\n",
       "    <tr>\n",
       "      <th>Normal_Weight</th>\n",
       "      <td>0.28</td>\n",
       "      <td>0.72</td>\n",
       "    </tr>\n",
       "    <tr>\n",
       "      <th>Obesity_Type_I</th>\n",
       "      <td>0.03</td>\n",
       "      <td>0.97</td>\n",
       "    </tr>\n",
       "    <tr>\n",
       "      <th>Obesity_Type_II</th>\n",
       "      <td>0.02</td>\n",
       "      <td>0.98</td>\n",
       "    </tr>\n",
       "    <tr>\n",
       "      <th>Obesity_Type_III</th>\n",
       "      <td>0.00</td>\n",
       "      <td>1.00</td>\n",
       "    </tr>\n",
       "    <tr>\n",
       "      <th>Overweight_Level_I</th>\n",
       "      <td>0.08</td>\n",
       "      <td>0.92</td>\n",
       "    </tr>\n",
       "    <tr>\n",
       "      <th>Overweight_Level_II</th>\n",
       "      <td>0.26</td>\n",
       "      <td>0.74</td>\n",
       "    </tr>\n",
       "  </tbody>\n",
       "</table>\n",
       "</div>"
      ],
      "text/plain": [
       "FAVC                  no  yes\n",
       "NObeyesdad                   \n",
       "Insufficient_Weight 0.19 0.81\n",
       "Normal_Weight       0.28 0.72\n",
       "Obesity_Type_I      0.03 0.97\n",
       "Obesity_Type_II     0.02 0.98\n",
       "Obesity_Type_III    0.00 1.00\n",
       "Overweight_Level_I  0.08 0.92\n",
       "Overweight_Level_II 0.26 0.74"
      ]
     },
     "metadata": {},
     "output_type": "display_data"
    },
    {
     "data": {
      "text/html": [
       "<div>\n",
       "<style scoped>\n",
       "    .dataframe tbody tr th:only-of-type {\n",
       "        vertical-align: middle;\n",
       "    }\n",
       "\n",
       "    .dataframe tbody tr th {\n",
       "        vertical-align: top;\n",
       "    }\n",
       "\n",
       "    .dataframe thead th {\n",
       "        text-align: right;\n",
       "    }\n",
       "</style>\n",
       "<table border=\"1\" class=\"dataframe\">\n",
       "  <thead>\n",
       "    <tr style=\"text-align: right;\">\n",
       "      <th>CAEC</th>\n",
       "      <th>Always</th>\n",
       "      <th>Frequently</th>\n",
       "      <th>Sometimes</th>\n",
       "      <th>no</th>\n",
       "    </tr>\n",
       "    <tr>\n",
       "      <th>NObeyesdad</th>\n",
       "      <th></th>\n",
       "      <th></th>\n",
       "      <th></th>\n",
       "      <th></th>\n",
       "    </tr>\n",
       "  </thead>\n",
       "  <tbody>\n",
       "    <tr>\n",
       "      <th>Insufficient_Weight</th>\n",
       "      <td>0.01</td>\n",
       "      <td>0.44</td>\n",
       "      <td>0.54</td>\n",
       "      <td>0.01</td>\n",
       "    </tr>\n",
       "    <tr>\n",
       "      <th>Normal_Weight</th>\n",
       "      <td>0.12</td>\n",
       "      <td>0.29</td>\n",
       "      <td>0.55</td>\n",
       "      <td>0.03</td>\n",
       "    </tr>\n",
       "    <tr>\n",
       "      <th>Obesity_Type_I</th>\n",
       "      <td>0.02</td>\n",
       "      <td>0.02</td>\n",
       "      <td>0.96</td>\n",
       "      <td>0.00</td>\n",
       "    </tr>\n",
       "    <tr>\n",
       "      <th>Obesity_Type_II</th>\n",
       "      <td>0.01</td>\n",
       "      <td>0.00</td>\n",
       "      <td>0.99</td>\n",
       "      <td>0.00</td>\n",
       "    </tr>\n",
       "    <tr>\n",
       "      <th>Obesity_Type_III</th>\n",
       "      <td>0.00</td>\n",
       "      <td>0.00</td>\n",
       "      <td>1.00</td>\n",
       "      <td>0.00</td>\n",
       "    </tr>\n",
       "    <tr>\n",
       "      <th>Overweight_Level_I</th>\n",
       "      <td>0.02</td>\n",
       "      <td>0.05</td>\n",
       "      <td>0.81</td>\n",
       "      <td>0.12</td>\n",
       "    </tr>\n",
       "    <tr>\n",
       "      <th>Overweight_Level_II</th>\n",
       "      <td>0.01</td>\n",
       "      <td>0.06</td>\n",
       "      <td>0.93</td>\n",
       "      <td>0.00</td>\n",
       "    </tr>\n",
       "  </tbody>\n",
       "</table>\n",
       "</div>"
      ],
      "text/plain": [
       "CAEC                 Always  Frequently  Sometimes   no\n",
       "NObeyesdad                                             \n",
       "Insufficient_Weight    0.01        0.44       0.54 0.01\n",
       "Normal_Weight          0.12        0.29       0.55 0.03\n",
       "Obesity_Type_I         0.02        0.02       0.96 0.00\n",
       "Obesity_Type_II        0.01        0.00       0.99 0.00\n",
       "Obesity_Type_III       0.00        0.00       1.00 0.00\n",
       "Overweight_Level_I     0.02        0.05       0.81 0.12\n",
       "Overweight_Level_II    0.01        0.06       0.93 0.00"
      ]
     },
     "metadata": {},
     "output_type": "display_data"
    },
    {
     "data": {
      "text/html": [
       "<div>\n",
       "<style scoped>\n",
       "    .dataframe tbody tr th:only-of-type {\n",
       "        vertical-align: middle;\n",
       "    }\n",
       "\n",
       "    .dataframe tbody tr th {\n",
       "        vertical-align: top;\n",
       "    }\n",
       "\n",
       "    .dataframe thead th {\n",
       "        text-align: right;\n",
       "    }\n",
       "</style>\n",
       "<table border=\"1\" class=\"dataframe\">\n",
       "  <thead>\n",
       "    <tr style=\"text-align: right;\">\n",
       "      <th>SMOKE</th>\n",
       "      <th>no</th>\n",
       "      <th>yes</th>\n",
       "    </tr>\n",
       "    <tr>\n",
       "      <th>NObeyesdad</th>\n",
       "      <th></th>\n",
       "      <th></th>\n",
       "    </tr>\n",
       "  </thead>\n",
       "  <tbody>\n",
       "    <tr>\n",
       "      <th>Insufficient_Weight</th>\n",
       "      <td>1.00</td>\n",
       "      <td>0.00</td>\n",
       "    </tr>\n",
       "    <tr>\n",
       "      <th>Normal_Weight</th>\n",
       "      <td>0.95</td>\n",
       "      <td>0.05</td>\n",
       "    </tr>\n",
       "    <tr>\n",
       "      <th>Obesity_Type_I</th>\n",
       "      <td>0.98</td>\n",
       "      <td>0.02</td>\n",
       "    </tr>\n",
       "    <tr>\n",
       "      <th>Obesity_Type_II</th>\n",
       "      <td>0.95</td>\n",
       "      <td>0.05</td>\n",
       "    </tr>\n",
       "    <tr>\n",
       "      <th>Obesity_Type_III</th>\n",
       "      <td>1.00</td>\n",
       "      <td>0.00</td>\n",
       "    </tr>\n",
       "    <tr>\n",
       "      <th>Overweight_Level_I</th>\n",
       "      <td>0.99</td>\n",
       "      <td>0.01</td>\n",
       "    </tr>\n",
       "    <tr>\n",
       "      <th>Overweight_Level_II</th>\n",
       "      <td>0.98</td>\n",
       "      <td>0.02</td>\n",
       "    </tr>\n",
       "  </tbody>\n",
       "</table>\n",
       "</div>"
      ],
      "text/plain": [
       "SMOKE                 no  yes\n",
       "NObeyesdad                   \n",
       "Insufficient_Weight 1.00 0.00\n",
       "Normal_Weight       0.95 0.05\n",
       "Obesity_Type_I      0.98 0.02\n",
       "Obesity_Type_II     0.95 0.05\n",
       "Obesity_Type_III    1.00 0.00\n",
       "Overweight_Level_I  0.99 0.01\n",
       "Overweight_Level_II 0.98 0.02"
      ]
     },
     "metadata": {},
     "output_type": "display_data"
    },
    {
     "data": {
      "text/html": [
       "<div>\n",
       "<style scoped>\n",
       "    .dataframe tbody tr th:only-of-type {\n",
       "        vertical-align: middle;\n",
       "    }\n",
       "\n",
       "    .dataframe tbody tr th {\n",
       "        vertical-align: top;\n",
       "    }\n",
       "\n",
       "    .dataframe thead th {\n",
       "        text-align: right;\n",
       "    }\n",
       "</style>\n",
       "<table border=\"1\" class=\"dataframe\">\n",
       "  <thead>\n",
       "    <tr style=\"text-align: right;\">\n",
       "      <th>SCC</th>\n",
       "      <th>no</th>\n",
       "      <th>yes</th>\n",
       "    </tr>\n",
       "    <tr>\n",
       "      <th>NObeyesdad</th>\n",
       "      <th></th>\n",
       "      <th></th>\n",
       "    </tr>\n",
       "  </thead>\n",
       "  <tbody>\n",
       "    <tr>\n",
       "      <th>Insufficient_Weight</th>\n",
       "      <td>0.92</td>\n",
       "      <td>0.08</td>\n",
       "    </tr>\n",
       "    <tr>\n",
       "      <th>Normal_Weight</th>\n",
       "      <td>0.90</td>\n",
       "      <td>0.10</td>\n",
       "    </tr>\n",
       "    <tr>\n",
       "      <th>Obesity_Type_I</th>\n",
       "      <td>0.99</td>\n",
       "      <td>0.01</td>\n",
       "    </tr>\n",
       "    <tr>\n",
       "      <th>Obesity_Type_II</th>\n",
       "      <td>1.00</td>\n",
       "      <td>0.00</td>\n",
       "    </tr>\n",
       "    <tr>\n",
       "      <th>Obesity_Type_III</th>\n",
       "      <td>1.00</td>\n",
       "      <td>0.00</td>\n",
       "    </tr>\n",
       "    <tr>\n",
       "      <th>Overweight_Level_I</th>\n",
       "      <td>0.87</td>\n",
       "      <td>0.13</td>\n",
       "    </tr>\n",
       "    <tr>\n",
       "      <th>Overweight_Level_II</th>\n",
       "      <td>0.99</td>\n",
       "      <td>0.01</td>\n",
       "    </tr>\n",
       "  </tbody>\n",
       "</table>\n",
       "</div>"
      ],
      "text/plain": [
       "SCC                   no  yes\n",
       "NObeyesdad                   \n",
       "Insufficient_Weight 0.92 0.08\n",
       "Normal_Weight       0.90 0.10\n",
       "Obesity_Type_I      0.99 0.01\n",
       "Obesity_Type_II     1.00 0.00\n",
       "Obesity_Type_III    1.00 0.00\n",
       "Overweight_Level_I  0.87 0.13\n",
       "Overweight_Level_II 0.99 0.01"
      ]
     },
     "metadata": {},
     "output_type": "display_data"
    },
    {
     "data": {
      "text/html": [
       "<div>\n",
       "<style scoped>\n",
       "    .dataframe tbody tr th:only-of-type {\n",
       "        vertical-align: middle;\n",
       "    }\n",
       "\n",
       "    .dataframe tbody tr th {\n",
       "        vertical-align: top;\n",
       "    }\n",
       "\n",
       "    .dataframe thead th {\n",
       "        text-align: right;\n",
       "    }\n",
       "</style>\n",
       "<table border=\"1\" class=\"dataframe\">\n",
       "  <thead>\n",
       "    <tr style=\"text-align: right;\">\n",
       "      <th>CALC</th>\n",
       "      <th>Always</th>\n",
       "      <th>Frequently</th>\n",
       "      <th>Sometimes</th>\n",
       "      <th>no</th>\n",
       "    </tr>\n",
       "    <tr>\n",
       "      <th>NObeyesdad</th>\n",
       "      <th></th>\n",
       "      <th></th>\n",
       "      <th></th>\n",
       "      <th></th>\n",
       "    </tr>\n",
       "  </thead>\n",
       "  <tbody>\n",
       "    <tr>\n",
       "      <th>Insufficient_Weight</th>\n",
       "      <td>0.00</td>\n",
       "      <td>0.00</td>\n",
       "      <td>0.57</td>\n",
       "      <td>0.43</td>\n",
       "    </tr>\n",
       "    <tr>\n",
       "      <th>Normal_Weight</th>\n",
       "      <td>0.00</td>\n",
       "      <td>0.06</td>\n",
       "      <td>0.56</td>\n",
       "      <td>0.37</td>\n",
       "    </tr>\n",
       "    <tr>\n",
       "      <th>Obesity_Type_I</th>\n",
       "      <td>0.00</td>\n",
       "      <td>0.04</td>\n",
       "      <td>0.49</td>\n",
       "      <td>0.47</td>\n",
       "    </tr>\n",
       "    <tr>\n",
       "      <th>Obesity_Type_II</th>\n",
       "      <td>0.00</td>\n",
       "      <td>0.01</td>\n",
       "      <td>0.75</td>\n",
       "      <td>0.24</td>\n",
       "    </tr>\n",
       "    <tr>\n",
       "      <th>Obesity_Type_III</th>\n",
       "      <td>0.00</td>\n",
       "      <td>0.00</td>\n",
       "      <td>1.00</td>\n",
       "      <td>0.00</td>\n",
       "    </tr>\n",
       "    <tr>\n",
       "      <th>Overweight_Level_I</th>\n",
       "      <td>0.00</td>\n",
       "      <td>0.06</td>\n",
       "      <td>0.77</td>\n",
       "      <td>0.17</td>\n",
       "    </tr>\n",
       "    <tr>\n",
       "      <th>Overweight_Level_II</th>\n",
       "      <td>0.00</td>\n",
       "      <td>0.07</td>\n",
       "      <td>0.49</td>\n",
       "      <td>0.44</td>\n",
       "    </tr>\n",
       "  </tbody>\n",
       "</table>\n",
       "</div>"
      ],
      "text/plain": [
       "CALC                 Always  Frequently  Sometimes   no\n",
       "NObeyesdad                                             \n",
       "Insufficient_Weight    0.00        0.00       0.57 0.43\n",
       "Normal_Weight          0.00        0.06       0.56 0.37\n",
       "Obesity_Type_I         0.00        0.04       0.49 0.47\n",
       "Obesity_Type_II        0.00        0.01       0.75 0.24\n",
       "Obesity_Type_III       0.00        0.00       1.00 0.00\n",
       "Overweight_Level_I     0.00        0.06       0.77 0.17\n",
       "Overweight_Level_II    0.00        0.07       0.49 0.44"
      ]
     },
     "metadata": {},
     "output_type": "display_data"
    }
   ],
   "source": [
    "for col in df1.select_dtypes(include='object'):\n",
    "    if df1[col].nunique() <=4:\n",
    "        display(pd.crosstab(df1['NObeyesdad'], df1[col], normalize='index'))\n",
    "        #display(pd.crosstab(df1['NObeyesdad'], df1[col]))"
   ]
  },
  {
   "cell_type": "code",
   "execution_count": 19,
   "id": "df0a97ea-3daa-40a6-bb3f-f5407f856007",
   "metadata": {
    "execution": {
     "iopub.execute_input": "2022-01-07T15:11:42.749397Z",
     "iopub.status.busy": "2022-01-07T15:11:42.748396Z",
     "iopub.status.idle": "2022-01-07T15:11:42.858495Z",
     "shell.execute_reply": "2022-01-07T15:11:42.858495Z",
     "shell.execute_reply.started": "2022-01-07T15:11:42.749397Z"
    },
    "tags": []
   },
   "outputs": [
    {
     "data": {
      "text/html": [
       "<div>\n",
       "<style scoped>\n",
       "    .dataframe tbody tr th:only-of-type {\n",
       "        vertical-align: middle;\n",
       "    }\n",
       "\n",
       "    .dataframe tbody tr th {\n",
       "        vertical-align: top;\n",
       "    }\n",
       "\n",
       "    .dataframe thead th {\n",
       "        text-align: right;\n",
       "    }\n",
       "</style>\n",
       "<table border=\"1\" class=\"dataframe\">\n",
       "  <thead>\n",
       "    <tr style=\"text-align: right;\">\n",
       "      <th>Gender</th>\n",
       "      <th>Female</th>\n",
       "      <th>Male</th>\n",
       "    </tr>\n",
       "    <tr>\n",
       "      <th>NObeyesdad</th>\n",
       "      <th></th>\n",
       "      <th></th>\n",
       "    </tr>\n",
       "  </thead>\n",
       "  <tbody>\n",
       "    <tr>\n",
       "      <th>Insufficient_Weight</th>\n",
       "      <td>0.64</td>\n",
       "      <td>0.36</td>\n",
       "    </tr>\n",
       "    <tr>\n",
       "      <th>Normal_Weight</th>\n",
       "      <td>0.49</td>\n",
       "      <td>0.51</td>\n",
       "    </tr>\n",
       "    <tr>\n",
       "      <th>Obesity_Type_I</th>\n",
       "      <td>0.44</td>\n",
       "      <td>0.56</td>\n",
       "    </tr>\n",
       "    <tr>\n",
       "      <th>Obesity_Type_II</th>\n",
       "      <td>0.01</td>\n",
       "      <td>0.99</td>\n",
       "    </tr>\n",
       "    <tr>\n",
       "      <th>Obesity_Type_III</th>\n",
       "      <td>1.00</td>\n",
       "      <td>0.00</td>\n",
       "    </tr>\n",
       "    <tr>\n",
       "      <th>Overweight_Level_I</th>\n",
       "      <td>0.50</td>\n",
       "      <td>0.50</td>\n",
       "    </tr>\n",
       "    <tr>\n",
       "      <th>Overweight_Level_II</th>\n",
       "      <td>0.36</td>\n",
       "      <td>0.64</td>\n",
       "    </tr>\n",
       "  </tbody>\n",
       "</table>\n",
       "</div>"
      ],
      "text/plain": [
       "Gender               Female  Male\n",
       "NObeyesdad                       \n",
       "Insufficient_Weight    0.64  0.36\n",
       "Normal_Weight          0.49  0.51\n",
       "Obesity_Type_I         0.44  0.56\n",
       "Obesity_Type_II        0.01  0.99\n",
       "Obesity_Type_III       1.00  0.00\n",
       "Overweight_Level_I     0.50  0.50\n",
       "Overweight_Level_II    0.36  0.64"
      ]
     },
     "metadata": {},
     "output_type": "display_data"
    },
    {
     "data": {
      "text/html": [
       "<div>\n",
       "<style scoped>\n",
       "    .dataframe tbody tr th:only-of-type {\n",
       "        vertical-align: middle;\n",
       "    }\n",
       "\n",
       "    .dataframe tbody tr th {\n",
       "        vertical-align: top;\n",
       "    }\n",
       "\n",
       "    .dataframe thead th {\n",
       "        text-align: right;\n",
       "    }\n",
       "</style>\n",
       "<table border=\"1\" class=\"dataframe\">\n",
       "  <thead>\n",
       "    <tr style=\"text-align: right;\">\n",
       "      <th>family_history_with_overweight</th>\n",
       "      <th>no</th>\n",
       "      <th>yes</th>\n",
       "    </tr>\n",
       "    <tr>\n",
       "      <th>NObeyesdad</th>\n",
       "      <th></th>\n",
       "      <th></th>\n",
       "    </tr>\n",
       "  </thead>\n",
       "  <tbody>\n",
       "    <tr>\n",
       "      <th>Insufficient_Weight</th>\n",
       "      <td>0.54</td>\n",
       "      <td>0.46</td>\n",
       "    </tr>\n",
       "    <tr>\n",
       "      <th>Normal_Weight</th>\n",
       "      <td>0.46</td>\n",
       "      <td>0.54</td>\n",
       "    </tr>\n",
       "    <tr>\n",
       "      <th>Obesity_Type_I</th>\n",
       "      <td>0.02</td>\n",
       "      <td>0.98</td>\n",
       "    </tr>\n",
       "    <tr>\n",
       "      <th>Obesity_Type_II</th>\n",
       "      <td>0.00</td>\n",
       "      <td>1.00</td>\n",
       "    </tr>\n",
       "    <tr>\n",
       "      <th>Obesity_Type_III</th>\n",
       "      <td>0.00</td>\n",
       "      <td>1.00</td>\n",
       "    </tr>\n",
       "    <tr>\n",
       "      <th>Overweight_Level_I</th>\n",
       "      <td>0.28</td>\n",
       "      <td>0.72</td>\n",
       "    </tr>\n",
       "    <tr>\n",
       "      <th>Overweight_Level_II</th>\n",
       "      <td>0.06</td>\n",
       "      <td>0.94</td>\n",
       "    </tr>\n",
       "  </tbody>\n",
       "</table>\n",
       "</div>"
      ],
      "text/plain": [
       "family_history_with_overweight   no  yes\n",
       "NObeyesdad                              \n",
       "Insufficient_Weight            0.54 0.46\n",
       "Normal_Weight                  0.46 0.54\n",
       "Obesity_Type_I                 0.02 0.98\n",
       "Obesity_Type_II                0.00 1.00\n",
       "Obesity_Type_III               0.00 1.00\n",
       "Overweight_Level_I             0.28 0.72\n",
       "Overweight_Level_II            0.06 0.94"
      ]
     },
     "metadata": {},
     "output_type": "display_data"
    },
    {
     "data": {
      "text/html": [
       "<div>\n",
       "<style scoped>\n",
       "    .dataframe tbody tr th:only-of-type {\n",
       "        vertical-align: middle;\n",
       "    }\n",
       "\n",
       "    .dataframe tbody tr th {\n",
       "        vertical-align: top;\n",
       "    }\n",
       "\n",
       "    .dataframe thead th {\n",
       "        text-align: right;\n",
       "    }\n",
       "</style>\n",
       "<table border=\"1\" class=\"dataframe\">\n",
       "  <thead>\n",
       "    <tr style=\"text-align: right;\">\n",
       "      <th>FAVC</th>\n",
       "      <th>no</th>\n",
       "      <th>yes</th>\n",
       "    </tr>\n",
       "    <tr>\n",
       "      <th>NObeyesdad</th>\n",
       "      <th></th>\n",
       "      <th></th>\n",
       "    </tr>\n",
       "  </thead>\n",
       "  <tbody>\n",
       "    <tr>\n",
       "      <th>Insufficient_Weight</th>\n",
       "      <td>0.19</td>\n",
       "      <td>0.81</td>\n",
       "    </tr>\n",
       "    <tr>\n",
       "      <th>Normal_Weight</th>\n",
       "      <td>0.28</td>\n",
       "      <td>0.72</td>\n",
       "    </tr>\n",
       "    <tr>\n",
       "      <th>Obesity_Type_I</th>\n",
       "      <td>0.03</td>\n",
       "      <td>0.97</td>\n",
       "    </tr>\n",
       "    <tr>\n",
       "      <th>Obesity_Type_II</th>\n",
       "      <td>0.02</td>\n",
       "      <td>0.98</td>\n",
       "    </tr>\n",
       "    <tr>\n",
       "      <th>Obesity_Type_III</th>\n",
       "      <td>0.00</td>\n",
       "      <td>1.00</td>\n",
       "    </tr>\n",
       "    <tr>\n",
       "      <th>Overweight_Level_I</th>\n",
       "      <td>0.08</td>\n",
       "      <td>0.92</td>\n",
       "    </tr>\n",
       "    <tr>\n",
       "      <th>Overweight_Level_II</th>\n",
       "      <td>0.26</td>\n",
       "      <td>0.74</td>\n",
       "    </tr>\n",
       "  </tbody>\n",
       "</table>\n",
       "</div>"
      ],
      "text/plain": [
       "FAVC                  no  yes\n",
       "NObeyesdad                   \n",
       "Insufficient_Weight 0.19 0.81\n",
       "Normal_Weight       0.28 0.72\n",
       "Obesity_Type_I      0.03 0.97\n",
       "Obesity_Type_II     0.02 0.98\n",
       "Obesity_Type_III    0.00 1.00\n",
       "Overweight_Level_I  0.08 0.92\n",
       "Overweight_Level_II 0.26 0.74"
      ]
     },
     "metadata": {},
     "output_type": "display_data"
    },
    {
     "data": {
      "text/html": [
       "<div>\n",
       "<style scoped>\n",
       "    .dataframe tbody tr th:only-of-type {\n",
       "        vertical-align: middle;\n",
       "    }\n",
       "\n",
       "    .dataframe tbody tr th {\n",
       "        vertical-align: top;\n",
       "    }\n",
       "\n",
       "    .dataframe thead th {\n",
       "        text-align: right;\n",
       "    }\n",
       "</style>\n",
       "<table border=\"1\" class=\"dataframe\">\n",
       "  <thead>\n",
       "    <tr style=\"text-align: right;\">\n",
       "      <th>CAEC</th>\n",
       "      <th>Always</th>\n",
       "      <th>Frequently</th>\n",
       "      <th>Sometimes</th>\n",
       "      <th>no</th>\n",
       "    </tr>\n",
       "    <tr>\n",
       "      <th>NObeyesdad</th>\n",
       "      <th></th>\n",
       "      <th></th>\n",
       "      <th></th>\n",
       "      <th></th>\n",
       "    </tr>\n",
       "  </thead>\n",
       "  <tbody>\n",
       "    <tr>\n",
       "      <th>Insufficient_Weight</th>\n",
       "      <td>0.01</td>\n",
       "      <td>0.44</td>\n",
       "      <td>0.54</td>\n",
       "      <td>0.01</td>\n",
       "    </tr>\n",
       "    <tr>\n",
       "      <th>Normal_Weight</th>\n",
       "      <td>0.12</td>\n",
       "      <td>0.29</td>\n",
       "      <td>0.55</td>\n",
       "      <td>0.03</td>\n",
       "    </tr>\n",
       "    <tr>\n",
       "      <th>Obesity_Type_I</th>\n",
       "      <td>0.02</td>\n",
       "      <td>0.02</td>\n",
       "      <td>0.96</td>\n",
       "      <td>0.00</td>\n",
       "    </tr>\n",
       "    <tr>\n",
       "      <th>Obesity_Type_II</th>\n",
       "      <td>0.01</td>\n",
       "      <td>0.00</td>\n",
       "      <td>0.99</td>\n",
       "      <td>0.00</td>\n",
       "    </tr>\n",
       "    <tr>\n",
       "      <th>Obesity_Type_III</th>\n",
       "      <td>0.00</td>\n",
       "      <td>0.00</td>\n",
       "      <td>1.00</td>\n",
       "      <td>0.00</td>\n",
       "    </tr>\n",
       "    <tr>\n",
       "      <th>Overweight_Level_I</th>\n",
       "      <td>0.02</td>\n",
       "      <td>0.05</td>\n",
       "      <td>0.81</td>\n",
       "      <td>0.12</td>\n",
       "    </tr>\n",
       "    <tr>\n",
       "      <th>Overweight_Level_II</th>\n",
       "      <td>0.01</td>\n",
       "      <td>0.06</td>\n",
       "      <td>0.93</td>\n",
       "      <td>0.00</td>\n",
       "    </tr>\n",
       "  </tbody>\n",
       "</table>\n",
       "</div>"
      ],
      "text/plain": [
       "CAEC                 Always  Frequently  Sometimes   no\n",
       "NObeyesdad                                             \n",
       "Insufficient_Weight    0.01        0.44       0.54 0.01\n",
       "Normal_Weight          0.12        0.29       0.55 0.03\n",
       "Obesity_Type_I         0.02        0.02       0.96 0.00\n",
       "Obesity_Type_II        0.01        0.00       0.99 0.00\n",
       "Obesity_Type_III       0.00        0.00       1.00 0.00\n",
       "Overweight_Level_I     0.02        0.05       0.81 0.12\n",
       "Overweight_Level_II    0.01        0.06       0.93 0.00"
      ]
     },
     "metadata": {},
     "output_type": "display_data"
    },
    {
     "data": {
      "text/html": [
       "<div>\n",
       "<style scoped>\n",
       "    .dataframe tbody tr th:only-of-type {\n",
       "        vertical-align: middle;\n",
       "    }\n",
       "\n",
       "    .dataframe tbody tr th {\n",
       "        vertical-align: top;\n",
       "    }\n",
       "\n",
       "    .dataframe thead th {\n",
       "        text-align: right;\n",
       "    }\n",
       "</style>\n",
       "<table border=\"1\" class=\"dataframe\">\n",
       "  <thead>\n",
       "    <tr style=\"text-align: right;\">\n",
       "      <th>SMOKE</th>\n",
       "      <th>no</th>\n",
       "      <th>yes</th>\n",
       "    </tr>\n",
       "    <tr>\n",
       "      <th>NObeyesdad</th>\n",
       "      <th></th>\n",
       "      <th></th>\n",
       "    </tr>\n",
       "  </thead>\n",
       "  <tbody>\n",
       "    <tr>\n",
       "      <th>Insufficient_Weight</th>\n",
       "      <td>1.00</td>\n",
       "      <td>0.00</td>\n",
       "    </tr>\n",
       "    <tr>\n",
       "      <th>Normal_Weight</th>\n",
       "      <td>0.95</td>\n",
       "      <td>0.05</td>\n",
       "    </tr>\n",
       "    <tr>\n",
       "      <th>Obesity_Type_I</th>\n",
       "      <td>0.98</td>\n",
       "      <td>0.02</td>\n",
       "    </tr>\n",
       "    <tr>\n",
       "      <th>Obesity_Type_II</th>\n",
       "      <td>0.95</td>\n",
       "      <td>0.05</td>\n",
       "    </tr>\n",
       "    <tr>\n",
       "      <th>Obesity_Type_III</th>\n",
       "      <td>1.00</td>\n",
       "      <td>0.00</td>\n",
       "    </tr>\n",
       "    <tr>\n",
       "      <th>Overweight_Level_I</th>\n",
       "      <td>0.99</td>\n",
       "      <td>0.01</td>\n",
       "    </tr>\n",
       "    <tr>\n",
       "      <th>Overweight_Level_II</th>\n",
       "      <td>0.98</td>\n",
       "      <td>0.02</td>\n",
       "    </tr>\n",
       "  </tbody>\n",
       "</table>\n",
       "</div>"
      ],
      "text/plain": [
       "SMOKE                 no  yes\n",
       "NObeyesdad                   \n",
       "Insufficient_Weight 1.00 0.00\n",
       "Normal_Weight       0.95 0.05\n",
       "Obesity_Type_I      0.98 0.02\n",
       "Obesity_Type_II     0.95 0.05\n",
       "Obesity_Type_III    1.00 0.00\n",
       "Overweight_Level_I  0.99 0.01\n",
       "Overweight_Level_II 0.98 0.02"
      ]
     },
     "metadata": {},
     "output_type": "display_data"
    },
    {
     "data": {
      "text/html": [
       "<div>\n",
       "<style scoped>\n",
       "    .dataframe tbody tr th:only-of-type {\n",
       "        vertical-align: middle;\n",
       "    }\n",
       "\n",
       "    .dataframe tbody tr th {\n",
       "        vertical-align: top;\n",
       "    }\n",
       "\n",
       "    .dataframe thead th {\n",
       "        text-align: right;\n",
       "    }\n",
       "</style>\n",
       "<table border=\"1\" class=\"dataframe\">\n",
       "  <thead>\n",
       "    <tr style=\"text-align: right;\">\n",
       "      <th>SCC</th>\n",
       "      <th>no</th>\n",
       "      <th>yes</th>\n",
       "    </tr>\n",
       "    <tr>\n",
       "      <th>NObeyesdad</th>\n",
       "      <th></th>\n",
       "      <th></th>\n",
       "    </tr>\n",
       "  </thead>\n",
       "  <tbody>\n",
       "    <tr>\n",
       "      <th>Insufficient_Weight</th>\n",
       "      <td>0.92</td>\n",
       "      <td>0.08</td>\n",
       "    </tr>\n",
       "    <tr>\n",
       "      <th>Normal_Weight</th>\n",
       "      <td>0.90</td>\n",
       "      <td>0.10</td>\n",
       "    </tr>\n",
       "    <tr>\n",
       "      <th>Obesity_Type_I</th>\n",
       "      <td>0.99</td>\n",
       "      <td>0.01</td>\n",
       "    </tr>\n",
       "    <tr>\n",
       "      <th>Obesity_Type_II</th>\n",
       "      <td>1.00</td>\n",
       "      <td>0.00</td>\n",
       "    </tr>\n",
       "    <tr>\n",
       "      <th>Obesity_Type_III</th>\n",
       "      <td>1.00</td>\n",
       "      <td>0.00</td>\n",
       "    </tr>\n",
       "    <tr>\n",
       "      <th>Overweight_Level_I</th>\n",
       "      <td>0.87</td>\n",
       "      <td>0.13</td>\n",
       "    </tr>\n",
       "    <tr>\n",
       "      <th>Overweight_Level_II</th>\n",
       "      <td>0.99</td>\n",
       "      <td>0.01</td>\n",
       "    </tr>\n",
       "  </tbody>\n",
       "</table>\n",
       "</div>"
      ],
      "text/plain": [
       "SCC                   no  yes\n",
       "NObeyesdad                   \n",
       "Insufficient_Weight 0.92 0.08\n",
       "Normal_Weight       0.90 0.10\n",
       "Obesity_Type_I      0.99 0.01\n",
       "Obesity_Type_II     1.00 0.00\n",
       "Obesity_Type_III    1.00 0.00\n",
       "Overweight_Level_I  0.87 0.13\n",
       "Overweight_Level_II 0.99 0.01"
      ]
     },
     "metadata": {},
     "output_type": "display_data"
    },
    {
     "data": {
      "text/html": [
       "<div>\n",
       "<style scoped>\n",
       "    .dataframe tbody tr th:only-of-type {\n",
       "        vertical-align: middle;\n",
       "    }\n",
       "\n",
       "    .dataframe tbody tr th {\n",
       "        vertical-align: top;\n",
       "    }\n",
       "\n",
       "    .dataframe thead th {\n",
       "        text-align: right;\n",
       "    }\n",
       "</style>\n",
       "<table border=\"1\" class=\"dataframe\">\n",
       "  <thead>\n",
       "    <tr style=\"text-align: right;\">\n",
       "      <th>CALC</th>\n",
       "      <th>Always</th>\n",
       "      <th>Frequently</th>\n",
       "      <th>Sometimes</th>\n",
       "      <th>no</th>\n",
       "    </tr>\n",
       "    <tr>\n",
       "      <th>NObeyesdad</th>\n",
       "      <th></th>\n",
       "      <th></th>\n",
       "      <th></th>\n",
       "      <th></th>\n",
       "    </tr>\n",
       "  </thead>\n",
       "  <tbody>\n",
       "    <tr>\n",
       "      <th>Insufficient_Weight</th>\n",
       "      <td>0.00</td>\n",
       "      <td>0.00</td>\n",
       "      <td>0.57</td>\n",
       "      <td>0.43</td>\n",
       "    </tr>\n",
       "    <tr>\n",
       "      <th>Normal_Weight</th>\n",
       "      <td>0.00</td>\n",
       "      <td>0.06</td>\n",
       "      <td>0.56</td>\n",
       "      <td>0.37</td>\n",
       "    </tr>\n",
       "    <tr>\n",
       "      <th>Obesity_Type_I</th>\n",
       "      <td>0.00</td>\n",
       "      <td>0.04</td>\n",
       "      <td>0.49</td>\n",
       "      <td>0.47</td>\n",
       "    </tr>\n",
       "    <tr>\n",
       "      <th>Obesity_Type_II</th>\n",
       "      <td>0.00</td>\n",
       "      <td>0.01</td>\n",
       "      <td>0.75</td>\n",
       "      <td>0.24</td>\n",
       "    </tr>\n",
       "    <tr>\n",
       "      <th>Obesity_Type_III</th>\n",
       "      <td>0.00</td>\n",
       "      <td>0.00</td>\n",
       "      <td>1.00</td>\n",
       "      <td>0.00</td>\n",
       "    </tr>\n",
       "    <tr>\n",
       "      <th>Overweight_Level_I</th>\n",
       "      <td>0.00</td>\n",
       "      <td>0.06</td>\n",
       "      <td>0.77</td>\n",
       "      <td>0.17</td>\n",
       "    </tr>\n",
       "    <tr>\n",
       "      <th>Overweight_Level_II</th>\n",
       "      <td>0.00</td>\n",
       "      <td>0.07</td>\n",
       "      <td>0.49</td>\n",
       "      <td>0.44</td>\n",
       "    </tr>\n",
       "  </tbody>\n",
       "</table>\n",
       "</div>"
      ],
      "text/plain": [
       "CALC                 Always  Frequently  Sometimes   no\n",
       "NObeyesdad                                             \n",
       "Insufficient_Weight    0.00        0.00       0.57 0.43\n",
       "Normal_Weight          0.00        0.06       0.56 0.37\n",
       "Obesity_Type_I         0.00        0.04       0.49 0.47\n",
       "Obesity_Type_II        0.00        0.01       0.75 0.24\n",
       "Obesity_Type_III       0.00        0.00       1.00 0.00\n",
       "Overweight_Level_I     0.00        0.06       0.77 0.17\n",
       "Overweight_Level_II    0.00        0.07       0.49 0.44"
      ]
     },
     "metadata": {},
     "output_type": "display_data"
    }
   ],
   "source": [
    "### Verificando frequência relativa entre atributos categóricos com menos de 5 valores distintos\n",
    "for col in df1.drop('NObeyesdad', axis=1).select_dtypes(include='object'):\n",
    "    if df1[col].nunique() <=4:\n",
    "        display(pd.crosstab(df1['NObeyesdad'], df1[col], normalize='index'))"
   ]
  },
  {
   "cell_type": "markdown",
   "id": "cbfbda02-3f5a-495f-b470-630e4d68192f",
   "metadata": {
    "execution": {
     "iopub.execute_input": "2022-01-07T14:41:13.728881Z",
     "iopub.status.busy": "2022-01-07T14:41:13.728881Z",
     "iopub.status.idle": "2022-01-07T14:41:13.739880Z",
     "shell.execute_reply": "2022-01-07T14:41:13.738889Z",
     "shell.execute_reply.started": "2022-01-07T14:41:13.728881Z"
    },
    "tags": []
   },
   "source": [
    "# Pre-Processing"
   ]
  },
  {
   "cell_type": "code",
   "execution_count": 20,
   "id": "f7a26ced-d8f4-4712-91e6-f32787b86ba6",
   "metadata": {
    "execution": {
     "iopub.execute_input": "2022-01-07T15:11:42.860497Z",
     "iopub.status.busy": "2022-01-07T15:11:42.859496Z",
     "iopub.status.idle": "2022-01-07T15:11:42.874509Z",
     "shell.execute_reply": "2022-01-07T15:11:42.874509Z",
     "shell.execute_reply.started": "2022-01-07T15:11:42.860497Z"
    },
    "tags": []
   },
   "outputs": [],
   "source": [
    "df2 = df1.copy()"
   ]
  },
  {
   "cell_type": "markdown",
   "id": "dd73d699-506f-4124-8401-4c1af1fb12e9",
   "metadata": {
    "execution": {
     "iopub.execute_input": "2022-01-07T14:34:31.171538Z",
     "iopub.status.busy": "2022-01-07T14:34:31.171538Z",
     "iopub.status.idle": "2022-01-07T14:34:31.177544Z",
     "shell.execute_reply": "2022-01-07T14:34:31.177544Z",
     "shell.execute_reply.started": "2022-01-07T14:34:31.171538Z"
    },
    "tags": []
   },
   "source": [
    "## Escalonamento"
   ]
  },
  {
   "cell_type": "code",
   "execution_count": 21,
   "id": "f74e60ef-aba4-4209-8a47-ade7da714eeb",
   "metadata": {
    "execution": {
     "iopub.execute_input": "2022-01-07T15:11:42.876511Z",
     "iopub.status.busy": "2022-01-07T15:11:42.875510Z",
     "iopub.status.idle": "2022-01-07T15:11:42.889523Z",
     "shell.execute_reply": "2022-01-07T15:11:42.889523Z",
     "shell.execute_reply.started": "2022-01-07T15:11:42.876511Z"
    },
    "tags": []
   },
   "outputs": [
    {
     "data": {
      "text/plain": [
       "Index(['Age', 'Height', 'Weight', 'FCVC', 'NCP', 'CH2O', 'FAF', 'TUE'], dtype='object')"
      ]
     },
     "execution_count": 21,
     "metadata": {},
     "output_type": "execute_result"
    }
   ],
   "source": [
    "num_attr.columns"
   ]
  },
  {
   "cell_type": "markdown",
   "id": "30232f01-3879-426b-bfc6-c4587e030c7c",
   "metadata": {
    "execution": {
     "iopub.execute_input": "2022-01-07T14:36:52.702477Z",
     "iopub.status.busy": "2022-01-07T14:36:52.702477Z",
     "iopub.status.idle": "2022-01-07T14:36:52.710484Z",
     "shell.execute_reply": "2022-01-07T14:36:52.709482Z",
     "shell.execute_reply.started": "2022-01-07T14:36:52.702477Z"
    },
    "tags": []
   },
   "source": [
    "Checando Outliers para escolher RobustScaler ou MinMaxScaler"
   ]
  },
  {
   "cell_type": "code",
   "execution_count": 22,
   "id": "7cdf9bff-71c7-4df9-bfa3-dfddcd932cda",
   "metadata": {
    "execution": {
     "iopub.execute_input": "2022-01-07T15:11:42.891525Z",
     "iopub.status.busy": "2022-01-07T15:11:42.891525Z",
     "iopub.status.idle": "2022-01-07T15:11:43.065231Z",
     "shell.execute_reply": "2022-01-07T15:11:43.065231Z",
     "shell.execute_reply.started": "2022-01-07T15:11:42.891525Z"
    },
    "tags": []
   },
   "outputs": [
    {
     "data": {
      "image/png": "[encoded data removed]",
      "text/plain": [
       "<Figure size 864x432 with 1 Axes>"
      ]
     },
     "metadata": {},
     "output_type": "display_data"
    }
   ],
   "source": [
    "sns.boxplot(x = df2['Age']);"
   ]
  },
  {
   "cell_type": "code",
   "execution_count": 23,
   "id": "457b9dde-3dd7-4b2a-937f-c12aafb53dc2",
   "metadata": {
    "execution": {
     "iopub.execute_input": "2022-01-07T15:11:43.067238Z",
     "iopub.status.busy": "2022-01-07T15:11:43.066237Z",
     "iopub.status.idle": "2022-01-07T15:11:43.269417Z",
     "shell.execute_reply": "2022-01-07T15:11:43.269417Z",
     "shell.execute_reply.started": "2022-01-07T15:11:43.067238Z"
    },
    "tags": []
   },
   "outputs": [
    {
     "data": {
      "image/png": "[encoded data removed]",
      "text/plain": [
       "<Figure size 864x432 with 1 Axes>"
      ]
     },
     "metadata": {},
     "output_type": "display_data"
    }
   ],
   "source": [
    "sns.boxplot(x = df2['Height']);"
   ]
  },
  {
   "cell_type": "code",
   "execution_count": 24,
   "id": "812b6b2e-4f6d-4070-a826-ff1cb5b34d31",
   "metadata": {
    "execution": {
     "iopub.execute_input": "2022-01-07T15:11:43.271424Z",
     "iopub.status.busy": "2022-01-07T15:11:43.270423Z",
     "iopub.status.idle": "2022-01-07T15:11:43.461582Z",
     "shell.execute_reply": "2022-01-07T15:11:43.461582Z",
     "shell.execute_reply.started": "2022-01-07T15:11:43.271424Z"
    },
    "tags": []
   },
   "outputs": [
    {
     "data": {
      "image/png": "[encoded data removed]",
      "text/plain": [
       "<Figure size 864x432 with 1 Axes>"
      ]
     },
     "metadata": {},
     "output_type": "display_data"
    }
   ],
   "source": [
    "sns.boxplot(x = df2['Weight']);"
   ]
  },
  {
   "cell_type": "code",
   "execution_count": 25,
   "id": "127bfd31-a46b-4d1f-b4d6-10d938d7f72e",
   "metadata": {
    "execution": {
     "iopub.execute_input": "2022-01-07T15:11:43.463587Z",
     "iopub.status.busy": "2022-01-07T15:11:43.462586Z",
     "iopub.status.idle": "2022-01-07T15:11:43.667932Z",
     "shell.execute_reply": "2022-01-07T15:11:43.667932Z",
     "shell.execute_reply.started": "2022-01-07T15:11:43.463587Z"
    },
    "tags": []
   },
   "outputs": [
    {
     "data": {
      "image/png": "[encoded data removed]",
      "text/plain": [
       "<Figure size 864x432 with 1 Axes>"
      ]
     },
     "metadata": {},
     "output_type": "display_data"
    }
   ],
   "source": [
    "sns.boxplot(x = df2['FCVC']);"
   ]
  },
  {
   "cell_type": "code",
   "execution_count": 26,
   "id": "276e2c38-64f8-4453-9ec1-301102beadf2",
   "metadata": {
    "execution": {
     "iopub.execute_input": "2022-01-07T15:11:43.667932Z",
     "iopub.status.busy": "2022-01-07T15:11:43.667932Z",
     "iopub.status.idle": "2022-01-07T15:11:43.871072Z",
     "shell.execute_reply": "2022-01-07T15:11:43.871072Z",
     "shell.execute_reply.started": "2022-01-07T15:11:43.667932Z"
    },
    "tags": []
   },
   "outputs": [
    {
     "data": {
      "image/png": "[encoded data removed]",
      "text/plain": [
       "<Figure size 864x432 with 1 Axes>"
      ]
     },
     "metadata": {},
     "output_type": "display_data"
    }
   ],
   "source": [
    "sns.boxplot(x = df2['NCP']);"
   ]
  },
  {
   "cell_type": "code",
   "execution_count": 27,
   "id": "5ef485ac-37e2-47ba-8db0-f18702065680",
   "metadata": {
    "execution": {
     "iopub.execute_input": "2022-01-07T15:11:43.871072Z",
     "iopub.status.busy": "2022-01-07T15:11:43.871072Z",
     "iopub.status.idle": "2022-01-07T15:11:44.089836Z",
     "shell.execute_reply": "2022-01-07T15:11:44.089836Z",
     "shell.execute_reply.started": "2022-01-07T15:11:43.871072Z"
    },
    "tags": []
   },
   "outputs": [
    {
     "data": {
      "image/png": "[encoded data removed]",
      "text/plain": [
       "<Figure size 864x432 with 1 Axes>"
      ]
     },
     "metadata": {},
     "output_type": "display_data"
    }
   ],
   "source": [
    "sns.boxplot(x = df2['CH2O']);"
   ]
  },
  {
   "cell_type": "code",
   "execution_count": 28,
   "id": "0c78ae8b-41e3-4e23-9849-23590b79f366",
   "metadata": {
    "execution": {
     "iopub.execute_input": "2022-01-07T15:11:44.089836Z",
     "iopub.status.busy": "2022-01-07T15:11:44.089836Z",
     "iopub.status.idle": "2022-01-07T15:11:44.375034Z",
     "shell.execute_reply": "2022-01-07T15:11:44.375034Z",
     "shell.execute_reply.started": "2022-01-07T15:11:44.089836Z"
    },
    "tags": []
   },
   "outputs": [
    {
     "data": {
      "image/png": "[encoded data removed]",
      "text/plain": [
       "<Figure size 864x432 with 1 Axes>"
      ]
     },
     "metadata": {},
     "output_type": "display_data"
    }
   ],
   "source": [
    "sns.boxplot(x = df2['FAF']);"
   ]
  },
  {
   "cell_type": "code",
   "execution_count": 29,
   "id": "1f9559e7-b395-43c6-bd7f-7816fcd5302a",
   "metadata": {
    "execution": {
     "iopub.execute_input": "2022-01-07T15:11:44.375034Z",
     "iopub.status.busy": "2022-01-07T15:11:44.375034Z",
     "iopub.status.idle": "2022-01-07T15:11:44.578172Z",
     "shell.execute_reply": "2022-01-07T15:11:44.578172Z",
     "shell.execute_reply.started": "2022-01-07T15:11:44.375034Z"
    },
    "tags": []
   },
   "outputs": [
    {
     "data": {
      "image/png": "[encoded data removed]",
      "text/plain": [
       "<Figure size 864x432 with 1 Axes>"
      ]
     },
     "metadata": {},
     "output_type": "display_data"
    }
   ],
   "source": [
    "sns.boxplot(x = df2['TUE']);"
   ]
  },
  {
   "cell_type": "code",
   "execution_count": 30,
   "id": "f4d89d4a-f68e-4565-84e3-267b736019b0",
   "metadata": {
    "execution": {
     "iopub.execute_input": "2022-01-07T15:11:44.578172Z",
     "iopub.status.busy": "2022-01-07T15:11:44.578172Z",
     "iopub.status.idle": "2022-01-07T15:11:44.625049Z",
     "shell.execute_reply": "2022-01-07T15:11:44.625049Z",
     "shell.execute_reply.started": "2022-01-07T15:11:44.578172Z"
    },
    "tags": []
   },
   "outputs": [],
   "source": [
    "rs = RobustScaler()\n",
    "mms = MinMaxScaler()\n",
    "\n",
    "df2['Age'] = rs.fit_transform(df2[['Age']])\n",
    "\n",
    "df2['NCP'] = rs.fit_transform(df2[['NCP']])\n",
    "\n",
    "df2['Height'] = mms.fit_transform(df2[['Height']])\n",
    "\n",
    "df2['Weight'] = mms.fit_transform(df2[['Weight']])\n",
    "\n",
    "df2['FCVC'] = mms.fit_transform(df2[['FCVC']])\n",
    "\n",
    "df2['CH2O'] = mms.fit_transform(df2[['CH2O']])\n",
    "\n",
    "df2['FAF'] = mms.fit_transform(df2[['FAF']])\n",
    "\n",
    "df2['TUE'] = mms.fit_transform(df2[['TUE']])"
   ]
  },
  {
   "cell_type": "code",
   "execution_count": 31,
   "id": "7d98a94d-6660-414f-9afb-064889c4e7f0",
   "metadata": {
    "execution": {
     "iopub.execute_input": "2022-01-07T15:11:44.625049Z",
     "iopub.status.busy": "2022-01-07T15:11:44.625049Z",
     "iopub.status.idle": "2022-01-07T15:11:44.656302Z",
     "shell.execute_reply": "2022-01-07T15:11:44.656302Z",
     "shell.execute_reply.started": "2022-01-07T15:11:44.625049Z"
    },
    "tags": []
   },
   "outputs": [
    {
     "data": {
      "text/html": [
       "<div>\n",
       "<style scoped>\n",
       "    .dataframe tbody tr th:only-of-type {\n",
       "        vertical-align: middle;\n",
       "    }\n",
       "\n",
       "    .dataframe tbody tr th {\n",
       "        vertical-align: top;\n",
       "    }\n",
       "\n",
       "    .dataframe thead th {\n",
       "        text-align: right;\n",
       "    }\n",
       "</style>\n",
       "<table border=\"1\" class=\"dataframe\">\n",
       "  <thead>\n",
       "    <tr style=\"text-align: right;\">\n",
       "      <th></th>\n",
       "      <th>Gender</th>\n",
       "      <th>Age</th>\n",
       "      <th>Height</th>\n",
       "      <th>Weight</th>\n",
       "      <th>family_history_with_overweight</th>\n",
       "      <th>FAVC</th>\n",
       "      <th>FCVC</th>\n",
       "      <th>NCP</th>\n",
       "      <th>CAEC</th>\n",
       "      <th>SMOKE</th>\n",
       "      <th>CH2O</th>\n",
       "      <th>SCC</th>\n",
       "      <th>FAF</th>\n",
       "      <th>TUE</th>\n",
       "      <th>CALC</th>\n",
       "      <th>MTRANS</th>\n",
       "      <th>NObeyesdad</th>\n",
       "    </tr>\n",
       "  </thead>\n",
       "  <tbody>\n",
       "    <tr>\n",
       "      <th>0</th>\n",
       "      <td>Female</td>\n",
       "      <td>-0.29</td>\n",
       "      <td>0.32</td>\n",
       "      <td>0.19</td>\n",
       "      <td>yes</td>\n",
       "      <td>no</td>\n",
       "      <td>0.50</td>\n",
       "      <td>0.00</td>\n",
       "      <td>Sometimes</td>\n",
       "      <td>no</td>\n",
       "      <td>0.50</td>\n",
       "      <td>no</td>\n",
       "      <td>0.00</td>\n",
       "      <td>0.50</td>\n",
       "      <td>no</td>\n",
       "      <td>Public_Transportation</td>\n",
       "      <td>Normal_Weight</td>\n",
       "    </tr>\n",
       "    <tr>\n",
       "      <th>1</th>\n",
       "      <td>Female</td>\n",
       "      <td>-0.29</td>\n",
       "      <td>0.13</td>\n",
       "      <td>0.13</td>\n",
       "      <td>yes</td>\n",
       "      <td>no</td>\n",
       "      <td>1.00</td>\n",
       "      <td>0.00</td>\n",
       "      <td>Sometimes</td>\n",
       "      <td>yes</td>\n",
       "      <td>1.00</td>\n",
       "      <td>yes</td>\n",
       "      <td>1.00</td>\n",
       "      <td>0.00</td>\n",
       "      <td>Sometimes</td>\n",
       "      <td>Public_Transportation</td>\n",
       "      <td>Normal_Weight</td>\n",
       "    </tr>\n",
       "    <tr>\n",
       "      <th>2</th>\n",
       "      <td>Male</td>\n",
       "      <td>0.04</td>\n",
       "      <td>0.66</td>\n",
       "      <td>0.28</td>\n",
       "      <td>yes</td>\n",
       "      <td>no</td>\n",
       "      <td>0.50</td>\n",
       "      <td>0.00</td>\n",
       "      <td>Sometimes</td>\n",
       "      <td>no</td>\n",
       "      <td>0.50</td>\n",
       "      <td>no</td>\n",
       "      <td>0.67</td>\n",
       "      <td>0.50</td>\n",
       "      <td>Frequently</td>\n",
       "      <td>Public_Transportation</td>\n",
       "      <td>Normal_Weight</td>\n",
       "    </tr>\n",
       "    <tr>\n",
       "      <th>3</th>\n",
       "      <td>Male</td>\n",
       "      <td>0.70</td>\n",
       "      <td>0.66</td>\n",
       "      <td>0.36</td>\n",
       "      <td>no</td>\n",
       "      <td>no</td>\n",
       "      <td>1.00</td>\n",
       "      <td>0.00</td>\n",
       "      <td>Sometimes</td>\n",
       "      <td>no</td>\n",
       "      <td>0.50</td>\n",
       "      <td>no</td>\n",
       "      <td>0.67</td>\n",
       "      <td>0.00</td>\n",
       "      <td>Frequently</td>\n",
       "      <td>Walking</td>\n",
       "      <td>Overweight_Level_I</td>\n",
       "    </tr>\n",
       "    <tr>\n",
       "      <th>4</th>\n",
       "      <td>Male</td>\n",
       "      <td>-0.13</td>\n",
       "      <td>0.62</td>\n",
       "      <td>0.38</td>\n",
       "      <td>no</td>\n",
       "      <td>no</td>\n",
       "      <td>0.50</td>\n",
       "      <td>-5.86</td>\n",
       "      <td>Sometimes</td>\n",
       "      <td>no</td>\n",
       "      <td>0.50</td>\n",
       "      <td>no</td>\n",
       "      <td>0.00</td>\n",
       "      <td>0.00</td>\n",
       "      <td>Sometimes</td>\n",
       "      <td>Public_Transportation</td>\n",
       "      <td>Overweight_Level_II</td>\n",
       "    </tr>\n",
       "  </tbody>\n",
       "</table>\n",
       "</div>"
      ],
      "text/plain": [
       "   Gender   Age  Height  Weight family_history_with_overweight FAVC  FCVC   NCP       CAEC SMOKE  CH2O  SCC  FAF  TUE        CALC                 MTRANS           NObeyesdad\n",
       "0  Female -0.29    0.32    0.19                            yes   no  0.50  0.00  Sometimes    no  0.50   no 0.00 0.50          no  Public_Transportation        Normal_Weight\n",
       "1  Female -0.29    0.13    0.13                            yes   no  1.00  0.00  Sometimes   yes  1.00  yes 1.00 0.00   Sometimes  Public_Transportation        Normal_Weight\n",
       "2    Male  0.04    0.66    0.28                            yes   no  0.50  0.00  Sometimes    no  0.50   no 0.67 0.50  Frequently  Public_Transportation        Normal_Weight\n",
       "3    Male  0.70    0.66    0.36                             no   no  1.00  0.00  Sometimes    no  0.50   no 0.67 0.00  Frequently                Walking   Overweight_Level_I\n",
       "4    Male -0.13    0.62    0.38                             no   no  0.50 -5.86  Sometimes    no  0.50   no 0.00 0.00   Sometimes  Public_Transportation  Overweight_Level_II"
      ]
     },
     "execution_count": 31,
     "metadata": {},
     "output_type": "execute_result"
    }
   ],
   "source": [
    "df2.head()"
   ]
  },
  {
   "cell_type": "markdown",
   "id": "cb5c9e3c-636a-4f5f-a209-55878803c145",
   "metadata": {
    "execution": {
     "iopub.execute_input": "2022-01-07T14:34:20.764899Z",
     "iopub.status.busy": "2022-01-07T14:34:20.764899Z",
     "iopub.status.idle": "2022-01-07T14:34:20.781905Z",
     "shell.execute_reply": "2022-01-07T14:34:20.781905Z",
     "shell.execute_reply.started": "2022-01-07T14:34:20.764899Z"
    },
    "tags": []
   },
   "source": [
    "## Encoding"
   ]
  },
  {
   "cell_type": "code",
   "execution_count": 32,
   "id": "a85deffc-dcc5-4f0d-89da-83a59c58c17a",
   "metadata": {
    "execution": {
     "iopub.execute_input": "2022-01-07T15:11:44.656302Z",
     "iopub.status.busy": "2022-01-07T15:11:44.656302Z",
     "iopub.status.idle": "2022-01-07T15:11:44.671927Z",
     "shell.execute_reply": "2022-01-07T15:11:44.671927Z",
     "shell.execute_reply.started": "2022-01-07T15:11:44.656302Z"
    }
   },
   "outputs": [
    {
     "data": {
      "text/plain": [
       "Index(['Gender', 'family_history_with_overweight', 'FAVC', 'CAEC', 'SMOKE',\n",
       "       'SCC', 'CALC', 'MTRANS', 'NObeyesdad'],\n",
       "      dtype='object')"
      ]
     },
     "execution_count": 32,
     "metadata": {},
     "output_type": "execute_result"
    }
   ],
   "source": [
    "cat_attr.columns"
   ]
  },
  {
   "cell_type": "code",
   "execution_count": 34,
   "id": "aec13746-5f75-456d-a2bd-a89fc3e22d92",
   "metadata": {
    "execution": {
     "iopub.execute_input": "2022-01-07T15:21:31.654623Z",
     "iopub.status.busy": "2022-01-07T15:21:31.654623Z",
     "iopub.status.idle": "2022-01-07T15:21:31.678646Z",
     "shell.execute_reply": "2022-01-07T15:21:31.677643Z",
     "shell.execute_reply.started": "2022-01-07T15:21:31.654623Z"
    },
    "tags": []
   },
   "outputs": [
    {
     "data": {
      "text/plain": [
       "Gender                            2\n",
       "family_history_with_overweight    2\n",
       "FAVC                              2\n",
       "CAEC                              4\n",
       "SMOKE                             2\n",
       "SCC                               2\n",
       "CALC                              4\n",
       "MTRANS                            5\n",
       "NObeyesdad                        7\n",
       "dtype: int64"
      ]
     },
     "execution_count": 34,
     "metadata": {},
     "output_type": "execute_result"
    }
   ],
   "source": [
    "cat_attr.nunique()"
   ]
  },
  {
   "cell_type": "code",
   "execution_count": 35,
   "id": "cbf2313a-7af7-4110-bfb4-56723f82ed47",
   "metadata": {
    "execution": {
     "iopub.execute_input": "2022-01-07T16:32:31.775908Z",
     "iopub.status.busy": "2022-01-07T16:32:31.775908Z",
     "iopub.status.idle": "2022-01-07T16:32:31.788920Z",
     "shell.execute_reply": "2022-01-07T16:32:31.788920Z",
     "shell.execute_reply.started": "2022-01-07T16:32:31.775908Z"
    },
    "tags": []
   },
   "outputs": [
    {
     "data": {
      "text/plain": [
       "array(['Female', 'Male'], dtype=object)"
      ]
     },
     "execution_count": 35,
     "metadata": {},
     "output_type": "execute_result"
    }
   ],
   "source": [
    "df2['Gender'].unique()"
   ]
  },
  {
   "cell_type": "code",
   "execution_count": 36,
   "id": "201cfd31-2607-46e8-8b41-5a6d6f7ccbd6",
   "metadata": {
    "execution": {
     "iopub.execute_input": "2022-01-07T16:32:44.176879Z",
     "iopub.status.busy": "2022-01-07T16:32:44.176879Z",
     "iopub.status.idle": "2022-01-07T16:32:44.193905Z",
     "shell.execute_reply": "2022-01-07T16:32:44.193905Z",
     "shell.execute_reply.started": "2022-01-07T16:32:44.176879Z"
    },
    "tags": []
   },
   "outputs": [],
   "source": [
    "temp_dict = {'Female': 1, 'Male': 0}\n",
    "df2['Gender'] = df2['Gender'].map(temp_dict)"
   ]
  },
  {
   "cell_type": "code",
   "execution_count": 37,
   "id": "252ca074-102d-4fc0-beb6-038fcc56ba8d",
   "metadata": {
    "execution": {
     "iopub.execute_input": "2022-01-07T16:32:47.586326Z",
     "iopub.status.busy": "2022-01-07T16:32:47.585326Z",
     "iopub.status.idle": "2022-01-07T16:32:47.594343Z",
     "shell.execute_reply": "2022-01-07T16:32:47.594343Z",
     "shell.execute_reply.started": "2022-01-07T16:32:47.586326Z"
    },
    "tags": []
   },
   "outputs": [
    {
     "data": {
      "text/plain": [
       "array(['yes', 'no'], dtype=object)"
      ]
     },
     "execution_count": 37,
     "metadata": {},
     "output_type": "execute_result"
    }
   ],
   "source": [
    "df2['family_history_with_overweight'].unique()"
   ]
  },
  {
   "cell_type": "code",
   "execution_count": 38,
   "id": "ccc95938-d915-4200-8002-9ca5372b486f",
   "metadata": {
    "execution": {
     "iopub.execute_input": "2022-01-07T16:32:59.043621Z",
     "iopub.status.busy": "2022-01-07T16:32:59.043621Z",
     "iopub.status.idle": "2022-01-07T16:32:59.054621Z",
     "shell.execute_reply": "2022-01-07T16:32:59.054621Z",
     "shell.execute_reply.started": "2022-01-07T16:32:59.043621Z"
    },
    "tags": []
   },
   "outputs": [],
   "source": [
    "temp_dict = {'yes': 1, 'no': 0}\n",
    "df2['family_history_with_overweight'] = df2['family_history_with_overweight'].map(temp_dict)"
   ]
  },
  {
   "cell_type": "code",
   "execution_count": 39,
   "id": "0430eada-330a-4ab3-a121-fa441844ed82",
   "metadata": {
    "execution": {
     "iopub.execute_input": "2022-01-07T16:33:07.458387Z",
     "iopub.status.busy": "2022-01-07T16:33:07.458387Z",
     "iopub.status.idle": "2022-01-07T16:33:07.468386Z",
     "shell.execute_reply": "2022-01-07T16:33:07.468386Z",
     "shell.execute_reply.started": "2022-01-07T16:33:07.458387Z"
    },
    "tags": []
   },
   "outputs": [
    {
     "data": {
      "text/plain": [
       "array(['no', 'yes'], dtype=object)"
      ]
     },
     "execution_count": 39,
     "metadata": {},
     "output_type": "execute_result"
    }
   ],
   "source": [
    "df2['FAVC'].unique()"
   ]
  },
  {
   "cell_type": "code",
   "execution_count": 40,
   "id": "94e04f36-3d69-4d8b-8c4b-777e4883563d",
   "metadata": {
    "execution": {
     "iopub.execute_input": "2022-01-07T16:33:21.437224Z",
     "iopub.status.busy": "2022-01-07T16:33:21.437224Z",
     "iopub.status.idle": "2022-01-07T16:33:21.450235Z",
     "shell.execute_reply": "2022-01-07T16:33:21.450235Z",
     "shell.execute_reply.started": "2022-01-07T16:33:21.437224Z"
    },
    "tags": []
   },
   "outputs": [],
   "source": [
    "temp_dict = {'yes': 1, 'no': 0}\n",
    "df2['FAVC'] = df2['FAVC'].map(temp_dict)"
   ]
  },
  {
   "cell_type": "code",
   "execution_count": 43,
   "id": "a15960cf-d22f-4698-ac41-64f89680a345",
   "metadata": {
    "execution": {
     "iopub.execute_input": "2022-01-07T16:36:44.325195Z",
     "iopub.status.busy": "2022-01-07T16:36:44.325195Z",
     "iopub.status.idle": "2022-01-07T16:36:44.340208Z",
     "shell.execute_reply": "2022-01-07T16:36:44.340208Z",
     "shell.execute_reply.started": "2022-01-07T16:36:44.325195Z"
    },
    "tags": []
   },
   "outputs": [
    {
     "data": {
      "text/plain": [
       "array([1, 2, 3, 0], dtype=int64)"
      ]
     },
     "execution_count": 43,
     "metadata": {},
     "output_type": "execute_result"
    }
   ],
   "source": [
    "df2['CAEC'].unique()"
   ]
  },
  {
   "cell_type": "code",
   "execution_count": 42,
   "id": "cb76c514-d685-4b60-a364-77d83653d308",
   "metadata": {
    "execution": {
     "iopub.execute_input": "2022-01-07T16:36:40.358051Z",
     "iopub.status.busy": "2022-01-07T16:36:40.358051Z",
     "iopub.status.idle": "2022-01-07T16:36:40.369061Z",
     "shell.execute_reply": "2022-01-07T16:36:40.369061Z",
     "shell.execute_reply.started": "2022-01-07T16:36:40.358051Z"
    },
    "tags": []
   },
   "outputs": [],
   "source": [
    "ordinal_encoding = {'no': 0, 'Sometimes': 1, 'Frequently': 2, 'Always': 3}\n",
    "df2['CAEC'] = df2['CAEC'].map(ordinal_encoding)"
   ]
  },
  {
   "cell_type": "code",
   "execution_count": 45,
   "id": "0ef93433-a488-4671-b49e-c004ec8e83fb",
   "metadata": {
    "execution": {
     "iopub.execute_input": "2022-01-07T16:37:03.810017Z",
     "iopub.status.busy": "2022-01-07T16:37:03.809016Z",
     "iopub.status.idle": "2022-01-07T16:37:03.814020Z",
     "shell.execute_reply": "2022-01-07T16:37:03.814020Z",
     "shell.execute_reply.started": "2022-01-07T16:37:03.810017Z"
    },
    "tags": []
   },
   "outputs": [
    {
     "data": {
      "text/plain": [
       "array(['no', 'yes'], dtype=object)"
      ]
     },
     "execution_count": 45,
     "metadata": {},
     "output_type": "execute_result"
    }
   ],
   "source": [
    "df2['SMOKE'].unique()"
   ]
  },
  {
   "cell_type": "code",
   "execution_count": 46,
   "id": "d9d1962b-bb37-4f49-bd35-6a85ed93953c",
   "metadata": {
    "execution": {
     "iopub.execute_input": "2022-01-07T16:37:29.712901Z",
     "iopub.status.busy": "2022-01-07T16:37:29.711901Z",
     "iopub.status.idle": "2022-01-07T16:37:29.719907Z",
     "shell.execute_reply": "2022-01-07T16:37:29.719907Z",
     "shell.execute_reply.started": "2022-01-07T16:37:29.712901Z"
    },
    "tags": []
   },
   "outputs": [],
   "source": [
    "temp_dict = {'yes': 1, 'no': 0}\n",
    "df2['SMOKE'] = df2['SMOKE'].map(temp_dict)"
   ]
  },
  {
   "cell_type": "code",
   "execution_count": 48,
   "id": "19bb5977-adb7-47c3-8a39-23d15b7dc8f4",
   "metadata": {
    "execution": {
     "iopub.execute_input": "2022-01-07T16:37:47.395801Z",
     "iopub.status.busy": "2022-01-07T16:37:47.395801Z",
     "iopub.status.idle": "2022-01-07T16:37:47.406811Z",
     "shell.execute_reply": "2022-01-07T16:37:47.406811Z",
     "shell.execute_reply.started": "2022-01-07T16:37:47.395801Z"
    },
    "tags": []
   },
   "outputs": [
    {
     "data": {
      "text/plain": [
       "array(['no', 'yes'], dtype=object)"
      ]
     },
     "execution_count": 48,
     "metadata": {},
     "output_type": "execute_result"
    }
   ],
   "source": [
    "df2['SCC'].unique()"
   ]
  },
  {
   "cell_type": "code",
   "execution_count": 49,
   "id": "467f3348-3a84-4ed6-b214-bae8cc011fca",
   "metadata": {
    "execution": {
     "iopub.execute_input": "2022-01-07T16:37:55.476759Z",
     "iopub.status.busy": "2022-01-07T16:37:55.476759Z",
     "iopub.status.idle": "2022-01-07T16:37:55.485767Z",
     "shell.execute_reply": "2022-01-07T16:37:55.485767Z",
     "shell.execute_reply.started": "2022-01-07T16:37:55.476759Z"
    },
    "tags": []
   },
   "outputs": [],
   "source": [
    "temp_dict = {'yes': 1, 'no': 0}\n",
    "df2['SCC'] = df2['SCC'].map(temp_dict)"
   ]
  },
  {
   "cell_type": "code",
   "execution_count": 50,
   "id": "81a706c7-dd24-49dc-9c26-d0e5293c845f",
   "metadata": {
    "execution": {
     "iopub.execute_input": "2022-01-07T16:38:06.017719Z",
     "iopub.status.busy": "2022-01-07T16:38:06.017719Z",
     "iopub.status.idle": "2022-01-07T16:38:06.028733Z",
     "shell.execute_reply": "2022-01-07T16:38:06.028733Z",
     "shell.execute_reply.started": "2022-01-07T16:38:06.017719Z"
    },
    "tags": []
   },
   "outputs": [
    {
     "data": {
      "text/plain": [
       "array(['no', 'Sometimes', 'Frequently', 'Always'], dtype=object)"
      ]
     },
     "execution_count": 50,
     "metadata": {},
     "output_type": "execute_result"
    }
   ],
   "source": [
    "df2['CALC'].unique()"
   ]
  },
  {
   "cell_type": "code",
   "execution_count": 51,
   "id": "edde557d-2571-4ed7-8e18-bc51903f26dd",
   "metadata": {
    "execution": {
     "iopub.execute_input": "2022-01-07T16:38:17.798699Z",
     "iopub.status.busy": "2022-01-07T16:38:17.798699Z",
     "iopub.status.idle": "2022-01-07T16:38:17.803694Z",
     "shell.execute_reply": "2022-01-07T16:38:17.803694Z",
     "shell.execute_reply.started": "2022-01-07T16:38:17.798699Z"
    },
    "tags": []
   },
   "outputs": [],
   "source": [
    "ordinal_encoding = {'no': 0, 'Sometimes': 1, 'Frequently': 2, 'Always': 3}\n",
    "df2['CALC'] = df2['CALC'].map(ordinal_encoding)"
   ]
  },
  {
   "cell_type": "code",
   "execution_count": 52,
   "id": "029083db-b723-4e4f-be6f-8f56da0751d4",
   "metadata": {
    "execution": {
     "iopub.execute_input": "2022-01-07T16:38:30.787652Z",
     "iopub.status.busy": "2022-01-07T16:38:30.786651Z",
     "iopub.status.idle": "2022-01-07T16:38:30.798661Z",
     "shell.execute_reply": "2022-01-07T16:38:30.798661Z",
     "shell.execute_reply.started": "2022-01-07T16:38:30.787652Z"
    },
    "tags": []
   },
   "outputs": [
    {
     "data": {
      "text/plain": [
       "array(['Public_Transportation', 'Walking', 'Automobile', 'Motorbike',\n",
       "       'Bike'], dtype=object)"
      ]
     },
     "execution_count": 52,
     "metadata": {},
     "output_type": "execute_result"
    }
   ],
   "source": [
    "df2['MTRANS'].unique()"
   ]
  },
  {
   "cell_type": "code",
   "execution_count": 53,
   "id": "4d950682-b389-47c0-a786-172e39059961",
   "metadata": {
    "execution": {
     "iopub.execute_input": "2022-01-07T16:45:53.288924Z",
     "iopub.status.busy": "2022-01-07T16:45:53.288924Z",
     "iopub.status.idle": "2022-01-07T16:45:53.299942Z",
     "shell.execute_reply": "2022-01-07T16:45:53.299942Z",
     "shell.execute_reply.started": "2022-01-07T16:45:53.288924Z"
    },
    "tags": []
   },
   "outputs": [],
   "source": [
    "frequency_encoder = df2.groupby('MTRANS').size()/len(df1)\n",
    "df2.loc[:, 'MTRANS'] = df2['MTRANS'].map(frequency_encoder)"
   ]
  },
  {
   "cell_type": "code",
   "execution_count": 58,
   "id": "392bfa02-d0b2-4c0d-8a26-35efb0fd4001",
   "metadata": {
    "execution": {
     "iopub.execute_input": "2022-01-07T16:48:42.280025Z",
     "iopub.status.busy": "2022-01-07T16:48:42.279024Z",
     "iopub.status.idle": "2022-01-07T16:48:42.298040Z",
     "shell.execute_reply": "2022-01-07T16:48:42.298040Z",
     "shell.execute_reply.started": "2022-01-07T16:48:42.280025Z"
    },
    "tags": []
   },
   "outputs": [
    {
     "data": {
      "text/plain": [
       "array(['Normal_Weight', 'Overweight_Level_I', 'Overweight_Level_II',\n",
       "       'Obesity_Type_I', 'Insufficient_Weight', 'Obesity_Type_II',\n",
       "       'Obesity_Type_III'], dtype=object)"
      ]
     },
     "execution_count": 58,
     "metadata": {},
     "output_type": "execute_result"
    }
   ],
   "source": [
    "# É PRECISO PESQUISAR SOBRE SE HÁ ALGUMA FORMA MELHOR DE FAZER O ENCODING DA VARIÁVEL ALVO\n",
    "\n",
    "# comparar os resultados utilizando encodings diferentes para a variável alvo\n",
    "\n",
    "df2['NObeyesdad'].unique()"
   ]
  },
  {
   "cell_type": "code",
   "execution_count": 60,
   "id": "8c2d21a5-164b-4580-ba2b-35fb8b470806",
   "metadata": {
    "execution": {
     "iopub.execute_input": "2022-01-07T16:51:37.029036Z",
     "iopub.status.busy": "2022-01-07T16:51:37.029036Z",
     "iopub.status.idle": "2022-01-07T16:51:37.037030Z",
     "shell.execute_reply": "2022-01-07T16:51:37.037030Z",
     "shell.execute_reply.started": "2022-01-07T16:51:37.029036Z"
    },
    "tags": []
   },
   "outputs": [],
   "source": [
    "# frequency_encoder = df2.groupby('NObeyesdad').size()/len(df1)\n",
    "# df2.loc[:, 'target'] = df2['NObeyesdad'].map(frequency_encoder)"
   ]
  },
  {
   "cell_type": "code",
   "execution_count": 63,
   "id": "393a8e12-930a-4046-8e93-f94c0e9e5d08",
   "metadata": {
    "execution": {
     "iopub.execute_input": "2022-01-07T16:54:35.973988Z",
     "iopub.status.busy": "2022-01-07T16:54:35.973988Z",
     "iopub.status.idle": "2022-01-07T16:54:35.980994Z",
     "shell.execute_reply": "2022-01-07T16:54:35.980994Z",
     "shell.execute_reply.started": "2022-01-07T16:54:35.973988Z"
    },
    "tags": []
   },
   "outputs": [],
   "source": [
    "temp_dict = {'Insufficient_Weight' : 0, 'Normal_Weight': 1, 'Overweight_Level_I': 2, 'Overweight_Level_II': 3, 'Obesity_Type_I': 4, 'Obesity_Type_II': 5, 'Obesity_Type_III': 6}\n",
    "df2['target'] = df2['NObeyesdad'].map(temp_dict)"
   ]
  },
  {
   "cell_type": "code",
   "execution_count": 64,
   "id": "96f029d6-f464-4927-ad66-06cd1f62bdc2",
   "metadata": {
    "execution": {
     "iopub.execute_input": "2022-01-07T16:54:38.121323Z",
     "iopub.status.busy": "2022-01-07T16:54:38.121323Z",
     "iopub.status.idle": "2022-01-07T16:54:38.148347Z",
     "shell.execute_reply": "2022-01-07T16:54:38.148347Z",
     "shell.execute_reply.started": "2022-01-07T16:54:38.121323Z"
    },
    "tags": []
   },
   "outputs": [
    {
     "data": {
      "text/html": [
       "<div>\n",
       "<style scoped>\n",
       "    .dataframe tbody tr th:only-of-type {\n",
       "        vertical-align: middle;\n",
       "    }\n",
       "\n",
       "    .dataframe tbody tr th {\n",
       "        vertical-align: top;\n",
       "    }\n",
       "\n",
       "    .dataframe thead th {\n",
       "        text-align: right;\n",
       "    }\n",
       "</style>\n",
       "<table border=\"1\" class=\"dataframe\">\n",
       "  <thead>\n",
       "    <tr style=\"text-align: right;\">\n",
       "      <th></th>\n",
       "      <th>Gender</th>\n",
       "      <th>Age</th>\n",
       "      <th>Height</th>\n",
       "      <th>Weight</th>\n",
       "      <th>family_history_with_overweight</th>\n",
       "      <th>FAVC</th>\n",
       "      <th>FCVC</th>\n",
       "      <th>NCP</th>\n",
       "      <th>CAEC</th>\n",
       "      <th>SMOKE</th>\n",
       "      <th>CH2O</th>\n",
       "      <th>SCC</th>\n",
       "      <th>FAF</th>\n",
       "      <th>TUE</th>\n",
       "      <th>CALC</th>\n",
       "      <th>MTRANS</th>\n",
       "      <th>NObeyesdad</th>\n",
       "      <th>target</th>\n",
       "    </tr>\n",
       "  </thead>\n",
       "  <tbody>\n",
       "    <tr>\n",
       "      <th>844</th>\n",
       "      <td>1</td>\n",
       "      <td>-0.18</td>\n",
       "      <td>0.29</td>\n",
       "      <td>0.22</td>\n",
       "      <td>1</td>\n",
       "      <td>1</td>\n",
       "      <td>0.45</td>\n",
       "      <td>0.78</td>\n",
       "      <td>0</td>\n",
       "      <td>0</td>\n",
       "      <td>0.96</td>\n",
       "      <td>0</td>\n",
       "      <td>0.33</td>\n",
       "      <td>0.15</td>\n",
       "      <td>1</td>\n",
       "      <td>0.75</td>\n",
       "      <td>Overweight_Level_I</td>\n",
       "      <td>2</td>\n",
       "    </tr>\n",
       "    <tr>\n",
       "      <th>864</th>\n",
       "      <td>0</td>\n",
       "      <td>0.08</td>\n",
       "      <td>0.49</td>\n",
       "      <td>0.27</td>\n",
       "      <td>1</td>\n",
       "      <td>1</td>\n",
       "      <td>0.78</td>\n",
       "      <td>0.31</td>\n",
       "      <td>1</td>\n",
       "      <td>0</td>\n",
       "      <td>0.09</td>\n",
       "      <td>0</td>\n",
       "      <td>0.06</td>\n",
       "      <td>0.46</td>\n",
       "      <td>1</td>\n",
       "      <td>0.75</td>\n",
       "      <td>Overweight_Level_I</td>\n",
       "      <td>2</td>\n",
       "    </tr>\n",
       "    <tr>\n",
       "      <th>1658</th>\n",
       "      <td>0</td>\n",
       "      <td>1.26</td>\n",
       "      <td>0.47</td>\n",
       "      <td>0.46</td>\n",
       "      <td>1</td>\n",
       "      <td>1</td>\n",
       "      <td>0.91</td>\n",
       "      <td>-3.17</td>\n",
       "      <td>1</td>\n",
       "      <td>0</td>\n",
       "      <td>0.00</td>\n",
       "      <td>0</td>\n",
       "      <td>0.46</td>\n",
       "      <td>0.28</td>\n",
       "      <td>0</td>\n",
       "      <td>0.75</td>\n",
       "      <td>Obesity_Type_II</td>\n",
       "      <td>5</td>\n",
       "    </tr>\n",
       "    <tr>\n",
       "      <th>1286</th>\n",
       "      <td>1</td>\n",
       "      <td>4.05</td>\n",
       "      <td>0.37</td>\n",
       "      <td>0.32</td>\n",
       "      <td>1</td>\n",
       "      <td>1</td>\n",
       "      <td>0.52</td>\n",
       "      <td>-4.63</td>\n",
       "      <td>1</td>\n",
       "      <td>0</td>\n",
       "      <td>0.41</td>\n",
       "      <td>0</td>\n",
       "      <td>0.00</td>\n",
       "      <td>0.00</td>\n",
       "      <td>0</td>\n",
       "      <td>0.22</td>\n",
       "      <td>Obesity_Type_I</td>\n",
       "      <td>4</td>\n",
       "    </tr>\n",
       "    <tr>\n",
       "      <th>1874</th>\n",
       "      <td>1</td>\n",
       "      <td>0.28</td>\n",
       "      <td>0.35</td>\n",
       "      <td>0.55</td>\n",
       "      <td>1</td>\n",
       "      <td>1</td>\n",
       "      <td>1.00</td>\n",
       "      <td>0.00</td>\n",
       "      <td>1</td>\n",
       "      <td>0</td>\n",
       "      <td>0.79</td>\n",
       "      <td>0</td>\n",
       "      <td>0.06</td>\n",
       "      <td>0.23</td>\n",
       "      <td>1</td>\n",
       "      <td>0.75</td>\n",
       "      <td>Obesity_Type_III</td>\n",
       "      <td>6</td>\n",
       "    </tr>\n",
       "  </tbody>\n",
       "</table>\n",
       "</div>"
      ],
      "text/plain": [
       "      Gender   Age  Height  Weight  family_history_with_overweight  FAVC  FCVC   NCP  CAEC  SMOKE  CH2O  SCC  FAF  TUE  CALC  MTRANS          NObeyesdad  target\n",
       "844        1 -0.18    0.29    0.22                               1     1  0.45  0.78     0      0  0.96    0 0.33 0.15     1    0.75  Overweight_Level_I       2\n",
       "864        0  0.08    0.49    0.27                               1     1  0.78  0.31     1      0  0.09    0 0.06 0.46     1    0.75  Overweight_Level_I       2\n",
       "1658       0  1.26    0.47    0.46                               1     1  0.91 -3.17     1      0  0.00    0 0.46 0.28     0    0.75     Obesity_Type_II       5\n",
       "1286       1  4.05    0.37    0.32                               1     1  0.52 -4.63     1      0  0.41    0 0.00 0.00     0    0.22      Obesity_Type_I       4\n",
       "1874       1  0.28    0.35    0.55                               1     1  1.00  0.00     1      0  0.79    0 0.06 0.23     1    0.75    Obesity_Type_III       6"
      ]
     },
     "execution_count": 64,
     "metadata": {},
     "output_type": "execute_result"
    }
   ],
   "source": [
    "df2.sample(5)"
   ]
  },
  {
   "cell_type": "markdown",
   "id": "5bb9d6ad-4ef9-4fff-ae9c-b490efd23aee",
   "metadata": {},
   "source": [
    "# 6.0 Feature Selection"
   ]
  },
  {
   "cell_type": "code",
   "execution_count": 66,
   "id": "a0d5726a-0ed5-4a6c-a2fe-6d4ffee30853",
   "metadata": {
    "execution": {
     "iopub.execute_input": "2022-01-07T16:55:35.356059Z",
     "iopub.status.busy": "2022-01-07T16:55:35.355059Z",
     "iopub.status.idle": "2022-01-07T16:55:35.367069Z",
     "shell.execute_reply": "2022-01-07T16:55:35.367069Z",
     "shell.execute_reply.started": "2022-01-07T16:55:35.356059Z"
    },
    "tags": []
   },
   "outputs": [],
   "source": [
    "df3 = df2.copy()"
   ]
  },
  {
   "cell_type": "markdown",
   "id": "3bccc709-049d-4f30-a16c-1245d9eacd76",
   "metadata": {},
   "source": [
    "## 6.1 Split Dataframe into Training and Test Dataset"
   ]
  },
  {
   "cell_type": "code",
   "execution_count": 68,
   "id": "834d8a29-0f2e-4bd3-906a-3571ea35d417",
   "metadata": {
    "execution": {
     "iopub.execute_input": "2022-01-07T18:48:46.758699Z",
     "iopub.status.busy": "2022-01-07T18:48:46.757698Z",
     "iopub.status.idle": "2022-01-07T18:48:46.770709Z",
     "shell.execute_reply": "2022-01-07T18:48:46.770709Z",
     "shell.execute_reply.started": "2022-01-07T18:48:46.758699Z"
    },
    "tags": []
   },
   "outputs": [
    {
     "name": "stdout",
     "output_type": "stream",
     "text": [
      "\n",
      "Tamanho treino: 1583\n",
      "Tamanho teste: 528\n"
     ]
    }
   ],
   "source": [
    "X_train, X_test, y_train, y_test = train_test_split(df2.drop(['NObeyesdad', 'target'], axis=1), df2['target'], random_state = 16, train_size=0.75)\n",
    "\n",
    "print('\\nTamanho treino: {}'.format(X_train.shape[0]))\n",
    "print('Tamanho teste: {}'.format(X_test.shape[0]))"
   ]
  },
  {
   "cell_type": "markdown",
   "id": "c0b0efe2-0987-44fc-a724-07e1dc6abfcf",
   "metadata": {},
   "source": [
    "## 6.2 Boruta as Feature Selector"
   ]
  },
  {
   "cell_type": "code",
   "execution_count": 69,
   "id": "3de52aa2-c983-42d1-a740-a8cda498729e",
   "metadata": {
    "execution": {
     "iopub.execute_input": "2022-01-07T18:49:32.221418Z",
     "iopub.status.busy": "2022-01-07T18:49:32.221418Z",
     "iopub.status.idle": "2022-01-07T18:49:32.236439Z",
     "shell.execute_reply": "2022-01-07T18:49:32.236439Z",
     "shell.execute_reply.started": "2022-01-07T18:49:32.221418Z"
    },
    "tags": []
   },
   "outputs": [],
   "source": [
    "# training and test dataset for Boruta\n",
    "X_train_n = X_train.values\n",
    "y_train_n = y_train.values.ravel()"
   ]
  },
  {
   "cell_type": "code",
   "execution_count": 76,
   "id": "b9755ca2-f567-4a80-baef-3214d7fd2f08",
   "metadata": {
    "execution": {
     "iopub.execute_input": "2022-01-07T18:50:42.252296Z",
     "iopub.status.busy": "2022-01-07T18:50:42.252296Z",
     "iopub.status.idle": "2022-01-07T18:50:43.411340Z",
     "shell.execute_reply": "2022-01-07T18:50:43.411340Z",
     "shell.execute_reply.started": "2022-01-07T18:50:42.252296Z"
    },
    "tags": []
   },
   "outputs": [
    {
     "name": "stdout",
     "output_type": "stream",
     "text": [
      "Iteration: \t1 / 100\n",
      "Confirmed: \t0\n",
      "Tentative: \t16\n",
      "Rejected: \t0\n",
      "Iteration: \t2 / 100\n",
      "Confirmed: \t0\n",
      "Tentative: \t16\n",
      "Rejected: \t0\n",
      "Iteration: \t3 / 100\n",
      "Confirmed: \t0\n",
      "Tentative: \t16\n",
      "Rejected: \t0\n",
      "Iteration: \t4 / 100\n",
      "Confirmed: \t0\n",
      "Tentative: \t16\n",
      "Rejected: \t0\n",
      "Iteration: \t5 / 100\n",
      "Confirmed: \t0\n",
      "Tentative: \t16\n",
      "Rejected: \t0\n",
      "Iteration: \t6 / 100\n",
      "Confirmed: \t0\n",
      "Tentative: \t16\n",
      "Rejected: \t0\n",
      "Iteration: \t7 / 100\n",
      "Confirmed: \t0\n",
      "Tentative: \t16\n",
      "Rejected: \t0\n",
      "Iteration: \t8 / 100\n",
      "Confirmed: \t12\n",
      "Tentative: \t0\n",
      "Rejected: \t4\n",
      "\n",
      "\n",
      "BorutaPy finished running.\n",
      "\n",
      "Iteration: \t9 / 100\n",
      "Confirmed: \t12\n",
      "Tentative: \t0\n",
      "Rejected: \t4\n"
     ]
    }
   ],
   "source": [
    "# define RandomForestRegressor\n",
    "rf = RandomForestClassifier(n_jobs=-2)\n",
    "\n",
    "# define Boruta\n",
    "boruta = BorutaPy(rf, n_estimators='auto', verbose=2, random_state=42).fit(X_train_n, y_train_n)"
   ]
  },
  {
   "cell_type": "markdown",
   "id": "f01ba1d9-2430-49c1-a2aa-90154ea19847",
   "metadata": {
    "execution": {
     "iopub.execute_input": "2020-07-27T17:37:35.277199Z",
     "iopub.status.busy": "2020-07-27T17:37:35.277199Z",
     "iopub.status.idle": "2020-07-27T17:37:35.280201Z",
     "shell.execute_reply": "2020-07-27T17:37:35.280201Z",
     "shell.execute_reply.started": "2020-07-27T17:37:35.277199Z"
    }
   },
   "source": [
    "### 6.2.1 Best Features from Boruta"
   ]
  },
  {
   "cell_type": "code",
   "execution_count": 77,
   "id": "e2d8f0d6-4ad0-4711-a2d2-c67294a49cd1",
   "metadata": {
    "execution": {
     "iopub.execute_input": "2022-01-07T18:50:48.925303Z",
     "iopub.status.busy": "2022-01-07T18:50:48.924301Z",
     "iopub.status.idle": "2022-01-07T18:50:48.943318Z",
     "shell.execute_reply": "2022-01-07T18:50:48.942317Z",
     "shell.execute_reply.started": "2022-01-07T18:50:48.925303Z"
    },
    "tags": []
   },
   "outputs": [],
   "source": [
    "cols_selected = boruta.support_.tolist()\n",
    "\n",
    "# best features\n",
    "X_train_fs = X_train\n",
    "cols_selected_boruta = X_train_fs.iloc[:, cols_selected].columns.to_list()\n",
    "\n",
    "# not selected boruta\n",
    "cols_not_selected_boruta = list(np.setdiff1d(X_train_fs.columns, cols_selected_boruta))"
   ]
  },
  {
   "cell_type": "code",
   "execution_count": 78,
   "id": "ac5f406e-91f6-4449-81b3-c31931624dc4",
   "metadata": {
    "execution": {
     "iopub.execute_input": "2022-01-07T18:50:49.464788Z",
     "iopub.status.busy": "2022-01-07T18:50:49.463787Z",
     "iopub.status.idle": "2022-01-07T18:50:49.470793Z",
     "shell.execute_reply": "2022-01-07T18:50:49.470793Z",
     "shell.execute_reply.started": "2022-01-07T18:50:49.463787Z"
    },
    "tags": []
   },
   "outputs": [
    {
     "data": {
      "text/plain": [
       "['Gender',\n",
       " 'Age',\n",
       " 'Height',\n",
       " 'Weight',\n",
       " 'family_history_with_overweight',\n",
       " 'FCVC',\n",
       " 'NCP',\n",
       " 'CAEC',\n",
       " 'CH2O',\n",
       " 'FAF',\n",
       " 'TUE',\n",
       " 'CALC']"
      ]
     },
     "execution_count": 78,
     "metadata": {},
     "output_type": "execute_result"
    }
   ],
   "source": [
    "cols_selected_boruta"
   ]
  },
  {
   "cell_type": "code",
   "execution_count": 79,
   "id": "b1de4799-f25f-4e35-8c90-a34e84205414",
   "metadata": {
    "execution": {
     "iopub.execute_input": "2022-01-07T18:50:49.935212Z",
     "iopub.status.busy": "2022-01-07T18:50:49.935212Z",
     "iopub.status.idle": "2022-01-07T18:50:49.952228Z",
     "shell.execute_reply": "2022-01-07T18:50:49.951226Z",
     "shell.execute_reply.started": "2022-01-07T18:50:49.935212Z"
    },
    "tags": []
   },
   "outputs": [
    {
     "data": {
      "text/plain": [
       "['FAVC', 'MTRANS', 'SCC', 'SMOKE']"
      ]
     },
     "execution_count": 79,
     "metadata": {},
     "output_type": "execute_result"
    }
   ],
   "source": [
    "cols_not_selected_boruta"
   ]
  },
  {
   "cell_type": "markdown",
   "id": "35bc43db-256d-40c9-a4dc-e76fb33b9f95",
   "metadata": {
    "execution": {
     "iopub.execute_input": "2020-07-27T17:37:35.277199Z",
     "iopub.status.busy": "2020-07-27T17:37:35.277199Z",
     "iopub.status.idle": "2020-07-27T17:37:35.280201Z",
     "shell.execute_reply": "2020-07-27T17:37:35.280201Z",
     "shell.execute_reply.started": "2020-07-27T17:37:35.277199Z"
    }
   },
   "source": [
    "### 6.2.1 Best Features from Boruta"
   ]
  },
  {
   "cell_type": "markdown",
   "id": "9955c134-cc18-4fc1-beef-84c21ffbf55e",
   "metadata": {},
   "source": [
    "## 6.3 Manual Feature Selection"
   ]
  },
  {
   "cell_type": "code",
   "execution_count": 125,
   "id": "ef3fd3a1-790f-444f-8f7a-18bfdfa68237",
   "metadata": {
    "execution": {
     "iopub.execute_input": "2021-11-20T21:14:00.695721Z",
     "iopub.status.busy": "2021-11-20T21:14:00.695721Z",
     "iopub.status.idle": "2021-11-20T21:14:00.711346Z",
     "shell.execute_reply": "2021-11-20T21:14:00.711346Z",
     "shell.execute_reply.started": "2021-11-20T21:14:00.695721Z"
    },
    "tags": []
   },
   "outputs": [],
   "source": [
    "# foram incluídos os senos do month e do week_of_year, pois não faz sentido ter as funções de cos sem ter o seno no modelo, pois elas juntas é que representam as variáveis originais\n",
    "cols_selected_boruta = ['Gender',\n",
    " 'Age',\n",
    " 'Height',\n",
    " 'Weight',\n",
    " 'family_history_with_overweight',\n",
    " 'FCVC',\n",
    " 'NCP',\n",
    " 'CAEC',\n",
    " 'CH2O',\n",
    " 'FAF',\n",
    " 'TUE',\n",
    " 'CALC']\n",
    "\n",
    "target = df5['room_type_target']\n",
    "\n",
    "# # columns to add\n",
    "# feat_to_add = ['room_type_target']\n",
    "# # final features\n",
    "# cols_selected_boruta_full = cols_selected_boruta.copy()\n",
    "# cols_selected_boruta_full.extend(feat_to_add)"
   ]
  },
  {
   "cell_type": "markdown",
   "id": "e7793e03-738f-4552-aa1b-fb78867d7705",
   "metadata": {},
   "source": [
    "## 6.4 Seleção por Importância"
   ]
  },
  {
   "cell_type": "markdown",
   "id": "8d3327e3-8546-4190-8b22-4e1101e7c832",
   "metadata": {},
   "source": [
    "### 6.4.1 Feature Selection Using Random Forest Classifier"
   ]
  },
  {
   "cell_type": "code",
   "execution_count": 80,
   "id": "11add8c4-69ad-4697-be02-d00ac0f43f27",
   "metadata": {
    "execution": {
     "iopub.execute_input": "2022-01-07T18:51:30.807244Z",
     "iopub.status.busy": "2022-01-07T18:51:30.806244Z",
     "iopub.status.idle": "2022-01-07T18:51:31.035886Z",
     "shell.execute_reply": "2022-01-07T18:51:31.035886Z",
     "shell.execute_reply.started": "2022-01-07T18:51:30.807244Z"
    },
    "tags": []
   },
   "outputs": [],
   "source": [
    "# model\n",
    "rf = RandomForestClassifier(n_estimators=100, n_jobs=-5, random_state=42 ).fit(X_train_n, y_train_n)"
   ]
  },
  {
   "cell_type": "code",
   "execution_count": 81,
   "id": "3d4a63d0-cac9-48d9-9e5b-76866c002971",
   "metadata": {
    "execution": {
     "iopub.execute_input": "2022-01-07T18:51:32.775949Z",
     "iopub.status.busy": "2022-01-07T18:51:32.775949Z",
     "iopub.status.idle": "2022-01-07T18:51:32.813983Z",
     "shell.execute_reply": "2022-01-07T18:51:32.813983Z",
     "shell.execute_reply.started": "2022-01-07T18:51:32.775949Z"
    },
    "tags": []
   },
   "outputs": [
    {
     "data": {
      "text/html": [
       "<div>\n",
       "<style scoped>\n",
       "    .dataframe tbody tr th:only-of-type {\n",
       "        vertical-align: middle;\n",
       "    }\n",
       "\n",
       "    .dataframe tbody tr th {\n",
       "        vertical-align: top;\n",
       "    }\n",
       "\n",
       "    .dataframe thead th {\n",
       "        text-align: right;\n",
       "    }\n",
       "</style>\n",
       "<table border=\"1\" class=\"dataframe\">\n",
       "  <thead>\n",
       "    <tr style=\"text-align: right;\">\n",
       "      <th></th>\n",
       "      <th>importance</th>\n",
       "    </tr>\n",
       "  </thead>\n",
       "  <tbody>\n",
       "    <tr>\n",
       "      <th>Weight</th>\n",
       "      <td>0.34</td>\n",
       "    </tr>\n",
       "    <tr>\n",
       "      <th>Height</th>\n",
       "      <td>0.10</td>\n",
       "    </tr>\n",
       "    <tr>\n",
       "      <th>Age</th>\n",
       "      <td>0.10</td>\n",
       "    </tr>\n",
       "    <tr>\n",
       "      <th>FCVC</th>\n",
       "      <td>0.09</td>\n",
       "    </tr>\n",
       "    <tr>\n",
       "      <th>Gender</th>\n",
       "      <td>0.05</td>\n",
       "    </tr>\n",
       "    <tr>\n",
       "      <th>NCP</th>\n",
       "      <td>0.05</td>\n",
       "    </tr>\n",
       "    <tr>\n",
       "      <th>TUE</th>\n",
       "      <td>0.05</td>\n",
       "    </tr>\n",
       "    <tr>\n",
       "      <th>CH2O</th>\n",
       "      <td>0.04</td>\n",
       "    </tr>\n",
       "    <tr>\n",
       "      <th>FAF</th>\n",
       "      <td>0.04</td>\n",
       "    </tr>\n",
       "    <tr>\n",
       "      <th>CAEC</th>\n",
       "      <td>0.03</td>\n",
       "    </tr>\n",
       "    <tr>\n",
       "      <th>CALC</th>\n",
       "      <td>0.03</td>\n",
       "    </tr>\n",
       "    <tr>\n",
       "      <th>family_history_with_overweight</th>\n",
       "      <td>0.03</td>\n",
       "    </tr>\n",
       "    <tr>\n",
       "      <th>MTRANS</th>\n",
       "      <td>0.02</td>\n",
       "    </tr>\n",
       "    <tr>\n",
       "      <th>FAVC</th>\n",
       "      <td>0.01</td>\n",
       "    </tr>\n",
       "    <tr>\n",
       "      <th>SCC</th>\n",
       "      <td>0.01</td>\n",
       "    </tr>\n",
       "    <tr>\n",
       "      <th>SMOKE</th>\n",
       "      <td>0.00</td>\n",
       "    </tr>\n",
       "  </tbody>\n",
       "</table>\n",
       "</div>"
      ],
      "text/plain": [
       "                                importance\n",
       "Weight                                0.34\n",
       "Height                                0.10\n",
       "Age                                   0.10\n",
       "FCVC                                  0.09\n",
       "Gender                                0.05\n",
       "NCP                                   0.05\n",
       "TUE                                   0.05\n",
       "CH2O                                  0.04\n",
       "FAF                                   0.04\n",
       "CAEC                                  0.03\n",
       "CALC                                  0.03\n",
       "family_history_with_overweight        0.03\n",
       "MTRANS                                0.02\n",
       "FAVC                                  0.01\n",
       "SCC                                   0.01\n",
       "SMOKE                                 0.00"
      ]
     },
     "execution_count": 81,
     "metadata": {},
     "output_type": "execute_result"
    }
   ],
   "source": [
    "feature_importances = pd.DataFrame(rf.feature_importances_,\n",
    "                                   index = X_train.columns,\n",
    "                                    columns=['importance']).sort_values('importance', ascending=False)\n",
    "feature_importances"
   ]
  },
  {
   "cell_type": "code",
   "execution_count": 82,
   "id": "81cc5da2-c21a-47d1-9d4d-10d6913934fb",
   "metadata": {
    "execution": {
     "iopub.execute_input": "2022-01-07T18:51:34.668220Z",
     "iopub.status.busy": "2022-01-07T18:51:34.668220Z",
     "iopub.status.idle": "2022-01-07T18:51:34.983504Z",
     "shell.execute_reply": "2022-01-07T18:51:34.983504Z",
     "shell.execute_reply.started": "2022-01-07T18:51:34.668220Z"
    },
    "tags": []
   },
   "outputs": [
    {
     "data": {
      "image/png": "[encoded data removed]",
      "text/plain": [
       "<Figure size 864x432 with 1 Axes>"
      ]
     },
     "metadata": {},
     "output_type": "display_data"
    }
   ],
   "source": [
    "pd.Series(rf.feature_importances_, index=X_train.columns).nlargest(len(X_train.columns)).plot(kind='barh');"
   ]
  },
  {
   "cell_type": "code",
   "execution_count": 83,
   "id": "c24d85fb-6f8e-4ee1-a702-5af82337bc6f",
   "metadata": {
    "execution": {
     "iopub.execute_input": "2022-01-07T18:51:36.156390Z",
     "iopub.status.busy": "2022-01-07T18:51:36.155379Z",
     "iopub.status.idle": "2022-01-07T18:51:36.468662Z",
     "shell.execute_reply": "2022-01-07T18:51:36.468662Z",
     "shell.execute_reply.started": "2022-01-07T18:51:36.156390Z"
    },
    "tags": []
   },
   "outputs": [
    {
     "data": {
      "image/png": "[encoded data removed]",
      "text/plain": [
       "<Figure size 864x432 with 1 Axes>"
      ]
     },
     "metadata": {},
     "output_type": "display_data"
    }
   ],
   "source": [
    "pd.Series(rf.feature_importances_, index=X_train.columns).plot(kind='barh');"
   ]
  },
  {
   "cell_type": "code",
   "execution_count": 84,
   "id": "40f8696f-8464-4a3f-a4a4-578dbce260fe",
   "metadata": {
    "execution": {
     "iopub.execute_input": "2022-01-07T18:51:37.920372Z",
     "iopub.status.busy": "2022-01-07T18:51:37.919361Z",
     "iopub.status.idle": "2022-01-07T18:51:38.220635Z",
     "shell.execute_reply": "2022-01-07T18:51:38.219632Z",
     "shell.execute_reply.started": "2022-01-07T18:51:37.920372Z"
    },
    "tags": []
   },
   "outputs": [
    {
     "data": {
      "image/png": "[encoded data removed]",
      "text/plain": [
       "<Figure size 864x432 with 1 Axes>"
      ]
     },
     "metadata": {},
     "output_type": "display_data"
    }
   ],
   "source": [
    "feat_importances = pd.Series(rf.feature_importances_, index=X_train.columns)\n",
    "feat_importances.nlargest(8).plot(kind='barh');"
   ]
  },
  {
   "cell_type": "markdown",
   "id": "3c0b8562-1c56-4d55-94e6-704e41f6cc02",
   "metadata": {},
   "source": [
    "### 6.4.2 Feature Selection Using Extra-Trees Classifier"
   ]
  },
  {
   "cell_type": "code",
   "execution_count": 85,
   "id": "22edcbae-f5f2-4c00-a112-693a87c026b8",
   "metadata": {
    "execution": {
     "iopub.execute_input": "2022-01-07T18:51:42.634067Z",
     "iopub.status.busy": "2022-01-07T18:51:42.633065Z",
     "iopub.status.idle": "2022-01-07T18:51:42.835247Z",
     "shell.execute_reply": "2022-01-07T18:51:42.835247Z",
     "shell.execute_reply.started": "2022-01-07T18:51:42.634067Z"
    },
    "tags": []
   },
   "outputs": [
    {
     "data": {
      "text/html": [
       "<div>\n",
       "<style scoped>\n",
       "    .dataframe tbody tr th:only-of-type {\n",
       "        vertical-align: middle;\n",
       "    }\n",
       "\n",
       "    .dataframe tbody tr th {\n",
       "        vertical-align: top;\n",
       "    }\n",
       "\n",
       "    .dataframe thead th {\n",
       "        text-align: right;\n",
       "    }\n",
       "</style>\n",
       "<table border=\"1\" class=\"dataframe\">\n",
       "  <thead>\n",
       "    <tr style=\"text-align: right;\">\n",
       "      <th></th>\n",
       "      <th>importance</th>\n",
       "    </tr>\n",
       "  </thead>\n",
       "  <tbody>\n",
       "    <tr>\n",
       "      <th>Weight</th>\n",
       "      <td>0.26</td>\n",
       "    </tr>\n",
       "    <tr>\n",
       "      <th>Height</th>\n",
       "      <td>0.08</td>\n",
       "    </tr>\n",
       "    <tr>\n",
       "      <th>Age</th>\n",
       "      <td>0.08</td>\n",
       "    </tr>\n",
       "    <tr>\n",
       "      <th>FCVC</th>\n",
       "      <td>0.08</td>\n",
       "    </tr>\n",
       "    <tr>\n",
       "      <th>Gender</th>\n",
       "      <td>0.08</td>\n",
       "    </tr>\n",
       "    <tr>\n",
       "      <th>NCP</th>\n",
       "      <td>0.06</td>\n",
       "    </tr>\n",
       "    <tr>\n",
       "      <th>CALC</th>\n",
       "      <td>0.06</td>\n",
       "    </tr>\n",
       "    <tr>\n",
       "      <th>family_history_with_overweight</th>\n",
       "      <td>0.05</td>\n",
       "    </tr>\n",
       "    <tr>\n",
       "      <th>CH2O</th>\n",
       "      <td>0.05</td>\n",
       "    </tr>\n",
       "    <tr>\n",
       "      <th>TUE</th>\n",
       "      <td>0.05</td>\n",
       "    </tr>\n",
       "    <tr>\n",
       "      <th>FAF</th>\n",
       "      <td>0.04</td>\n",
       "    </tr>\n",
       "    <tr>\n",
       "      <th>CAEC</th>\n",
       "      <td>0.04</td>\n",
       "    </tr>\n",
       "    <tr>\n",
       "      <th>MTRANS</th>\n",
       "      <td>0.04</td>\n",
       "    </tr>\n",
       "    <tr>\n",
       "      <th>FAVC</th>\n",
       "      <td>0.02</td>\n",
       "    </tr>\n",
       "    <tr>\n",
       "      <th>SCC</th>\n",
       "      <td>0.01</td>\n",
       "    </tr>\n",
       "    <tr>\n",
       "      <th>SMOKE</th>\n",
       "      <td>0.00</td>\n",
       "    </tr>\n",
       "  </tbody>\n",
       "</table>\n",
       "</div>"
      ],
      "text/plain": [
       "                                importance\n",
       "Weight                                0.26\n",
       "Height                                0.08\n",
       "Age                                   0.08\n",
       "FCVC                                  0.08\n",
       "Gender                                0.08\n",
       "NCP                                   0.06\n",
       "CALC                                  0.06\n",
       "family_history_with_overweight        0.05\n",
       "CH2O                                  0.05\n",
       "TUE                                   0.05\n",
       "FAF                                   0.04\n",
       "CAEC                                  0.04\n",
       "MTRANS                                0.04\n",
       "FAVC                                  0.02\n",
       "SCC                                   0.01\n",
       "SMOKE                                 0.00"
      ]
     },
     "execution_count": 85,
     "metadata": {},
     "output_type": "execute_result"
    }
   ],
   "source": [
    "et = ExtraTreesClassifier(n_jobs=-5)\n",
    "et.fit(X_train_n, y_train_n)\n",
    "\n",
    "feature_importances = pd.DataFrame(et.feature_importances_,\n",
    "                                   index = X_train.columns,\n",
    "                                    columns=['importance']).sort_values('importance', ascending=False)\n",
    "feature_importances"
   ]
  },
  {
   "cell_type": "code",
   "execution_count": 86,
   "id": "e6cca574-e4e8-4118-a2da-c09c2bf34d9f",
   "metadata": {
    "execution": {
     "iopub.execute_input": "2022-01-07T18:51:43.099486Z",
     "iopub.status.busy": "2022-01-07T18:51:43.099486Z",
     "iopub.status.idle": "2022-01-07T18:51:43.348710Z",
     "shell.execute_reply": "2022-01-07T18:51:43.347709Z",
     "shell.execute_reply.started": "2022-01-07T18:51:43.099486Z"
    },
    "tags": []
   },
   "outputs": [
    {
     "data": {
      "image/png": "[encoded data removed]",
      "text/plain": [
       "<Figure size 864x432 with 1 Axes>"
      ]
     },
     "metadata": {},
     "output_type": "display_data"
    }
   ],
   "source": [
    "feat_importances = pd.Series(et.feature_importances_, X_train.columns)\n",
    "feat_importances.nlargest(8).plot(kind='barh');"
   ]
  },
  {
   "cell_type": "markdown",
   "id": "72146945-7dd4-4d74-82ba-8d675cc3412c",
   "metadata": {
    "tags": []
   },
   "source": [
    "# 7.0 Machine Learning Modelling"
   ]
  },
  {
   "cell_type": "code",
   "execution_count": 88,
   "id": "85442509-f71c-46b5-a119-376dc28ded26",
   "metadata": {
    "execution": {
     "iopub.execute_input": "2022-01-07T18:52:42.473147Z",
     "iopub.status.busy": "2022-01-07T18:52:42.473147Z",
     "iopub.status.idle": "2022-01-07T18:52:42.484155Z",
     "shell.execute_reply": "2022-01-07T18:52:42.484155Z",
     "shell.execute_reply.started": "2022-01-07T18:52:42.473147Z"
    },
    "tags": []
   },
   "outputs": [],
   "source": [
    "def classification_report_with_accuracy_score(y_true, y_pred):\n",
    "  print(classification_report(y_true, y_pred))\n",
    "  return accuracy_score(y_true, y_true)"
   ]
  },
  {
   "cell_type": "markdown",
   "id": "40e39a15-6e89-47e3-805f-570c6bc41cd9",
   "metadata": {},
   "source": [
    "## 7.1 Dummy Model"
   ]
  }
 ],
 "metadata": {
  "kernelspec": {
   "display_name": "Python 3 (ipykernel)",
   "language": "python",
   "name": "python3"
  },
  "language_info": {
   "codemirror_mode": {
    "name": "ipython",
    "version": 3
   },
   "file_extension": ".py",
   "mimetype": "text/x-python",
   "name": "python",
   "nbconvert_exporter": "python",
   "pygments_lexer": "ipython3",
   "version": "3.8.12"
  }
 },
 "nbformat": 4,
 "nbformat_minor": 5
}
