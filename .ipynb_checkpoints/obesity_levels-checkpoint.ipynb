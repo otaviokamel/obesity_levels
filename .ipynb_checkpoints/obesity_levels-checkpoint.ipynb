{
 "cells": [
  {
   "cell_type": "markdown",
   "id": "bd683ba8-dcd2-4bbe-8c6f-80993672c437",
   "metadata": {},
   "source": [
    "# Import"
   ]
  },
  {
   "cell_type": "code",
   "execution_count": 449,
   "id": "a2da1cf8-d69d-4070-b992-74e6f02fc48c",
   "metadata": {
    "execution": {
     "iopub.execute_input": "2022-01-11T20:06:23.048371Z",
     "iopub.status.busy": "2022-01-11T20:06:23.048371Z",
     "iopub.status.idle": "2022-01-11T20:06:23.055377Z",
     "shell.execute_reply": "2022-01-11T20:06:23.055377Z",
     "shell.execute_reply.started": "2022-01-11T20:06:23.048371Z"
    },
    "tags": []
   },
   "outputs": [],
   "source": [
    "import pandas as pd\n",
    "import numpy as np\n",
    "import seaborn as sns\n",
    "\n",
    "from matplotlib import pyplot as plt\n",
    "from sklearn.preprocessing import MinMaxScaler, RobustScaler\n",
    "from sklearn.model_selection import cross_val_score, cross_validate, GridSearchCV, RandomizedSearchCV, train_test_split\n",
    "from sklearn.ensemble import RandomForestClassifier, ExtraTreesClassifier\n",
    "from boruta import BorutaPy\n",
    "from sklearn.naive_bayes import GaussianNB\n",
    "from sklearn.neighbors import KNeighborsClassifier\n",
    "from sklearn.tree import DecisionTreeClassifier\n",
    "from sklearn import tree\n",
    "from sklearn.metrics import classification_report, confusion_matrix, roc_curve, roc_auc_score\n",
    "from sklearn.model_selection import cross_validate, cross_val_score, cross_val_predict, StratifiedKFold\n",
    "from sklearn.metrics import make_scorer, accuracy_score\n",
    "from sklearn.svm import SVC"
   ]
  },
  {
   "cell_type": "markdown",
   "id": "261b9c4a-af62-4e97-8268-230a5b3595bb",
   "metadata": {
    "tags": []
   },
   "source": [
    "## 0. Global Settings"
   ]
  },
  {
   "cell_type": "code",
   "execution_count": 62,
   "id": "3b477f10-0456-42bf-a5e7-add3c3f15891",
   "metadata": {
    "execution": {
     "iopub.execute_input": "2022-01-10T14:48:28.166602Z",
     "iopub.status.busy": "2022-01-10T14:48:28.166602Z",
     "iopub.status.idle": "2022-01-10T14:48:28.180614Z",
     "shell.execute_reply": "2022-01-10T14:48:28.180614Z",
     "shell.execute_reply.started": "2022-01-10T14:48:28.166602Z"
    },
    "tags": []
   },
   "outputs": [],
   "source": [
    "sns.set_style('darkgrid')\n",
    "\n",
    "pd.set_option('max_columns', 100)\n",
    "pd.set_option('max_rows', 50)\n",
    "pd.set_option('min_rows', 20)\n",
    "pd.set_option('precision', 2) # número de casas decimais nos dataframes\n",
    "pd.options.display.float_format = '{:.2f}'.format # notação científica"
   ]
  },
  {
   "cell_type": "code",
   "execution_count": 63,
   "id": "6b70b8bf-4e32-484d-bb26-09042468a9cb",
   "metadata": {
    "execution": {
     "iopub.execute_input": "2022-01-10T14:48:29.452761Z",
     "iopub.status.busy": "2022-01-10T14:48:29.452761Z",
     "iopub.status.idle": "2022-01-10T14:48:29.479785Z",
     "shell.execute_reply": "2022-01-10T14:48:29.479785Z",
     "shell.execute_reply.started": "2022-01-10T14:48:29.452761Z"
    },
    "tags": []
   },
   "outputs": [
    {
     "name": "stdout",
     "output_type": "stream",
     "text": [
      "Populating the interactive namespace from numpy and matplotlib\n"
     ]
    }
   ],
   "source": [
    "%matplotlib inline\n",
    "\n",
    "%pylab inline\n",
    "\n",
    "plt.style.use( 'bmh' )\n",
    "plt.rcParams['figure.figsize'] = [12, 6]\n",
    "plt.rcParams['font.size'] = 24\n",
    "\n",
    "#pd.options.display.max_columns = None\n",
    "#pd.options.display.max_rows = None\n",
    "pd.set_option('display.expand_frame_repr', False)\n",
    "\n",
    "sns.set()\n",
    "\n",
    "sns.set_style('whitegrid')"
   ]
  },
  {
   "cell_type": "markdown",
   "id": "951ea3fa-27da-4cd5-ab26-d70a199bd883",
   "metadata": {
    "execution": {
     "iopub.execute_input": "2022-01-07T14:07:04.653155Z",
     "iopub.status.busy": "2022-01-07T14:07:04.653155Z",
     "iopub.status.idle": "2022-01-07T14:07:04.659150Z",
     "shell.execute_reply": "2022-01-07T14:07:04.659150Z",
     "shell.execute_reply.started": "2022-01-07T14:07:04.653155Z"
    },
    "tags": []
   },
   "source": [
    "# 1.0"
   ]
  },
  {
   "cell_type": "code",
   "execution_count": 5,
   "id": "10954bc0-28a2-4632-a214-5283db8a648f",
   "metadata": {
    "execution": {
     "iopub.execute_input": "2022-01-10T14:47:37.147526Z",
     "iopub.status.busy": "2022-01-10T14:47:37.146525Z",
     "iopub.status.idle": "2022-01-10T14:47:37.205576Z",
     "shell.execute_reply": "2022-01-10T14:47:37.205576Z",
     "shell.execute_reply.started": "2022-01-10T14:47:37.147526Z"
    },
    "tags": []
   },
   "outputs": [],
   "source": [
    "df1 = pd.read_csv('ObesityDataSet_raw_and_data_sinthetic.csv')"
   ]
  },
  {
   "cell_type": "code",
   "execution_count": 6,
   "id": "a4c71abf-1b43-42e9-a072-83339d38cc83",
   "metadata": {
    "execution": {
     "iopub.execute_input": "2022-01-10T14:47:37.207579Z",
     "iopub.status.busy": "2022-01-10T14:47:37.207579Z",
     "iopub.status.idle": "2022-01-10T14:47:37.236605Z",
     "shell.execute_reply": "2022-01-10T14:47:37.236605Z",
     "shell.execute_reply.started": "2022-01-10T14:47:37.207579Z"
    },
    "tags": []
   },
   "outputs": [
    {
     "data": {
      "text/html": [
       "<div>\n",
       "<style scoped>\n",
       "    .dataframe tbody tr th:only-of-type {\n",
       "        vertical-align: middle;\n",
       "    }\n",
       "\n",
       "    .dataframe tbody tr th {\n",
       "        vertical-align: top;\n",
       "    }\n",
       "\n",
       "    .dataframe thead th {\n",
       "        text-align: right;\n",
       "    }\n",
       "</style>\n",
       "<table border=\"1\" class=\"dataframe\">\n",
       "  <thead>\n",
       "    <tr style=\"text-align: right;\">\n",
       "      <th></th>\n",
       "      <th>Gender</th>\n",
       "      <th>Age</th>\n",
       "      <th>Height</th>\n",
       "      <th>Weight</th>\n",
       "      <th>family_history_with_overweight</th>\n",
       "      <th>FAVC</th>\n",
       "      <th>FCVC</th>\n",
       "      <th>NCP</th>\n",
       "      <th>CAEC</th>\n",
       "      <th>SMOKE</th>\n",
       "      <th>CH2O</th>\n",
       "      <th>SCC</th>\n",
       "      <th>FAF</th>\n",
       "      <th>TUE</th>\n",
       "      <th>CALC</th>\n",
       "      <th>MTRANS</th>\n",
       "      <th>NObeyesdad</th>\n",
       "    </tr>\n",
       "  </thead>\n",
       "  <tbody>\n",
       "    <tr>\n",
       "      <th>0</th>\n",
       "      <td>Female</td>\n",
       "      <td>21.00</td>\n",
       "      <td>1.62</td>\n",
       "      <td>64.00</td>\n",
       "      <td>yes</td>\n",
       "      <td>no</td>\n",
       "      <td>2.00</td>\n",
       "      <td>3.00</td>\n",
       "      <td>Sometimes</td>\n",
       "      <td>no</td>\n",
       "      <td>2.00</td>\n",
       "      <td>no</td>\n",
       "      <td>0.00</td>\n",
       "      <td>1.00</td>\n",
       "      <td>no</td>\n",
       "      <td>Public_Transportation</td>\n",
       "      <td>Normal_Weight</td>\n",
       "    </tr>\n",
       "    <tr>\n",
       "      <th>1</th>\n",
       "      <td>Female</td>\n",
       "      <td>21.00</td>\n",
       "      <td>1.52</td>\n",
       "      <td>56.00</td>\n",
       "      <td>yes</td>\n",
       "      <td>no</td>\n",
       "      <td>3.00</td>\n",
       "      <td>3.00</td>\n",
       "      <td>Sometimes</td>\n",
       "      <td>yes</td>\n",
       "      <td>3.00</td>\n",
       "      <td>yes</td>\n",
       "      <td>3.00</td>\n",
       "      <td>0.00</td>\n",
       "      <td>Sometimes</td>\n",
       "      <td>Public_Transportation</td>\n",
       "      <td>Normal_Weight</td>\n",
       "    </tr>\n",
       "    <tr>\n",
       "      <th>2</th>\n",
       "      <td>Male</td>\n",
       "      <td>23.00</td>\n",
       "      <td>1.80</td>\n",
       "      <td>77.00</td>\n",
       "      <td>yes</td>\n",
       "      <td>no</td>\n",
       "      <td>2.00</td>\n",
       "      <td>3.00</td>\n",
       "      <td>Sometimes</td>\n",
       "      <td>no</td>\n",
       "      <td>2.00</td>\n",
       "      <td>no</td>\n",
       "      <td>2.00</td>\n",
       "      <td>1.00</td>\n",
       "      <td>Frequently</td>\n",
       "      <td>Public_Transportation</td>\n",
       "      <td>Normal_Weight</td>\n",
       "    </tr>\n",
       "    <tr>\n",
       "      <th>3</th>\n",
       "      <td>Male</td>\n",
       "      <td>27.00</td>\n",
       "      <td>1.80</td>\n",
       "      <td>87.00</td>\n",
       "      <td>no</td>\n",
       "      <td>no</td>\n",
       "      <td>3.00</td>\n",
       "      <td>3.00</td>\n",
       "      <td>Sometimes</td>\n",
       "      <td>no</td>\n",
       "      <td>2.00</td>\n",
       "      <td>no</td>\n",
       "      <td>2.00</td>\n",
       "      <td>0.00</td>\n",
       "      <td>Frequently</td>\n",
       "      <td>Walking</td>\n",
       "      <td>Overweight_Level_I</td>\n",
       "    </tr>\n",
       "    <tr>\n",
       "      <th>4</th>\n",
       "      <td>Male</td>\n",
       "      <td>22.00</td>\n",
       "      <td>1.78</td>\n",
       "      <td>89.80</td>\n",
       "      <td>no</td>\n",
       "      <td>no</td>\n",
       "      <td>2.00</td>\n",
       "      <td>1.00</td>\n",
       "      <td>Sometimes</td>\n",
       "      <td>no</td>\n",
       "      <td>2.00</td>\n",
       "      <td>no</td>\n",
       "      <td>0.00</td>\n",
       "      <td>0.00</td>\n",
       "      <td>Sometimes</td>\n",
       "      <td>Public_Transportation</td>\n",
       "      <td>Overweight_Level_II</td>\n",
       "    </tr>\n",
       "  </tbody>\n",
       "</table>\n",
       "</div>"
      ],
      "text/plain": [
       "   Gender   Age  Height  Weight family_history_with_overweight FAVC  FCVC  NCP       CAEC SMOKE  CH2O  SCC  FAF  TUE        CALC                 MTRANS           NObeyesdad\n",
       "0  Female 21.00    1.62   64.00                            yes   no  2.00 3.00  Sometimes    no  2.00   no 0.00 1.00          no  Public_Transportation        Normal_Weight\n",
       "1  Female 21.00    1.52   56.00                            yes   no  3.00 3.00  Sometimes   yes  3.00  yes 3.00 0.00   Sometimes  Public_Transportation        Normal_Weight\n",
       "2    Male 23.00    1.80   77.00                            yes   no  2.00 3.00  Sometimes    no  2.00   no 2.00 1.00  Frequently  Public_Transportation        Normal_Weight\n",
       "3    Male 27.00    1.80   87.00                             no   no  3.00 3.00  Sometimes    no  2.00   no 2.00 0.00  Frequently                Walking   Overweight_Level_I\n",
       "4    Male 22.00    1.78   89.80                             no   no  2.00 1.00  Sometimes    no  2.00   no 0.00 0.00   Sometimes  Public_Transportation  Overweight_Level_II"
      ]
     },
     "execution_count": 6,
     "metadata": {},
     "output_type": "execute_result"
    }
   ],
   "source": [
    "df1.head()"
   ]
  },
  {
   "cell_type": "code",
   "execution_count": 7,
   "id": "d0226eb8-e321-43d1-ba11-8b9d6b10b5aa",
   "metadata": {
    "execution": {
     "iopub.execute_input": "2022-01-10T14:47:37.238607Z",
     "iopub.status.busy": "2022-01-10T14:47:37.238607Z",
     "iopub.status.idle": "2022-01-10T14:47:37.252619Z",
     "shell.execute_reply": "2022-01-10T14:47:37.251618Z",
     "shell.execute_reply.started": "2022-01-10T14:47:37.238607Z"
    },
    "tags": []
   },
   "outputs": [
    {
     "name": "stdout",
     "output_type": "stream",
     "text": [
      "O dataset possui 2111 linhas e 17 colunas\n"
     ]
    }
   ],
   "source": [
    "print(f'O dataset possui {df1.shape[0]} linhas e {df1.shape[1]} colunas')"
   ]
  },
  {
   "cell_type": "code",
   "execution_count": 8,
   "id": "7be89327-c498-4c69-b3ef-bc5957f11819",
   "metadata": {
    "execution": {
     "iopub.execute_input": "2022-01-10T14:47:37.253620Z",
     "iopub.status.busy": "2022-01-10T14:47:37.253620Z",
     "iopub.status.idle": "2022-01-10T14:47:37.298661Z",
     "shell.execute_reply": "2022-01-10T14:47:37.297661Z",
     "shell.execute_reply.started": "2022-01-10T14:47:37.253620Z"
    },
    "tags": []
   },
   "outputs": [
    {
     "data": {
      "text/html": [
       "<div>\n",
       "<style scoped>\n",
       "    .dataframe tbody tr th:only-of-type {\n",
       "        vertical-align: middle;\n",
       "    }\n",
       "\n",
       "    .dataframe tbody tr th {\n",
       "        vertical-align: top;\n",
       "    }\n",
       "\n",
       "    .dataframe thead th {\n",
       "        text-align: right;\n",
       "    }\n",
       "</style>\n",
       "<table border=\"1\" class=\"dataframe\">\n",
       "  <thead>\n",
       "    <tr style=\"text-align: right;\">\n",
       "      <th></th>\n",
       "      <th>Age</th>\n",
       "      <th>Height</th>\n",
       "      <th>Weight</th>\n",
       "      <th>FCVC</th>\n",
       "      <th>NCP</th>\n",
       "      <th>CH2O</th>\n",
       "      <th>FAF</th>\n",
       "      <th>TUE</th>\n",
       "    </tr>\n",
       "  </thead>\n",
       "  <tbody>\n",
       "    <tr>\n",
       "      <th>count</th>\n",
       "      <td>2111.00</td>\n",
       "      <td>2111.00</td>\n",
       "      <td>2111.00</td>\n",
       "      <td>2111.00</td>\n",
       "      <td>2111.00</td>\n",
       "      <td>2111.00</td>\n",
       "      <td>2111.00</td>\n",
       "      <td>2111.00</td>\n",
       "    </tr>\n",
       "    <tr>\n",
       "      <th>mean</th>\n",
       "      <td>24.31</td>\n",
       "      <td>1.70</td>\n",
       "      <td>86.59</td>\n",
       "      <td>2.42</td>\n",
       "      <td>2.69</td>\n",
       "      <td>2.01</td>\n",
       "      <td>1.01</td>\n",
       "      <td>0.66</td>\n",
       "    </tr>\n",
       "    <tr>\n",
       "      <th>std</th>\n",
       "      <td>6.35</td>\n",
       "      <td>0.09</td>\n",
       "      <td>26.19</td>\n",
       "      <td>0.53</td>\n",
       "      <td>0.78</td>\n",
       "      <td>0.61</td>\n",
       "      <td>0.85</td>\n",
       "      <td>0.61</td>\n",
       "    </tr>\n",
       "    <tr>\n",
       "      <th>min</th>\n",
       "      <td>14.00</td>\n",
       "      <td>1.45</td>\n",
       "      <td>39.00</td>\n",
       "      <td>1.00</td>\n",
       "      <td>1.00</td>\n",
       "      <td>1.00</td>\n",
       "      <td>0.00</td>\n",
       "      <td>0.00</td>\n",
       "    </tr>\n",
       "    <tr>\n",
       "      <th>25%</th>\n",
       "      <td>19.95</td>\n",
       "      <td>1.63</td>\n",
       "      <td>65.47</td>\n",
       "      <td>2.00</td>\n",
       "      <td>2.66</td>\n",
       "      <td>1.58</td>\n",
       "      <td>0.12</td>\n",
       "      <td>0.00</td>\n",
       "    </tr>\n",
       "    <tr>\n",
       "      <th>50%</th>\n",
       "      <td>22.78</td>\n",
       "      <td>1.70</td>\n",
       "      <td>83.00</td>\n",
       "      <td>2.39</td>\n",
       "      <td>3.00</td>\n",
       "      <td>2.00</td>\n",
       "      <td>1.00</td>\n",
       "      <td>0.63</td>\n",
       "    </tr>\n",
       "    <tr>\n",
       "      <th>75%</th>\n",
       "      <td>26.00</td>\n",
       "      <td>1.77</td>\n",
       "      <td>107.43</td>\n",
       "      <td>3.00</td>\n",
       "      <td>3.00</td>\n",
       "      <td>2.48</td>\n",
       "      <td>1.67</td>\n",
       "      <td>1.00</td>\n",
       "    </tr>\n",
       "    <tr>\n",
       "      <th>max</th>\n",
       "      <td>61.00</td>\n",
       "      <td>1.98</td>\n",
       "      <td>173.00</td>\n",
       "      <td>3.00</td>\n",
       "      <td>4.00</td>\n",
       "      <td>3.00</td>\n",
       "      <td>3.00</td>\n",
       "      <td>2.00</td>\n",
       "    </tr>\n",
       "  </tbody>\n",
       "</table>\n",
       "</div>"
      ],
      "text/plain": [
       "          Age  Height  Weight    FCVC     NCP    CH2O     FAF     TUE\n",
       "count 2111.00 2111.00 2111.00 2111.00 2111.00 2111.00 2111.00 2111.00\n",
       "mean    24.31    1.70   86.59    2.42    2.69    2.01    1.01    0.66\n",
       "std      6.35    0.09   26.19    0.53    0.78    0.61    0.85    0.61\n",
       "min     14.00    1.45   39.00    1.00    1.00    1.00    0.00    0.00\n",
       "25%     19.95    1.63   65.47    2.00    2.66    1.58    0.12    0.00\n",
       "50%     22.78    1.70   83.00    2.39    3.00    2.00    1.00    0.63\n",
       "75%     26.00    1.77  107.43    3.00    3.00    2.48    1.67    1.00\n",
       "max     61.00    1.98  173.00    3.00    4.00    3.00    3.00    2.00"
      ]
     },
     "execution_count": 8,
     "metadata": {},
     "output_type": "execute_result"
    }
   ],
   "source": [
    "df1.describe()"
   ]
  },
  {
   "cell_type": "code",
   "execution_count": 9,
   "id": "183622cf-0bce-4290-9413-4e58c941a88b",
   "metadata": {
    "execution": {
     "iopub.execute_input": "2022-01-10T14:47:37.299662Z",
     "iopub.status.busy": "2022-01-10T14:47:37.299662Z",
     "iopub.status.idle": "2022-01-10T14:47:37.314675Z",
     "shell.execute_reply": "2022-01-10T14:47:37.313674Z",
     "shell.execute_reply.started": "2022-01-10T14:47:37.299662Z"
    },
    "tags": []
   },
   "outputs": [
    {
     "data": {
      "text/plain": [
       "0"
      ]
     },
     "execution_count": 9,
     "metadata": {},
     "output_type": "execute_result"
    }
   ],
   "source": [
    "df1.isna().sum().sum()"
   ]
  },
  {
   "cell_type": "code",
   "execution_count": 10,
   "id": "8c81f922-d2ec-4eb7-98c6-03305a09ac7b",
   "metadata": {
    "execution": {
     "iopub.execute_input": "2022-01-10T14:47:37.319680Z",
     "iopub.status.busy": "2022-01-10T14:47:37.319680Z",
     "iopub.status.idle": "2022-01-10T14:47:37.330691Z",
     "shell.execute_reply": "2022-01-10T14:47:37.329689Z",
     "shell.execute_reply.started": "2022-01-10T14:47:37.319680Z"
    },
    "tags": []
   },
   "outputs": [
    {
     "data": {
      "text/plain": [
       "Gender                             object\n",
       "Age                               float64\n",
       "Height                            float64\n",
       "Weight                            float64\n",
       "family_history_with_overweight     object\n",
       "FAVC                               object\n",
       "FCVC                              float64\n",
       "NCP                               float64\n",
       "CAEC                               object\n",
       "SMOKE                              object\n",
       "CH2O                              float64\n",
       "SCC                                object\n",
       "FAF                               float64\n",
       "TUE                               float64\n",
       "CALC                               object\n",
       "MTRANS                             object\n",
       "NObeyesdad                         object\n",
       "dtype: object"
      ]
     },
     "execution_count": 10,
     "metadata": {},
     "output_type": "execute_result"
    }
   ],
   "source": [
    "df1.dtypes"
   ]
  },
  {
   "cell_type": "code",
   "execution_count": 11,
   "id": "8a1e0374-e34a-4429-a0a7-4c7b75d86df2",
   "metadata": {
    "execution": {
     "iopub.execute_input": "2022-01-10T14:47:37.332692Z",
     "iopub.status.busy": "2022-01-10T14:47:37.331693Z",
     "iopub.status.idle": "2022-01-10T14:47:37.346705Z",
     "shell.execute_reply": "2022-01-10T14:47:37.345703Z",
     "shell.execute_reply.started": "2022-01-10T14:47:37.332692Z"
    },
    "tags": []
   },
   "outputs": [
    {
     "data": {
      "text/plain": [
       "object     9\n",
       "float64    8\n",
       "dtype: int64"
      ]
     },
     "execution_count": 11,
     "metadata": {},
     "output_type": "execute_result"
    }
   ],
   "source": [
    "df1.dtypes.value_counts()"
   ]
  },
  {
   "cell_type": "code",
   "execution_count": 12,
   "id": "12d4044e-125f-4f55-86d3-ac44b25b5894",
   "metadata": {
    "execution": {
     "iopub.execute_input": "2022-01-10T14:47:37.348707Z",
     "iopub.status.busy": "2022-01-10T14:47:37.347706Z",
     "iopub.status.idle": "2022-01-10T14:47:37.362721Z",
     "shell.execute_reply": "2022-01-10T14:47:37.361720Z",
     "shell.execute_reply.started": "2022-01-10T14:47:37.348707Z"
    },
    "tags": []
   },
   "outputs": [],
   "source": [
    "num_attr = df1.select_dtypes(exclude='object')\n",
    "cat_attr = df1.select_dtypes(include='object')"
   ]
  },
  {
   "cell_type": "code",
   "execution_count": 13,
   "id": "a4ca9ee9-01f0-4af4-989a-d6c612c25015",
   "metadata": {
    "execution": {
     "iopub.execute_input": "2022-01-10T14:47:37.364722Z",
     "iopub.status.busy": "2022-01-10T14:47:37.364722Z",
     "iopub.status.idle": "2022-01-10T14:47:37.656985Z",
     "shell.execute_reply": "2022-01-10T14:47:37.655983Z",
     "shell.execute_reply.started": "2022-01-10T14:47:37.364722Z"
    },
    "tags": []
   },
   "outputs": [
    {
     "data": {
      "image/png": "[encoded data removed]",
      "text/plain": [
       "<Figure size 864x432 with 1 Axes>"
      ]
     },
     "metadata": {},
     "output_type": "display_data"
    }
   ],
   "source": [
    "sns.countplot(x=df1['NObeyesdad']);"
   ]
  },
  {
   "cell_type": "code",
   "execution_count": 14,
   "id": "7a24c71a-a728-46d4-ae73-e20afd8a1a05",
   "metadata": {
    "execution": {
     "iopub.execute_input": "2022-01-10T14:47:37.658985Z",
     "iopub.status.busy": "2022-01-10T14:47:37.657985Z",
     "iopub.status.idle": "2022-01-10T14:47:39.047237Z",
     "shell.execute_reply": "2022-01-10T14:47:39.047237Z",
     "shell.execute_reply.started": "2022-01-10T14:47:37.658985Z"
    },
    "tags": []
   },
   "outputs": [
    {
     "data": {
      "image/png": "[encoded data removed]",
      "text/plain": [
       "<Figure size 864x432 with 9 Axes>"
      ]
     },
     "metadata": {},
     "output_type": "display_data"
    }
   ],
   "source": [
    "df1.hist();"
   ]
  },
  {
   "cell_type": "code",
   "execution_count": 15,
   "id": "47a7adfa-d14e-478d-a595-1cc04c602058",
   "metadata": {
    "execution": {
     "iopub.execute_input": "2022-01-10T14:47:39.049239Z",
     "iopub.status.busy": "2022-01-10T14:47:39.048238Z",
     "iopub.status.idle": "2022-01-10T14:47:39.491638Z",
     "shell.execute_reply": "2022-01-10T14:47:39.491638Z",
     "shell.execute_reply.started": "2022-01-10T14:47:39.049239Z"
    },
    "tags": []
   },
   "outputs": [
    {
     "data": {
      "image/png": "[encoded data removed]",
      "text/plain": [
       "<Figure size 864x648 with 1 Axes>"
      ]
     },
     "metadata": {},
     "output_type": "display_data"
    }
   ],
   "source": [
    "# Verificando correlação entre as características\n",
    "corr_input_var = num_attr.corr()\n",
    "\n",
    "fig, ax = plt.subplots(figsize=(12,9))\n",
    "sns.heatmap(corr_input_var, annot=True, cbar=False, cmap='Reds', linewidths=.5, ax=ax);"
   ]
  },
  {
   "cell_type": "code",
   "execution_count": 16,
   "id": "31ebc02c-4298-4b64-9500-bbfe0ec1a18a",
   "metadata": {
    "execution": {
     "iopub.execute_input": "2022-01-10T14:47:39.493639Z",
     "iopub.status.busy": "2022-01-10T14:47:39.493639Z",
     "iopub.status.idle": "2022-01-10T14:47:39.538681Z",
     "shell.execute_reply": "2022-01-10T14:47:39.537679Z",
     "shell.execute_reply.started": "2022-01-10T14:47:39.493639Z"
    }
   },
   "outputs": [
    {
     "data": {
      "text/html": [
       "<div>\n",
       "<style scoped>\n",
       "    .dataframe tbody tr th:only-of-type {\n",
       "        vertical-align: middle;\n",
       "    }\n",
       "\n",
       "    .dataframe tbody tr th {\n",
       "        vertical-align: top;\n",
       "    }\n",
       "\n",
       "    .dataframe thead th {\n",
       "        text-align: right;\n",
       "    }\n",
       "</style>\n",
       "<table border=\"1\" class=\"dataframe\">\n",
       "  <thead>\n",
       "    <tr style=\"text-align: right;\">\n",
       "      <th></th>\n",
       "      <th>Gender</th>\n",
       "      <th>family_history_with_overweight</th>\n",
       "      <th>FAVC</th>\n",
       "      <th>CAEC</th>\n",
       "      <th>SMOKE</th>\n",
       "      <th>SCC</th>\n",
       "      <th>CALC</th>\n",
       "      <th>MTRANS</th>\n",
       "      <th>NObeyesdad</th>\n",
       "    </tr>\n",
       "  </thead>\n",
       "  <tbody>\n",
       "    <tr>\n",
       "      <th>count</th>\n",
       "      <td>2111</td>\n",
       "      <td>2111</td>\n",
       "      <td>2111</td>\n",
       "      <td>2111</td>\n",
       "      <td>2111</td>\n",
       "      <td>2111</td>\n",
       "      <td>2111</td>\n",
       "      <td>2111</td>\n",
       "      <td>2111</td>\n",
       "    </tr>\n",
       "    <tr>\n",
       "      <th>unique</th>\n",
       "      <td>2</td>\n",
       "      <td>2</td>\n",
       "      <td>2</td>\n",
       "      <td>4</td>\n",
       "      <td>2</td>\n",
       "      <td>2</td>\n",
       "      <td>4</td>\n",
       "      <td>5</td>\n",
       "      <td>7</td>\n",
       "    </tr>\n",
       "    <tr>\n",
       "      <th>top</th>\n",
       "      <td>Male</td>\n",
       "      <td>yes</td>\n",
       "      <td>yes</td>\n",
       "      <td>Sometimes</td>\n",
       "      <td>no</td>\n",
       "      <td>no</td>\n",
       "      <td>Sometimes</td>\n",
       "      <td>Public_Transportation</td>\n",
       "      <td>Obesity_Type_I</td>\n",
       "    </tr>\n",
       "    <tr>\n",
       "      <th>freq</th>\n",
       "      <td>1068</td>\n",
       "      <td>1726</td>\n",
       "      <td>1866</td>\n",
       "      <td>1765</td>\n",
       "      <td>2067</td>\n",
       "      <td>2015</td>\n",
       "      <td>1401</td>\n",
       "      <td>1580</td>\n",
       "      <td>351</td>\n",
       "    </tr>\n",
       "  </tbody>\n",
       "</table>\n",
       "</div>"
      ],
      "text/plain": [
       "       Gender family_history_with_overweight  FAVC       CAEC SMOKE   SCC       CALC                 MTRANS      NObeyesdad\n",
       "count    2111                           2111  2111       2111  2111  2111       2111                   2111            2111\n",
       "unique      2                              2     2          4     2     2          4                      5               7\n",
       "top      Male                            yes   yes  Sometimes    no    no  Sometimes  Public_Transportation  Obesity_Type_I\n",
       "freq     1068                           1726  1866       1765  2067  2015       1401                   1580             351"
      ]
     },
     "execution_count": 16,
     "metadata": {},
     "output_type": "execute_result"
    }
   ],
   "source": [
    "df1.describe(include='object') "
   ]
  },
  {
   "cell_type": "code",
   "execution_count": 17,
   "id": "c8feadd1-e048-44f8-9f14-7fcf9df7e00f",
   "metadata": {
    "execution": {
     "iopub.execute_input": "2022-01-10T14:47:39.539682Z",
     "iopub.status.busy": "2022-01-10T14:47:39.539682Z",
     "iopub.status.idle": "2022-01-10T14:47:41.049041Z",
     "shell.execute_reply": "2022-01-10T14:47:41.049041Z",
     "shell.execute_reply.started": "2022-01-10T14:47:39.539682Z"
    }
   },
   "outputs": [
    {
     "data": {
      "image/png": "[encoded data removed]",
      "text/plain": [
       "<Figure size 864x432 with 1 Axes>"
      ]
     },
     "metadata": {},
     "output_type": "display_data"
    },
    {
     "data": {
      "image/png": "[encoded data removed]",
      "text/plain": [
       "<Figure size 864x432 with 1 Axes>"
      ]
     },
     "metadata": {},
     "output_type": "display_data"
    },
    {
     "data": {
      "image/png": "[encoded data removed]",
      "text/plain": [
       "<Figure size 864x432 with 1 Axes>"
      ]
     },
     "metadata": {},
     "output_type": "display_data"
    },
    {
     "data": {
      "image/png": "[encoded data removed]",
      "text/plain": [
       "<Figure size 864x432 with 1 Axes>"
      ]
     },
     "metadata": {},
     "output_type": "display_data"
    },
    {
     "data": {
      "image/png": "[encoded data removed]",
      "text/plain": [
       "<Figure size 864x432 with 1 Axes>"
      ]
     },
     "metadata": {},
     "output_type": "display_data"
    },
    {
     "data": {
      "image/png": "[encoded data removed]",
      "text/plain": [
       "<Figure size 864x432 with 1 Axes>"
      ]
     },
     "metadata": {},
     "output_type": "display_data"
    },
    {
     "data": {
      "image/png": "[encoded data removed]",
      "text/plain": [
       "<Figure size 864x432 with 1 Axes>"
      ]
     },
     "metadata": {},
     "output_type": "display_data"
    },
    {
     "data": {
      "image/png": "[encoded data removed]",
      "text/plain": [
       "<Figure size 864x432 with 1 Axes>"
      ]
     },
     "metadata": {},
     "output_type": "display_data"
    },
    {
     "data": {
      "image/png": "[encoded data removed]",
      "text/plain": [
       "<Figure size 864x432 with 1 Axes>"
      ]
     },
     "metadata": {},
     "output_type": "display_data"
    }
   ],
   "source": [
    "for column in df1.select_dtypes(include='object'):\n",
    "    if df1[column].nunique() < 10:\n",
    "        sns.countplot(x=column, data=df1)\n",
    "        plt.show()"
   ]
  },
  {
   "cell_type": "code",
   "execution_count": 18,
   "id": "073b805e-2e9f-43c6-b945-254100d20204",
   "metadata": {
    "execution": {
     "iopub.execute_input": "2022-01-10T14:47:41.051043Z",
     "iopub.status.busy": "2022-01-10T14:47:41.051043Z",
     "iopub.status.idle": "2022-01-10T14:47:41.191170Z",
     "shell.execute_reply": "2022-01-10T14:47:41.191170Z",
     "shell.execute_reply.started": "2022-01-10T14:47:41.051043Z"
    },
    "tags": []
   },
   "outputs": [
    {
     "data": {
      "text/html": [
       "<div>\n",
       "<style scoped>\n",
       "    .dataframe tbody tr th:only-of-type {\n",
       "        vertical-align: middle;\n",
       "    }\n",
       "\n",
       "    .dataframe tbody tr th {\n",
       "        vertical-align: top;\n",
       "    }\n",
       "\n",
       "    .dataframe thead th {\n",
       "        text-align: right;\n",
       "    }\n",
       "</style>\n",
       "<table border=\"1\" class=\"dataframe\">\n",
       "  <thead>\n",
       "    <tr style=\"text-align: right;\">\n",
       "      <th>Gender</th>\n",
       "      <th>Female</th>\n",
       "      <th>Male</th>\n",
       "    </tr>\n",
       "    <tr>\n",
       "      <th>NObeyesdad</th>\n",
       "      <th></th>\n",
       "      <th></th>\n",
       "    </tr>\n",
       "  </thead>\n",
       "  <tbody>\n",
       "    <tr>\n",
       "      <th>Insufficient_Weight</th>\n",
       "      <td>0.64</td>\n",
       "      <td>0.36</td>\n",
       "    </tr>\n",
       "    <tr>\n",
       "      <th>Normal_Weight</th>\n",
       "      <td>0.49</td>\n",
       "      <td>0.51</td>\n",
       "    </tr>\n",
       "    <tr>\n",
       "      <th>Obesity_Type_I</th>\n",
       "      <td>0.44</td>\n",
       "      <td>0.56</td>\n",
       "    </tr>\n",
       "    <tr>\n",
       "      <th>Obesity_Type_II</th>\n",
       "      <td>0.01</td>\n",
       "      <td>0.99</td>\n",
       "    </tr>\n",
       "    <tr>\n",
       "      <th>Obesity_Type_III</th>\n",
       "      <td>1.00</td>\n",
       "      <td>0.00</td>\n",
       "    </tr>\n",
       "    <tr>\n",
       "      <th>Overweight_Level_I</th>\n",
       "      <td>0.50</td>\n",
       "      <td>0.50</td>\n",
       "    </tr>\n",
       "    <tr>\n",
       "      <th>Overweight_Level_II</th>\n",
       "      <td>0.36</td>\n",
       "      <td>0.64</td>\n",
       "    </tr>\n",
       "  </tbody>\n",
       "</table>\n",
       "</div>"
      ],
      "text/plain": [
       "Gender               Female  Male\n",
       "NObeyesdad                       \n",
       "Insufficient_Weight    0.64  0.36\n",
       "Normal_Weight          0.49  0.51\n",
       "Obesity_Type_I         0.44  0.56\n",
       "Obesity_Type_II        0.01  0.99\n",
       "Obesity_Type_III       1.00  0.00\n",
       "Overweight_Level_I     0.50  0.50\n",
       "Overweight_Level_II    0.36  0.64"
      ]
     },
     "metadata": {},
     "output_type": "display_data"
    },
    {
     "data": {
      "text/html": [
       "<div>\n",
       "<style scoped>\n",
       "    .dataframe tbody tr th:only-of-type {\n",
       "        vertical-align: middle;\n",
       "    }\n",
       "\n",
       "    .dataframe tbody tr th {\n",
       "        vertical-align: top;\n",
       "    }\n",
       "\n",
       "    .dataframe thead th {\n",
       "        text-align: right;\n",
       "    }\n",
       "</style>\n",
       "<table border=\"1\" class=\"dataframe\">\n",
       "  <thead>\n",
       "    <tr style=\"text-align: right;\">\n",
       "      <th>family_history_with_overweight</th>\n",
       "      <th>no</th>\n",
       "      <th>yes</th>\n",
       "    </tr>\n",
       "    <tr>\n",
       "      <th>NObeyesdad</th>\n",
       "      <th></th>\n",
       "      <th></th>\n",
       "    </tr>\n",
       "  </thead>\n",
       "  <tbody>\n",
       "    <tr>\n",
       "      <th>Insufficient_Weight</th>\n",
       "      <td>0.54</td>\n",
       "      <td>0.46</td>\n",
       "    </tr>\n",
       "    <tr>\n",
       "      <th>Normal_Weight</th>\n",
       "      <td>0.46</td>\n",
       "      <td>0.54</td>\n",
       "    </tr>\n",
       "    <tr>\n",
       "      <th>Obesity_Type_I</th>\n",
       "      <td>0.02</td>\n",
       "      <td>0.98</td>\n",
       "    </tr>\n",
       "    <tr>\n",
       "      <th>Obesity_Type_II</th>\n",
       "      <td>0.00</td>\n",
       "      <td>1.00</td>\n",
       "    </tr>\n",
       "    <tr>\n",
       "      <th>Obesity_Type_III</th>\n",
       "      <td>0.00</td>\n",
       "      <td>1.00</td>\n",
       "    </tr>\n",
       "    <tr>\n",
       "      <th>Overweight_Level_I</th>\n",
       "      <td>0.28</td>\n",
       "      <td>0.72</td>\n",
       "    </tr>\n",
       "    <tr>\n",
       "      <th>Overweight_Level_II</th>\n",
       "      <td>0.06</td>\n",
       "      <td>0.94</td>\n",
       "    </tr>\n",
       "  </tbody>\n",
       "</table>\n",
       "</div>"
      ],
      "text/plain": [
       "family_history_with_overweight   no  yes\n",
       "NObeyesdad                              \n",
       "Insufficient_Weight            0.54 0.46\n",
       "Normal_Weight                  0.46 0.54\n",
       "Obesity_Type_I                 0.02 0.98\n",
       "Obesity_Type_II                0.00 1.00\n",
       "Obesity_Type_III               0.00 1.00\n",
       "Overweight_Level_I             0.28 0.72\n",
       "Overweight_Level_II            0.06 0.94"
      ]
     },
     "metadata": {},
     "output_type": "display_data"
    },
    {
     "data": {
      "text/html": [
       "<div>\n",
       "<style scoped>\n",
       "    .dataframe tbody tr th:only-of-type {\n",
       "        vertical-align: middle;\n",
       "    }\n",
       "\n",
       "    .dataframe tbody tr th {\n",
       "        vertical-align: top;\n",
       "    }\n",
       "\n",
       "    .dataframe thead th {\n",
       "        text-align: right;\n",
       "    }\n",
       "</style>\n",
       "<table border=\"1\" class=\"dataframe\">\n",
       "  <thead>\n",
       "    <tr style=\"text-align: right;\">\n",
       "      <th>FAVC</th>\n",
       "      <th>no</th>\n",
       "      <th>yes</th>\n",
       "    </tr>\n",
       "    <tr>\n",
       "      <th>NObeyesdad</th>\n",
       "      <th></th>\n",
       "      <th></th>\n",
       "    </tr>\n",
       "  </thead>\n",
       "  <tbody>\n",
       "    <tr>\n",
       "      <th>Insufficient_Weight</th>\n",
       "      <td>0.19</td>\n",
       "      <td>0.81</td>\n",
       "    </tr>\n",
       "    <tr>\n",
       "      <th>Normal_Weight</th>\n",
       "      <td>0.28</td>\n",
       "      <td>0.72</td>\n",
       "    </tr>\n",
       "    <tr>\n",
       "      <th>Obesity_Type_I</th>\n",
       "      <td>0.03</td>\n",
       "      <td>0.97</td>\n",
       "    </tr>\n",
       "    <tr>\n",
       "      <th>Obesity_Type_II</th>\n",
       "      <td>0.02</td>\n",
       "      <td>0.98</td>\n",
       "    </tr>\n",
       "    <tr>\n",
       "      <th>Obesity_Type_III</th>\n",
       "      <td>0.00</td>\n",
       "      <td>1.00</td>\n",
       "    </tr>\n",
       "    <tr>\n",
       "      <th>Overweight_Level_I</th>\n",
       "      <td>0.08</td>\n",
       "      <td>0.92</td>\n",
       "    </tr>\n",
       "    <tr>\n",
       "      <th>Overweight_Level_II</th>\n",
       "      <td>0.26</td>\n",
       "      <td>0.74</td>\n",
       "    </tr>\n",
       "  </tbody>\n",
       "</table>\n",
       "</div>"
      ],
      "text/plain": [
       "FAVC                  no  yes\n",
       "NObeyesdad                   \n",
       "Insufficient_Weight 0.19 0.81\n",
       "Normal_Weight       0.28 0.72\n",
       "Obesity_Type_I      0.03 0.97\n",
       "Obesity_Type_II     0.02 0.98\n",
       "Obesity_Type_III    0.00 1.00\n",
       "Overweight_Level_I  0.08 0.92\n",
       "Overweight_Level_II 0.26 0.74"
      ]
     },
     "metadata": {},
     "output_type": "display_data"
    },
    {
     "data": {
      "text/html": [
       "<div>\n",
       "<style scoped>\n",
       "    .dataframe tbody tr th:only-of-type {\n",
       "        vertical-align: middle;\n",
       "    }\n",
       "\n",
       "    .dataframe tbody tr th {\n",
       "        vertical-align: top;\n",
       "    }\n",
       "\n",
       "    .dataframe thead th {\n",
       "        text-align: right;\n",
       "    }\n",
       "</style>\n",
       "<table border=\"1\" class=\"dataframe\">\n",
       "  <thead>\n",
       "    <tr style=\"text-align: right;\">\n",
       "      <th>CAEC</th>\n",
       "      <th>Always</th>\n",
       "      <th>Frequently</th>\n",
       "      <th>Sometimes</th>\n",
       "      <th>no</th>\n",
       "    </tr>\n",
       "    <tr>\n",
       "      <th>NObeyesdad</th>\n",
       "      <th></th>\n",
       "      <th></th>\n",
       "      <th></th>\n",
       "      <th></th>\n",
       "    </tr>\n",
       "  </thead>\n",
       "  <tbody>\n",
       "    <tr>\n",
       "      <th>Insufficient_Weight</th>\n",
       "      <td>0.01</td>\n",
       "      <td>0.44</td>\n",
       "      <td>0.54</td>\n",
       "      <td>0.01</td>\n",
       "    </tr>\n",
       "    <tr>\n",
       "      <th>Normal_Weight</th>\n",
       "      <td>0.12</td>\n",
       "      <td>0.29</td>\n",
       "      <td>0.55</td>\n",
       "      <td>0.03</td>\n",
       "    </tr>\n",
       "    <tr>\n",
       "      <th>Obesity_Type_I</th>\n",
       "      <td>0.02</td>\n",
       "      <td>0.02</td>\n",
       "      <td>0.96</td>\n",
       "      <td>0.00</td>\n",
       "    </tr>\n",
       "    <tr>\n",
       "      <th>Obesity_Type_II</th>\n",
       "      <td>0.01</td>\n",
       "      <td>0.00</td>\n",
       "      <td>0.99</td>\n",
       "      <td>0.00</td>\n",
       "    </tr>\n",
       "    <tr>\n",
       "      <th>Obesity_Type_III</th>\n",
       "      <td>0.00</td>\n",
       "      <td>0.00</td>\n",
       "      <td>1.00</td>\n",
       "      <td>0.00</td>\n",
       "    </tr>\n",
       "    <tr>\n",
       "      <th>Overweight_Level_I</th>\n",
       "      <td>0.02</td>\n",
       "      <td>0.05</td>\n",
       "      <td>0.81</td>\n",
       "      <td>0.12</td>\n",
       "    </tr>\n",
       "    <tr>\n",
       "      <th>Overweight_Level_II</th>\n",
       "      <td>0.01</td>\n",
       "      <td>0.06</td>\n",
       "      <td>0.93</td>\n",
       "      <td>0.00</td>\n",
       "    </tr>\n",
       "  </tbody>\n",
       "</table>\n",
       "</div>"
      ],
      "text/plain": [
       "CAEC                 Always  Frequently  Sometimes   no\n",
       "NObeyesdad                                             \n",
       "Insufficient_Weight    0.01        0.44       0.54 0.01\n",
       "Normal_Weight          0.12        0.29       0.55 0.03\n",
       "Obesity_Type_I         0.02        0.02       0.96 0.00\n",
       "Obesity_Type_II        0.01        0.00       0.99 0.00\n",
       "Obesity_Type_III       0.00        0.00       1.00 0.00\n",
       "Overweight_Level_I     0.02        0.05       0.81 0.12\n",
       "Overweight_Level_II    0.01        0.06       0.93 0.00"
      ]
     },
     "metadata": {},
     "output_type": "display_data"
    },
    {
     "data": {
      "text/html": [
       "<div>\n",
       "<style scoped>\n",
       "    .dataframe tbody tr th:only-of-type {\n",
       "        vertical-align: middle;\n",
       "    }\n",
       "\n",
       "    .dataframe tbody tr th {\n",
       "        vertical-align: top;\n",
       "    }\n",
       "\n",
       "    .dataframe thead th {\n",
       "        text-align: right;\n",
       "    }\n",
       "</style>\n",
       "<table border=\"1\" class=\"dataframe\">\n",
       "  <thead>\n",
       "    <tr style=\"text-align: right;\">\n",
       "      <th>SMOKE</th>\n",
       "      <th>no</th>\n",
       "      <th>yes</th>\n",
       "    </tr>\n",
       "    <tr>\n",
       "      <th>NObeyesdad</th>\n",
       "      <th></th>\n",
       "      <th></th>\n",
       "    </tr>\n",
       "  </thead>\n",
       "  <tbody>\n",
       "    <tr>\n",
       "      <th>Insufficient_Weight</th>\n",
       "      <td>1.00</td>\n",
       "      <td>0.00</td>\n",
       "    </tr>\n",
       "    <tr>\n",
       "      <th>Normal_Weight</th>\n",
       "      <td>0.95</td>\n",
       "      <td>0.05</td>\n",
       "    </tr>\n",
       "    <tr>\n",
       "      <th>Obesity_Type_I</th>\n",
       "      <td>0.98</td>\n",
       "      <td>0.02</td>\n",
       "    </tr>\n",
       "    <tr>\n",
       "      <th>Obesity_Type_II</th>\n",
       "      <td>0.95</td>\n",
       "      <td>0.05</td>\n",
       "    </tr>\n",
       "    <tr>\n",
       "      <th>Obesity_Type_III</th>\n",
       "      <td>1.00</td>\n",
       "      <td>0.00</td>\n",
       "    </tr>\n",
       "    <tr>\n",
       "      <th>Overweight_Level_I</th>\n",
       "      <td>0.99</td>\n",
       "      <td>0.01</td>\n",
       "    </tr>\n",
       "    <tr>\n",
       "      <th>Overweight_Level_II</th>\n",
       "      <td>0.98</td>\n",
       "      <td>0.02</td>\n",
       "    </tr>\n",
       "  </tbody>\n",
       "</table>\n",
       "</div>"
      ],
      "text/plain": [
       "SMOKE                 no  yes\n",
       "NObeyesdad                   \n",
       "Insufficient_Weight 1.00 0.00\n",
       "Normal_Weight       0.95 0.05\n",
       "Obesity_Type_I      0.98 0.02\n",
       "Obesity_Type_II     0.95 0.05\n",
       "Obesity_Type_III    1.00 0.00\n",
       "Overweight_Level_I  0.99 0.01\n",
       "Overweight_Level_II 0.98 0.02"
      ]
     },
     "metadata": {},
     "output_type": "display_data"
    },
    {
     "data": {
      "text/html": [
       "<div>\n",
       "<style scoped>\n",
       "    .dataframe tbody tr th:only-of-type {\n",
       "        vertical-align: middle;\n",
       "    }\n",
       "\n",
       "    .dataframe tbody tr th {\n",
       "        vertical-align: top;\n",
       "    }\n",
       "\n",
       "    .dataframe thead th {\n",
       "        text-align: right;\n",
       "    }\n",
       "</style>\n",
       "<table border=\"1\" class=\"dataframe\">\n",
       "  <thead>\n",
       "    <tr style=\"text-align: right;\">\n",
       "      <th>SCC</th>\n",
       "      <th>no</th>\n",
       "      <th>yes</th>\n",
       "    </tr>\n",
       "    <tr>\n",
       "      <th>NObeyesdad</th>\n",
       "      <th></th>\n",
       "      <th></th>\n",
       "    </tr>\n",
       "  </thead>\n",
       "  <tbody>\n",
       "    <tr>\n",
       "      <th>Insufficient_Weight</th>\n",
       "      <td>0.92</td>\n",
       "      <td>0.08</td>\n",
       "    </tr>\n",
       "    <tr>\n",
       "      <th>Normal_Weight</th>\n",
       "      <td>0.90</td>\n",
       "      <td>0.10</td>\n",
       "    </tr>\n",
       "    <tr>\n",
       "      <th>Obesity_Type_I</th>\n",
       "      <td>0.99</td>\n",
       "      <td>0.01</td>\n",
       "    </tr>\n",
       "    <tr>\n",
       "      <th>Obesity_Type_II</th>\n",
       "      <td>1.00</td>\n",
       "      <td>0.00</td>\n",
       "    </tr>\n",
       "    <tr>\n",
       "      <th>Obesity_Type_III</th>\n",
       "      <td>1.00</td>\n",
       "      <td>0.00</td>\n",
       "    </tr>\n",
       "    <tr>\n",
       "      <th>Overweight_Level_I</th>\n",
       "      <td>0.87</td>\n",
       "      <td>0.13</td>\n",
       "    </tr>\n",
       "    <tr>\n",
       "      <th>Overweight_Level_II</th>\n",
       "      <td>0.99</td>\n",
       "      <td>0.01</td>\n",
       "    </tr>\n",
       "  </tbody>\n",
       "</table>\n",
       "</div>"
      ],
      "text/plain": [
       "SCC                   no  yes\n",
       "NObeyesdad                   \n",
       "Insufficient_Weight 0.92 0.08\n",
       "Normal_Weight       0.90 0.10\n",
       "Obesity_Type_I      0.99 0.01\n",
       "Obesity_Type_II     1.00 0.00\n",
       "Obesity_Type_III    1.00 0.00\n",
       "Overweight_Level_I  0.87 0.13\n",
       "Overweight_Level_II 0.99 0.01"
      ]
     },
     "metadata": {},
     "output_type": "display_data"
    },
    {
     "data": {
      "text/html": [
       "<div>\n",
       "<style scoped>\n",
       "    .dataframe tbody tr th:only-of-type {\n",
       "        vertical-align: middle;\n",
       "    }\n",
       "\n",
       "    .dataframe tbody tr th {\n",
       "        vertical-align: top;\n",
       "    }\n",
       "\n",
       "    .dataframe thead th {\n",
       "        text-align: right;\n",
       "    }\n",
       "</style>\n",
       "<table border=\"1\" class=\"dataframe\">\n",
       "  <thead>\n",
       "    <tr style=\"text-align: right;\">\n",
       "      <th>CALC</th>\n",
       "      <th>Always</th>\n",
       "      <th>Frequently</th>\n",
       "      <th>Sometimes</th>\n",
       "      <th>no</th>\n",
       "    </tr>\n",
       "    <tr>\n",
       "      <th>NObeyesdad</th>\n",
       "      <th></th>\n",
       "      <th></th>\n",
       "      <th></th>\n",
       "      <th></th>\n",
       "    </tr>\n",
       "  </thead>\n",
       "  <tbody>\n",
       "    <tr>\n",
       "      <th>Insufficient_Weight</th>\n",
       "      <td>0.00</td>\n",
       "      <td>0.00</td>\n",
       "      <td>0.57</td>\n",
       "      <td>0.43</td>\n",
       "    </tr>\n",
       "    <tr>\n",
       "      <th>Normal_Weight</th>\n",
       "      <td>0.00</td>\n",
       "      <td>0.06</td>\n",
       "      <td>0.56</td>\n",
       "      <td>0.37</td>\n",
       "    </tr>\n",
       "    <tr>\n",
       "      <th>Obesity_Type_I</th>\n",
       "      <td>0.00</td>\n",
       "      <td>0.04</td>\n",
       "      <td>0.49</td>\n",
       "      <td>0.47</td>\n",
       "    </tr>\n",
       "    <tr>\n",
       "      <th>Obesity_Type_II</th>\n",
       "      <td>0.00</td>\n",
       "      <td>0.01</td>\n",
       "      <td>0.75</td>\n",
       "      <td>0.24</td>\n",
       "    </tr>\n",
       "    <tr>\n",
       "      <th>Obesity_Type_III</th>\n",
       "      <td>0.00</td>\n",
       "      <td>0.00</td>\n",
       "      <td>1.00</td>\n",
       "      <td>0.00</td>\n",
       "    </tr>\n",
       "    <tr>\n",
       "      <th>Overweight_Level_I</th>\n",
       "      <td>0.00</td>\n",
       "      <td>0.06</td>\n",
       "      <td>0.77</td>\n",
       "      <td>0.17</td>\n",
       "    </tr>\n",
       "    <tr>\n",
       "      <th>Overweight_Level_II</th>\n",
       "      <td>0.00</td>\n",
       "      <td>0.07</td>\n",
       "      <td>0.49</td>\n",
       "      <td>0.44</td>\n",
       "    </tr>\n",
       "  </tbody>\n",
       "</table>\n",
       "</div>"
      ],
      "text/plain": [
       "CALC                 Always  Frequently  Sometimes   no\n",
       "NObeyesdad                                             \n",
       "Insufficient_Weight    0.00        0.00       0.57 0.43\n",
       "Normal_Weight          0.00        0.06       0.56 0.37\n",
       "Obesity_Type_I         0.00        0.04       0.49 0.47\n",
       "Obesity_Type_II        0.00        0.01       0.75 0.24\n",
       "Obesity_Type_III       0.00        0.00       1.00 0.00\n",
       "Overweight_Level_I     0.00        0.06       0.77 0.17\n",
       "Overweight_Level_II    0.00        0.07       0.49 0.44"
      ]
     },
     "metadata": {},
     "output_type": "display_data"
    }
   ],
   "source": [
    "for col in df1.select_dtypes(include='object'):\n",
    "    if df1[col].nunique() <=4:\n",
    "        display(pd.crosstab(df1['NObeyesdad'], df1[col], normalize='index'))\n",
    "        #display(pd.crosstab(df1['NObeyesdad'], df1[col]))"
   ]
  },
  {
   "attachments": {
    "9ffe3b9a-7c88-4808-accd-26335562a843.png": {
     "image/png": "[encoded data removed]"
    }
   },
   "cell_type": "markdown",
   "id": "31d87e14-d015-4777-92c2-c8ce9ce6b74f",
   "metadata": {},
   "source": [
    "![image.png](attachment:9ffe3b9a-7c88-4808-accd-26335562a843.png)"
   ]
  },
  {
   "cell_type": "code",
   "execution_count": 19,
   "id": "df0a97ea-3daa-40a6-bb3f-f5407f856007",
   "metadata": {
    "execution": {
     "iopub.execute_input": "2022-01-10T14:47:41.193171Z",
     "iopub.status.busy": "2022-01-10T14:47:41.193171Z",
     "iopub.status.idle": "2022-01-10T14:47:41.318285Z",
     "shell.execute_reply": "2022-01-10T14:47:41.318285Z",
     "shell.execute_reply.started": "2022-01-10T14:47:41.193171Z"
    },
    "tags": []
   },
   "outputs": [
    {
     "data": {
      "text/html": [
       "<div>\n",
       "<style scoped>\n",
       "    .dataframe tbody tr th:only-of-type {\n",
       "        vertical-align: middle;\n",
       "    }\n",
       "\n",
       "    .dataframe tbody tr th {\n",
       "        vertical-align: top;\n",
       "    }\n",
       "\n",
       "    .dataframe thead th {\n",
       "        text-align: right;\n",
       "    }\n",
       "</style>\n",
       "<table border=\"1\" class=\"dataframe\">\n",
       "  <thead>\n",
       "    <tr style=\"text-align: right;\">\n",
       "      <th>Gender</th>\n",
       "      <th>Female</th>\n",
       "      <th>Male</th>\n",
       "    </tr>\n",
       "    <tr>\n",
       "      <th>NObeyesdad</th>\n",
       "      <th></th>\n",
       "      <th></th>\n",
       "    </tr>\n",
       "  </thead>\n",
       "  <tbody>\n",
       "    <tr>\n",
       "      <th>Insufficient_Weight</th>\n",
       "      <td>0.64</td>\n",
       "      <td>0.36</td>\n",
       "    </tr>\n",
       "    <tr>\n",
       "      <th>Normal_Weight</th>\n",
       "      <td>0.49</td>\n",
       "      <td>0.51</td>\n",
       "    </tr>\n",
       "    <tr>\n",
       "      <th>Obesity_Type_I</th>\n",
       "      <td>0.44</td>\n",
       "      <td>0.56</td>\n",
       "    </tr>\n",
       "    <tr>\n",
       "      <th>Obesity_Type_II</th>\n",
       "      <td>0.01</td>\n",
       "      <td>0.99</td>\n",
       "    </tr>\n",
       "    <tr>\n",
       "      <th>Obesity_Type_III</th>\n",
       "      <td>1.00</td>\n",
       "      <td>0.00</td>\n",
       "    </tr>\n",
       "    <tr>\n",
       "      <th>Overweight_Level_I</th>\n",
       "      <td>0.50</td>\n",
       "      <td>0.50</td>\n",
       "    </tr>\n",
       "    <tr>\n",
       "      <th>Overweight_Level_II</th>\n",
       "      <td>0.36</td>\n",
       "      <td>0.64</td>\n",
       "    </tr>\n",
       "  </tbody>\n",
       "</table>\n",
       "</div>"
      ],
      "text/plain": [
       "Gender               Female  Male\n",
       "NObeyesdad                       \n",
       "Insufficient_Weight    0.64  0.36\n",
       "Normal_Weight          0.49  0.51\n",
       "Obesity_Type_I         0.44  0.56\n",
       "Obesity_Type_II        0.01  0.99\n",
       "Obesity_Type_III       1.00  0.00\n",
       "Overweight_Level_I     0.50  0.50\n",
       "Overweight_Level_II    0.36  0.64"
      ]
     },
     "metadata": {},
     "output_type": "display_data"
    },
    {
     "data": {
      "text/html": [
       "<div>\n",
       "<style scoped>\n",
       "    .dataframe tbody tr th:only-of-type {\n",
       "        vertical-align: middle;\n",
       "    }\n",
       "\n",
       "    .dataframe tbody tr th {\n",
       "        vertical-align: top;\n",
       "    }\n",
       "\n",
       "    .dataframe thead th {\n",
       "        text-align: right;\n",
       "    }\n",
       "</style>\n",
       "<table border=\"1\" class=\"dataframe\">\n",
       "  <thead>\n",
       "    <tr style=\"text-align: right;\">\n",
       "      <th>family_history_with_overweight</th>\n",
       "      <th>no</th>\n",
       "      <th>yes</th>\n",
       "    </tr>\n",
       "    <tr>\n",
       "      <th>NObeyesdad</th>\n",
       "      <th></th>\n",
       "      <th></th>\n",
       "    </tr>\n",
       "  </thead>\n",
       "  <tbody>\n",
       "    <tr>\n",
       "      <th>Insufficient_Weight</th>\n",
       "      <td>0.54</td>\n",
       "      <td>0.46</td>\n",
       "    </tr>\n",
       "    <tr>\n",
       "      <th>Normal_Weight</th>\n",
       "      <td>0.46</td>\n",
       "      <td>0.54</td>\n",
       "    </tr>\n",
       "    <tr>\n",
       "      <th>Obesity_Type_I</th>\n",
       "      <td>0.02</td>\n",
       "      <td>0.98</td>\n",
       "    </tr>\n",
       "    <tr>\n",
       "      <th>Obesity_Type_II</th>\n",
       "      <td>0.00</td>\n",
       "      <td>1.00</td>\n",
       "    </tr>\n",
       "    <tr>\n",
       "      <th>Obesity_Type_III</th>\n",
       "      <td>0.00</td>\n",
       "      <td>1.00</td>\n",
       "    </tr>\n",
       "    <tr>\n",
       "      <th>Overweight_Level_I</th>\n",
       "      <td>0.28</td>\n",
       "      <td>0.72</td>\n",
       "    </tr>\n",
       "    <tr>\n",
       "      <th>Overweight_Level_II</th>\n",
       "      <td>0.06</td>\n",
       "      <td>0.94</td>\n",
       "    </tr>\n",
       "  </tbody>\n",
       "</table>\n",
       "</div>"
      ],
      "text/plain": [
       "family_history_with_overweight   no  yes\n",
       "NObeyesdad                              \n",
       "Insufficient_Weight            0.54 0.46\n",
       "Normal_Weight                  0.46 0.54\n",
       "Obesity_Type_I                 0.02 0.98\n",
       "Obesity_Type_II                0.00 1.00\n",
       "Obesity_Type_III               0.00 1.00\n",
       "Overweight_Level_I             0.28 0.72\n",
       "Overweight_Level_II            0.06 0.94"
      ]
     },
     "metadata": {},
     "output_type": "display_data"
    },
    {
     "data": {
      "text/html": [
       "<div>\n",
       "<style scoped>\n",
       "    .dataframe tbody tr th:only-of-type {\n",
       "        vertical-align: middle;\n",
       "    }\n",
       "\n",
       "    .dataframe tbody tr th {\n",
       "        vertical-align: top;\n",
       "    }\n",
       "\n",
       "    .dataframe thead th {\n",
       "        text-align: right;\n",
       "    }\n",
       "</style>\n",
       "<table border=\"1\" class=\"dataframe\">\n",
       "  <thead>\n",
       "    <tr style=\"text-align: right;\">\n",
       "      <th>FAVC</th>\n",
       "      <th>no</th>\n",
       "      <th>yes</th>\n",
       "    </tr>\n",
       "    <tr>\n",
       "      <th>NObeyesdad</th>\n",
       "      <th></th>\n",
       "      <th></th>\n",
       "    </tr>\n",
       "  </thead>\n",
       "  <tbody>\n",
       "    <tr>\n",
       "      <th>Insufficient_Weight</th>\n",
       "      <td>0.19</td>\n",
       "      <td>0.81</td>\n",
       "    </tr>\n",
       "    <tr>\n",
       "      <th>Normal_Weight</th>\n",
       "      <td>0.28</td>\n",
       "      <td>0.72</td>\n",
       "    </tr>\n",
       "    <tr>\n",
       "      <th>Obesity_Type_I</th>\n",
       "      <td>0.03</td>\n",
       "      <td>0.97</td>\n",
       "    </tr>\n",
       "    <tr>\n",
       "      <th>Obesity_Type_II</th>\n",
       "      <td>0.02</td>\n",
       "      <td>0.98</td>\n",
       "    </tr>\n",
       "    <tr>\n",
       "      <th>Obesity_Type_III</th>\n",
       "      <td>0.00</td>\n",
       "      <td>1.00</td>\n",
       "    </tr>\n",
       "    <tr>\n",
       "      <th>Overweight_Level_I</th>\n",
       "      <td>0.08</td>\n",
       "      <td>0.92</td>\n",
       "    </tr>\n",
       "    <tr>\n",
       "      <th>Overweight_Level_II</th>\n",
       "      <td>0.26</td>\n",
       "      <td>0.74</td>\n",
       "    </tr>\n",
       "  </tbody>\n",
       "</table>\n",
       "</div>"
      ],
      "text/plain": [
       "FAVC                  no  yes\n",
       "NObeyesdad                   \n",
       "Insufficient_Weight 0.19 0.81\n",
       "Normal_Weight       0.28 0.72\n",
       "Obesity_Type_I      0.03 0.97\n",
       "Obesity_Type_II     0.02 0.98\n",
       "Obesity_Type_III    0.00 1.00\n",
       "Overweight_Level_I  0.08 0.92\n",
       "Overweight_Level_II 0.26 0.74"
      ]
     },
     "metadata": {},
     "output_type": "display_data"
    },
    {
     "data": {
      "text/html": [
       "<div>\n",
       "<style scoped>\n",
       "    .dataframe tbody tr th:only-of-type {\n",
       "        vertical-align: middle;\n",
       "    }\n",
       "\n",
       "    .dataframe tbody tr th {\n",
       "        vertical-align: top;\n",
       "    }\n",
       "\n",
       "    .dataframe thead th {\n",
       "        text-align: right;\n",
       "    }\n",
       "</style>\n",
       "<table border=\"1\" class=\"dataframe\">\n",
       "  <thead>\n",
       "    <tr style=\"text-align: right;\">\n",
       "      <th>CAEC</th>\n",
       "      <th>Always</th>\n",
       "      <th>Frequently</th>\n",
       "      <th>Sometimes</th>\n",
       "      <th>no</th>\n",
       "    </tr>\n",
       "    <tr>\n",
       "      <th>NObeyesdad</th>\n",
       "      <th></th>\n",
       "      <th></th>\n",
       "      <th></th>\n",
       "      <th></th>\n",
       "    </tr>\n",
       "  </thead>\n",
       "  <tbody>\n",
       "    <tr>\n",
       "      <th>Insufficient_Weight</th>\n",
       "      <td>0.01</td>\n",
       "      <td>0.44</td>\n",
       "      <td>0.54</td>\n",
       "      <td>0.01</td>\n",
       "    </tr>\n",
       "    <tr>\n",
       "      <th>Normal_Weight</th>\n",
       "      <td>0.12</td>\n",
       "      <td>0.29</td>\n",
       "      <td>0.55</td>\n",
       "      <td>0.03</td>\n",
       "    </tr>\n",
       "    <tr>\n",
       "      <th>Obesity_Type_I</th>\n",
       "      <td>0.02</td>\n",
       "      <td>0.02</td>\n",
       "      <td>0.96</td>\n",
       "      <td>0.00</td>\n",
       "    </tr>\n",
       "    <tr>\n",
       "      <th>Obesity_Type_II</th>\n",
       "      <td>0.01</td>\n",
       "      <td>0.00</td>\n",
       "      <td>0.99</td>\n",
       "      <td>0.00</td>\n",
       "    </tr>\n",
       "    <tr>\n",
       "      <th>Obesity_Type_III</th>\n",
       "      <td>0.00</td>\n",
       "      <td>0.00</td>\n",
       "      <td>1.00</td>\n",
       "      <td>0.00</td>\n",
       "    </tr>\n",
       "    <tr>\n",
       "      <th>Overweight_Level_I</th>\n",
       "      <td>0.02</td>\n",
       "      <td>0.05</td>\n",
       "      <td>0.81</td>\n",
       "      <td>0.12</td>\n",
       "    </tr>\n",
       "    <tr>\n",
       "      <th>Overweight_Level_II</th>\n",
       "      <td>0.01</td>\n",
       "      <td>0.06</td>\n",
       "      <td>0.93</td>\n",
       "      <td>0.00</td>\n",
       "    </tr>\n",
       "  </tbody>\n",
       "</table>\n",
       "</div>"
      ],
      "text/plain": [
       "CAEC                 Always  Frequently  Sometimes   no\n",
       "NObeyesdad                                             \n",
       "Insufficient_Weight    0.01        0.44       0.54 0.01\n",
       "Normal_Weight          0.12        0.29       0.55 0.03\n",
       "Obesity_Type_I         0.02        0.02       0.96 0.00\n",
       "Obesity_Type_II        0.01        0.00       0.99 0.00\n",
       "Obesity_Type_III       0.00        0.00       1.00 0.00\n",
       "Overweight_Level_I     0.02        0.05       0.81 0.12\n",
       "Overweight_Level_II    0.01        0.06       0.93 0.00"
      ]
     },
     "metadata": {},
     "output_type": "display_data"
    },
    {
     "data": {
      "text/html": [
       "<div>\n",
       "<style scoped>\n",
       "    .dataframe tbody tr th:only-of-type {\n",
       "        vertical-align: middle;\n",
       "    }\n",
       "\n",
       "    .dataframe tbody tr th {\n",
       "        vertical-align: top;\n",
       "    }\n",
       "\n",
       "    .dataframe thead th {\n",
       "        text-align: right;\n",
       "    }\n",
       "</style>\n",
       "<table border=\"1\" class=\"dataframe\">\n",
       "  <thead>\n",
       "    <tr style=\"text-align: right;\">\n",
       "      <th>SMOKE</th>\n",
       "      <th>no</th>\n",
       "      <th>yes</th>\n",
       "    </tr>\n",
       "    <tr>\n",
       "      <th>NObeyesdad</th>\n",
       "      <th></th>\n",
       "      <th></th>\n",
       "    </tr>\n",
       "  </thead>\n",
       "  <tbody>\n",
       "    <tr>\n",
       "      <th>Insufficient_Weight</th>\n",
       "      <td>1.00</td>\n",
       "      <td>0.00</td>\n",
       "    </tr>\n",
       "    <tr>\n",
       "      <th>Normal_Weight</th>\n",
       "      <td>0.95</td>\n",
       "      <td>0.05</td>\n",
       "    </tr>\n",
       "    <tr>\n",
       "      <th>Obesity_Type_I</th>\n",
       "      <td>0.98</td>\n",
       "      <td>0.02</td>\n",
       "    </tr>\n",
       "    <tr>\n",
       "      <th>Obesity_Type_II</th>\n",
       "      <td>0.95</td>\n",
       "      <td>0.05</td>\n",
       "    </tr>\n",
       "    <tr>\n",
       "      <th>Obesity_Type_III</th>\n",
       "      <td>1.00</td>\n",
       "      <td>0.00</td>\n",
       "    </tr>\n",
       "    <tr>\n",
       "      <th>Overweight_Level_I</th>\n",
       "      <td>0.99</td>\n",
       "      <td>0.01</td>\n",
       "    </tr>\n",
       "    <tr>\n",
       "      <th>Overweight_Level_II</th>\n",
       "      <td>0.98</td>\n",
       "      <td>0.02</td>\n",
       "    </tr>\n",
       "  </tbody>\n",
       "</table>\n",
       "</div>"
      ],
      "text/plain": [
       "SMOKE                 no  yes\n",
       "NObeyesdad                   \n",
       "Insufficient_Weight 1.00 0.00\n",
       "Normal_Weight       0.95 0.05\n",
       "Obesity_Type_I      0.98 0.02\n",
       "Obesity_Type_II     0.95 0.05\n",
       "Obesity_Type_III    1.00 0.00\n",
       "Overweight_Level_I  0.99 0.01\n",
       "Overweight_Level_II 0.98 0.02"
      ]
     },
     "metadata": {},
     "output_type": "display_data"
    },
    {
     "data": {
      "text/html": [
       "<div>\n",
       "<style scoped>\n",
       "    .dataframe tbody tr th:only-of-type {\n",
       "        vertical-align: middle;\n",
       "    }\n",
       "\n",
       "    .dataframe tbody tr th {\n",
       "        vertical-align: top;\n",
       "    }\n",
       "\n",
       "    .dataframe thead th {\n",
       "        text-align: right;\n",
       "    }\n",
       "</style>\n",
       "<table border=\"1\" class=\"dataframe\">\n",
       "  <thead>\n",
       "    <tr style=\"text-align: right;\">\n",
       "      <th>SCC</th>\n",
       "      <th>no</th>\n",
       "      <th>yes</th>\n",
       "    </tr>\n",
       "    <tr>\n",
       "      <th>NObeyesdad</th>\n",
       "      <th></th>\n",
       "      <th></th>\n",
       "    </tr>\n",
       "  </thead>\n",
       "  <tbody>\n",
       "    <tr>\n",
       "      <th>Insufficient_Weight</th>\n",
       "      <td>0.92</td>\n",
       "      <td>0.08</td>\n",
       "    </tr>\n",
       "    <tr>\n",
       "      <th>Normal_Weight</th>\n",
       "      <td>0.90</td>\n",
       "      <td>0.10</td>\n",
       "    </tr>\n",
       "    <tr>\n",
       "      <th>Obesity_Type_I</th>\n",
       "      <td>0.99</td>\n",
       "      <td>0.01</td>\n",
       "    </tr>\n",
       "    <tr>\n",
       "      <th>Obesity_Type_II</th>\n",
       "      <td>1.00</td>\n",
       "      <td>0.00</td>\n",
       "    </tr>\n",
       "    <tr>\n",
       "      <th>Obesity_Type_III</th>\n",
       "      <td>1.00</td>\n",
       "      <td>0.00</td>\n",
       "    </tr>\n",
       "    <tr>\n",
       "      <th>Overweight_Level_I</th>\n",
       "      <td>0.87</td>\n",
       "      <td>0.13</td>\n",
       "    </tr>\n",
       "    <tr>\n",
       "      <th>Overweight_Level_II</th>\n",
       "      <td>0.99</td>\n",
       "      <td>0.01</td>\n",
       "    </tr>\n",
       "  </tbody>\n",
       "</table>\n",
       "</div>"
      ],
      "text/plain": [
       "SCC                   no  yes\n",
       "NObeyesdad                   \n",
       "Insufficient_Weight 0.92 0.08\n",
       "Normal_Weight       0.90 0.10\n",
       "Obesity_Type_I      0.99 0.01\n",
       "Obesity_Type_II     1.00 0.00\n",
       "Obesity_Type_III    1.00 0.00\n",
       "Overweight_Level_I  0.87 0.13\n",
       "Overweight_Level_II 0.99 0.01"
      ]
     },
     "metadata": {},
     "output_type": "display_data"
    },
    {
     "data": {
      "text/html": [
       "<div>\n",
       "<style scoped>\n",
       "    .dataframe tbody tr th:only-of-type {\n",
       "        vertical-align: middle;\n",
       "    }\n",
       "\n",
       "    .dataframe tbody tr th {\n",
       "        vertical-align: top;\n",
       "    }\n",
       "\n",
       "    .dataframe thead th {\n",
       "        text-align: right;\n",
       "    }\n",
       "</style>\n",
       "<table border=\"1\" class=\"dataframe\">\n",
       "  <thead>\n",
       "    <tr style=\"text-align: right;\">\n",
       "      <th>CALC</th>\n",
       "      <th>Always</th>\n",
       "      <th>Frequently</th>\n",
       "      <th>Sometimes</th>\n",
       "      <th>no</th>\n",
       "    </tr>\n",
       "    <tr>\n",
       "      <th>NObeyesdad</th>\n",
       "      <th></th>\n",
       "      <th></th>\n",
       "      <th></th>\n",
       "      <th></th>\n",
       "    </tr>\n",
       "  </thead>\n",
       "  <tbody>\n",
       "    <tr>\n",
       "      <th>Insufficient_Weight</th>\n",
       "      <td>0.00</td>\n",
       "      <td>0.00</td>\n",
       "      <td>0.57</td>\n",
       "      <td>0.43</td>\n",
       "    </tr>\n",
       "    <tr>\n",
       "      <th>Normal_Weight</th>\n",
       "      <td>0.00</td>\n",
       "      <td>0.06</td>\n",
       "      <td>0.56</td>\n",
       "      <td>0.37</td>\n",
       "    </tr>\n",
       "    <tr>\n",
       "      <th>Obesity_Type_I</th>\n",
       "      <td>0.00</td>\n",
       "      <td>0.04</td>\n",
       "      <td>0.49</td>\n",
       "      <td>0.47</td>\n",
       "    </tr>\n",
       "    <tr>\n",
       "      <th>Obesity_Type_II</th>\n",
       "      <td>0.00</td>\n",
       "      <td>0.01</td>\n",
       "      <td>0.75</td>\n",
       "      <td>0.24</td>\n",
       "    </tr>\n",
       "    <tr>\n",
       "      <th>Obesity_Type_III</th>\n",
       "      <td>0.00</td>\n",
       "      <td>0.00</td>\n",
       "      <td>1.00</td>\n",
       "      <td>0.00</td>\n",
       "    </tr>\n",
       "    <tr>\n",
       "      <th>Overweight_Level_I</th>\n",
       "      <td>0.00</td>\n",
       "      <td>0.06</td>\n",
       "      <td>0.77</td>\n",
       "      <td>0.17</td>\n",
       "    </tr>\n",
       "    <tr>\n",
       "      <th>Overweight_Level_II</th>\n",
       "      <td>0.00</td>\n",
       "      <td>0.07</td>\n",
       "      <td>0.49</td>\n",
       "      <td>0.44</td>\n",
       "    </tr>\n",
       "  </tbody>\n",
       "</table>\n",
       "</div>"
      ],
      "text/plain": [
       "CALC                 Always  Frequently  Sometimes   no\n",
       "NObeyesdad                                             \n",
       "Insufficient_Weight    0.00        0.00       0.57 0.43\n",
       "Normal_Weight          0.00        0.06       0.56 0.37\n",
       "Obesity_Type_I         0.00        0.04       0.49 0.47\n",
       "Obesity_Type_II        0.00        0.01       0.75 0.24\n",
       "Obesity_Type_III       0.00        0.00       1.00 0.00\n",
       "Overweight_Level_I     0.00        0.06       0.77 0.17\n",
       "Overweight_Level_II    0.00        0.07       0.49 0.44"
      ]
     },
     "metadata": {},
     "output_type": "display_data"
    }
   ],
   "source": [
    "### Verificando frequência relativa entre atributos categóricos com menos de 5 valores distintos\n",
    "for col in df1.drop('NObeyesdad', axis=1).select_dtypes(include='object'):\n",
    "    if df1[col].nunique() <=4:\n",
    "        display(pd.crosstab(df1['NObeyesdad'], df1[col], normalize='index'))"
   ]
  },
  {
   "cell_type": "markdown",
   "id": "bba5e251-e81a-46e0-8e52-43b596356eaa",
   "metadata": {
    "execution": {
     "iopub.execute_input": "2022-01-11T15:07:33.324232Z",
     "iopub.status.busy": "2022-01-11T15:07:33.324232Z",
     "iopub.status.idle": "2022-01-11T15:07:33.342257Z",
     "shell.execute_reply": "2022-01-11T15:07:33.342257Z",
     "shell.execute_reply.started": "2022-01-11T15:07:33.324232Z"
    },
    "tags": []
   },
   "source": [
    "# Análise Exploratória de Dados"
   ]
  },
  {
   "cell_type": "code",
   "execution_count": 126,
   "id": "0eb7b8ed-7a16-48c2-82d9-7baaec0e28bf",
   "metadata": {
    "execution": {
     "iopub.execute_input": "2022-01-11T15:31:53.701692Z",
     "iopub.status.busy": "2022-01-11T15:31:53.700691Z",
     "iopub.status.idle": "2022-01-11T15:31:53.965931Z",
     "shell.execute_reply": "2022-01-11T15:31:53.964929Z",
     "shell.execute_reply.started": "2022-01-11T15:31:53.701692Z"
    },
    "tags": []
   },
   "outputs": [
    {
     "data": {
      "image/png": "[encoded data removed]",
      "text/plain": [
       "<Figure size 864x432 with 1 Axes>"
      ]
     },
     "metadata": {},
     "output_type": "display_data"
    }
   ],
   "source": [
    "df_temporario = df1[['Weight', 'NObeyesdad']].groupby('NObeyesdad').mean().reset_index()\n",
    "ax = sns.barplot(data=df_temporario, x='NObeyesdad', y='Weight');\n",
    "\n",
    "# código para mostrar os valores das colunas no gráfico\n",
    "for p in ax.patches:\n",
    "    ax.annotate(format(p.get_height(), '.2f'), (p.get_x() + p.get_width() / 2., p.get_height()), \n",
    "       ha = 'center', va = 'center', xytext = (0, 10), textcoords = 'offset points')"
   ]
  },
  {
   "cell_type": "code",
   "execution_count": 127,
   "id": "ef6cd180-508b-4870-9eb3-8f1d5b913c43",
   "metadata": {
    "execution": {
     "iopub.execute_input": "2022-01-11T15:40:59.689860Z",
     "iopub.status.busy": "2022-01-11T15:40:59.688859Z",
     "iopub.status.idle": "2022-01-11T15:40:59.975117Z",
     "shell.execute_reply": "2022-01-11T15:40:59.974117Z",
     "shell.execute_reply.started": "2022-01-11T15:40:59.689860Z"
    },
    "tags": []
   },
   "outputs": [
    {
     "data": {
      "image/png": "[encoded data removed]",
      "text/plain": [
       "<Figure size 864x432 with 1 Axes>"
      ]
     },
     "metadata": {},
     "output_type": "display_data"
    }
   ],
   "source": [
    "df_temporario = df1[['Height', 'NObeyesdad']].groupby('NObeyesdad').mean().reset_index()\n",
    "ax = sns.barplot(data=df_temporario, x='NObeyesdad', y='Height');\n",
    "\n",
    "# código para mostrar os valores das colunas no gráfico\n",
    "for p in ax.patches:\n",
    "    ax.annotate(format(p.get_height(), '.2f'), (p.get_x() + p.get_width() / 2., p.get_height()), \n",
    "       ha = 'center', va = 'center', xytext = (0, 10), textcoords = 'offset points')"
   ]
  },
  {
   "cell_type": "code",
   "execution_count": 128,
   "id": "ee3ec45f-3eae-4c59-992c-6d984fb2afa5",
   "metadata": {
    "execution": {
     "iopub.execute_input": "2022-01-11T15:41:14.971636Z",
     "iopub.status.busy": "2022-01-11T15:41:14.971636Z",
     "iopub.status.idle": "2022-01-11T15:41:15.246885Z",
     "shell.execute_reply": "2022-01-11T15:41:15.245884Z",
     "shell.execute_reply.started": "2022-01-11T15:41:14.971636Z"
    },
    "tags": []
   },
   "outputs": [
    {
     "data": {
      "image/png": "[encoded data removed]",
      "text/plain": [
       "<Figure size 864x432 with 1 Axes>"
      ]
     },
     "metadata": {},
     "output_type": "display_data"
    }
   ],
   "source": [
    "df_temporario = df1[['Age', 'NObeyesdad']].groupby('NObeyesdad').mean().reset_index()\n",
    "ax = sns.barplot(data=df_temporario, x='NObeyesdad', y='Age');\n",
    "\n",
    "# código para mostrar os valores das colunas no gráfico\n",
    "for p in ax.patches:\n",
    "    ax.annotate(format(p.get_height(), '.2f'), (p.get_x() + p.get_width() / 2., p.get_height()), \n",
    "       ha = 'center', va = 'center', xytext = (0, 10), textcoords = 'offset points')"
   ]
  },
  {
   "cell_type": "markdown",
   "id": "cbfbda02-3f5a-495f-b470-630e4d68192f",
   "metadata": {
    "execution": {
     "iopub.execute_input": "2022-01-07T14:41:13.728881Z",
     "iopub.status.busy": "2022-01-07T14:41:13.728881Z",
     "iopub.status.idle": "2022-01-07T14:41:13.739880Z",
     "shell.execute_reply": "2022-01-07T14:41:13.738889Z",
     "shell.execute_reply.started": "2022-01-07T14:41:13.728881Z"
    },
    "tags": []
   },
   "source": [
    "# Pre-Processing"
   ]
  },
  {
   "cell_type": "code",
   "execution_count": 20,
   "id": "f7a26ced-d8f4-4712-91e6-f32787b86ba6",
   "metadata": {
    "execution": {
     "iopub.execute_input": "2022-01-10T14:47:41.320286Z",
     "iopub.status.busy": "2022-01-10T14:47:41.320286Z",
     "iopub.status.idle": "2022-01-10T14:47:41.334299Z",
     "shell.execute_reply": "2022-01-10T14:47:41.334299Z",
     "shell.execute_reply.started": "2022-01-10T14:47:41.320286Z"
    },
    "tags": []
   },
   "outputs": [],
   "source": [
    "df2 = df1.copy()"
   ]
  },
  {
   "cell_type": "markdown",
   "id": "dd73d699-506f-4124-8401-4c1af1fb12e9",
   "metadata": {
    "execution": {
     "iopub.execute_input": "2022-01-07T14:34:31.171538Z",
     "iopub.status.busy": "2022-01-07T14:34:31.171538Z",
     "iopub.status.idle": "2022-01-07T14:34:31.177544Z",
     "shell.execute_reply": "2022-01-07T14:34:31.177544Z",
     "shell.execute_reply.started": "2022-01-07T14:34:31.171538Z"
    },
    "tags": []
   },
   "source": [
    "## Escalonamento"
   ]
  },
  {
   "cell_type": "code",
   "execution_count": 21,
   "id": "f74e60ef-aba4-4209-8a47-ade7da714eeb",
   "metadata": {
    "execution": {
     "iopub.execute_input": "2022-01-10T14:47:41.336301Z",
     "iopub.status.busy": "2022-01-10T14:47:41.336301Z",
     "iopub.status.idle": "2022-01-10T14:47:41.349312Z",
     "shell.execute_reply": "2022-01-10T14:47:41.349312Z",
     "shell.execute_reply.started": "2022-01-10T14:47:41.336301Z"
    },
    "tags": []
   },
   "outputs": [
    {
     "data": {
      "text/plain": [
       "Index(['Age', 'Height', 'Weight', 'FCVC', 'NCP', 'CH2O', 'FAF', 'TUE'], dtype='object')"
      ]
     },
     "execution_count": 21,
     "metadata": {},
     "output_type": "execute_result"
    }
   ],
   "source": [
    "num_attr.columns"
   ]
  },
  {
   "cell_type": "markdown",
   "id": "30232f01-3879-426b-bfc6-c4587e030c7c",
   "metadata": {
    "execution": {
     "iopub.execute_input": "2022-01-07T14:36:52.702477Z",
     "iopub.status.busy": "2022-01-07T14:36:52.702477Z",
     "iopub.status.idle": "2022-01-07T14:36:52.710484Z",
     "shell.execute_reply": "2022-01-07T14:36:52.709482Z",
     "shell.execute_reply.started": "2022-01-07T14:36:52.702477Z"
    },
    "tags": []
   },
   "source": [
    "Checando Outliers para escolher RobustScaler ou MinMaxScaler"
   ]
  },
  {
   "cell_type": "code",
   "execution_count": 22,
   "id": "7cdf9bff-71c7-4df9-bfa3-dfddcd932cda",
   "metadata": {
    "execution": {
     "iopub.execute_input": "2022-01-10T14:47:41.351315Z",
     "iopub.status.busy": "2022-01-10T14:47:41.351315Z",
     "iopub.status.idle": "2022-01-10T14:47:41.554498Z",
     "shell.execute_reply": "2022-01-10T14:47:41.553497Z",
     "shell.execute_reply.started": "2022-01-10T14:47:41.351315Z"
    },
    "tags": []
   },
   "outputs": [
    {
     "data": {
      "image/png": "[encoded data removed]",
      "text/plain": [
       "<Figure size 864x432 with 1 Axes>"
      ]
     },
     "metadata": {},
     "output_type": "display_data"
    }
   ],
   "source": [
    "sns.boxplot(x = df2['Age']);"
   ]
  },
  {
   "cell_type": "code",
   "execution_count": 23,
   "id": "457b9dde-3dd7-4b2a-937f-c12aafb53dc2",
   "metadata": {
    "execution": {
     "iopub.execute_input": "2022-01-10T14:47:41.555500Z",
     "iopub.status.busy": "2022-01-10T14:47:41.555500Z",
     "iopub.status.idle": "2022-01-10T14:47:41.755671Z",
     "shell.execute_reply": "2022-01-10T14:47:41.755671Z",
     "shell.execute_reply.started": "2022-01-10T14:47:41.555500Z"
    },
    "tags": []
   },
   "outputs": [
    {
     "data": {
      "image/png": "[encoded data removed]",
      "text/plain": [
       "<Figure size 864x432 with 1 Axes>"
      ]
     },
     "metadata": {},
     "output_type": "display_data"
    }
   ],
   "source": [
    "sns.boxplot(x = df2['Height']);"
   ]
  },
  {
   "cell_type": "code",
   "execution_count": 24,
   "id": "812b6b2e-4f6d-4070-a826-ff1cb5b34d31",
   "metadata": {
    "execution": {
     "iopub.execute_input": "2022-01-10T14:47:41.757673Z",
     "iopub.status.busy": "2022-01-10T14:47:41.757673Z",
     "iopub.status.idle": "2022-01-10T14:47:41.976870Z",
     "shell.execute_reply": "2022-01-10T14:47:41.975870Z",
     "shell.execute_reply.started": "2022-01-10T14:47:41.757673Z"
    },
    "tags": []
   },
   "outputs": [
    {
     "data": {
      "image/png": "[encoded data removed]",
      "text/plain": [
       "<Figure size 864x432 with 1 Axes>"
      ]
     },
     "metadata": {},
     "output_type": "display_data"
    }
   ],
   "source": [
    "sns.boxplot(x = df2['Weight']);"
   ]
  },
  {
   "cell_type": "code",
   "execution_count": 25,
   "id": "127bfd31-a46b-4d1f-b4d6-10d938d7f72e",
   "metadata": {
    "execution": {
     "iopub.execute_input": "2022-01-10T14:47:41.977871Z",
     "iopub.status.busy": "2022-01-10T14:47:41.977871Z",
     "iopub.status.idle": "2022-01-10T14:47:42.197069Z",
     "shell.execute_reply": "2022-01-10T14:47:42.197069Z",
     "shell.execute_reply.started": "2022-01-10T14:47:41.977871Z"
    },
    "tags": []
   },
   "outputs": [
    {
     "data": {
      "image/png": "[encoded data removed]",
      "text/plain": [
       "<Figure size 864x432 with 1 Axes>"
      ]
     },
     "metadata": {},
     "output_type": "display_data"
    }
   ],
   "source": [
    "sns.boxplot(x = df2['FCVC']);"
   ]
  },
  {
   "cell_type": "code",
   "execution_count": 26,
   "id": "276e2c38-64f8-4453-9ec1-301102beadf2",
   "metadata": {
    "execution": {
     "iopub.execute_input": "2022-01-10T14:47:42.199071Z",
     "iopub.status.busy": "2022-01-10T14:47:42.198071Z",
     "iopub.status.idle": "2022-01-10T14:47:42.415265Z",
     "shell.execute_reply": "2022-01-10T14:47:42.414265Z",
     "shell.execute_reply.started": "2022-01-10T14:47:42.199071Z"
    },
    "tags": []
   },
   "outputs": [
    {
     "data": {
      "image/png": "[encoded data removed]",
      "text/plain": [
       "<Figure size 864x432 with 1 Axes>"
      ]
     },
     "metadata": {},
     "output_type": "display_data"
    }
   ],
   "source": [
    "sns.boxplot(x = df2['NCP']);"
   ]
  },
  {
   "cell_type": "code",
   "execution_count": 27,
   "id": "5ef485ac-37e2-47ba-8db0-f18702065680",
   "metadata": {
    "execution": {
     "iopub.execute_input": "2022-01-10T14:47:42.416266Z",
     "iopub.status.busy": "2022-01-10T14:47:42.416266Z",
     "iopub.status.idle": "2022-01-10T14:47:42.681506Z",
     "shell.execute_reply": "2022-01-10T14:47:42.680505Z",
     "shell.execute_reply.started": "2022-01-10T14:47:42.416266Z"
    },
    "tags": []
   },
   "outputs": [
    {
     "data": {
      "image/png": "[encoded data removed]",
      "text/plain": [
       "<Figure size 864x432 with 1 Axes>"
      ]
     },
     "metadata": {},
     "output_type": "display_data"
    }
   ],
   "source": [
    "sns.boxplot(x = df2['CH2O']);"
   ]
  },
  {
   "cell_type": "code",
   "execution_count": 28,
   "id": "0c78ae8b-41e3-4e23-9849-23590b79f366",
   "metadata": {
    "execution": {
     "iopub.execute_input": "2022-01-10T14:47:42.682506Z",
     "iopub.status.busy": "2022-01-10T14:47:42.682506Z",
     "iopub.status.idle": "2022-01-10T14:47:42.996790Z",
     "shell.execute_reply": "2022-01-10T14:47:42.996790Z",
     "shell.execute_reply.started": "2022-01-10T14:47:42.682506Z"
    },
    "tags": []
   },
   "outputs": [
    {
     "data": {
      "image/png": "[encoded data removed]",
      "text/plain": [
       "<Figure size 864x432 with 1 Axes>"
      ]
     },
     "metadata": {},
     "output_type": "display_data"
    }
   ],
   "source": [
    "sns.boxplot(x = df2['FAF']);"
   ]
  },
  {
   "cell_type": "code",
   "execution_count": 29,
   "id": "1f9559e7-b395-43c6-bd7f-7816fcd5302a",
   "metadata": {
    "execution": {
     "iopub.execute_input": "2022-01-10T14:47:42.998792Z",
     "iopub.status.busy": "2022-01-10T14:47:42.997791Z",
     "iopub.status.idle": "2022-01-10T14:47:43.216989Z",
     "shell.execute_reply": "2022-01-10T14:47:43.216989Z",
     "shell.execute_reply.started": "2022-01-10T14:47:42.998792Z"
    },
    "tags": []
   },
   "outputs": [
    {
     "data": {
      "image/png": "[encoded data removed]",
      "text/plain": [
       "<Figure size 864x432 with 1 Axes>"
      ]
     },
     "metadata": {},
     "output_type": "display_data"
    }
   ],
   "source": [
    "sns.boxplot(x = df2['TUE']);"
   ]
  },
  {
   "cell_type": "code",
   "execution_count": 30,
   "id": "f4d89d4a-f68e-4565-84e3-267b736019b0",
   "metadata": {
    "execution": {
     "iopub.execute_input": "2022-01-10T14:47:43.218990Z",
     "iopub.status.busy": "2022-01-10T14:47:43.217990Z",
     "iopub.status.idle": "2022-01-10T14:47:43.265034Z",
     "shell.execute_reply": "2022-01-10T14:47:43.264033Z",
     "shell.execute_reply.started": "2022-01-10T14:47:43.218990Z"
    },
    "tags": []
   },
   "outputs": [],
   "source": [
    "rs = RobustScaler()\n",
    "mms = MinMaxScaler()\n",
    "\n",
    "df2['Age'] = rs.fit_transform(df2[['Age']])\n",
    "\n",
    "# o robust scaler \"piorou\" a escala\n",
    "#df2['NCP'] = rs.fit_transform(df2[['NCP']])\n",
    "\n",
    "df2['Height'] = mms.fit_transform(df2[['Height']])\n",
    "\n",
    "df2['Weight'] = mms.fit_transform(df2[['Weight']])\n",
    "\n",
    "df2['FCVC'] = mms.fit_transform(df2[['FCVC']])\n",
    "\n",
    "df2['CH2O'] = mms.fit_transform(df2[['CH2O']])\n",
    "\n",
    "df2['FAF'] = mms.fit_transform(df2[['FAF']])\n",
    "\n",
    "df2['TUE'] = mms.fit_transform(df2[['TUE']])"
   ]
  },
  {
   "cell_type": "code",
   "execution_count": 31,
   "id": "7d98a94d-6660-414f-9afb-064889c4e7f0",
   "metadata": {
    "execution": {
     "iopub.execute_input": "2022-01-10T14:47:43.267035Z",
     "iopub.status.busy": "2022-01-10T14:47:43.266034Z",
     "iopub.status.idle": "2022-01-10T14:47:43.296061Z",
     "shell.execute_reply": "2022-01-10T14:47:43.295059Z",
     "shell.execute_reply.started": "2022-01-10T14:47:43.267035Z"
    },
    "tags": []
   },
   "outputs": [
    {
     "data": {
      "text/html": [
       "<div>\n",
       "<style scoped>\n",
       "    .dataframe tbody tr th:only-of-type {\n",
       "        vertical-align: middle;\n",
       "    }\n",
       "\n",
       "    .dataframe tbody tr th {\n",
       "        vertical-align: top;\n",
       "    }\n",
       "\n",
       "    .dataframe thead th {\n",
       "        text-align: right;\n",
       "    }\n",
       "</style>\n",
       "<table border=\"1\" class=\"dataframe\">\n",
       "  <thead>\n",
       "    <tr style=\"text-align: right;\">\n",
       "      <th></th>\n",
       "      <th>Gender</th>\n",
       "      <th>Age</th>\n",
       "      <th>Height</th>\n",
       "      <th>Weight</th>\n",
       "      <th>family_history_with_overweight</th>\n",
       "      <th>FAVC</th>\n",
       "      <th>FCVC</th>\n",
       "      <th>NCP</th>\n",
       "      <th>CAEC</th>\n",
       "      <th>SMOKE</th>\n",
       "      <th>CH2O</th>\n",
       "      <th>SCC</th>\n",
       "      <th>FAF</th>\n",
       "      <th>TUE</th>\n",
       "      <th>CALC</th>\n",
       "      <th>MTRANS</th>\n",
       "      <th>NObeyesdad</th>\n",
       "    </tr>\n",
       "  </thead>\n",
       "  <tbody>\n",
       "    <tr>\n",
       "      <th>0</th>\n",
       "      <td>Female</td>\n",
       "      <td>-0.29</td>\n",
       "      <td>0.32</td>\n",
       "      <td>0.19</td>\n",
       "      <td>yes</td>\n",
       "      <td>no</td>\n",
       "      <td>0.50</td>\n",
       "      <td>0.00</td>\n",
       "      <td>Sometimes</td>\n",
       "      <td>no</td>\n",
       "      <td>0.50</td>\n",
       "      <td>no</td>\n",
       "      <td>0.00</td>\n",
       "      <td>0.50</td>\n",
       "      <td>no</td>\n",
       "      <td>Public_Transportation</td>\n",
       "      <td>Normal_Weight</td>\n",
       "    </tr>\n",
       "    <tr>\n",
       "      <th>1</th>\n",
       "      <td>Female</td>\n",
       "      <td>-0.29</td>\n",
       "      <td>0.13</td>\n",
       "      <td>0.13</td>\n",
       "      <td>yes</td>\n",
       "      <td>no</td>\n",
       "      <td>1.00</td>\n",
       "      <td>0.00</td>\n",
       "      <td>Sometimes</td>\n",
       "      <td>yes</td>\n",
       "      <td>1.00</td>\n",
       "      <td>yes</td>\n",
       "      <td>1.00</td>\n",
       "      <td>0.00</td>\n",
       "      <td>Sometimes</td>\n",
       "      <td>Public_Transportation</td>\n",
       "      <td>Normal_Weight</td>\n",
       "    </tr>\n",
       "    <tr>\n",
       "      <th>2</th>\n",
       "      <td>Male</td>\n",
       "      <td>0.04</td>\n",
       "      <td>0.66</td>\n",
       "      <td>0.28</td>\n",
       "      <td>yes</td>\n",
       "      <td>no</td>\n",
       "      <td>0.50</td>\n",
       "      <td>0.00</td>\n",
       "      <td>Sometimes</td>\n",
       "      <td>no</td>\n",
       "      <td>0.50</td>\n",
       "      <td>no</td>\n",
       "      <td>0.67</td>\n",
       "      <td>0.50</td>\n",
       "      <td>Frequently</td>\n",
       "      <td>Public_Transportation</td>\n",
       "      <td>Normal_Weight</td>\n",
       "    </tr>\n",
       "    <tr>\n",
       "      <th>3</th>\n",
       "      <td>Male</td>\n",
       "      <td>0.70</td>\n",
       "      <td>0.66</td>\n",
       "      <td>0.36</td>\n",
       "      <td>no</td>\n",
       "      <td>no</td>\n",
       "      <td>1.00</td>\n",
       "      <td>0.00</td>\n",
       "      <td>Sometimes</td>\n",
       "      <td>no</td>\n",
       "      <td>0.50</td>\n",
       "      <td>no</td>\n",
       "      <td>0.67</td>\n",
       "      <td>0.00</td>\n",
       "      <td>Frequently</td>\n",
       "      <td>Walking</td>\n",
       "      <td>Overweight_Level_I</td>\n",
       "    </tr>\n",
       "    <tr>\n",
       "      <th>4</th>\n",
       "      <td>Male</td>\n",
       "      <td>-0.13</td>\n",
       "      <td>0.62</td>\n",
       "      <td>0.38</td>\n",
       "      <td>no</td>\n",
       "      <td>no</td>\n",
       "      <td>0.50</td>\n",
       "      <td>-5.86</td>\n",
       "      <td>Sometimes</td>\n",
       "      <td>no</td>\n",
       "      <td>0.50</td>\n",
       "      <td>no</td>\n",
       "      <td>0.00</td>\n",
       "      <td>0.00</td>\n",
       "      <td>Sometimes</td>\n",
       "      <td>Public_Transportation</td>\n",
       "      <td>Overweight_Level_II</td>\n",
       "    </tr>\n",
       "  </tbody>\n",
       "</table>\n",
       "</div>"
      ],
      "text/plain": [
       "   Gender   Age  Height  Weight family_history_with_overweight FAVC  FCVC   NCP       CAEC SMOKE  CH2O  SCC  FAF  TUE        CALC                 MTRANS           NObeyesdad\n",
       "0  Female -0.29    0.32    0.19                            yes   no  0.50  0.00  Sometimes    no  0.50   no 0.00 0.50          no  Public_Transportation        Normal_Weight\n",
       "1  Female -0.29    0.13    0.13                            yes   no  1.00  0.00  Sometimes   yes  1.00  yes 1.00 0.00   Sometimes  Public_Transportation        Normal_Weight\n",
       "2    Male  0.04    0.66    0.28                            yes   no  0.50  0.00  Sometimes    no  0.50   no 0.67 0.50  Frequently  Public_Transportation        Normal_Weight\n",
       "3    Male  0.70    0.66    0.36                             no   no  1.00  0.00  Sometimes    no  0.50   no 0.67 0.00  Frequently                Walking   Overweight_Level_I\n",
       "4    Male -0.13    0.62    0.38                             no   no  0.50 -5.86  Sometimes    no  0.50   no 0.00 0.00   Sometimes  Public_Transportation  Overweight_Level_II"
      ]
     },
     "execution_count": 31,
     "metadata": {},
     "output_type": "execute_result"
    }
   ],
   "source": [
    "df2.head()"
   ]
  },
  {
   "cell_type": "markdown",
   "id": "cb5c9e3c-636a-4f5f-a209-55878803c145",
   "metadata": {
    "execution": {
     "iopub.execute_input": "2022-01-07T14:34:20.764899Z",
     "iopub.status.busy": "2022-01-07T14:34:20.764899Z",
     "iopub.status.idle": "2022-01-07T14:34:20.781905Z",
     "shell.execute_reply": "2022-01-07T14:34:20.781905Z",
     "shell.execute_reply.started": "2022-01-07T14:34:20.764899Z"
    },
    "tags": []
   },
   "source": [
    "## Encoding"
   ]
  },
  {
   "cell_type": "code",
   "execution_count": 32,
   "id": "a85deffc-dcc5-4f0d-89da-83a59c58c17a",
   "metadata": {
    "execution": {
     "iopub.execute_input": "2022-01-10T14:47:43.298064Z",
     "iopub.status.busy": "2022-01-10T14:47:43.297063Z",
     "iopub.status.idle": "2022-01-10T14:47:43.312075Z",
     "shell.execute_reply": "2022-01-10T14:47:43.311073Z",
     "shell.execute_reply.started": "2022-01-10T14:47:43.298064Z"
    }
   },
   "outputs": [
    {
     "data": {
      "text/plain": [
       "Index(['Gender', 'family_history_with_overweight', 'FAVC', 'CAEC', 'SMOKE',\n",
       "       'SCC', 'CALC', 'MTRANS', 'NObeyesdad'],\n",
       "      dtype='object')"
      ]
     },
     "execution_count": 32,
     "metadata": {},
     "output_type": "execute_result"
    }
   ],
   "source": [
    "cat_attr.columns"
   ]
  },
  {
   "cell_type": "code",
   "execution_count": 33,
   "id": "aec13746-5f75-456d-a2bd-a89fc3e22d92",
   "metadata": {
    "execution": {
     "iopub.execute_input": "2022-01-10T14:47:43.313076Z",
     "iopub.status.busy": "2022-01-10T14:47:43.313076Z",
     "iopub.status.idle": "2022-01-10T14:47:43.327088Z",
     "shell.execute_reply": "2022-01-10T14:47:43.327088Z",
     "shell.execute_reply.started": "2022-01-10T14:47:43.313076Z"
    },
    "tags": []
   },
   "outputs": [
    {
     "data": {
      "text/plain": [
       "Gender                            2\n",
       "family_history_with_overweight    2\n",
       "FAVC                              2\n",
       "CAEC                              4\n",
       "SMOKE                             2\n",
       "SCC                               2\n",
       "CALC                              4\n",
       "MTRANS                            5\n",
       "NObeyesdad                        7\n",
       "dtype: int64"
      ]
     },
     "execution_count": 33,
     "metadata": {},
     "output_type": "execute_result"
    }
   ],
   "source": [
    "cat_attr.nunique()"
   ]
  },
  {
   "cell_type": "code",
   "execution_count": 34,
   "id": "cbf2313a-7af7-4110-bfb4-56723f82ed47",
   "metadata": {
    "execution": {
     "iopub.execute_input": "2022-01-10T14:47:43.329089Z",
     "iopub.status.busy": "2022-01-10T14:47:43.329089Z",
     "iopub.status.idle": "2022-01-10T14:47:43.343104Z",
     "shell.execute_reply": "2022-01-10T14:47:43.342101Z",
     "shell.execute_reply.started": "2022-01-10T14:47:43.329089Z"
    },
    "tags": []
   },
   "outputs": [
    {
     "data": {
      "text/plain": [
       "array(['Female', 'Male'], dtype=object)"
      ]
     },
     "execution_count": 34,
     "metadata": {},
     "output_type": "execute_result"
    }
   ],
   "source": [
    "df2['Gender'].unique()"
   ]
  },
  {
   "cell_type": "code",
   "execution_count": 35,
   "id": "201cfd31-2607-46e8-8b41-5a6d6f7ccbd6",
   "metadata": {
    "execution": {
     "iopub.execute_input": "2022-01-10T14:47:43.344104Z",
     "iopub.status.busy": "2022-01-10T14:47:43.344104Z",
     "iopub.status.idle": "2022-01-10T14:47:43.358116Z",
     "shell.execute_reply": "2022-01-10T14:47:43.358116Z",
     "shell.execute_reply.started": "2022-01-10T14:47:43.344104Z"
    },
    "tags": []
   },
   "outputs": [],
   "source": [
    "temp_dict = {'Female': 1, 'Male': 0}\n",
    "df2['Gender'] = df2['Gender'].map(temp_dict)"
   ]
  },
  {
   "cell_type": "code",
   "execution_count": 36,
   "id": "252ca074-102d-4fc0-beb6-038fcc56ba8d",
   "metadata": {
    "execution": {
     "iopub.execute_input": "2022-01-10T14:47:43.360118Z",
     "iopub.status.busy": "2022-01-10T14:47:43.360118Z",
     "iopub.status.idle": "2022-01-10T14:47:43.374130Z",
     "shell.execute_reply": "2022-01-10T14:47:43.373130Z",
     "shell.execute_reply.started": "2022-01-10T14:47:43.360118Z"
    },
    "tags": []
   },
   "outputs": [
    {
     "data": {
      "text/plain": [
       "array(['yes', 'no'], dtype=object)"
      ]
     },
     "execution_count": 36,
     "metadata": {},
     "output_type": "execute_result"
    }
   ],
   "source": [
    "df2['family_history_with_overweight'].unique()"
   ]
  },
  {
   "cell_type": "code",
   "execution_count": 37,
   "id": "ccc95938-d915-4200-8002-9ca5372b486f",
   "metadata": {
    "execution": {
     "iopub.execute_input": "2022-01-10T14:47:43.382138Z",
     "iopub.status.busy": "2022-01-10T14:47:43.382138Z",
     "iopub.status.idle": "2022-01-10T14:47:43.390145Z",
     "shell.execute_reply": "2022-01-10T14:47:43.389144Z",
     "shell.execute_reply.started": "2022-01-10T14:47:43.382138Z"
    },
    "tags": []
   },
   "outputs": [],
   "source": [
    "temp_dict = {'yes': 1, 'no': 0}\n",
    "df2['family_history_with_overweight'] = df2['family_history_with_overweight'].map(temp_dict)"
   ]
  },
  {
   "cell_type": "code",
   "execution_count": 38,
   "id": "0430eada-330a-4ab3-a121-fa441844ed82",
   "metadata": {
    "execution": {
     "iopub.execute_input": "2022-01-10T14:47:43.391146Z",
     "iopub.status.busy": "2022-01-10T14:47:43.391146Z",
     "iopub.status.idle": "2022-01-10T14:47:43.405159Z",
     "shell.execute_reply": "2022-01-10T14:47:43.404159Z",
     "shell.execute_reply.started": "2022-01-10T14:47:43.391146Z"
    },
    "tags": []
   },
   "outputs": [
    {
     "data": {
      "text/plain": [
       "array(['no', 'yes'], dtype=object)"
      ]
     },
     "execution_count": 38,
     "metadata": {},
     "output_type": "execute_result"
    }
   ],
   "source": [
    "df2['FAVC'].unique()"
   ]
  },
  {
   "cell_type": "code",
   "execution_count": 39,
   "id": "94e04f36-3d69-4d8b-8c4b-777e4883563d",
   "metadata": {
    "execution": {
     "iopub.execute_input": "2022-01-10T14:47:43.407165Z",
     "iopub.status.busy": "2022-01-10T14:47:43.406160Z",
     "iopub.status.idle": "2022-01-10T14:47:43.420172Z",
     "shell.execute_reply": "2022-01-10T14:47:43.419171Z",
     "shell.execute_reply.started": "2022-01-10T14:47:43.407165Z"
    },
    "tags": []
   },
   "outputs": [],
   "source": [
    "temp_dict = {'yes': 1, 'no': 0}\n",
    "df2['FAVC'] = df2['FAVC'].map(temp_dict)"
   ]
  },
  {
   "cell_type": "code",
   "execution_count": 40,
   "id": "a15960cf-d22f-4698-ac41-64f89680a345",
   "metadata": {
    "execution": {
     "iopub.execute_input": "2022-01-10T14:47:43.422174Z",
     "iopub.status.busy": "2022-01-10T14:47:43.421175Z",
     "iopub.status.idle": "2022-01-10T14:47:43.436186Z",
     "shell.execute_reply": "2022-01-10T14:47:43.435185Z",
     "shell.execute_reply.started": "2022-01-10T14:47:43.422174Z"
    },
    "tags": []
   },
   "outputs": [
    {
     "data": {
      "text/plain": [
       "array(['Sometimes', 'Frequently', 'Always', 'no'], dtype=object)"
      ]
     },
     "execution_count": 40,
     "metadata": {},
     "output_type": "execute_result"
    }
   ],
   "source": [
    "df2['CAEC'].unique()"
   ]
  },
  {
   "cell_type": "code",
   "execution_count": 41,
   "id": "cb76c514-d685-4b60-a364-77d83653d308",
   "metadata": {
    "execution": {
     "iopub.execute_input": "2022-01-10T14:47:43.437188Z",
     "iopub.status.busy": "2022-01-10T14:47:43.437188Z",
     "iopub.status.idle": "2022-01-10T14:47:43.451199Z",
     "shell.execute_reply": "2022-01-10T14:47:43.451199Z",
     "shell.execute_reply.started": "2022-01-10T14:47:43.437188Z"
    },
    "tags": []
   },
   "outputs": [],
   "source": [
    "ordinal_encoding = {'no': 0, 'Sometimes': 1, 'Frequently': 2, 'Always': 3}\n",
    "df2['CAEC'] = df2['CAEC'].map(ordinal_encoding)"
   ]
  },
  {
   "cell_type": "code",
   "execution_count": 42,
   "id": "0ef93433-a488-4671-b49e-c004ec8e83fb",
   "metadata": {
    "execution": {
     "iopub.execute_input": "2022-01-10T14:47:43.453201Z",
     "iopub.status.busy": "2022-01-10T14:47:43.453201Z",
     "iopub.status.idle": "2022-01-10T14:47:43.468216Z",
     "shell.execute_reply": "2022-01-10T14:47:43.467214Z",
     "shell.execute_reply.started": "2022-01-10T14:47:43.453201Z"
    },
    "tags": []
   },
   "outputs": [
    {
     "data": {
      "text/plain": [
       "array(['no', 'yes'], dtype=object)"
      ]
     },
     "execution_count": 42,
     "metadata": {},
     "output_type": "execute_result"
    }
   ],
   "source": [
    "df2['SMOKE'].unique()"
   ]
  },
  {
   "cell_type": "code",
   "execution_count": 43,
   "id": "d9d1962b-bb37-4f49-bd35-6a85ed93953c",
   "metadata": {
    "execution": {
     "iopub.execute_input": "2022-01-10T14:47:43.469219Z",
     "iopub.status.busy": "2022-01-10T14:47:43.469219Z",
     "iopub.status.idle": "2022-01-10T14:47:43.484231Z",
     "shell.execute_reply": "2022-01-10T14:47:43.483228Z",
     "shell.execute_reply.started": "2022-01-10T14:47:43.469219Z"
    },
    "tags": []
   },
   "outputs": [],
   "source": [
    "temp_dict = {'yes': 1, 'no': 0}\n",
    "df2['SMOKE'] = df2['SMOKE'].map(temp_dict)"
   ]
  },
  {
   "cell_type": "code",
   "execution_count": 44,
   "id": "19bb5977-adb7-47c3-8a39-23d15b7dc8f4",
   "metadata": {
    "execution": {
     "iopub.execute_input": "2022-01-10T14:47:43.486233Z",
     "iopub.status.busy": "2022-01-10T14:47:43.485230Z",
     "iopub.status.idle": "2022-01-10T14:47:43.500245Z",
     "shell.execute_reply": "2022-01-10T14:47:43.499245Z",
     "shell.execute_reply.started": "2022-01-10T14:47:43.486233Z"
    },
    "tags": []
   },
   "outputs": [
    {
     "data": {
      "text/plain": [
       "array(['no', 'yes'], dtype=object)"
      ]
     },
     "execution_count": 44,
     "metadata": {},
     "output_type": "execute_result"
    }
   ],
   "source": [
    "df2['SCC'].unique()"
   ]
  },
  {
   "cell_type": "code",
   "execution_count": 45,
   "id": "467f3348-3a84-4ed6-b214-bae8cc011fca",
   "metadata": {
    "execution": {
     "iopub.execute_input": "2022-01-10T14:47:43.502247Z",
     "iopub.status.busy": "2022-01-10T14:47:43.501245Z",
     "iopub.status.idle": "2022-01-10T14:47:43.515258Z",
     "shell.execute_reply": "2022-01-10T14:47:43.514256Z",
     "shell.execute_reply.started": "2022-01-10T14:47:43.502247Z"
    },
    "tags": []
   },
   "outputs": [],
   "source": [
    "temp_dict = {'yes': 1, 'no': 0}\n",
    "df2['SCC'] = df2['SCC'].map(temp_dict)"
   ]
  },
  {
   "cell_type": "code",
   "execution_count": 46,
   "id": "81a706c7-dd24-49dc-9c26-d0e5293c845f",
   "metadata": {
    "execution": {
     "iopub.execute_input": "2022-01-10T14:47:43.516258Z",
     "iopub.status.busy": "2022-01-10T14:47:43.516258Z",
     "iopub.status.idle": "2022-01-10T14:47:43.530271Z",
     "shell.execute_reply": "2022-01-10T14:47:43.529270Z",
     "shell.execute_reply.started": "2022-01-10T14:47:43.516258Z"
    },
    "tags": []
   },
   "outputs": [
    {
     "data": {
      "text/plain": [
       "array(['no', 'Sometimes', 'Frequently', 'Always'], dtype=object)"
      ]
     },
     "execution_count": 46,
     "metadata": {},
     "output_type": "execute_result"
    }
   ],
   "source": [
    "df2['CALC'].unique()"
   ]
  },
  {
   "cell_type": "code",
   "execution_count": 47,
   "id": "edde557d-2571-4ed7-8e18-bc51903f26dd",
   "metadata": {
    "execution": {
     "iopub.execute_input": "2022-01-10T14:47:43.531272Z",
     "iopub.status.busy": "2022-01-10T14:47:43.531272Z",
     "iopub.status.idle": "2022-01-10T14:47:43.545284Z",
     "shell.execute_reply": "2022-01-10T14:47:43.544283Z",
     "shell.execute_reply.started": "2022-01-10T14:47:43.531272Z"
    },
    "tags": []
   },
   "outputs": [],
   "source": [
    "ordinal_encoding = {'no': 0, 'Sometimes': 1, 'Frequently': 2, 'Always': 3}\n",
    "df2['CALC'] = df2['CALC'].map(ordinal_encoding)"
   ]
  },
  {
   "cell_type": "code",
   "execution_count": 48,
   "id": "029083db-b723-4e4f-be6f-8f56da0751d4",
   "metadata": {
    "execution": {
     "iopub.execute_input": "2022-01-10T14:47:43.546286Z",
     "iopub.status.busy": "2022-01-10T14:47:43.546286Z",
     "iopub.status.idle": "2022-01-10T14:47:43.560299Z",
     "shell.execute_reply": "2022-01-10T14:47:43.559298Z",
     "shell.execute_reply.started": "2022-01-10T14:47:43.546286Z"
    },
    "tags": []
   },
   "outputs": [
    {
     "data": {
      "text/plain": [
       "array(['Public_Transportation', 'Walking', 'Automobile', 'Motorbike',\n",
       "       'Bike'], dtype=object)"
      ]
     },
     "execution_count": 48,
     "metadata": {},
     "output_type": "execute_result"
    }
   ],
   "source": [
    "df2['MTRANS'].unique()"
   ]
  },
  {
   "cell_type": "code",
   "execution_count": 49,
   "id": "4d950682-b389-47c0-a786-172e39059961",
   "metadata": {
    "execution": {
     "iopub.execute_input": "2022-01-10T14:47:43.561299Z",
     "iopub.status.busy": "2022-01-10T14:47:43.561299Z",
     "iopub.status.idle": "2022-01-10T14:47:43.576313Z",
     "shell.execute_reply": "2022-01-10T14:47:43.575311Z",
     "shell.execute_reply.started": "2022-01-10T14:47:43.561299Z"
    },
    "tags": []
   },
   "outputs": [],
   "source": [
    "frequency_encoder = df2.groupby('MTRANS').size()/len(df1)\n",
    "df2.loc[:, 'MTRANS'] = df2['MTRANS'].map(frequency_encoder)"
   ]
  },
  {
   "cell_type": "code",
   "execution_count": 50,
   "id": "392bfa02-d0b2-4c0d-8a26-35efb0fd4001",
   "metadata": {
    "execution": {
     "iopub.execute_input": "2022-01-10T14:47:43.577313Z",
     "iopub.status.busy": "2022-01-10T14:47:43.577313Z",
     "iopub.status.idle": "2022-01-10T14:47:43.592328Z",
     "shell.execute_reply": "2022-01-10T14:47:43.591326Z",
     "shell.execute_reply.started": "2022-01-10T14:47:43.577313Z"
    },
    "tags": []
   },
   "outputs": [
    {
     "data": {
      "text/plain": [
       "array(['Normal_Weight', 'Overweight_Level_I', 'Overweight_Level_II',\n",
       "       'Obesity_Type_I', 'Insufficient_Weight', 'Obesity_Type_II',\n",
       "       'Obesity_Type_III'], dtype=object)"
      ]
     },
     "execution_count": 50,
     "metadata": {},
     "output_type": "execute_result"
    }
   ],
   "source": [
    "# É PRECISO PESQUISAR SOBRE SE HÁ ALGUMA FORMA MELHOR DE FAZER O ENCODING DA VARIÁVEL ALVO\n",
    "\n",
    "# comparar os resultados utilizando encodings diferentes para a variável alvo\n",
    "\n",
    "df2['NObeyesdad'].unique()"
   ]
  },
  {
   "cell_type": "code",
   "execution_count": 51,
   "id": "8c2d21a5-164b-4580-ba2b-35fb8b470806",
   "metadata": {
    "execution": {
     "iopub.execute_input": "2022-01-10T14:47:43.593329Z",
     "iopub.status.busy": "2022-01-10T14:47:43.593329Z",
     "iopub.status.idle": "2022-01-10T14:47:43.607341Z",
     "shell.execute_reply": "2022-01-10T14:47:43.606340Z",
     "shell.execute_reply.started": "2022-01-10T14:47:43.593329Z"
    },
    "tags": []
   },
   "outputs": [],
   "source": [
    "# frequency_encoder = df2.groupby('NObeyesdad').size()/len(df1)\n",
    "# df2.loc[:, 'target'] = df2['NObeyesdad'].map(frequency_encoder)"
   ]
  },
  {
   "cell_type": "code",
   "execution_count": 52,
   "id": "393a8e12-930a-4046-8e93-f94c0e9e5d08",
   "metadata": {
    "execution": {
     "iopub.execute_input": "2022-01-10T14:47:43.609344Z",
     "iopub.status.busy": "2022-01-10T14:47:43.608342Z",
     "iopub.status.idle": "2022-01-10T14:47:43.622354Z",
     "shell.execute_reply": "2022-01-10T14:47:43.621354Z",
     "shell.execute_reply.started": "2022-01-10T14:47:43.608342Z"
    },
    "tags": []
   },
   "outputs": [],
   "source": [
    "temp_dict = {'Insufficient_Weight' : 0, 'Normal_Weight': 1, 'Overweight_Level_I': 2, 'Overweight_Level_II': 3, 'Obesity_Type_I': 4, 'Obesity_Type_II': 5, 'Obesity_Type_III': 6}\n",
    "df2['target'] = df2['NObeyesdad'].map(temp_dict)"
   ]
  },
  {
   "cell_type": "code",
   "execution_count": 53,
   "id": "96f029d6-f464-4927-ad66-06cd1f62bdc2",
   "metadata": {
    "execution": {
     "iopub.execute_input": "2022-01-10T14:47:43.623355Z",
     "iopub.status.busy": "2022-01-10T14:47:43.623355Z",
     "iopub.status.idle": "2022-01-10T14:47:43.652381Z",
     "shell.execute_reply": "2022-01-10T14:47:43.652381Z",
     "shell.execute_reply.started": "2022-01-10T14:47:43.623355Z"
    },
    "tags": []
   },
   "outputs": [
    {
     "data": {
      "text/html": [
       "<div>\n",
       "<style scoped>\n",
       "    .dataframe tbody tr th:only-of-type {\n",
       "        vertical-align: middle;\n",
       "    }\n",
       "\n",
       "    .dataframe tbody tr th {\n",
       "        vertical-align: top;\n",
       "    }\n",
       "\n",
       "    .dataframe thead th {\n",
       "        text-align: right;\n",
       "    }\n",
       "</style>\n",
       "<table border=\"1\" class=\"dataframe\">\n",
       "  <thead>\n",
       "    <tr style=\"text-align: right;\">\n",
       "      <th></th>\n",
       "      <th>Gender</th>\n",
       "      <th>Age</th>\n",
       "      <th>Height</th>\n",
       "      <th>Weight</th>\n",
       "      <th>family_history_with_overweight</th>\n",
       "      <th>FAVC</th>\n",
       "      <th>FCVC</th>\n",
       "      <th>NCP</th>\n",
       "      <th>CAEC</th>\n",
       "      <th>SMOKE</th>\n",
       "      <th>CH2O</th>\n",
       "      <th>SCC</th>\n",
       "      <th>FAF</th>\n",
       "      <th>TUE</th>\n",
       "      <th>CALC</th>\n",
       "      <th>MTRANS</th>\n",
       "      <th>NObeyesdad</th>\n",
       "      <th>target</th>\n",
       "    </tr>\n",
       "  </thead>\n",
       "  <tbody>\n",
       "    <tr>\n",
       "      <th>1730</th>\n",
       "      <td>0</td>\n",
       "      <td>1.29</td>\n",
       "      <td>0.87</td>\n",
       "      <td>0.67</td>\n",
       "      <td>1</td>\n",
       "      <td>1</td>\n",
       "      <td>0.75</td>\n",
       "      <td>0.00</td>\n",
       "      <td>1</td>\n",
       "      <td>0</td>\n",
       "      <td>0.18</td>\n",
       "      <td>0</td>\n",
       "      <td>0.38</td>\n",
       "      <td>0.09</td>\n",
       "      <td>1</td>\n",
       "      <td>0.75</td>\n",
       "      <td>Obesity_Type_II</td>\n",
       "      <td>5</td>\n",
       "    </tr>\n",
       "    <tr>\n",
       "      <th>259</th>\n",
       "      <td>1</td>\n",
       "      <td>-0.79</td>\n",
       "      <td>0.42</td>\n",
       "      <td>0.39</td>\n",
       "      <td>1</td>\n",
       "      <td>1</td>\n",
       "      <td>0.00</td>\n",
       "      <td>0.00</td>\n",
       "      <td>2</td>\n",
       "      <td>0</td>\n",
       "      <td>0.00</td>\n",
       "      <td>0</td>\n",
       "      <td>0.00</td>\n",
       "      <td>0.50</td>\n",
       "      <td>1</td>\n",
       "      <td>0.75</td>\n",
       "      <td>Obesity_Type_I</td>\n",
       "      <td>4</td>\n",
       "    </tr>\n",
       "    <tr>\n",
       "      <th>966</th>\n",
       "      <td>0</td>\n",
       "      <td>1.05</td>\n",
       "      <td>0.61</td>\n",
       "      <td>0.36</td>\n",
       "      <td>0</td>\n",
       "      <td>1</td>\n",
       "      <td>0.30</td>\n",
       "      <td>1.81</td>\n",
       "      <td>1</td>\n",
       "      <td>0</td>\n",
       "      <td>0.14</td>\n",
       "      <td>0</td>\n",
       "      <td>0.50</td>\n",
       "      <td>0.19</td>\n",
       "      <td>0</td>\n",
       "      <td>0.22</td>\n",
       "      <td>Overweight_Level_I</td>\n",
       "      <td>2</td>\n",
       "    </tr>\n",
       "    <tr>\n",
       "      <th>1911</th>\n",
       "      <td>1</td>\n",
       "      <td>-0.74</td>\n",
       "      <td>0.56</td>\n",
       "      <td>0.71</td>\n",
       "      <td>1</td>\n",
       "      <td>1</td>\n",
       "      <td>1.00</td>\n",
       "      <td>0.00</td>\n",
       "      <td>1</td>\n",
       "      <td>0</td>\n",
       "      <td>0.96</td>\n",
       "      <td>0</td>\n",
       "      <td>0.51</td>\n",
       "      <td>0.31</td>\n",
       "      <td>1</td>\n",
       "      <td>0.75</td>\n",
       "      <td>Obesity_Type_III</td>\n",
       "      <td>6</td>\n",
       "    </tr>\n",
       "    <tr>\n",
       "      <th>1815</th>\n",
       "      <td>1</td>\n",
       "      <td>-0.66</td>\n",
       "      <td>0.56</td>\n",
       "      <td>0.71</td>\n",
       "      <td>1</td>\n",
       "      <td>1</td>\n",
       "      <td>1.00</td>\n",
       "      <td>0.00</td>\n",
       "      <td>1</td>\n",
       "      <td>0</td>\n",
       "      <td>0.93</td>\n",
       "      <td>0</td>\n",
       "      <td>0.49</td>\n",
       "      <td>0.31</td>\n",
       "      <td>1</td>\n",
       "      <td>0.75</td>\n",
       "      <td>Obesity_Type_III</td>\n",
       "      <td>6</td>\n",
       "    </tr>\n",
       "  </tbody>\n",
       "</table>\n",
       "</div>"
      ],
      "text/plain": [
       "      Gender   Age  Height  Weight  family_history_with_overweight  FAVC  FCVC  NCP  CAEC  SMOKE  CH2O  SCC  FAF  TUE  CALC  MTRANS          NObeyesdad  target\n",
       "1730       0  1.29    0.87    0.67                               1     1  0.75 0.00     1      0  0.18    0 0.38 0.09     1    0.75     Obesity_Type_II       5\n",
       "259        1 -0.79    0.42    0.39                               1     1  0.00 0.00     2      0  0.00    0 0.00 0.50     1    0.75      Obesity_Type_I       4\n",
       "966        0  1.05    0.61    0.36                               0     1  0.30 1.81     1      0  0.14    0 0.50 0.19     0    0.22  Overweight_Level_I       2\n",
       "1911       1 -0.74    0.56    0.71                               1     1  1.00 0.00     1      0  0.96    0 0.51 0.31     1    0.75    Obesity_Type_III       6\n",
       "1815       1 -0.66    0.56    0.71                               1     1  1.00 0.00     1      0  0.93    0 0.49 0.31     1    0.75    Obesity_Type_III       6"
      ]
     },
     "execution_count": 53,
     "metadata": {},
     "output_type": "execute_result"
    }
   ],
   "source": [
    "df2.sample(5)"
   ]
  },
  {
   "cell_type": "markdown",
   "id": "5bb9d6ad-4ef9-4fff-ae9c-b490efd23aee",
   "metadata": {},
   "source": [
    "# 6.0 Feature Selection"
   ]
  },
  {
   "cell_type": "code",
   "execution_count": 86,
   "id": "a0d5726a-0ed5-4a6c-a2fe-6d4ffee30853",
   "metadata": {
    "execution": {
     "iopub.execute_input": "2022-01-11T15:02:50.830135Z",
     "iopub.status.busy": "2022-01-11T15:02:50.829144Z",
     "iopub.status.idle": "2022-01-11T15:02:50.837141Z",
     "shell.execute_reply": "2022-01-11T15:02:50.837141Z",
     "shell.execute_reply.started": "2022-01-11T15:02:50.830135Z"
    },
    "tags": []
   },
   "outputs": [],
   "source": [
    "df3 = df2.copy()"
   ]
  },
  {
   "cell_type": "markdown",
   "id": "3bccc709-049d-4f30-a16c-1245d9eacd76",
   "metadata": {},
   "source": [
    "## 6.1 Split Dataframe into Training and Test Dataset"
   ]
  },
  {
   "cell_type": "code",
   "execution_count": 361,
   "id": "834d8a29-0f2e-4bd3-906a-3571ea35d417",
   "metadata": {
    "execution": {
     "iopub.execute_input": "2022-01-11T17:04:45.404802Z",
     "iopub.status.busy": "2022-01-11T17:04:45.404802Z",
     "iopub.status.idle": "2022-01-11T17:04:45.423819Z",
     "shell.execute_reply": "2022-01-11T17:04:45.422818Z",
     "shell.execute_reply.started": "2022-01-11T17:04:45.404802Z"
    },
    "tags": []
   },
   "outputs": [
    {
     "name": "stdout",
     "output_type": "stream",
     "text": [
      "\n",
      "Tamanho treino: 1899\n",
      "Tamanho teste: 212\n"
     ]
    }
   ],
   "source": [
    "x_full, x_test, y_full, y_test = train_test_split(df2.drop(['NObeyesdad', 'target'], axis=1), df2['target'], random_state = 16, train_size=0.90)\n",
    "\n",
    "print('\\nTamanho treino: {}'.format(x_full.shape[0]))\n",
    "print('Tamanho teste: {}'.format(x_test.shape[0]))"
   ]
  },
  {
   "cell_type": "code",
   "execution_count": 362,
   "id": "ef503380-4592-467b-af8e-4c839bf3c948",
   "metadata": {
    "execution": {
     "iopub.execute_input": "2022-01-11T17:04:46.315623Z",
     "iopub.status.busy": "2022-01-11T17:04:46.315623Z",
     "iopub.status.idle": "2022-01-11T17:04:46.329636Z",
     "shell.execute_reply": "2022-01-11T17:04:46.328635Z",
     "shell.execute_reply.started": "2022-01-11T17:04:46.315623Z"
    },
    "tags": []
   },
   "outputs": [
    {
     "name": "stdout",
     "output_type": "stream",
     "text": [
      "\n",
      "Tamanho treino: 1519\n",
      "Tamanho validação: 380\n"
     ]
    }
   ],
   "source": [
    "x_train, x_val, y_train, y_val = train_test_split(x_full, y_full, random_state = 16, train_size=0.80)\n",
    "\n",
    "print('\\nTamanho treino: {}'.format(X_train.shape[0]))\n",
    "print('Tamanho validação: {}'.format(x_val.shape[0]))"
   ]
  },
  {
   "cell_type": "markdown",
   "id": "c0b0efe2-0987-44fc-a724-07e1dc6abfcf",
   "metadata": {},
   "source": [
    "## 6.2 Boruta as Feature Selector"
   ]
  },
  {
   "cell_type": "code",
   "execution_count": 89,
   "id": "3de52aa2-c983-42d1-a740-a8cda498729e",
   "metadata": {
    "execution": {
     "iopub.execute_input": "2022-01-11T15:05:24.325699Z",
     "iopub.status.busy": "2022-01-11T15:05:24.324699Z",
     "iopub.status.idle": "2022-01-11T15:05:24.330705Z",
     "shell.execute_reply": "2022-01-11T15:05:24.329703Z",
     "shell.execute_reply.started": "2022-01-11T15:05:24.325699Z"
    },
    "tags": []
   },
   "outputs": [],
   "source": [
    "# training and test dataset for Boruta\n",
    "X_train_n = x_train.values\n",
    "y_train_n = y_train.values.ravel()"
   ]
  },
  {
   "cell_type": "code",
   "execution_count": 90,
   "id": "b9755ca2-f567-4a80-baef-3214d7fd2f08",
   "metadata": {
    "execution": {
     "iopub.execute_input": "2022-01-11T15:05:24.545898Z",
     "iopub.status.busy": "2022-01-11T15:05:24.545898Z",
     "iopub.status.idle": "2022-01-11T15:05:25.755989Z",
     "shell.execute_reply": "2022-01-11T15:05:25.754989Z",
     "shell.execute_reply.started": "2022-01-11T15:05:24.545898Z"
    },
    "tags": []
   },
   "outputs": [
    {
     "name": "stdout",
     "output_type": "stream",
     "text": [
      "Iteration: \t1 / 100\n",
      "Confirmed: \t0\n",
      "Tentative: \t16\n",
      "Rejected: \t0\n",
      "Iteration: \t2 / 100\n",
      "Confirmed: \t0\n",
      "Tentative: \t16\n",
      "Rejected: \t0\n",
      "Iteration: \t3 / 100\n",
      "Confirmed: \t0\n",
      "Tentative: \t16\n",
      "Rejected: \t0\n",
      "Iteration: \t4 / 100\n",
      "Confirmed: \t0\n",
      "Tentative: \t16\n",
      "Rejected: \t0\n",
      "Iteration: \t5 / 100\n",
      "Confirmed: \t0\n",
      "Tentative: \t16\n",
      "Rejected: \t0\n",
      "Iteration: \t6 / 100\n",
      "Confirmed: \t0\n",
      "Tentative: \t16\n",
      "Rejected: \t0\n",
      "Iteration: \t7 / 100\n",
      "Confirmed: \t0\n",
      "Tentative: \t16\n",
      "Rejected: \t0\n",
      "Iteration: \t8 / 100\n",
      "Confirmed: \t12\n",
      "Tentative: \t0\n",
      "Rejected: \t4\n",
      "\n",
      "\n",
      "BorutaPy finished running.\n",
      "\n",
      "Iteration: \t9 / 100\n",
      "Confirmed: \t12\n",
      "Tentative: \t0\n",
      "Rejected: \t4\n"
     ]
    }
   ],
   "source": [
    "# define RandomForestRegressor\n",
    "rf = RandomForestClassifier(n_jobs=-2)\n",
    "\n",
    "# define Boruta\n",
    "boruta = BorutaPy(rf, n_estimators='auto', verbose=2, random_state=42).fit(X_train_n, y_train_n)"
   ]
  },
  {
   "cell_type": "markdown",
   "id": "f01ba1d9-2430-49c1-a2aa-90154ea19847",
   "metadata": {
    "execution": {
     "iopub.execute_input": "2020-07-27T17:37:35.277199Z",
     "iopub.status.busy": "2020-07-27T17:37:35.277199Z",
     "iopub.status.idle": "2020-07-27T17:37:35.280201Z",
     "shell.execute_reply": "2020-07-27T17:37:35.280201Z",
     "shell.execute_reply.started": "2020-07-27T17:37:35.277199Z"
    }
   },
   "source": [
    "### 6.2.1 Best Features from Boruta"
   ]
  },
  {
   "cell_type": "code",
   "execution_count": 91,
   "id": "e2d8f0d6-4ad0-4711-a2d2-c67294a49cd1",
   "metadata": {
    "execution": {
     "iopub.execute_input": "2022-01-11T15:05:25.805033Z",
     "iopub.status.busy": "2022-01-11T15:05:25.804033Z",
     "iopub.status.idle": "2022-01-11T15:05:25.819046Z",
     "shell.execute_reply": "2022-01-11T15:05:25.819046Z",
     "shell.execute_reply.started": "2022-01-11T15:05:25.805033Z"
    },
    "tags": []
   },
   "outputs": [],
   "source": [
    "cols_selected = boruta.support_.tolist()\n",
    "\n",
    "# best features\n",
    "X_train_fs = X_train\n",
    "cols_selected_boruta = X_train_fs.iloc[:, cols_selected].columns.to_list()\n",
    "\n",
    "# not selected boruta\n",
    "cols_not_selected_boruta = list(np.setdiff1d(X_train_fs.columns, cols_selected_boruta))"
   ]
  },
  {
   "cell_type": "code",
   "execution_count": 92,
   "id": "ac5f406e-91f6-4449-81b3-c31931624dc4",
   "metadata": {
    "execution": {
     "iopub.execute_input": "2022-01-11T15:05:25.821048Z",
     "iopub.status.busy": "2022-01-11T15:05:25.821048Z",
     "iopub.status.idle": "2022-01-11T15:05:25.835060Z",
     "shell.execute_reply": "2022-01-11T15:05:25.835060Z",
     "shell.execute_reply.started": "2022-01-11T15:05:25.821048Z"
    },
    "tags": []
   },
   "outputs": [
    {
     "data": {
      "text/plain": [
       "['Gender',\n",
       " 'Age',\n",
       " 'Height',\n",
       " 'Weight',\n",
       " 'family_history_with_overweight',\n",
       " 'FCVC',\n",
       " 'NCP',\n",
       " 'CAEC',\n",
       " 'CH2O',\n",
       " 'FAF',\n",
       " 'TUE',\n",
       " 'CALC']"
      ]
     },
     "execution_count": 92,
     "metadata": {},
     "output_type": "execute_result"
    }
   ],
   "source": [
    "cols_selected_boruta"
   ]
  },
  {
   "cell_type": "code",
   "execution_count": 93,
   "id": "b1de4799-f25f-4e35-8c90-a34e84205414",
   "metadata": {
    "execution": {
     "iopub.execute_input": "2022-01-11T15:05:25.837062Z",
     "iopub.status.busy": "2022-01-11T15:05:25.836062Z",
     "iopub.status.idle": "2022-01-11T15:05:25.852076Z",
     "shell.execute_reply": "2022-01-11T15:05:25.851075Z",
     "shell.execute_reply.started": "2022-01-11T15:05:25.837062Z"
    },
    "tags": []
   },
   "outputs": [
    {
     "data": {
      "text/plain": [
       "['FAVC', 'MTRANS', 'SCC', 'SMOKE']"
      ]
     },
     "execution_count": 93,
     "metadata": {},
     "output_type": "execute_result"
    }
   ],
   "source": [
    "cols_not_selected_boruta"
   ]
  },
  {
   "cell_type": "markdown",
   "id": "35bc43db-256d-40c9-a4dc-e76fb33b9f95",
   "metadata": {
    "execution": {
     "iopub.execute_input": "2020-07-27T17:37:35.277199Z",
     "iopub.status.busy": "2020-07-27T17:37:35.277199Z",
     "iopub.status.idle": "2020-07-27T17:37:35.280201Z",
     "shell.execute_reply": "2020-07-27T17:37:35.280201Z",
     "shell.execute_reply.started": "2020-07-27T17:37:35.277199Z"
    }
   },
   "source": [
    "### 6.2.1 Best Features from Boruta"
   ]
  },
  {
   "cell_type": "markdown",
   "id": "9955c134-cc18-4fc1-beef-84c21ffbf55e",
   "metadata": {},
   "source": [
    "## 6.3 Manual Feature Selection"
   ]
  },
  {
   "cell_type": "code",
   "execution_count": 107,
   "id": "ef3fd3a1-790f-444f-8f7a-18bfdfa68237",
   "metadata": {
    "execution": {
     "iopub.execute_input": "2022-01-11T15:06:40.271481Z",
     "iopub.status.busy": "2022-01-11T15:06:40.271481Z",
     "iopub.status.idle": "2022-01-11T15:06:40.277487Z",
     "shell.execute_reply": "2022-01-11T15:06:40.277487Z",
     "shell.execute_reply.started": "2022-01-11T15:06:40.271481Z"
    },
    "tags": []
   },
   "outputs": [],
   "source": [
    "# foram incluídos os senos do month e do week_of_year, pois não faz sentido ter as funções de cos sem ter o seno no modelo, pois elas juntas é que representam as variáveis originais\n",
    "cols_selected_boruta = ['Gender',\n",
    " 'Age',\n",
    " 'Height',\n",
    " 'Weight',\n",
    " 'family_history_with_overweight',\n",
    " 'FCVC',\n",
    " 'NCP',\n",
    " 'CAEC',\n",
    " 'CH2O',\n",
    " 'FAF',\n",
    " 'TUE',\n",
    " 'CALC']\n",
    "\n",
    "target = df2['target']"
   ]
  },
  {
   "cell_type": "markdown",
   "id": "e7793e03-738f-4552-aa1b-fb78867d7705",
   "metadata": {},
   "source": [
    "## 6.4 Seleção por Importância"
   ]
  },
  {
   "cell_type": "markdown",
   "id": "8d3327e3-8546-4190-8b22-4e1101e7c832",
   "metadata": {},
   "source": [
    "### 6.4.1 Feature Selection Using Random Forest Classifier"
   ]
  },
  {
   "cell_type": "code",
   "execution_count": 95,
   "id": "11add8c4-69ad-4697-be02-d00ac0f43f27",
   "metadata": {
    "execution": {
     "iopub.execute_input": "2022-01-11T15:05:26.856982Z",
     "iopub.status.busy": "2022-01-11T15:05:26.856982Z",
     "iopub.status.idle": "2022-01-11T15:05:27.096198Z",
     "shell.execute_reply": "2022-01-11T15:05:27.096198Z",
     "shell.execute_reply.started": "2022-01-11T15:05:26.856982Z"
    },
    "tags": []
   },
   "outputs": [],
   "source": [
    "# model\n",
    "rf = RandomForestClassifier(n_estimators=100, n_jobs=-5, random_state=42 ).fit(X_train_n, y_train_n)"
   ]
  },
  {
   "cell_type": "code",
   "execution_count": 96,
   "id": "3d4a63d0-cac9-48d9-9e5b-76866c002971",
   "metadata": {
    "execution": {
     "iopub.execute_input": "2022-01-11T15:05:27.169267Z",
     "iopub.status.busy": "2022-01-11T15:05:27.169267Z",
     "iopub.status.idle": "2022-01-11T15:05:27.209302Z",
     "shell.execute_reply": "2022-01-11T15:05:27.208302Z",
     "shell.execute_reply.started": "2022-01-11T15:05:27.169267Z"
    },
    "tags": []
   },
   "outputs": [
    {
     "data": {
      "text/html": [
       "<div>\n",
       "<style scoped>\n",
       "    .dataframe tbody tr th:only-of-type {\n",
       "        vertical-align: middle;\n",
       "    }\n",
       "\n",
       "    .dataframe tbody tr th {\n",
       "        vertical-align: top;\n",
       "    }\n",
       "\n",
       "    .dataframe thead th {\n",
       "        text-align: right;\n",
       "    }\n",
       "</style>\n",
       "<table border=\"1\" class=\"dataframe\">\n",
       "  <thead>\n",
       "    <tr style=\"text-align: right;\">\n",
       "      <th></th>\n",
       "      <th>importance</th>\n",
       "    </tr>\n",
       "  </thead>\n",
       "  <tbody>\n",
       "    <tr>\n",
       "      <th>Weight</th>\n",
       "      <td>0.35</td>\n",
       "    </tr>\n",
       "    <tr>\n",
       "      <th>Height</th>\n",
       "      <td>0.10</td>\n",
       "    </tr>\n",
       "    <tr>\n",
       "      <th>Age</th>\n",
       "      <td>0.10</td>\n",
       "    </tr>\n",
       "    <tr>\n",
       "      <th>FCVC</th>\n",
       "      <td>0.08</td>\n",
       "    </tr>\n",
       "    <tr>\n",
       "      <th>Gender</th>\n",
       "      <td>0.05</td>\n",
       "    </tr>\n",
       "    <tr>\n",
       "      <th>NCP</th>\n",
       "      <td>0.05</td>\n",
       "    </tr>\n",
       "    <tr>\n",
       "      <th>CH2O</th>\n",
       "      <td>0.04</td>\n",
       "    </tr>\n",
       "    <tr>\n",
       "      <th>FAF</th>\n",
       "      <td>0.04</td>\n",
       "    </tr>\n",
       "    <tr>\n",
       "      <th>TUE</th>\n",
       "      <td>0.04</td>\n",
       "    </tr>\n",
       "    <tr>\n",
       "      <th>CAEC</th>\n",
       "      <td>0.03</td>\n",
       "    </tr>\n",
       "    <tr>\n",
       "      <th>family_history_with_overweight</th>\n",
       "      <td>0.03</td>\n",
       "    </tr>\n",
       "    <tr>\n",
       "      <th>CALC</th>\n",
       "      <td>0.03</td>\n",
       "    </tr>\n",
       "    <tr>\n",
       "      <th>MTRANS</th>\n",
       "      <td>0.02</td>\n",
       "    </tr>\n",
       "    <tr>\n",
       "      <th>FAVC</th>\n",
       "      <td>0.02</td>\n",
       "    </tr>\n",
       "    <tr>\n",
       "      <th>SCC</th>\n",
       "      <td>0.01</td>\n",
       "    </tr>\n",
       "    <tr>\n",
       "      <th>SMOKE</th>\n",
       "      <td>0.00</td>\n",
       "    </tr>\n",
       "  </tbody>\n",
       "</table>\n",
       "</div>"
      ],
      "text/plain": [
       "                                importance\n",
       "Weight                                0.35\n",
       "Height                                0.10\n",
       "Age                                   0.10\n",
       "FCVC                                  0.08\n",
       "Gender                                0.05\n",
       "NCP                                   0.05\n",
       "CH2O                                  0.04\n",
       "FAF                                   0.04\n",
       "TUE                                   0.04\n",
       "CAEC                                  0.03\n",
       "family_history_with_overweight        0.03\n",
       "CALC                                  0.03\n",
       "MTRANS                                0.02\n",
       "FAVC                                  0.02\n",
       "SCC                                   0.01\n",
       "SMOKE                                 0.00"
      ]
     },
     "execution_count": 96,
     "metadata": {},
     "output_type": "execute_result"
    }
   ],
   "source": [
    "feature_importances = pd.DataFrame(rf.feature_importances_,\n",
    "                                   index = X_train.columns,\n",
    "                                    columns=['importance']).sort_values('importance', ascending=False)\n",
    "feature_importances"
   ]
  },
  {
   "cell_type": "code",
   "execution_count": 98,
   "id": "c24d85fb-6f8e-4ee1-a702-5af82337bc6f",
   "metadata": {
    "execution": {
     "iopub.execute_input": "2022-01-11T15:05:28.109117Z",
     "iopub.status.busy": "2022-01-11T15:05:28.108115Z",
     "iopub.status.idle": "2022-01-11T15:05:28.457428Z",
     "shell.execute_reply": "2022-01-11T15:05:28.457428Z",
     "shell.execute_reply.started": "2022-01-11T15:05:28.109117Z"
    },
    "tags": []
   },
   "outputs": [
    {
     "data": {
      "image/png": "[encoded data removed]",
      "text/plain": [
       "<Figure size 864x432 with 1 Axes>"
      ]
     },
     "metadata": {},
     "output_type": "display_data"
    }
   ],
   "source": [
    "pd.Series(rf.feature_importances_, index=X_train.columns).plot(kind='barh');"
   ]
  },
  {
   "cell_type": "code",
   "execution_count": 97,
   "id": "81cc5da2-c21a-47d1-9d4d-10d6913934fb",
   "metadata": {
    "execution": {
     "iopub.execute_input": "2022-01-11T15:05:27.535598Z",
     "iopub.status.busy": "2022-01-11T15:05:27.535598Z",
     "iopub.status.idle": "2022-01-11T15:05:28.057067Z",
     "shell.execute_reply": "2022-01-11T15:05:28.057067Z",
     "shell.execute_reply.started": "2022-01-11T15:05:27.535598Z"
    },
    "tags": []
   },
   "outputs": [
    {
     "data": {
      "image/png": "[encoded data removed]",
      "text/plain": [
       "<Figure size 864x432 with 1 Axes>"
      ]
     },
     "metadata": {},
     "output_type": "display_data"
    }
   ],
   "source": [
    "pd.Series(rf.feature_importances_, index=X_train.columns).nlargest(len(X_train.columns)).plot(kind='barh');"
   ]
  },
  {
   "cell_type": "code",
   "execution_count": 99,
   "id": "40f8696f-8464-4a3f-a4a4-578dbce260fe",
   "metadata": {
    "execution": {
     "iopub.execute_input": "2022-01-11T15:05:28.507473Z",
     "iopub.status.busy": "2022-01-11T15:05:28.507473Z",
     "iopub.status.idle": "2022-01-11T15:05:28.792730Z",
     "shell.execute_reply": "2022-01-11T15:05:28.791730Z",
     "shell.execute_reply.started": "2022-01-11T15:05:28.507473Z"
    },
    "tags": []
   },
   "outputs": [
    {
     "data": {
      "image/png": "[encoded data removed]",
      "text/plain": [
       "<Figure size 864x432 with 1 Axes>"
      ]
     },
     "metadata": {},
     "output_type": "display_data"
    }
   ],
   "source": [
    "feat_importances = pd.Series(rf.feature_importances_, index=X_train.columns)\n",
    "feat_importances.nlargest(8).plot(kind='barh');"
   ]
  },
  {
   "cell_type": "markdown",
   "id": "3c0b8562-1c56-4d55-94e6-704e41f6cc02",
   "metadata": {},
   "source": [
    "### 6.4.2 Feature Selection Using Extra-Trees Classifier"
   ]
  },
  {
   "cell_type": "code",
   "execution_count": 100,
   "id": "22edcbae-f5f2-4c00-a112-693a87c026b8",
   "metadata": {
    "execution": {
     "iopub.execute_input": "2022-01-11T15:05:28.930854Z",
     "iopub.status.busy": "2022-01-11T15:05:28.929854Z",
     "iopub.status.idle": "2022-01-11T15:05:29.161063Z",
     "shell.execute_reply": "2022-01-11T15:05:29.160061Z",
     "shell.execute_reply.started": "2022-01-11T15:05:28.930854Z"
    },
    "tags": []
   },
   "outputs": [
    {
     "data": {
      "text/html": [
       "<div>\n",
       "<style scoped>\n",
       "    .dataframe tbody tr th:only-of-type {\n",
       "        vertical-align: middle;\n",
       "    }\n",
       "\n",
       "    .dataframe tbody tr th {\n",
       "        vertical-align: top;\n",
       "    }\n",
       "\n",
       "    .dataframe thead th {\n",
       "        text-align: right;\n",
       "    }\n",
       "</style>\n",
       "<table border=\"1\" class=\"dataframe\">\n",
       "  <thead>\n",
       "    <tr style=\"text-align: right;\">\n",
       "      <th></th>\n",
       "      <th>importance</th>\n",
       "    </tr>\n",
       "  </thead>\n",
       "  <tbody>\n",
       "    <tr>\n",
       "      <th>Weight</th>\n",
       "      <td>0.27</td>\n",
       "    </tr>\n",
       "    <tr>\n",
       "      <th>Age</th>\n",
       "      <td>0.08</td>\n",
       "    </tr>\n",
       "    <tr>\n",
       "      <th>Height</th>\n",
       "      <td>0.08</td>\n",
       "    </tr>\n",
       "    <tr>\n",
       "      <th>FCVC</th>\n",
       "      <td>0.08</td>\n",
       "    </tr>\n",
       "    <tr>\n",
       "      <th>Gender</th>\n",
       "      <td>0.07</td>\n",
       "    </tr>\n",
       "    <tr>\n",
       "      <th>NCP</th>\n",
       "      <td>0.06</td>\n",
       "    </tr>\n",
       "    <tr>\n",
       "      <th>CALC</th>\n",
       "      <td>0.05</td>\n",
       "    </tr>\n",
       "    <tr>\n",
       "      <th>family_history_with_overweight</th>\n",
       "      <td>0.05</td>\n",
       "    </tr>\n",
       "    <tr>\n",
       "      <th>TUE</th>\n",
       "      <td>0.05</td>\n",
       "    </tr>\n",
       "    <tr>\n",
       "      <th>FAF</th>\n",
       "      <td>0.05</td>\n",
       "    </tr>\n",
       "    <tr>\n",
       "      <th>CH2O</th>\n",
       "      <td>0.04</td>\n",
       "    </tr>\n",
       "    <tr>\n",
       "      <th>MTRANS</th>\n",
       "      <td>0.04</td>\n",
       "    </tr>\n",
       "    <tr>\n",
       "      <th>CAEC</th>\n",
       "      <td>0.04</td>\n",
       "    </tr>\n",
       "    <tr>\n",
       "      <th>FAVC</th>\n",
       "      <td>0.03</td>\n",
       "    </tr>\n",
       "    <tr>\n",
       "      <th>SCC</th>\n",
       "      <td>0.01</td>\n",
       "    </tr>\n",
       "    <tr>\n",
       "      <th>SMOKE</th>\n",
       "      <td>0.00</td>\n",
       "    </tr>\n",
       "  </tbody>\n",
       "</table>\n",
       "</div>"
      ],
      "text/plain": [
       "                                importance\n",
       "Weight                                0.27\n",
       "Age                                   0.08\n",
       "Height                                0.08\n",
       "FCVC                                  0.08\n",
       "Gender                                0.07\n",
       "NCP                                   0.06\n",
       "CALC                                  0.05\n",
       "family_history_with_overweight        0.05\n",
       "TUE                                   0.05\n",
       "FAF                                   0.05\n",
       "CH2O                                  0.04\n",
       "MTRANS                                0.04\n",
       "CAEC                                  0.04\n",
       "FAVC                                  0.03\n",
       "SCC                                   0.01\n",
       "SMOKE                                 0.00"
      ]
     },
     "execution_count": 100,
     "metadata": {},
     "output_type": "execute_result"
    }
   ],
   "source": [
    "et = ExtraTreesClassifier(n_jobs=-5)\n",
    "et.fit(X_train_n, y_train_n)\n",
    "\n",
    "feature_importances = pd.DataFrame(et.feature_importances_,\n",
    "                                   index = X_train.columns,\n",
    "                                    columns=['importance']).sort_values('importance', ascending=False)\n",
    "feature_importances"
   ]
  },
  {
   "cell_type": "code",
   "execution_count": 106,
   "id": "e6cca574-e4e8-4118-a2da-c09c2bf34d9f",
   "metadata": {
    "execution": {
     "iopub.execute_input": "2022-01-11T15:05:55.356483Z",
     "iopub.status.busy": "2022-01-11T15:05:55.355473Z",
     "iopub.status.idle": "2022-01-11T15:05:55.656744Z",
     "shell.execute_reply": "2022-01-11T15:05:55.656744Z",
     "shell.execute_reply.started": "2022-01-11T15:05:55.356483Z"
    },
    "tags": []
   },
   "outputs": [
    {
     "data": {
      "image/png": "[encoded data removed]",
      "text/plain": [
       "<Figure size 864x432 with 1 Axes>"
      ]
     },
     "metadata": {},
     "output_type": "display_data"
    }
   ],
   "source": [
    "feat_importances = pd.Series(et.feature_importances_, X_train.columns)\n",
    "feat_importances.nlargest(17).plot(kind='barh');"
   ]
  },
  {
   "cell_type": "markdown",
   "id": "72146945-7dd4-4d74-82ba-8d675cc3412c",
   "metadata": {
    "tags": []
   },
   "source": [
    "# .0 Machine Learning Modelling"
   ]
  },
  {
   "attachments": {
    "c1ecebc7-3140-4e2a-923c-83a75b0beb9f.png": {
     "image/png": "[encoded data removed]"
    }
   },
   "cell_type": "markdown",
   "id": "d4e41dae-58c1-45f9-9351-9a760a282086",
   "metadata": {},
   "source": [
    "![image.png](attachment:c1ecebc7-3140-4e2a-923c-83a75b0beb9f.png)"
   ]
  },
  {
   "cell_type": "code",
   "execution_count": 460,
   "id": "3cee508a-2f99-49a4-a36c-182faeb87a06",
   "metadata": {
    "execution": {
     "iopub.execute_input": "2022-01-11T20:16:33.273005Z",
     "iopub.status.busy": "2022-01-11T20:16:33.272003Z",
     "iopub.status.idle": "2022-01-11T20:16:33.295024Z",
     "shell.execute_reply": "2022-01-11T20:16:33.295024Z",
     "shell.execute_reply.started": "2022-01-11T20:16:33.273005Z"
    },
    "tags": []
   },
   "outputs": [],
   "source": [
    "def stratified_kfold_evaluation(skf, model):\n",
    "    skf = StratifiedKFold(n_splits=10, shuffle=True, random_state=16)\n",
    "    lst_accu_stratified = []\n",
    "\n",
    "    for train_index, val_index in skf.split(x_full, y_full):\n",
    "        model.fit(x_full.iloc[train_index], y_full.iloc[train_index])\n",
    "        lst_accu_stratified.append(model.score(x_full.iloc[val_index], y_full.iloc[val_index]))\n",
    "        result = model.predict(x_full.iloc[val_index])\n",
    "        print(classification_report(y_full.iloc[val_index], result))\n",
    "\n",
    "    # Print the output.\n",
    "    print('List of possible accuracy:', lst_accu_stratified)\n",
    "    print('\\nMaximum Accuracy That can be obtained from this model is:',\n",
    "          max(lst_accu_stratified)*100, '%')\n",
    "    print('\\nMinimum Accuracy:',\n",
    "          min(lst_accu_stratified)*100, '%')\n",
    "    print('\\nOverall Accuracy:',\n",
    "          mean(lst_accu_stratified)*100, '%')\n",
    "    print('\\nStandard Deviation is:', np.std(lst_accu_stratified)*100, '%')\n",
    "    \n",
    "    \n",
    "# inserir matrizes de confusao e a media\n",
    "\n",
    "# inserir grid search"
   ]
  },
  {
   "cell_type": "code",
   "execution_count": 441,
   "id": "dcdc8d19-5e0b-4061-adb3-9080d008794d",
   "metadata": {
    "execution": {
     "iopub.execute_input": "2022-01-11T20:02:07.974171Z",
     "iopub.status.busy": "2022-01-11T20:02:07.974171Z",
     "iopub.status.idle": "2022-01-11T20:02:07.990176Z",
     "shell.execute_reply": "2022-01-11T20:02:07.990176Z",
     "shell.execute_reply.started": "2022-01-11T20:02:07.974171Z"
    },
    "tags": []
   },
   "outputs": [],
   "source": [
    "#     metrics = np.array(metrics)\n",
    "#     print(f'Métrica média: {metrics.mean()}, desvio padrão: {metrics.std()}')\n",
    "    \n",
    "# kfold_trainning(KFold(n_splits=10))"
   ]
  },
  {
   "cell_type": "code",
   "execution_count": 316,
   "id": "85442509-f71c-46b5-a119-376dc28ded26",
   "metadata": {
    "execution": {
     "iopub.execute_input": "2022-01-11T16:12:42.649825Z",
     "iopub.status.busy": "2022-01-11T16:12:42.648814Z",
     "iopub.status.idle": "2022-01-11T16:12:42.660834Z",
     "shell.execute_reply": "2022-01-11T16:12:42.660834Z",
     "shell.execute_reply.started": "2022-01-11T16:12:42.649825Z"
    },
    "tags": []
   },
   "outputs": [],
   "source": [
    "def classification_report_with_accuracy_score(y_true, y_pred):\n",
    "  print(classification_report(y_true, y_pred))\n",
    "  return accuracy_score(y_true, y_true)"
   ]
  },
  {
   "cell_type": "code",
   "execution_count": 347,
   "id": "b2a170e2-ac62-440c-8138-bdeae87231ef",
   "metadata": {
    "execution": {
     "iopub.execute_input": "2022-01-11T16:48:52.718740Z",
     "iopub.status.busy": "2022-01-11T16:48:52.718740Z",
     "iopub.status.idle": "2022-01-11T16:48:52.735755Z",
     "shell.execute_reply": "2022-01-11T16:48:52.735755Z",
     "shell.execute_reply.started": "2022-01-11T16:48:52.718740Z"
    },
    "tags": []
   },
   "outputs": [],
   "source": [
    "# kf = KFold(n_splits=10, shuffle=True, random_state=16)\n",
    "\n",
    "# for train_index, test_index in kf.split(10):\n",
    "#     print(\"TRAIN:\", train_index, \"TEST:\", test_index)\n",
    "#     X_train, X_test = X[train_index], X[test_index]\n",
    "#     y_train, y_test = y[train_index], y[test_index]"
   ]
  },
  {
   "cell_type": "markdown",
   "id": "40e39a15-6e89-47e3-805f-570c6bc41cd9",
   "metadata": {
    "tags": []
   },
   "source": [
    "## .1 Dummy Model"
   ]
  },
  {
   "cell_type": "code",
   "execution_count": 461,
   "id": "98946df8-4f3b-402b-b2b7-7a4d71def898",
   "metadata": {
    "execution": {
     "iopub.execute_input": "2022-01-11T20:16:36.010905Z",
     "iopub.status.busy": "2022-01-11T20:16:36.010905Z",
     "iopub.status.idle": "2022-01-11T20:16:36.023917Z",
     "shell.execute_reply": "2022-01-11T20:16:36.023917Z",
     "shell.execute_reply.started": "2022-01-11T20:16:36.010905Z"
    },
    "tags": []
   },
   "outputs": [
    {
     "name": "stdout",
     "output_type": "stream",
     "text": [
      "              precision    recall  f1-score   support\n",
      "\n",
      "           0       0.12      0.17      0.14        46\n",
      "           1       0.11      0.17      0.14        46\n",
      "           2       0.09      0.11      0.10        53\n",
      "           3       0.13      0.12      0.12        51\n",
      "           4       0.16      0.15      0.15        62\n",
      "           5       0.12      0.16      0.14        58\n",
      "           6       0.00      0.00      0.00        64\n",
      "\n",
      "    accuracy                           0.12       380\n",
      "   macro avg       0.10      0.13      0.11       380\n",
      "weighted avg       0.10      0.12      0.11       380\n",
      "\n"
     ]
    },
    {
     "name": "stderr",
     "output_type": "stream",
     "text": [
      "C:\\Users\\Kamel\\.conda\\envs\\tf-gpu\\lib\\site-packages\\sklearn\\metrics\\_classification.py:1308: UndefinedMetricWarning: Precision and F-score are ill-defined and being set to 0.0 in labels with no predicted samples. Use `zero_division` parameter to control this behavior.\n",
      "  _warn_prf(average, modifier, msg_start, len(result))\n",
      "C:\\Users\\Kamel\\.conda\\envs\\tf-gpu\\lib\\site-packages\\sklearn\\metrics\\_classification.py:1308: UndefinedMetricWarning: Precision and F-score are ill-defined and being set to 0.0 in labels with no predicted samples. Use `zero_division` parameter to control this behavior.\n",
      "  _warn_prf(average, modifier, msg_start, len(result))\n",
      "C:\\Users\\Kamel\\.conda\\envs\\tf-gpu\\lib\\site-packages\\sklearn\\metrics\\_classification.py:1308: UndefinedMetricWarning: Precision and F-score are ill-defined and being set to 0.0 in labels with no predicted samples. Use `zero_division` parameter to control this behavior.\n",
      "  _warn_prf(average, modifier, msg_start, len(result))\n"
     ]
    },
    {
     "data": {
      "text/plain": [
       "1.0"
      ]
     },
     "execution_count": 461,
     "metadata": {},
     "output_type": "execute_result"
    }
   ],
   "source": [
    "dummy_pred = randint(0, 6, size=y_val.shape)\n",
    "classification_report_with_accuracy_score(y_val, dummy_pred)"
   ]
  },
  {
   "cell_type": "markdown",
   "id": "a43d0ee1-9c48-4e93-befb-59b701971e93",
   "metadata": {
    "execution": {
     "iopub.execute_input": "2022-01-11T15:51:34.847108Z",
     "iopub.status.busy": "2022-01-11T15:51:34.846107Z",
     "iopub.status.idle": "2022-01-11T15:51:34.853116Z",
     "shell.execute_reply": "2022-01-11T15:51:34.853116Z",
     "shell.execute_reply.started": "2022-01-11T15:51:34.846107Z"
    },
    "tags": []
   },
   "source": [
    "## .2 K-Nearest Neighbors (KNN)"
   ]
  },
  {
   "cell_type": "code",
   "execution_count": 462,
   "id": "381c17cc-46fd-449a-a182-6f64b65e284a",
   "metadata": {
    "execution": {
     "iopub.execute_input": "2022-01-11T20:16:36.337199Z",
     "iopub.status.busy": "2022-01-11T20:16:36.337199Z",
     "iopub.status.idle": "2022-01-11T20:16:36.776595Z",
     "shell.execute_reply": "2022-01-11T20:16:36.776595Z",
     "shell.execute_reply.started": "2022-01-11T20:16:36.337199Z"
    },
    "tags": []
   },
   "outputs": [
    {
     "name": "stdout",
     "output_type": "stream",
     "text": [
      "              precision    recall  f1-score   support\n",
      "\n",
      "           0       0.66      0.84      0.74        25\n",
      "           1       0.64      0.28      0.39        25\n",
      "           2       0.74      0.52      0.61        27\n",
      "           3       0.60      0.58      0.59        26\n",
      "           4       0.59      0.75      0.66        32\n",
      "           5       0.81      0.96      0.88        26\n",
      "           6       0.90      0.97      0.93        29\n",
      "\n",
      "    accuracy                           0.71       190\n",
      "   macro avg       0.70      0.70      0.68       190\n",
      "weighted avg       0.70      0.71      0.69       190\n",
      "\n",
      "              precision    recall  f1-score   support\n",
      "\n",
      "           0       0.79      0.88      0.83        25\n",
      "           1       0.53      0.36      0.43        25\n",
      "           2       0.68      0.48      0.57        27\n",
      "           3       0.65      0.58      0.61        26\n",
      "           4       0.65      0.81      0.72        32\n",
      "           5       0.79      0.96      0.87        27\n",
      "           6       0.93      1.00      0.97        28\n",
      "\n",
      "    accuracy                           0.73       190\n",
      "   macro avg       0.72      0.72      0.71       190\n",
      "weighted avg       0.72      0.73      0.72       190\n",
      "\n",
      "              precision    recall  f1-score   support\n",
      "\n",
      "           0       0.70      0.92      0.79        25\n",
      "           1       0.50      0.28      0.36        25\n",
      "           2       0.61      0.52      0.56        27\n",
      "           3       0.43      0.35      0.38        26\n",
      "           4       0.66      0.66      0.66        32\n",
      "           5       0.73      0.89      0.80        27\n",
      "           6       0.82      1.00      0.90        28\n",
      "\n",
      "    accuracy                           0.66       190\n",
      "   macro avg       0.63      0.66      0.64       190\n",
      "weighted avg       0.64      0.66      0.64       190\n",
      "\n",
      "              precision    recall  f1-score   support\n",
      "\n",
      "           0       0.74      0.83      0.78        24\n",
      "           1       0.71      0.38      0.50        26\n",
      "           2       0.62      0.59      0.60        27\n",
      "           3       0.64      0.35      0.45        26\n",
      "           4       0.51      0.72      0.60        32\n",
      "           5       0.79      0.96      0.87        27\n",
      "           6       0.90      1.00      0.95        28\n",
      "\n",
      "    accuracy                           0.69       190\n",
      "   macro avg       0.70      0.69      0.68       190\n",
      "weighted avg       0.70      0.69      0.68       190\n",
      "\n",
      "              precision    recall  f1-score   support\n",
      "\n",
      "           0       0.69      0.92      0.79        24\n",
      "           1       0.77      0.38      0.51        26\n",
      "           2       0.70      0.59      0.64        27\n",
      "           3       0.67      0.46      0.55        26\n",
      "           4       0.59      0.62      0.61        32\n",
      "           5       0.68      0.96      0.80        27\n",
      "           6       0.88      1.00      0.93        28\n",
      "\n",
      "    accuracy                           0.71       190\n",
      "   macro avg       0.71      0.71      0.69       190\n",
      "weighted avg       0.71      0.71      0.69       190\n",
      "\n",
      "              precision    recall  f1-score   support\n",
      "\n",
      "           0       0.69      0.92      0.79        24\n",
      "           1       0.67      0.23      0.34        26\n",
      "           2       0.65      0.63      0.64        27\n",
      "           3       0.55      0.42      0.48        26\n",
      "           4       0.58      0.56      0.57        32\n",
      "           5       0.64      0.93      0.76        27\n",
      "           6       0.85      1.00      0.92        28\n",
      "\n",
      "    accuracy                           0.67       190\n",
      "   macro avg       0.66      0.67      0.64       190\n",
      "weighted avg       0.66      0.67      0.64       190\n",
      "\n",
      "              precision    recall  f1-score   support\n",
      "\n",
      "           0       0.75      0.88      0.81        24\n",
      "           1       0.75      0.35      0.47        26\n",
      "           2       0.59      0.59      0.59        27\n",
      "           3       0.64      0.35      0.45        26\n",
      "           4       0.68      0.84      0.75        32\n",
      "           5       0.71      1.00      0.83        27\n",
      "           6       0.90      1.00      0.95        28\n",
      "\n",
      "    accuracy                           0.72       190\n",
      "   macro avg       0.72      0.71      0.69       190\n",
      "weighted avg       0.72      0.72      0.70       190\n",
      "\n",
      "              precision    recall  f1-score   support\n",
      "\n",
      "           0       0.67      0.88      0.76        25\n",
      "           1       0.73      0.42      0.54        26\n",
      "           2       0.70      0.54      0.61        26\n",
      "           3       0.74      0.52      0.61        27\n",
      "           4       0.63      0.77      0.70        31\n",
      "           5       0.83      0.96      0.89        26\n",
      "           6       0.83      1.00      0.91        29\n",
      "\n",
      "    accuracy                           0.73       190\n",
      "   macro avg       0.73      0.73      0.72       190\n",
      "weighted avg       0.73      0.73      0.72       190\n",
      "\n",
      "              precision    recall  f1-score   support\n",
      "\n",
      "           0       0.71      0.88      0.79        25\n",
      "           1       0.50      0.27      0.35        26\n",
      "           2       0.76      0.62      0.68        26\n",
      "           3       0.62      0.48      0.54        27\n",
      "           4       0.62      0.68      0.65        31\n",
      "           5       0.68      1.00      0.81        26\n",
      "           6       0.94      1.00      0.97        29\n",
      "\n",
      "    accuracy                           0.71       190\n",
      "   macro avg       0.69      0.70      0.68       190\n",
      "weighted avg       0.69      0.71      0.69       190\n",
      "\n",
      "              precision    recall  f1-score   support\n",
      "\n",
      "           0       0.67      0.72      0.69        25\n",
      "           1       0.83      0.40      0.54        25\n",
      "           2       0.61      0.54      0.57        26\n",
      "           3       0.58      0.56      0.57        27\n",
      "           4       0.64      0.74      0.69        31\n",
      "           5       0.73      0.92      0.81        26\n",
      "           6       0.91      1.00      0.95        29\n",
      "\n",
      "    accuracy                           0.70       189\n",
      "   macro avg       0.71      0.70      0.69       189\n",
      "weighted avg       0.71      0.70      0.69       189\n",
      "\n",
      "List of possible accuracy: [0.7052631578947368, 0.7315789473684211, 0.6631578947368421, 0.6947368421052632, 0.7052631578947368, 0.6684210526315789, 0.7210526315789474, 0.7315789473684211, 0.7052631578947368, 0.7037037037037037]\n",
      "\n",
      "Maximum Accuracy That can be obtained from this model is: 73.15789473684211 %\n",
      "\n",
      "Minimum Accuracy: 66.3157894736842 %\n",
      "\n",
      "Overall Accuracy: 70.30019493177389 %\n",
      "\n",
      "Standard Deviation is: 2.1969632485489736 %\n"
     ]
    }
   ],
   "source": [
    "stratified_kfold_evaluation(StratifiedKFold(n_splits=10), knn)"
   ]
  },
  {
   "cell_type": "code",
   "execution_count": 463,
   "id": "0ff4a9c4-db92-48f6-a023-47bf5bc0fe8c",
   "metadata": {
    "execution": {
     "iopub.execute_input": "2022-01-11T20:16:36.778597Z",
     "iopub.status.busy": "2022-01-11T20:16:36.778597Z",
     "iopub.status.idle": "2022-01-11T20:16:37.224999Z",
     "shell.execute_reply": "2022-01-11T20:16:37.224999Z",
     "shell.execute_reply.started": "2022-01-11T20:16:36.778597Z"
    },
    "tags": []
   },
   "outputs": [
    {
     "name": "stdout",
     "output_type": "stream",
     "text": [
      "              precision    recall  f1-score   support\n",
      "\n",
      "           0       0.62      0.92      0.74        25\n",
      "           1       0.44      0.28      0.34        25\n",
      "           2       0.67      0.67      0.67        27\n",
      "           3       0.70      0.62      0.65        26\n",
      "           4       0.80      0.75      0.77        32\n",
      "           5       0.86      0.92      0.89        26\n",
      "           6       1.00      1.00      1.00        29\n",
      "\n",
      "    accuracy                           0.74       190\n",
      "   macro avg       0.73      0.74      0.72       190\n",
      "weighted avg       0.73      0.74      0.73       190\n",
      "\n",
      "              precision    recall  f1-score   support\n",
      "\n",
      "           0       0.68      0.84      0.75        25\n",
      "           1       0.67      0.48      0.56        25\n",
      "           2       0.74      0.63      0.68        27\n",
      "           3       0.76      0.85      0.80        26\n",
      "           4       0.79      0.81      0.80        32\n",
      "           5       0.86      0.89      0.87        27\n",
      "           6       0.96      0.96      0.96        28\n",
      "\n",
      "    accuracy                           0.78       190\n",
      "   macro avg       0.78      0.78      0.78       190\n",
      "weighted avg       0.78      0.78      0.78       190\n",
      "\n",
      "              precision    recall  f1-score   support\n",
      "\n",
      "           0       0.83      1.00      0.91        25\n",
      "           1       0.57      0.48      0.52        25\n",
      "           2       0.81      0.48      0.60        27\n",
      "           3       0.67      0.62      0.64        26\n",
      "           4       0.69      0.84      0.76        32\n",
      "           5       0.78      0.93      0.85        27\n",
      "           6       1.00      1.00      1.00        28\n",
      "\n",
      "    accuracy                           0.77       190\n",
      "   macro avg       0.77      0.76      0.75       190\n",
      "weighted avg       0.77      0.77      0.76       190\n",
      "\n",
      "              precision    recall  f1-score   support\n",
      "\n",
      "           0       0.80      0.83      0.82        24\n",
      "           1       0.60      0.46      0.52        26\n",
      "           2       0.68      0.70      0.69        27\n",
      "           3       0.67      0.77      0.71        26\n",
      "           4       0.81      0.78      0.79        32\n",
      "           5       0.89      0.89      0.89        27\n",
      "           6       0.97      1.00      0.98        28\n",
      "\n",
      "    accuracy                           0.78       190\n",
      "   macro avg       0.77      0.78      0.77       190\n",
      "weighted avg       0.78      0.78      0.78       190\n",
      "\n",
      "              precision    recall  f1-score   support\n",
      "\n",
      "           0       0.73      0.92      0.81        24\n",
      "           1       0.75      0.46      0.57        26\n",
      "           2       0.77      0.74      0.75        27\n",
      "           3       0.71      0.65      0.68        26\n",
      "           4       0.69      0.75      0.72        32\n",
      "           5       0.84      0.96      0.90        27\n",
      "           6       1.00      1.00      1.00        28\n",
      "\n",
      "    accuracy                           0.78       190\n",
      "   macro avg       0.78      0.78      0.78       190\n",
      "weighted avg       0.78      0.78      0.78       190\n",
      "\n",
      "              precision    recall  f1-score   support\n",
      "\n",
      "           0       0.84      0.88      0.86        24\n",
      "           1       0.82      0.54      0.65        26\n",
      "           2       0.65      0.74      0.69        27\n",
      "           3       0.73      0.73      0.73        26\n",
      "           4       0.78      0.78      0.78        32\n",
      "           5       0.83      0.89      0.86        27\n",
      "           6       0.93      1.00      0.97        28\n",
      "\n",
      "    accuracy                           0.79       190\n",
      "   macro avg       0.80      0.79      0.79       190\n",
      "weighted avg       0.80      0.79      0.79       190\n",
      "\n",
      "              precision    recall  f1-score   support\n",
      "\n",
      "           0       0.79      0.92      0.85        24\n",
      "           1       0.70      0.54      0.61        26\n",
      "           2       0.67      0.81      0.73        27\n",
      "           3       0.75      0.58      0.65        26\n",
      "           4       0.77      0.84      0.81        32\n",
      "           5       0.93      0.93      0.93        27\n",
      "           6       1.00      0.96      0.98        28\n",
      "\n",
      "    accuracy                           0.80       190\n",
      "   macro avg       0.80      0.80      0.79       190\n",
      "weighted avg       0.80      0.80      0.80       190\n",
      "\n",
      "              precision    recall  f1-score   support\n",
      "\n",
      "           0       0.76      0.76      0.76        25\n",
      "           1       0.57      0.50      0.53        26\n",
      "           2       0.81      0.81      0.81        26\n",
      "           3       0.85      0.63      0.72        27\n",
      "           4       0.74      0.90      0.81        31\n",
      "           5       0.90      1.00      0.95        26\n",
      "           6       1.00      1.00      1.00        29\n",
      "\n",
      "    accuracy                           0.81       190\n",
      "   macro avg       0.80      0.80      0.80       190\n",
      "weighted avg       0.80      0.81      0.80       190\n",
      "\n",
      "              precision    recall  f1-score   support\n",
      "\n",
      "           0       0.74      0.80      0.77        25\n",
      "           1       0.58      0.42      0.49        26\n",
      "           2       0.57      0.65      0.61        26\n",
      "           3       0.64      0.59      0.62        27\n",
      "           4       0.74      0.74      0.74        31\n",
      "           5       0.86      0.96      0.91        26\n",
      "           6       1.00      1.00      1.00        29\n",
      "\n",
      "    accuracy                           0.74       190\n",
      "   macro avg       0.73      0.74      0.73       190\n",
      "weighted avg       0.74      0.74      0.74       190\n",
      "\n",
      "              precision    recall  f1-score   support\n",
      "\n",
      "           0       0.68      0.84      0.75        25\n",
      "           1       0.62      0.40      0.49        25\n",
      "           2       0.73      0.73      0.73        26\n",
      "           3       0.81      0.81      0.81        27\n",
      "           4       0.82      0.74      0.78        31\n",
      "           5       0.81      1.00      0.90        26\n",
      "           6       1.00      1.00      1.00        29\n",
      "\n",
      "    accuracy                           0.79       189\n",
      "   macro avg       0.78      0.79      0.78       189\n",
      "weighted avg       0.79      0.79      0.79       189\n",
      "\n"
     ]
    }
   ],
   "source": [
    "knn = KNeighborsClassifier(n_neighbors=5)\n",
    "cross_validate(knn, x_full, y_full)\n",
    "\n",
    "knn_score = cross_val_score(knn, x_full, y_full, cv=10, scoring=make_scorer(classification_report_with_accuracy_score))"
   ]
  },
  {
   "cell_type": "code",
   "execution_count": 464,
   "id": "b3419abd-f5f1-4c36-bb59-7a4772b3a1aa",
   "metadata": {
    "execution": {
     "iopub.execute_input": "2022-01-11T20:16:37.227001Z",
     "iopub.status.busy": "2022-01-11T20:16:37.226000Z",
     "iopub.status.idle": "2022-01-11T20:16:37.865577Z",
     "shell.execute_reply": "2022-01-11T20:16:37.865577Z",
     "shell.execute_reply.started": "2022-01-11T20:16:37.227001Z"
    },
    "tags": []
   },
   "outputs": [],
   "source": [
    "resultados_knn = []\n",
    "\n",
    "for k in range (2, 21):\n",
    "    knn = KNeighborsClassifier(n_neighbors=k)\n",
    "    knn.fit(x_train, y_train)\n",
    "\n",
    "    resultados_knn.append(knn.score(x_val, y_val))"
   ]
  },
  {
   "cell_type": "code",
   "execution_count": 465,
   "id": "d127c1e5-30e8-410e-b340-0dedb3345fac",
   "metadata": {
    "execution": {
     "iopub.execute_input": "2022-01-11T20:16:37.947650Z",
     "iopub.status.busy": "2022-01-11T20:16:37.946650Z",
     "iopub.status.idle": "2022-01-11T20:16:37.961663Z",
     "shell.execute_reply": "2022-01-11T20:16:37.961663Z",
     "shell.execute_reply.started": "2022-01-11T20:16:37.947650Z"
    },
    "tags": []
   },
   "outputs": [
    {
     "data": {
      "text/plain": [
       "[0.8236842105263158,\n",
       " 0.8236842105263158,\n",
       " 0.8289473684210527,\n",
       " 0.8184210526315789,\n",
       " 0.7921052631578948,\n",
       " 0.7789473684210526,\n",
       " 0.7763157894736842,\n",
       " 0.7868421052631579,\n",
       " 0.7763157894736842,\n",
       " 0.7710526315789473,\n",
       " 0.7578947368421053,\n",
       " 0.7552631578947369,\n",
       " 0.7631578947368421,\n",
       " 0.7552631578947369,\n",
       " 0.75,\n",
       " 0.7421052631578947,\n",
       " 0.7421052631578947,\n",
       " 0.7368421052631579,\n",
       " 0.7342105263157894]"
      ]
     },
     "execution_count": 465,
     "metadata": {},
     "output_type": "execute_result"
    }
   ],
   "source": [
    "resultados_knn"
   ]
  },
  {
   "cell_type": "code",
   "execution_count": 466,
   "id": "1aabaf67-43df-4e73-b240-b49358a51e1d",
   "metadata": {
    "execution": {
     "iopub.execute_input": "2022-01-11T20:16:38.027724Z",
     "iopub.status.busy": "2022-01-11T20:16:38.026723Z",
     "iopub.status.idle": "2022-01-11T20:16:38.266939Z",
     "shell.execute_reply": "2022-01-11T20:16:38.265938Z",
     "shell.execute_reply.started": "2022-01-11T20:16:38.027724Z"
    },
    "tags": []
   },
   "outputs": [
    {
     "data": {
      "image/png": "[encoded data removed]",
      "text/plain": [
       "<Figure size 864x432 with 1 Axes>"
      ]
     },
     "metadata": {},
     "output_type": "display_data"
    }
   ],
   "source": [
    "xticks = list(range(2, 21))\n",
    "plt.xlabel('N')\n",
    "plt.ylabel('Accuracy')\n",
    "#plt.xticks(ticks=xticks, labels=xticks)\n",
    "#plt.set_xticks(xticks, labels=xticks)\n",
    "sns.lineplot(x=xticks, y=resultados_knn);"
   ]
  },
  {
   "cell_type": "code",
   "execution_count": 467,
   "id": "a6853fc7-632f-4677-994a-b5e609bf2edd",
   "metadata": {
    "execution": {
     "iopub.execute_input": "2022-01-11T20:16:38.267939Z",
     "iopub.status.busy": "2022-01-11T20:16:38.267939Z",
     "iopub.status.idle": "2022-01-11T20:16:38.281952Z",
     "shell.execute_reply": "2022-01-11T20:16:38.281952Z",
     "shell.execute_reply.started": "2022-01-11T20:16:38.267939Z"
    },
    "tags": []
   },
   "outputs": [
    {
     "data": {
      "text/plain": [
       "(0.7743767313019391, 0.030014844279819732)"
      ]
     },
     "execution_count": 467,
     "metadata": {},
     "output_type": "execute_result"
    }
   ],
   "source": [
    "(np.mean(resultados_knn), np.std(resultados_knn))"
   ]
  },
  {
   "cell_type": "code",
   "execution_count": 468,
   "id": "6da6299b-536e-4111-a397-0e3e57f1c5d6",
   "metadata": {
    "execution": {
     "iopub.execute_input": "2022-01-11T20:16:38.283953Z",
     "iopub.status.busy": "2022-01-11T20:16:38.282953Z",
     "iopub.status.idle": "2022-01-11T20:16:38.329995Z",
     "shell.execute_reply": "2022-01-11T20:16:38.329995Z",
     "shell.execute_reply.started": "2022-01-11T20:16:38.283953Z"
    },
    "tags": []
   },
   "outputs": [
    {
     "data": {
      "text/plain": [
       "0.8289473684210527"
      ]
     },
     "execution_count": 468,
     "metadata": {},
     "output_type": "execute_result"
    }
   ],
   "source": [
    "knn_best = KNeighborsClassifier(n_neighbors=4)\n",
    "knn_best.fit(x_train, y_train)\n",
    "\n",
    "knn_best.score(x_val, y_val)"
   ]
  },
  {
   "cell_type": "code",
   "execution_count": 469,
   "id": "90cea97f-c247-4c3b-898f-abdd5e9487b3",
   "metadata": {
    "execution": {
     "iopub.execute_input": "2022-01-11T20:16:38.412069Z",
     "iopub.status.busy": "2022-01-11T20:16:38.411069Z",
     "iopub.status.idle": "2022-01-11T20:16:38.682314Z",
     "shell.execute_reply": "2022-01-11T20:16:38.681312Z",
     "shell.execute_reply.started": "2022-01-11T20:16:38.412069Z"
    },
    "tags": []
   },
   "outputs": [
    {
     "name": "stdout",
     "output_type": "stream",
     "text": [
      "              precision    recall  f1-score   support\n",
      "\n",
      "           0       0.68      0.92      0.78        25\n",
      "           1       0.56      0.40      0.47        25\n",
      "           2       0.70      0.70      0.70        27\n",
      "           3       0.71      0.65      0.68        26\n",
      "           4       0.83      0.75      0.79        32\n",
      "           5       0.83      0.92      0.87        26\n",
      "           6       1.00      1.00      1.00        29\n",
      "\n",
      "    accuracy                           0.77       190\n",
      "   macro avg       0.76      0.76      0.76       190\n",
      "weighted avg       0.76      0.77      0.76       190\n",
      "\n",
      "              precision    recall  f1-score   support\n",
      "\n",
      "           0       0.63      0.88      0.73        25\n",
      "           1       0.59      0.40      0.48        25\n",
      "           2       0.78      0.67      0.72        27\n",
      "           3       0.82      0.88      0.85        26\n",
      "           4       0.80      0.75      0.77        32\n",
      "           5       0.86      0.93      0.89        27\n",
      "           6       0.96      0.96      0.96        28\n",
      "\n",
      "    accuracy                           0.78       190\n",
      "   macro avg       0.78      0.78      0.77       190\n",
      "weighted avg       0.78      0.78      0.78       190\n",
      "\n",
      "              precision    recall  f1-score   support\n",
      "\n",
      "           0       0.89      1.00      0.94        25\n",
      "           1       0.63      0.48      0.55        25\n",
      "           2       0.83      0.56      0.67        27\n",
      "           3       0.61      0.73      0.67        26\n",
      "           4       0.72      0.81      0.76        32\n",
      "           5       0.87      0.96      0.91        27\n",
      "           6       1.00      1.00      1.00        28\n",
      "\n",
      "    accuracy                           0.79       190\n",
      "   macro avg       0.79      0.79      0.79       190\n",
      "weighted avg       0.80      0.79      0.79       190\n",
      "\n",
      "              precision    recall  f1-score   support\n",
      "\n",
      "           0       0.88      0.92      0.90        24\n",
      "           1       0.68      0.50      0.58        26\n",
      "           2       0.74      0.74      0.74        27\n",
      "           3       0.73      0.85      0.79        26\n",
      "           4       0.79      0.84      0.82        32\n",
      "           5       0.96      0.96      0.96        27\n",
      "           6       1.00      1.00      1.00        28\n",
      "\n",
      "    accuracy                           0.83       190\n",
      "   macro avg       0.83      0.83      0.83       190\n",
      "weighted avg       0.83      0.83      0.83       190\n",
      "\n",
      "              precision    recall  f1-score   support\n",
      "\n",
      "           0       0.79      0.92      0.85        24\n",
      "           1       0.74      0.65      0.69        26\n",
      "           2       0.81      0.78      0.79        27\n",
      "           3       0.70      0.73      0.72        26\n",
      "           4       0.77      0.72      0.74        32\n",
      "           5       0.93      0.96      0.95        27\n",
      "           6       1.00      1.00      1.00        28\n",
      "\n",
      "    accuracy                           0.82       190\n",
      "   macro avg       0.82      0.82      0.82       190\n",
      "weighted avg       0.82      0.82      0.82       190\n",
      "\n",
      "              precision    recall  f1-score   support\n",
      "\n",
      "           0       0.85      0.92      0.88        24\n",
      "           1       0.76      0.62      0.68        26\n",
      "           2       0.64      0.67      0.65        27\n",
      "           3       0.76      0.73      0.75        26\n",
      "           4       0.79      0.84      0.82        32\n",
      "           5       0.89      0.89      0.89        27\n",
      "           6       0.97      1.00      0.98        28\n",
      "\n",
      "    accuracy                           0.81       190\n",
      "   macro avg       0.81      0.81      0.81       190\n",
      "weighted avg       0.81      0.81      0.81       190\n",
      "\n",
      "              precision    recall  f1-score   support\n",
      "\n",
      "           0       0.77      0.96      0.85        24\n",
      "           1       0.65      0.58      0.61        26\n",
      "           2       0.75      0.78      0.76        27\n",
      "           3       0.77      0.65      0.71        26\n",
      "           4       0.79      0.84      0.82        32\n",
      "           5       0.96      0.93      0.94        27\n",
      "           6       1.00      0.96      0.98        28\n",
      "\n",
      "    accuracy                           0.82       190\n",
      "   macro avg       0.81      0.81      0.81       190\n",
      "weighted avg       0.82      0.82      0.81       190\n",
      "\n",
      "              precision    recall  f1-score   support\n",
      "\n",
      "           0       0.78      0.84      0.81        25\n",
      "           1       0.64      0.54      0.58        26\n",
      "           2       0.80      0.77      0.78        26\n",
      "           3       0.83      0.70      0.76        27\n",
      "           4       0.81      0.94      0.87        31\n",
      "           5       0.89      0.96      0.93        26\n",
      "           6       1.00      1.00      1.00        29\n",
      "\n",
      "    accuracy                           0.83       190\n",
      "   macro avg       0.82      0.82      0.82       190\n",
      "weighted avg       0.82      0.83      0.82       190\n",
      "\n",
      "              precision    recall  f1-score   support\n",
      "\n",
      "           0       0.68      0.84      0.75        25\n",
      "           1       0.65      0.58      0.61        26\n",
      "           2       0.64      0.69      0.67        26\n",
      "           3       0.76      0.70      0.73        27\n",
      "           4       0.85      0.71      0.77        31\n",
      "           5       0.89      0.96      0.93        26\n",
      "           6       1.00      1.00      1.00        29\n",
      "\n",
      "    accuracy                           0.78       190\n",
      "   macro avg       0.78      0.78      0.78       190\n",
      "weighted avg       0.79      0.78      0.78       190\n",
      "\n",
      "              precision    recall  f1-score   support\n",
      "\n",
      "           0       0.64      0.84      0.72        25\n",
      "           1       0.57      0.32      0.41        25\n",
      "           2       0.70      0.73      0.72        26\n",
      "           3       0.79      0.81      0.80        27\n",
      "           4       0.86      0.77      0.81        31\n",
      "           5       0.87      1.00      0.93        26\n",
      "           6       1.00      1.00      1.00        29\n",
      "\n",
      "    accuracy                           0.79       189\n",
      "   macro avg       0.77      0.78      0.77       189\n",
      "weighted avg       0.78      0.79      0.78       189\n",
      "\n"
     ]
    },
    {
     "data": {
      "text/plain": [
       "array([1., 1., 1., 1., 1., 1., 1., 1., 1., 1.])"
      ]
     },
     "execution_count": 469,
     "metadata": {},
     "output_type": "execute_result"
    }
   ],
   "source": [
    "cross_val_score(knn_best, x_full, y_full, cv=10, scoring=make_scorer(classification_report_with_accuracy_score))"
   ]
  },
  {
   "cell_type": "code",
   "execution_count": 470,
   "id": "508786c2-8b6a-4400-bf35-59b083fa3c49",
   "metadata": {
    "execution": {
     "iopub.execute_input": "2022-01-11T20:16:38.683314Z",
     "iopub.status.busy": "2022-01-11T20:16:38.683314Z",
     "iopub.status.idle": "2022-01-11T20:16:39.334902Z",
     "shell.execute_reply": "2022-01-11T20:16:39.334902Z",
     "shell.execute_reply.started": "2022-01-11T20:16:38.683314Z"
    },
    "tags": []
   },
   "outputs": [
    {
     "data": {
      "image/png": "[encoded data removed]",
      "text/plain": [
       "<Figure size 864x432 with 2 Axes>"
      ]
     },
     "metadata": {},
     "output_type": "display_data"
    }
   ],
   "source": [
    "y_pred = cross_val_predict(knn, x_full, y_full, cv=10)\n",
    "confusion_matrix_knn = pd.crosstab(y_full, y_pred, rownames=['Atual'], colnames=['Predição'])\n",
    "sns.heatmap(confusion_matrix_knn, annot=True, fmt='d');"
   ]
  },
  {
   "cell_type": "markdown",
   "id": "094d142b-936b-4e2e-8120-1a9a16652634",
   "metadata": {
    "execution": {
     "iopub.execute_input": "2022-01-11T15:51:42.016813Z",
     "iopub.status.busy": "2022-01-11T15:51:42.015803Z",
     "iopub.status.idle": "2022-01-11T15:51:42.020807Z",
     "shell.execute_reply": "2022-01-11T15:51:42.020807Z",
     "shell.execute_reply.started": "2022-01-11T15:51:42.016813Z"
    }
   },
   "source": [
    "## .3 Decision Tree"
   ]
  },
  {
   "cell_type": "code",
   "execution_count": 471,
   "id": "28ce62e4-7a5e-4e87-86c5-9a0bd69d6bc5",
   "metadata": {
    "execution": {
     "iopub.execute_input": "2022-01-11T20:16:39.400961Z",
     "iopub.status.busy": "2022-01-11T20:16:39.399960Z",
     "iopub.status.idle": "2022-01-11T20:16:39.414973Z",
     "shell.execute_reply": "2022-01-11T20:16:39.414973Z",
     "shell.execute_reply.started": "2022-01-11T20:16:39.400961Z"
    },
    "tags": []
   },
   "outputs": [],
   "source": [
    "dt = DecisionTreeClassifier()"
   ]
  },
  {
   "cell_type": "code",
   "execution_count": 472,
   "id": "86be41b2-6617-484b-ad15-bd9ead39bbfe",
   "metadata": {
    "execution": {
     "iopub.execute_input": "2022-01-11T20:16:39.498048Z",
     "iopub.status.busy": "2022-01-11T20:16:39.498048Z",
     "iopub.status.idle": "2022-01-11T20:16:39.688221Z",
     "shell.execute_reply": "2022-01-11T20:16:39.687219Z",
     "shell.execute_reply.started": "2022-01-11T20:16:39.498048Z"
    },
    "tags": []
   },
   "outputs": [
    {
     "name": "stdout",
     "output_type": "stream",
     "text": [
      "              precision    recall  f1-score   support\n",
      "\n",
      "           0       0.92      0.96      0.94        25\n",
      "           1       0.96      0.92      0.94        25\n",
      "           2       0.96      1.00      0.98        27\n",
      "           3       1.00      0.88      0.94        26\n",
      "           4       0.91      1.00      0.96        32\n",
      "           5       1.00      1.00      1.00        26\n",
      "           6       1.00      0.97      0.98        29\n",
      "\n",
      "    accuracy                           0.96       190\n",
      "   macro avg       0.97      0.96      0.96       190\n",
      "weighted avg       0.96      0.96      0.96       190\n",
      "\n",
      "              precision    recall  f1-score   support\n",
      "\n",
      "           0       0.96      1.00      0.98        25\n",
      "           1       0.90      0.76      0.83        25\n",
      "           2       0.78      0.93      0.85        27\n",
      "           3       1.00      0.85      0.92        26\n",
      "           4       0.94      1.00      0.97        32\n",
      "           5       1.00      1.00      1.00        27\n",
      "           6       1.00      1.00      1.00        28\n",
      "\n",
      "    accuracy                           0.94       190\n",
      "   macro avg       0.94      0.93      0.93       190\n",
      "weighted avg       0.94      0.94      0.94       190\n",
      "\n",
      "              precision    recall  f1-score   support\n",
      "\n",
      "           0       0.92      0.92      0.92        25\n",
      "           1       0.78      0.84      0.81        25\n",
      "           2       0.91      0.78      0.84        27\n",
      "           3       0.93      0.96      0.94        26\n",
      "           4       0.94      0.97      0.95        32\n",
      "           5       0.96      0.96      0.96        27\n",
      "           6       1.00      1.00      1.00        28\n",
      "\n",
      "    accuracy                           0.92       190\n",
      "   macro avg       0.92      0.92      0.92       190\n",
      "weighted avg       0.92      0.92      0.92       190\n",
      "\n",
      "              precision    recall  f1-score   support\n",
      "\n",
      "           0       1.00      1.00      1.00        24\n",
      "           1       0.89      0.92      0.91        26\n",
      "           2       0.92      0.85      0.88        27\n",
      "           3       0.93      0.96      0.94        26\n",
      "           4       0.94      0.94      0.94        32\n",
      "           5       0.96      0.96      0.96        27\n",
      "           6       1.00      1.00      1.00        28\n",
      "\n",
      "    accuracy                           0.95       190\n",
      "   macro avg       0.95      0.95      0.95       190\n",
      "weighted avg       0.95      0.95      0.95       190\n",
      "\n",
      "              precision    recall  f1-score   support\n",
      "\n",
      "           0       0.92      1.00      0.96        24\n",
      "           1       1.00      0.88      0.94        26\n",
      "           2       0.96      0.96      0.96        27\n",
      "           3       0.86      0.96      0.91        26\n",
      "           4       0.93      0.88      0.90        32\n",
      "           5       0.96      0.93      0.94        27\n",
      "           6       0.97      1.00      0.98        28\n",
      "\n",
      "    accuracy                           0.94       190\n",
      "   macro avg       0.94      0.94      0.94       190\n",
      "weighted avg       0.94      0.94      0.94       190\n",
      "\n",
      "              precision    recall  f1-score   support\n",
      "\n",
      "           0       0.96      0.96      0.96        24\n",
      "           1       0.82      0.88      0.85        26\n",
      "           2       0.92      0.81      0.86        27\n",
      "           3       0.89      0.92      0.91        26\n",
      "           4       0.94      0.91      0.92        32\n",
      "           5       0.96      1.00      0.98        27\n",
      "           6       1.00      1.00      1.00        28\n",
      "\n",
      "    accuracy                           0.93       190\n",
      "   macro avg       0.93      0.93      0.93       190\n",
      "weighted avg       0.93      0.93      0.93       190\n",
      "\n",
      "              precision    recall  f1-score   support\n",
      "\n",
      "           0       1.00      0.92      0.96        24\n",
      "           1       0.85      0.88      0.87        26\n",
      "           2       0.89      0.93      0.91        27\n",
      "           3       0.96      0.96      0.96        26\n",
      "           4       0.94      0.97      0.95        32\n",
      "           5       1.00      0.96      0.98        27\n",
      "           6       1.00      1.00      1.00        28\n",
      "\n",
      "    accuracy                           0.95       190\n",
      "   macro avg       0.95      0.95      0.95       190\n",
      "weighted avg       0.95      0.95      0.95       190\n",
      "\n",
      "              precision    recall  f1-score   support\n",
      "\n",
      "           0       1.00      0.92      0.96        25\n",
      "           1       0.86      0.92      0.89        26\n",
      "           2       0.89      0.92      0.91        26\n",
      "           3       0.96      0.96      0.96        27\n",
      "           4       1.00      0.97      0.98        31\n",
      "           5       1.00      1.00      1.00        26\n",
      "           6       1.00      1.00      1.00        29\n",
      "\n",
      "    accuracy                           0.96       190\n",
      "   macro avg       0.96      0.96      0.96       190\n",
      "weighted avg       0.96      0.96      0.96       190\n",
      "\n",
      "              precision    recall  f1-score   support\n",
      "\n",
      "           0       0.92      0.96      0.94        25\n",
      "           1       0.96      0.85      0.90        26\n",
      "           2       0.96      0.96      0.96        26\n",
      "           3       0.90      1.00      0.95        27\n",
      "           4       0.97      0.94      0.95        31\n",
      "           5       0.96      0.96      0.96        26\n",
      "           6       1.00      1.00      1.00        29\n",
      "\n",
      "    accuracy                           0.95       190\n",
      "   macro avg       0.95      0.95      0.95       190\n",
      "weighted avg       0.95      0.95      0.95       190\n",
      "\n",
      "              precision    recall  f1-score   support\n",
      "\n",
      "           0       0.93      1.00      0.96        25\n",
      "           1       0.88      0.84      0.86        25\n",
      "           2       0.92      0.88      0.90        26\n",
      "           3       0.93      0.93      0.93        27\n",
      "           4       0.97      0.97      0.97        31\n",
      "           5       1.00      1.00      1.00        26\n",
      "           6       1.00      1.00      1.00        29\n",
      "\n",
      "    accuracy                           0.95       189\n",
      "   macro avg       0.94      0.95      0.94       189\n",
      "weighted avg       0.95      0.95      0.95       189\n",
      "\n",
      "List of possible accuracy: [0.9631578947368421, 0.9368421052631579, 0.9210526315789473, 0.9473684210526315, 0.9421052631578948, 0.9263157894736842, 0.9473684210526315, 0.9578947368421052, 0.9526315789473684, 0.9470899470899471]\n",
      "\n",
      "Maximum Accuracy That can be obtained from this model is: 96.3157894736842 %\n",
      "\n",
      "Minimum Accuracy: 92.10526315789474 %\n",
      "\n",
      "Overall Accuracy: 94.41826789195211 %\n",
      "\n",
      "Standard Deviation is: 1.2492549298910047 %\n"
     ]
    }
   ],
   "source": [
    "stratified_kfold_evaluation(StratifiedKFold(n_splits=10), dt)"
   ]
  },
  {
   "cell_type": "markdown",
   "id": "cc0f0639-52d2-4221-a85d-d5a89129a986",
   "metadata": {
    "execution": {
     "iopub.execute_input": "2022-01-11T15:51:51.452139Z",
     "iopub.status.busy": "2022-01-11T15:51:51.452139Z",
     "iopub.status.idle": "2022-01-11T15:51:51.470142Z",
     "shell.execute_reply": "2022-01-11T15:51:51.469154Z",
     "shell.execute_reply.started": "2022-01-11T15:51:51.452139Z"
    }
   },
   "source": [
    "## .4 Random Forest"
   ]
  },
  {
   "cell_type": "code",
   "execution_count": 473,
   "id": "f5776444-ea3d-492f-b315-a2efbc4342ba",
   "metadata": {
    "execution": {
     "iopub.execute_input": "2022-01-11T20:16:39.897408Z",
     "iopub.status.busy": "2022-01-11T20:16:39.896408Z",
     "iopub.status.idle": "2022-01-11T20:16:39.911421Z",
     "shell.execute_reply": "2022-01-11T20:16:39.911421Z",
     "shell.execute_reply.started": "2022-01-11T20:16:39.897408Z"
    },
    "tags": []
   },
   "outputs": [],
   "source": [
    "rf = RandomForestClassifier()"
   ]
  },
  {
   "cell_type": "code",
   "execution_count": 474,
   "id": "89a37c3a-e611-4253-a4d7-9659bc45fd46",
   "metadata": {
    "execution": {
     "iopub.execute_input": "2022-01-11T20:16:39.977481Z",
     "iopub.status.busy": "2022-01-11T20:16:39.977481Z",
     "iopub.status.idle": "2022-01-11T20:16:43.557709Z",
     "shell.execute_reply": "2022-01-11T20:16:43.556707Z",
     "shell.execute_reply.started": "2022-01-11T20:16:39.977481Z"
    },
    "tags": []
   },
   "outputs": [
    {
     "name": "stdout",
     "output_type": "stream",
     "text": [
      "              precision    recall  f1-score   support\n",
      "\n",
      "           0       0.93      1.00      0.96        25\n",
      "           1       0.87      0.80      0.83        25\n",
      "           2       0.93      0.93      0.93        27\n",
      "           3       0.96      0.96      0.96        26\n",
      "           4       0.97      1.00      0.98        32\n",
      "           5       1.00      1.00      1.00        26\n",
      "           6       1.00      0.97      0.98        29\n",
      "\n",
      "    accuracy                           0.95       190\n",
      "   macro avg       0.95      0.95      0.95       190\n",
      "weighted avg       0.95      0.95      0.95       190\n",
      "\n",
      "              precision    recall  f1-score   support\n",
      "\n",
      "           0       0.96      0.96      0.96        25\n",
      "           1       0.73      0.96      0.83        25\n",
      "           2       0.95      0.74      0.83        27\n",
      "           3       1.00      0.85      0.92        26\n",
      "           4       0.94      1.00      0.97        32\n",
      "           5       1.00      1.00      1.00        27\n",
      "           6       1.00      1.00      1.00        28\n",
      "\n",
      "    accuracy                           0.93       190\n",
      "   macro avg       0.94      0.93      0.93       190\n",
      "weighted avg       0.94      0.93      0.93       190\n",
      "\n",
      "              precision    recall  f1-score   support\n",
      "\n",
      "           0       1.00      0.96      0.98        25\n",
      "           1       0.83      0.96      0.89        25\n",
      "           2       0.93      0.93      0.93        27\n",
      "           3       0.92      0.85      0.88        26\n",
      "           4       1.00      0.94      0.97        32\n",
      "           5       0.96      1.00      0.98        27\n",
      "           6       1.00      1.00      1.00        28\n",
      "\n",
      "    accuracy                           0.95       190\n",
      "   macro avg       0.95      0.95      0.95       190\n",
      "weighted avg       0.95      0.95      0.95       190\n",
      "\n",
      "              precision    recall  f1-score   support\n",
      "\n",
      "           0       1.00      1.00      1.00        24\n",
      "           1       0.93      0.96      0.94        26\n",
      "           2       0.92      0.85      0.88        27\n",
      "           3       0.89      0.96      0.93        26\n",
      "           4       1.00      0.97      0.98        32\n",
      "           5       1.00      1.00      1.00        27\n",
      "           6       1.00      1.00      1.00        28\n",
      "\n",
      "    accuracy                           0.96       190\n",
      "   macro avg       0.96      0.96      0.96       190\n",
      "weighted avg       0.96      0.96      0.96       190\n",
      "\n",
      "              precision    recall  f1-score   support\n",
      "\n",
      "           0       1.00      1.00      1.00        24\n",
      "           1       0.86      0.96      0.91        26\n",
      "           2       0.96      0.89      0.92        27\n",
      "           3       0.93      0.96      0.94        26\n",
      "           4       1.00      0.94      0.97        32\n",
      "           5       1.00      0.96      0.98        27\n",
      "           6       0.97      1.00      0.98        28\n",
      "\n",
      "    accuracy                           0.96       190\n",
      "   macro avg       0.96      0.96      0.96       190\n",
      "weighted avg       0.96      0.96      0.96       190\n",
      "\n",
      "              precision    recall  f1-score   support\n",
      "\n",
      "           0       1.00      0.96      0.98        24\n",
      "           1       0.83      0.92      0.87        26\n",
      "           2       0.96      0.85      0.90        27\n",
      "           3       0.89      0.96      0.93        26\n",
      "           4       1.00      0.97      0.98        32\n",
      "           5       1.00      1.00      1.00        27\n",
      "           6       1.00      1.00      1.00        28\n",
      "\n",
      "    accuracy                           0.95       190\n",
      "   macro avg       0.95      0.95      0.95       190\n",
      "weighted avg       0.96      0.95      0.95       190\n",
      "\n",
      "              precision    recall  f1-score   support\n",
      "\n",
      "           0       0.96      0.92      0.94        24\n",
      "           1       0.86      0.92      0.89        26\n",
      "           2       0.93      0.93      0.93        27\n",
      "           3       0.96      0.96      0.96        26\n",
      "           4       1.00      0.97      0.98        32\n",
      "           5       1.00      1.00      1.00        27\n",
      "           6       1.00      1.00      1.00        28\n",
      "\n",
      "    accuracy                           0.96       190\n",
      "   macro avg       0.96      0.96      0.96       190\n",
      "weighted avg       0.96      0.96      0.96       190\n",
      "\n",
      "              precision    recall  f1-score   support\n",
      "\n",
      "           0       1.00      0.92      0.96        25\n",
      "           1       0.81      1.00      0.90        26\n",
      "           2       1.00      0.88      0.94        26\n",
      "           3       1.00      1.00      1.00        27\n",
      "           4       1.00      0.97      0.98        31\n",
      "           5       1.00      1.00      1.00        26\n",
      "           6       1.00      1.00      1.00        29\n",
      "\n",
      "    accuracy                           0.97       190\n",
      "   macro avg       0.97      0.97      0.97       190\n",
      "weighted avg       0.97      0.97      0.97       190\n",
      "\n",
      "              precision    recall  f1-score   support\n",
      "\n",
      "           0       1.00      0.92      0.96        25\n",
      "           1       0.83      0.96      0.89        26\n",
      "           2       0.96      0.96      0.96        26\n",
      "           3       0.96      0.96      0.96        27\n",
      "           4       1.00      0.94      0.97        31\n",
      "           5       1.00      1.00      1.00        26\n",
      "           6       1.00      1.00      1.00        29\n",
      "\n",
      "    accuracy                           0.96       190\n",
      "   macro avg       0.97      0.96      0.96       190\n",
      "weighted avg       0.97      0.96      0.96       190\n",
      "\n",
      "              precision    recall  f1-score   support\n",
      "\n",
      "           0       0.96      0.88      0.92        25\n",
      "           1       0.80      0.96      0.87        25\n",
      "           2       1.00      0.88      0.94        26\n",
      "           3       1.00      0.96      0.98        27\n",
      "           4       0.97      1.00      0.98        31\n",
      "           5       1.00      1.00      1.00        26\n",
      "           6       1.00      1.00      1.00        29\n",
      "\n",
      "    accuracy                           0.96       189\n",
      "   macro avg       0.96      0.96      0.96       189\n",
      "weighted avg       0.96      0.96      0.96       189\n",
      "\n",
      "List of possible accuracy: [0.9526315789473684, 0.9315789473684211, 0.9473684210526315, 0.9631578947368421, 0.9578947368421052, 0.9526315789473684, 0.9578947368421052, 0.968421052631579, 0.9631578947368421, 0.9576719576719577]\n",
      "\n",
      "Maximum Accuracy That can be obtained from this model is: 96.84210526315789 %\n",
      "\n",
      "Minimum Accuracy: 93.15789473684211 %\n",
      "\n",
      "Overall Accuracy: 95.5240879977722 %\n",
      "\n",
      "Standard Deviation is: 0.9770111646827546 %\n"
     ]
    }
   ],
   "source": [
    "stratified_kfold_evaluation(StratifiedKFold(n_splits=10), rf)"
   ]
  },
  {
   "cell_type": "markdown",
   "id": "afceb8ee-0872-4bd2-a452-138037d86b43",
   "metadata": {
    "execution": {
     "iopub.execute_input": "2022-01-11T15:51:54.922712Z",
     "iopub.status.busy": "2022-01-11T15:51:54.922712Z",
     "iopub.status.idle": "2022-01-11T15:51:54.934723Z",
     "shell.execute_reply": "2022-01-11T15:51:54.933723Z",
     "shell.execute_reply.started": "2022-01-11T15:51:54.922712Z"
    }
   },
   "source": [
    "## .5 Multilayer Perceptron (MLP)"
   ]
  },
  {
   "cell_type": "code",
   "execution_count": 475,
   "id": "87009167-76b2-4020-910e-c209830166a6",
   "metadata": {
    "execution": {
     "iopub.execute_input": "2022-01-11T20:16:43.558709Z",
     "iopub.status.busy": "2022-01-11T20:16:43.558709Z",
     "iopub.status.idle": "2022-01-11T20:16:43.573723Z",
     "shell.execute_reply": "2022-01-11T20:16:43.572721Z",
     "shell.execute_reply.started": "2022-01-11T20:16:43.558709Z"
    },
    "tags": []
   },
   "outputs": [],
   "source": [
    "#mlp = "
   ]
  },
  {
   "cell_type": "markdown",
   "id": "c032425f-15ce-4229-be95-fcf2af1f2c8f",
   "metadata": {
    "execution": {
     "iopub.execute_input": "2022-01-11T15:52:00.814069Z",
     "iopub.status.busy": "2022-01-11T15:52:00.814069Z",
     "iopub.status.idle": "2022-01-11T15:52:00.820074Z",
     "shell.execute_reply": "2022-01-11T15:52:00.820074Z",
     "shell.execute_reply.started": "2022-01-11T15:52:00.814069Z"
    }
   },
   "source": [
    "## .6 Naive-Bayes"
   ]
  },
  {
   "cell_type": "markdown",
   "id": "2ba4b8dd-a9d5-4c31-a3bc-79e46be5baf9",
   "metadata": {},
   "source": [
    "## qual o correto do sklearn? kkkkkk"
   ]
  },
  {
   "cell_type": "code",
   "execution_count": 476,
   "id": "c5ae7cca-a8cd-4ea0-9465-a159f16cb388",
   "metadata": {
    "execution": {
     "iopub.execute_input": "2022-01-11T20:16:43.733867Z",
     "iopub.status.busy": "2022-01-11T20:16:43.733867Z",
     "iopub.status.idle": "2022-01-11T20:16:43.748880Z",
     "shell.execute_reply": "2022-01-11T20:16:43.748880Z",
     "shell.execute_reply.started": "2022-01-11T20:16:43.733867Z"
    },
    "tags": []
   },
   "outputs": [],
   "source": [
    "nb = GaussianNB()"
   ]
  },
  {
   "cell_type": "code",
   "execution_count": 477,
   "id": "1d7d7047-b600-4f7f-b226-aca9d1de1cf9",
   "metadata": {
    "execution": {
     "iopub.execute_input": "2022-01-11T20:16:43.750883Z",
     "iopub.status.busy": "2022-01-11T20:16:43.749881Z",
     "iopub.status.idle": "2022-01-11T20:16:43.894012Z",
     "shell.execute_reply": "2022-01-11T20:16:43.893010Z",
     "shell.execute_reply.started": "2022-01-11T20:16:43.750883Z"
    },
    "tags": []
   },
   "outputs": [
    {
     "name": "stdout",
     "output_type": "stream",
     "text": [
      "              precision    recall  f1-score   support\n",
      "\n",
      "           0       0.68      0.92      0.78        25\n",
      "           1       0.86      0.24      0.38        25\n",
      "           2       0.40      0.15      0.22        27\n",
      "           3       0.58      0.27      0.37        26\n",
      "           4       0.37      0.50      0.43        32\n",
      "           5       0.46      1.00      0.63        26\n",
      "           6       1.00      0.97      0.98        29\n",
      "\n",
      "    accuracy                           0.58       190\n",
      "   macro avg       0.62      0.58      0.54       190\n",
      "weighted avg       0.62      0.58      0.54       190\n",
      "\n",
      "              precision    recall  f1-score   support\n",
      "\n",
      "           0       0.69      1.00      0.82        25\n",
      "           1       0.50      0.28      0.36        25\n",
      "           2       0.67      0.30      0.41        27\n",
      "           3       0.60      0.23      0.33        26\n",
      "           4       0.43      0.50      0.46        32\n",
      "           5       0.51      1.00      0.67        27\n",
      "           6       1.00      1.00      1.00        28\n",
      "\n",
      "    accuracy                           0.62       190\n",
      "   macro avg       0.63      0.62      0.58       190\n",
      "weighted avg       0.63      0.62      0.58       190\n",
      "\n",
      "              precision    recall  f1-score   support\n",
      "\n",
      "           0       0.44      0.96      0.60        25\n",
      "           1       0.14      0.04      0.06        25\n",
      "           2       0.30      0.11      0.16        27\n",
      "           3       0.56      0.19      0.29        26\n",
      "           4       0.58      0.44      0.50        32\n",
      "           5       0.46      0.96      0.62        27\n",
      "           6       1.00      1.00      1.00        28\n",
      "\n",
      "    accuracy                           0.53       190\n",
      "   macro avg       0.50      0.53      0.46       190\n",
      "weighted avg       0.51      0.53      0.47       190\n",
      "\n",
      "              precision    recall  f1-score   support\n",
      "\n",
      "           0       0.59      0.83      0.69        24\n",
      "           1       0.54      0.27      0.36        26\n",
      "           2       0.62      0.30      0.40        27\n",
      "           3       0.25      0.08      0.12        26\n",
      "           4       0.44      0.44      0.44        32\n",
      "           5       0.42      0.96      0.58        27\n",
      "           6       1.00      1.00      1.00        28\n",
      "\n",
      "    accuracy                           0.55       190\n",
      "   macro avg       0.55      0.55      0.51       190\n",
      "weighted avg       0.55      0.55      0.51       190\n",
      "\n",
      "              precision    recall  f1-score   support\n",
      "\n",
      "           0       0.67      1.00      0.80        24\n",
      "           1       0.62      0.31      0.41        26\n",
      "           2       0.73      0.41      0.52        27\n",
      "           3       0.50      0.12      0.19        26\n",
      "           4       0.48      0.31      0.38        32\n",
      "           5       0.34      0.93      0.50        27\n",
      "           6       1.00      0.93      0.96        28\n",
      "\n",
      "    accuracy                           0.56       190\n",
      "   macro avg       0.62      0.57      0.54       190\n",
      "weighted avg       0.62      0.56      0.53       190\n",
      "\n",
      "              precision    recall  f1-score   support\n",
      "\n",
      "           0       0.71      0.92      0.80        24\n",
      "           1       0.57      0.31      0.40        26\n",
      "           2       0.53      0.33      0.41        27\n",
      "           3       1.00      0.12      0.21        26\n",
      "           4       0.29      0.31      0.30        32\n",
      "           5       0.44      1.00      0.61        27\n",
      "           6       1.00      1.00      1.00        28\n",
      "\n",
      "    accuracy                           0.56       190\n",
      "   macro avg       0.65      0.57      0.53       190\n",
      "weighted avg       0.64      0.56      0.53       190\n",
      "\n",
      "              precision    recall  f1-score   support\n",
      "\n",
      "           0       0.79      0.96      0.87        24\n",
      "           1       0.82      0.54      0.65        26\n",
      "           2       0.50      0.26      0.34        27\n",
      "           3       0.57      0.15      0.24        26\n",
      "           4       0.44      0.59      0.51        32\n",
      "           5       0.52      1.00      0.68        27\n",
      "           6       1.00      1.00      1.00        28\n",
      "\n",
      "    accuracy                           0.64       190\n",
      "   macro avg       0.66      0.64      0.61       190\n",
      "weighted avg       0.66      0.64      0.61       190\n",
      "\n",
      "              precision    recall  f1-score   support\n",
      "\n",
      "           0       0.62      0.84      0.71        25\n",
      "           1       0.53      0.31      0.39        26\n",
      "           2       0.30      0.12      0.17        26\n",
      "           3       0.80      0.15      0.25        27\n",
      "           4       0.37      0.48      0.42        31\n",
      "           5       0.46      1.00      0.63        26\n",
      "           6       1.00      1.00      1.00        29\n",
      "\n",
      "    accuracy                           0.56       190\n",
      "   macro avg       0.58      0.56      0.51       190\n",
      "weighted avg       0.58      0.56      0.51       190\n",
      "\n",
      "              precision    recall  f1-score   support\n",
      "\n",
      "           0       0.79      0.88      0.83        25\n",
      "           1       0.58      0.27      0.37        26\n",
      "           2       0.56      0.38      0.45        26\n",
      "           3       0.61      0.41      0.49        27\n",
      "           4       0.41      0.45      0.43        31\n",
      "           5       0.52      1.00      0.68        26\n",
      "           6       0.97      1.00      0.98        29\n",
      "\n",
      "    accuracy                           0.63       190\n",
      "   macro avg       0.63      0.63      0.61       190\n",
      "weighted avg       0.63      0.63      0.61       190\n",
      "\n",
      "              precision    recall  f1-score   support\n",
      "\n",
      "           0       0.68      1.00      0.81        25\n",
      "           1       0.62      0.32      0.42        25\n",
      "           2       0.69      0.35      0.46        26\n",
      "           3       0.71      0.19      0.29        27\n",
      "           4       0.41      0.45      0.43        31\n",
      "           5       0.47      1.00      0.64        26\n",
      "           6       0.97      1.00      0.98        29\n",
      "\n",
      "    accuracy                           0.61       189\n",
      "   macro avg       0.65      0.61      0.58       189\n",
      "weighted avg       0.65      0.61      0.58       189\n",
      "\n",
      "List of possible accuracy: [0.5789473684210527, 0.6157894736842106, 0.531578947368421, 0.5526315789473685, 0.5631578947368421, 0.5631578947368421, 0.6421052631578947, 0.5578947368421052, 0.6263157894736842, 0.6137566137566137]\n",
      "\n",
      "Maximum Accuracy That can be obtained from this model is: 64.21052631578948 %\n",
      "\n",
      "Minimum Accuracy: 53.1578947368421 %\n",
      "\n",
      "Overall Accuracy: 58.453355611250345 %\n",
      "\n",
      "Standard Deviation is: 3.5167844227236107 %\n"
     ]
    }
   ],
   "source": [
    "stratified_kfold_evaluation(StratifiedKFold(n_splits=10), nb)"
   ]
  },
  {
   "cell_type": "markdown",
   "id": "b9c20407-0b68-43b1-9660-efe16f3d5ade",
   "metadata": {
    "jp-MarkdownHeadingCollapsed": true,
    "tags": []
   },
   "source": [
    "## .7 Support Vector Machine (SVM)"
   ]
  },
  {
   "cell_type": "code",
   "execution_count": 478,
   "id": "b66d2b22-3e34-46a0-b72d-0829cc85a9be",
   "metadata": {
    "execution": {
     "iopub.execute_input": "2022-01-11T20:16:44.055156Z",
     "iopub.status.busy": "2022-01-11T20:16:44.055156Z",
     "iopub.status.idle": "2022-01-11T20:16:44.069169Z",
     "shell.execute_reply": "2022-01-11T20:16:44.069169Z",
     "shell.execute_reply.started": "2022-01-11T20:16:44.055156Z"
    },
    "tags": []
   },
   "outputs": [],
   "source": [
    "svm = SVC()"
   ]
  },
  {
   "cell_type": "code",
   "execution_count": 479,
   "id": "224f018c-82cc-4a35-9177-b8984cef76e0",
   "metadata": {
    "execution": {
     "iopub.execute_input": "2022-01-11T20:16:44.071171Z",
     "iopub.status.busy": "2022-01-11T20:16:44.071171Z",
     "iopub.status.idle": "2022-01-11T20:16:45.684635Z",
     "shell.execute_reply": "2022-01-11T20:16:45.684635Z",
     "shell.execute_reply.started": "2022-01-11T20:16:44.071171Z"
    },
    "tags": []
   },
   "outputs": [
    {
     "name": "stdout",
     "output_type": "stream",
     "text": [
      "              precision    recall  f1-score   support\n",
      "\n",
      "           0       0.81      0.88      0.85        25\n",
      "           1       0.87      0.52      0.65        25\n",
      "           2       0.64      0.67      0.65        27\n",
      "           3       0.65      0.65      0.65        26\n",
      "           4       0.67      0.75      0.71        32\n",
      "           5       0.83      0.96      0.89        26\n",
      "           6       1.00      0.97      0.98        29\n",
      "\n",
      "    accuracy                           0.77       190\n",
      "   macro avg       0.78      0.77      0.77       190\n",
      "weighted avg       0.78      0.77      0.77       190\n",
      "\n",
      "              precision    recall  f1-score   support\n",
      "\n",
      "           0       0.81      0.88      0.85        25\n",
      "           1       0.62      0.60      0.61        25\n",
      "           2       0.76      0.48      0.59        27\n",
      "           3       0.65      0.58      0.61        26\n",
      "           4       0.68      0.78      0.72        32\n",
      "           5       0.79      1.00      0.89        27\n",
      "           6       1.00      1.00      1.00        28\n",
      "\n",
      "    accuracy                           0.76       190\n",
      "   macro avg       0.76      0.76      0.75       190\n",
      "weighted avg       0.76      0.76      0.75       190\n",
      "\n",
      "              precision    recall  f1-score   support\n",
      "\n",
      "           0       0.83      0.96      0.89        25\n",
      "           1       0.42      0.44      0.43        25\n",
      "           2       0.56      0.56      0.56        27\n",
      "           3       0.57      0.46      0.51        26\n",
      "           4       0.75      0.56      0.64        32\n",
      "           5       0.74      0.93      0.82        27\n",
      "           6       0.97      1.00      0.98        28\n",
      "\n",
      "    accuracy                           0.70       190\n",
      "   macro avg       0.69      0.70      0.69       190\n",
      "weighted avg       0.69      0.70      0.69       190\n",
      "\n",
      "              precision    recall  f1-score   support\n",
      "\n",
      "           0       0.83      0.79      0.81        24\n",
      "           1       0.67      0.46      0.55        26\n",
      "           2       0.55      0.63      0.59        27\n",
      "           3       0.75      0.58      0.65        26\n",
      "           4       0.65      0.75      0.70        32\n",
      "           5       0.84      0.96      0.90        27\n",
      "           6       0.93      1.00      0.97        28\n",
      "\n",
      "    accuracy                           0.74       190\n",
      "   macro avg       0.74      0.74      0.74       190\n",
      "weighted avg       0.74      0.74      0.74       190\n",
      "\n",
      "              precision    recall  f1-score   support\n",
      "\n",
      "           0       0.78      0.88      0.82        24\n",
      "           1       0.72      0.50      0.59        26\n",
      "           2       0.60      0.78      0.68        27\n",
      "           3       0.65      0.58      0.61        26\n",
      "           4       0.65      0.53      0.59        32\n",
      "           5       0.76      0.93      0.83        27\n",
      "           6       0.96      0.96      0.96        28\n",
      "\n",
      "    accuracy                           0.73       190\n",
      "   macro avg       0.73      0.74      0.73       190\n",
      "weighted avg       0.73      0.73      0.72       190\n",
      "\n",
      "              precision    recall  f1-score   support\n",
      "\n",
      "           0       0.71      0.83      0.77        24\n",
      "           1       0.62      0.58      0.60        26\n",
      "           2       0.61      0.70      0.66        27\n",
      "           3       0.75      0.58      0.65        26\n",
      "           4       0.83      0.62      0.71        32\n",
      "           5       0.74      0.96      0.84        27\n",
      "           6       1.00      1.00      1.00        28\n",
      "\n",
      "    accuracy                           0.75       190\n",
      "   macro avg       0.75      0.75      0.75       190\n",
      "weighted avg       0.76      0.75      0.75       190\n",
      "\n",
      "              precision    recall  f1-score   support\n",
      "\n",
      "           0       0.88      0.92      0.90        24\n",
      "           1       0.76      0.50      0.60        26\n",
      "           2       0.50      0.70      0.58        27\n",
      "           3       0.65      0.42      0.51        26\n",
      "           4       0.74      0.72      0.73        32\n",
      "           5       0.79      0.96      0.87        27\n",
      "           6       0.97      1.00      0.98        28\n",
      "\n",
      "    accuracy                           0.75       190\n",
      "   macro avg       0.76      0.75      0.74       190\n",
      "weighted avg       0.75      0.75      0.74       190\n",
      "\n",
      "              precision    recall  f1-score   support\n",
      "\n",
      "           0       0.83      0.80      0.82        25\n",
      "           1       0.62      0.58      0.60        26\n",
      "           2       0.57      0.62      0.59        26\n",
      "           3       0.76      0.59      0.67        27\n",
      "           4       0.66      0.68      0.67        31\n",
      "           5       0.84      1.00      0.91        26\n",
      "           6       0.97      1.00      0.98        29\n",
      "\n",
      "    accuracy                           0.75       190\n",
      "   macro avg       0.75      0.75      0.75       190\n",
      "weighted avg       0.75      0.75      0.75       190\n",
      "\n",
      "              precision    recall  f1-score   support\n",
      "\n",
      "           0       0.73      0.88      0.80        25\n",
      "           1       0.75      0.46      0.57        26\n",
      "           2       0.61      0.65      0.63        26\n",
      "           3       0.71      0.74      0.73        27\n",
      "           4       0.68      0.61      0.64        31\n",
      "           5       0.83      0.96      0.89        26\n",
      "           6       0.97      1.00      0.98        29\n",
      "\n",
      "    accuracy                           0.76       190\n",
      "   macro avg       0.75      0.76      0.75       190\n",
      "weighted avg       0.76      0.76      0.75       190\n",
      "\n",
      "              precision    recall  f1-score   support\n",
      "\n",
      "           0       0.75      0.84      0.79        25\n",
      "           1       0.69      0.44      0.54        25\n",
      "           2       0.73      0.73      0.73        26\n",
      "           3       0.61      0.63      0.62        27\n",
      "           4       0.72      0.68      0.70        31\n",
      "           5       0.81      1.00      0.90        26\n",
      "           6       0.97      1.00      0.98        29\n",
      "\n",
      "    accuracy                           0.76       189\n",
      "   macro avg       0.75      0.76      0.75       189\n",
      "weighted avg       0.76      0.76      0.75       189\n",
      "\n",
      "List of possible accuracy: [0.7736842105263158, 0.7631578947368421, 0.7, 0.7421052631578947, 0.7315789473684211, 0.7526315789473684, 0.7473684210526316, 0.7526315789473684, 0.7578947368421053, 0.7619047619047619]\n",
      "\n",
      "Maximum Accuracy That can be obtained from this model is: 77.36842105263158 %\n",
      "\n",
      "Minimum Accuracy: 70.0 %\n",
      "\n",
      "Overall Accuracy: 74.82957393483709 %\n",
      "\n",
      "Standard Deviation is: 1.9574255739156758 %\n"
     ]
    }
   ],
   "source": [
    "stratified_kfold_evaluation(StratifiedKFold(n_splits=10), svm)"
   ]
  },
  {
   "cell_type": "code",
   "execution_count": null,
   "id": "ca057ece-2507-4cb7-9a86-2b94eeb1ee34",
   "metadata": {},
   "outputs": [],
   "source": []
  },
  {
   "cell_type": "markdown",
   "id": "bcb7a1cf-d5e9-49bf-9881-a277db45afdc",
   "metadata": {
    "tags": []
   },
   "source": [
    "# .0 Hyperparameter Fine Tuning"
   ]
  },
  {
   "cell_type": "code",
   "execution_count": 153,
   "id": "242d4f30-059b-4998-97e7-a5b781b1bb10",
   "metadata": {
    "execution": {
     "iopub.execute_input": "2021-11-20T21:14:28.754022Z",
     "iopub.status.busy": "2021-11-20T21:14:28.754022Z",
     "iopub.status.idle": "2021-11-20T21:14:28.769649Z",
     "shell.execute_reply": "2021-11-20T21:14:28.769649Z",
     "shell.execute_reply.started": "2021-11-20T21:14:28.754022Z"
    },
    "tags": []
   },
   "outputs": [],
   "source": [
    "param = {\n",
    "    'max_depth': [3, 5, 9, 12, 15],\n",
    "    'criterion': ['gini', 'entropy'],\n",
    "    'splitter': ['best', 'random'],\n",
    "    'min_samples_split': [2, 4, 6, 8],\n",
    "    'min_samples_leaf': [1, 2, 3, 4, 5],\n",
    "    'max_features': [None, 'auto', 'sqrt', 'log2']\n",
    "    \n",
    "}"
   ]
  },
  {
   "cell_type": "markdown",
   "id": "c641722f-8794-4041-81ca-5da67a4bf767",
   "metadata": {},
   "source": [
    "## 8.1 Random Search"
   ]
  },
  {
   "cell_type": "markdown",
   "id": "0744ebf3-2410-42da-88a8-2a9a53e2045e",
   "metadata": {},
   "source": [
    "## 8.2 Bayesian Search"
   ]
  },
  {
   "cell_type": "code",
   "execution_count": 154,
   "id": "edf7d2cc-5196-459a-b552-9d583fe954fa",
   "metadata": {
    "execution": {
     "iopub.execute_input": "2021-11-20T21:14:28.769649Z",
     "iopub.status.busy": "2021-11-20T21:14:28.769649Z",
     "iopub.status.idle": "2021-11-20T21:14:28.785275Z",
     "shell.execute_reply": "2021-11-20T21:14:28.785275Z",
     "shell.execute_reply.started": "2021-11-20T21:14:28.769649Z"
    },
    "tags": []
   },
   "outputs": [],
   "source": [
    "# bayes_search = BayesSearchCV(\n",
    "#     arvore,\n",
    "#     param,\n",
    "#     n_jobs=-3,\n",
    "#     n_iter=300,\n",
    "#     random_state=32,\n",
    "#     cv=10,\n",
    "#     verbose = 1,\n",
    "#  )\n",
    "# bayes_search.fit(x_full, y_full)\n",
    "# bayes_search.score(x_full, y_full)"
   ]
  },
  {
   "cell_type": "code",
   "execution_count": 155,
   "id": "f40c504b-8a18-4e3a-8f31-ba962e4824ef",
   "metadata": {
    "execution": {
     "iopub.execute_input": "2021-11-20T21:14:28.785275Z",
     "iopub.status.busy": "2021-11-20T21:14:28.785275Z",
     "iopub.status.idle": "2021-11-20T21:14:29.429732Z",
     "shell.execute_reply": "2021-11-20T21:14:29.429732Z",
     "shell.execute_reply.started": "2021-11-20T21:14:28.785275Z"
    }
   },
   "outputs": [
    {
     "ename": "NameError",
     "evalue": "name 'bayes_search' is not defined",
     "output_type": "error",
     "traceback": [
      "\u001b[1;31m---------------------------------------------------------------------------\u001b[0m",
      "\u001b[1;31mNameError\u001b[0m                                 Traceback (most recent call last)",
      "\u001b[1;32m~\\AppData\\Local\\Temp/ipykernel_16324/3197739625.py\u001b[0m in \u001b[0;36m<module>\u001b[1;34m\u001b[0m\n\u001b[1;32m----> 1\u001b[1;33m \u001b[0mbayes_search\u001b[0m\u001b[1;33m.\u001b[0m\u001b[0mbest_estimator_\u001b[0m\u001b[1;33m\u001b[0m\u001b[1;33m\u001b[0m\u001b[0m\n\u001b[0m",
      "\u001b[1;31mNameError\u001b[0m: name 'bayes_search' is not defined"
     ]
    }
   ],
   "source": [
    "bayes_search.best_estimator_"
   ]
  },
  {
   "cell_type": "code",
   "execution_count": null,
   "id": "b2501887-9317-4fed-81de-a01e8a5acad3",
   "metadata": {
    "execution": {
     "iopub.status.busy": "2021-11-20T21:14:29.429732Z",
     "iopub.status.idle": "2021-11-20T21:14:29.429732Z",
     "shell.execute_reply": "2021-11-20T21:14:29.429732Z",
     "shell.execute_reply.started": "2021-11-20T21:14:29.429732Z"
    }
   },
   "outputs": [],
   "source": [
    "bayes_search.best_score_"
   ]
  },
  {
   "cell_type": "code",
   "execution_count": null,
   "id": "cf3c5c91-2fdb-4664-bbc5-137e7ba1335e",
   "metadata": {
    "execution": {
     "iopub.status.busy": "2021-11-20T21:14:29.429732Z",
     "iopub.status.idle": "2021-11-20T21:14:29.429732Z",
     "shell.execute_reply": "2021-11-20T21:14:29.429732Z",
     "shell.execute_reply.started": "2021-11-20T21:14:29.429732Z"
    }
   },
   "outputs": [],
   "source": [
    "bayes_search.best_params_"
   ]
  },
  {
   "cell_type": "markdown",
   "id": "6a12e656-ccc6-4406-b476-154e27d0476d",
   "metadata": {},
   "source": [
    "## 8.3 Final Model"
   ]
  },
  {
   "cell_type": "code",
   "execution_count": null,
   "id": "5a260216-6a4f-480b-ab45-034663f4b86a",
   "metadata": {
    "execution": {
     "iopub.status.busy": "2021-11-20T21:14:29.429732Z",
     "iopub.status.idle": "2021-11-20T21:14:29.429732Z",
     "shell.execute_reply": "2021-11-20T21:14:29.429732Z",
     "shell.execute_reply.started": "2021-11-20T21:14:29.429732Z"
    },
    "tags": []
   },
   "outputs": [],
   "source": [
    "best_estimator = DecisionTreeClassifier(criterion='entropy', max_depth=9, min_samples_leaf=4, min_samples_split=4)\n",
    "\n",
    "best_params = [('criterion', 'entropy'),\n",
    "             ('max_depth', 9),\n",
    "             ('max_features', None),\n",
    "             ('min_samples_leaf', 4),\n",
    "             ('min_samples_split', 4),\n",
    "             ('splitter', 'best')]\n",
    "\n",
    "best_score = 0.9718520533043242"
   ]
  },
  {
   "cell_type": "code",
   "execution_count": null,
   "id": "259ea3cd-4ce2-4542-8589-3858fb5254da",
   "metadata": {
    "execution": {
     "iopub.status.busy": "2021-11-20T21:14:29.429732Z",
     "iopub.status.idle": "2021-11-20T21:14:29.429732Z",
     "shell.execute_reply": "2021-11-20T21:14:29.429732Z",
     "shell.execute_reply.started": "2021-11-20T21:14:29.429732Z"
    },
    "tags": []
   },
   "outputs": [],
   "source": [
    "modelo_final = best_estimator.fit(X_train_final, y_train)\n",
    "modelo_final_pred = dtc.predict(X_test_final)\n",
    "\n",
    "print(classification_report(y_test, modelo_final_pred))"
   ]
  },
  {
   "cell_type": "code",
   "execution_count": null,
   "id": "2d6fdda8-442e-4f5d-900f-0f451c6bdabd",
   "metadata": {
    "execution": {
     "iopub.status.busy": "2021-11-20T21:14:29.429732Z",
     "iopub.status.idle": "2021-11-20T21:14:29.429732Z",
     "shell.execute_reply": "2021-11-20T21:14:29.429732Z",
     "shell.execute_reply.started": "2021-11-20T21:14:29.429732Z"
    },
    "tags": []
   },
   "outputs": [],
   "source": [
    "confusion_matrix_rf = pd.crosstab(y_test, modelo_final_pred, rownames=['Atual'], colnames=['Predição'])\n",
    "sns.heatmap(confusion_matrix_rf, annot=True, fmt='d');"
   ]
  },
  {
   "cell_type": "code",
   "execution_count": null,
   "id": "01597be8-d4c0-4d88-8ab5-fd0519b8753d",
   "metadata": {
    "tags": []
   },
   "outputs": [],
   "source": []
  },
  {
   "cell_type": "code",
   "execution_count": null,
   "id": "7f0d6ca8-3950-41db-9e64-050f8c29d134",
   "metadata": {},
   "outputs": [],
   "source": []
  },
  {
   "cell_type": "code",
   "execution_count": null,
   "id": "5ffc4f52-c954-4b82-b207-84b809b04873",
   "metadata": {},
   "outputs": [],
   "source": []
  },
  {
   "cell_type": "code",
   "execution_count": null,
   "id": "edb0d11c-2ba7-44e1-aace-4c49d215ce03",
   "metadata": {},
   "outputs": [],
   "source": []
  },
  {
   "cell_type": "code",
   "execution_count": null,
   "id": "453e1dea-db64-4360-abb6-bdb4c8ce5ab5",
   "metadata": {},
   "outputs": [],
   "source": []
  },
  {
   "cell_type": "code",
   "execution_count": null,
   "id": "51effa65-26a8-4e37-9668-cd2c1216bc84",
   "metadata": {},
   "outputs": [],
   "source": []
  },
  {
   "cell_type": "code",
   "execution_count": 137,
   "id": "1d56a894-1476-48b0-84b0-f224d2c79683",
   "metadata": {
    "execution": {
     "iopub.execute_input": "2021-11-20T21:14:03.207383Z",
     "iopub.status.busy": "2021-11-20T21:14:03.207383Z",
     "iopub.status.idle": "2021-11-20T21:14:03.223011Z",
     "shell.execute_reply": "2021-11-20T21:14:03.223011Z",
     "shell.execute_reply.started": "2021-11-20T21:14:03.207383Z"
    },
    "tags": []
   },
   "outputs": [],
   "source": [
    "nb = GaussianNB()\n",
    "nb.fit(X_train_final, y_train)\n",
    "\n",
    "res_nb = nb.predict(X_test_final)"
   ]
  },
  {
   "cell_type": "code",
   "execution_count": 138,
   "id": "63ccaf70-cee1-40ef-babf-2832bc5dcb74",
   "metadata": {
    "execution": {
     "iopub.execute_input": "2021-11-20T21:14:03.223011Z",
     "iopub.status.busy": "2021-11-20T21:14:03.223011Z",
     "iopub.status.idle": "2021-11-20T21:14:03.238635Z",
     "shell.execute_reply": "2021-11-20T21:14:03.238635Z",
     "shell.execute_reply.started": "2021-11-20T21:14:03.223011Z"
    },
    "tags": []
   },
   "outputs": [
    {
     "name": "stdout",
     "output_type": "stream",
     "text": [
      "              precision    recall  f1-score   support\n",
      "\n",
      "           0       0.98      0.82      0.89      1456\n",
      "           1       0.28      0.26      0.27       347\n",
      "           2       0.08      0.96      0.15        25\n",
      "           3       0.00      0.00      0.00        10\n",
      "\n",
      "    accuracy                           0.71      1838\n",
      "   macro avg       0.34      0.51      0.33      1838\n",
      "weighted avg       0.83      0.71      0.76      1838\n",
      "\n"
     ]
    }
   ],
   "source": [
    "print(classification_report(y_test, res_nb))"
   ]
  },
  {
   "cell_type": "code",
   "execution_count": 139,
   "id": "ce6a9efc-b15e-4efd-9382-6d8b6fd22b38",
   "metadata": {
    "execution": {
     "iopub.execute_input": "2021-11-20T21:14:03.238635Z",
     "iopub.status.busy": "2021-11-20T21:14:03.238635Z",
     "iopub.status.idle": "2021-11-20T21:14:03.570573Z",
     "shell.execute_reply": "2021-11-20T21:14:03.570573Z",
     "shell.execute_reply.started": "2021-11-20T21:14:03.238635Z"
    },
    "tags": []
   },
   "outputs": [
    {
     "data": {
      "image/png": "[encoded data removed]",
      "text/plain": [
       "<Figure size 864x432 with 2 Axes>"
      ]
     },
     "metadata": {},
     "output_type": "display_data"
    }
   ],
   "source": [
    "ax = pl.subplot()\n",
    "labels = ['Requeima', 'Refugo']\n",
    "\n",
    "confusion_matrix = pd.crosstab(y_test, res_nb, rownames=['Atual'], colnames=['Predição'])\n",
    "sns.heatmap(confusion_matrix, annot=True, fmt='d');"
   ]
  },
  {
   "cell_type": "markdown",
   "id": "9eca4ffd-144c-4637-b918-243075e141c1",
   "metadata": {
    "id": "--LWCotE-p81",
    "tags": []
   },
   "source": [
    "## 6.3 Árvore de decisão"
   ]
  },
  {
   "cell_type": "code",
   "execution_count": 147,
   "id": "3876fac6-d892-4e47-b225-006a301e974a",
   "metadata": {
    "colab": {
     "base_uri": "https://localhost:8080/"
    },
    "execution": {
     "iopub.execute_input": "2021-11-20T21:14:12.898378Z",
     "iopub.status.busy": "2021-11-20T21:14:12.898378Z",
     "iopub.status.idle": "2021-11-20T21:14:12.929630Z",
     "shell.execute_reply": "2021-11-20T21:14:12.929630Z",
     "shell.execute_reply.started": "2021-11-20T21:14:12.898378Z"
    },
    "id": "KaQq5JHo8jLj",
    "outputId": "54b5c124-8ca5-4ba2-9690-73f08dfe3ab6",
    "tags": []
   },
   "outputs": [
    {
     "name": "stdout",
     "output_type": "stream",
     "text": [
      "              precision    recall  f1-score   support\n",
      "\n",
      "           0       0.98      0.98      0.98      1456\n",
      "           1       0.87      0.95      0.90       347\n",
      "           2       1.00      0.40      0.57        25\n",
      "           3       1.00      0.20      0.33        10\n",
      "\n",
      "    accuracy                           0.96      1838\n",
      "   macro avg       0.96      0.63      0.70      1838\n",
      "weighted avg       0.96      0.96      0.96      1838\n",
      "\n"
     ]
    }
   ],
   "source": [
    "dtc = DecisionTreeClassifier(criterion='entropy', max_depth=3)\n",
    "dtc = dtc.fit(X_train_final, y_train)\n",
    "\n",
    "res_dtc = dtc.predict(X_test_final)\n",
    "\n",
    "print(classification_report(y_test, res_dtc))"
   ]
  },
  {
   "cell_type": "code",
   "execution_count": 148,
   "id": "61e96550-9e84-4832-9737-a62f47d6d8d3",
   "metadata": {
    "colab": {
     "base_uri": "https://localhost:8080/",
     "height": 296
    },
    "execution": {
     "iopub.execute_input": "2021-11-20T21:14:12.929630Z",
     "iopub.status.busy": "2021-11-20T21:14:12.929630Z",
     "iopub.status.idle": "2021-11-20T21:14:13.214677Z",
     "shell.execute_reply": "2021-11-20T21:14:13.214677Z",
     "shell.execute_reply.started": "2021-11-20T21:14:12.929630Z"
    },
    "id": "wO37CCyz5vO3",
    "outputId": "604a2eac-d9c0-4f98-8859-f87a63019103",
    "tags": []
   },
   "outputs": [
    {
     "data": {
      "image/png": "[encoded data removed]",
      "text/plain": [
       "<Figure size 864x432 with 2 Axes>"
      ]
     },
     "metadata": {},
     "output_type": "display_data"
    }
   ],
   "source": [
    "confusion_matrix_dtc = pd.crosstab(y_test, res_dtc, rownames=['Atual'], colnames=['Predição'])\n",
    "sns.heatmap(confusion_matrix_dtc, annot=True, fmt='d');"
   ]
  },
  {
   "cell_type": "code",
   "execution_count": 149,
   "id": "983fc69f-6d8b-46e2-ba78-65757b93d535",
   "metadata": {
    "execution": {
     "iopub.execute_input": "2021-11-20T21:14:13.214677Z",
     "iopub.status.busy": "2021-11-20T21:14:13.214677Z",
     "iopub.status.idle": "2021-11-20T21:14:13.433441Z",
     "shell.execute_reply": "2021-11-20T21:14:13.433441Z",
     "shell.execute_reply.started": "2021-11-20T21:14:13.214677Z"
    },
    "tags": []
   },
   "outputs": [
    {
     "name": "stdout",
     "output_type": "stream",
     "text": [
      "              precision    recall  f1-score   support\n",
      "\n",
      "           0       0.98      0.96      0.97       723\n",
      "           1       0.83      0.94      0.88       180\n",
      "           2       1.00      0.42      0.59        12\n",
      "           3       1.00      0.25      0.40         4\n",
      "\n",
      "    accuracy                           0.95       919\n",
      "   macro avg       0.95      0.64      0.71       919\n",
      "weighted avg       0.95      0.95      0.94       919\n",
      "\n",
      "              precision    recall  f1-score   support\n",
      "\n",
      "           0       0.99      0.98      0.99       723\n",
      "           1       0.89      0.99      0.94       180\n",
      "           2       1.00      0.36      0.53        11\n",
      "           3       0.00      0.00      0.00         5\n",
      "\n",
      "    accuracy                           0.97       919\n",
      "   macro avg       0.72      0.58      0.61       919\n",
      "weighted avg       0.97      0.97      0.97       919\n",
      "\n",
      "              precision    recall  f1-score   support\n",
      "\n",
      "           0       0.98      0.98      0.98       723\n",
      "           1       0.91      0.92      0.91       180\n",
      "           2       1.00      0.45      0.62        11\n",
      "           3       1.00      0.40      0.57         5\n",
      "\n",
      "    accuracy                           0.96       919\n",
      "   macro avg       0.97      0.69      0.77       919\n",
      "weighted avg       0.96      0.96      0.96       919\n",
      "\n",
      "              precision    recall  f1-score   support\n",
      "\n",
      "           0       0.98      0.99      0.98       723\n",
      "           1       0.89      0.94      0.92       180\n",
      "           2       1.00      0.27      0.43        11\n",
      "           3       1.00      0.40      0.57         5\n",
      "\n",
      "    accuracy                           0.97       919\n",
      "   macro avg       0.97      0.65      0.73       919\n",
      "weighted avg       0.97      0.97      0.96       919\n",
      "\n",
      "              precision    recall  f1-score   support\n",
      "\n",
      "           0       0.99      0.98      0.99       723\n",
      "           1       0.90      0.98      0.94       179\n",
      "           2       1.00      0.50      0.67        12\n",
      "           3       1.00      0.40      0.57         5\n",
      "\n",
      "    accuracy                           0.97       919\n",
      "   macro avg       0.97      0.72      0.79       919\n",
      "weighted avg       0.97      0.97      0.97       919\n",
      "\n",
      "              precision    recall  f1-score   support\n",
      "\n",
      "           0       0.98      0.98      0.98       723\n",
      "           1       0.87      0.93      0.90       179\n",
      "           2       1.00      0.17      0.29        12\n",
      "           3       1.00      0.60      0.75         5\n",
      "\n",
      "    accuracy                           0.96       919\n",
      "   macro avg       0.96      0.67      0.73       919\n",
      "weighted avg       0.96      0.96      0.95       919\n",
      "\n",
      "              precision    recall  f1-score   support\n",
      "\n",
      "           0       0.99      0.98      0.98       723\n",
      "           1       0.87      0.95      0.91       179\n",
      "           2       1.00      0.58      0.74        12\n",
      "           3       0.00      0.00      0.00         5\n",
      "\n",
      "    accuracy                           0.96       919\n",
      "   macro avg       0.71      0.63      0.66       919\n",
      "weighted avg       0.96      0.96      0.96       919\n",
      "\n",
      "              precision    recall  f1-score   support\n",
      "\n",
      "           0       0.99      0.98      0.98       723\n",
      "           1       0.87      0.95      0.91       179\n",
      "           2       1.00      0.50      0.67        12\n",
      "           3       1.00      0.40      0.57         5\n",
      "\n",
      "    accuracy                           0.96       919\n",
      "   macro avg       0.96      0.71      0.78       919\n",
      "weighted avg       0.96      0.96      0.96       919\n",
      "\n",
      "              precision    recall  f1-score   support\n",
      "\n",
      "           0       1.00      0.98      0.99       723\n",
      "           1       0.88      0.99      0.93       179\n",
      "           2       0.78      0.58      0.67        12\n",
      "           3       1.00      0.40      0.57         5\n",
      "\n",
      "    accuracy                           0.97       919\n",
      "   macro avg       0.91      0.74      0.79       919\n",
      "weighted avg       0.97      0.97      0.97       919\n",
      "\n",
      "              precision    recall  f1-score   support\n",
      "\n",
      "           0       0.99      0.98      0.99       723\n",
      "           1       0.87      0.97      0.92       179\n",
      "           2       1.00      0.25      0.40        12\n",
      "           3       0.00      0.00      0.00         5\n",
      "\n",
      "    accuracy                           0.97       919\n",
      "   macro avg       0.72      0.55      0.58       919\n",
      "weighted avg       0.96      0.97      0.96       919\n",
      "\n"
     ]
    },
    {
     "name": "stderr",
     "output_type": "stream",
     "text": [
      "C:\\Users\\Kamel\\.conda\\envs\\tf-gpu\\lib\\site-packages\\sklearn\\metrics\\_classification.py:1308: UndefinedMetricWarning: Precision and F-score are ill-defined and being set to 0.0 in labels with no predicted samples. Use `zero_division` parameter to control this behavior.\n",
      "  _warn_prf(average, modifier, msg_start, len(result))\n",
      "C:\\Users\\Kamel\\.conda\\envs\\tf-gpu\\lib\\site-packages\\sklearn\\metrics\\_classification.py:1308: UndefinedMetricWarning: Precision and F-score are ill-defined and being set to 0.0 in labels with no predicted samples. Use `zero_division` parameter to control this behavior.\n",
      "  _warn_prf(average, modifier, msg_start, len(result))\n",
      "C:\\Users\\Kamel\\.conda\\envs\\tf-gpu\\lib\\site-packages\\sklearn\\metrics\\_classification.py:1308: UndefinedMetricWarning: Precision and F-score are ill-defined and being set to 0.0 in labels with no predicted samples. Use `zero_division` parameter to control this behavior.\n",
      "  _warn_prf(average, modifier, msg_start, len(result))\n",
      "C:\\Users\\Kamel\\.conda\\envs\\tf-gpu\\lib\\site-packages\\sklearn\\metrics\\_classification.py:1308: UndefinedMetricWarning: Precision and F-score are ill-defined and being set to 0.0 in labels with no predicted samples. Use `zero_division` parameter to control this behavior.\n",
      "  _warn_prf(average, modifier, msg_start, len(result))\n",
      "C:\\Users\\Kamel\\.conda\\envs\\tf-gpu\\lib\\site-packages\\sklearn\\metrics\\_classification.py:1308: UndefinedMetricWarning: Precision and F-score are ill-defined and being set to 0.0 in labels with no predicted samples. Use `zero_division` parameter to control this behavior.\n",
      "  _warn_prf(average, modifier, msg_start, len(result))\n",
      "C:\\Users\\Kamel\\.conda\\envs\\tf-gpu\\lib\\site-packages\\sklearn\\metrics\\_classification.py:1308: UndefinedMetricWarning: Precision and F-score are ill-defined and being set to 0.0 in labels with no predicted samples. Use `zero_division` parameter to control this behavior.\n",
      "  _warn_prf(average, modifier, msg_start, len(result))\n",
      "C:\\Users\\Kamel\\.conda\\envs\\tf-gpu\\lib\\site-packages\\sklearn\\metrics\\_classification.py:1308: UndefinedMetricWarning: Precision and F-score are ill-defined and being set to 0.0 in labels with no predicted samples. Use `zero_division` parameter to control this behavior.\n",
      "  _warn_prf(average, modifier, msg_start, len(result))\n",
      "C:\\Users\\Kamel\\.conda\\envs\\tf-gpu\\lib\\site-packages\\sklearn\\metrics\\_classification.py:1308: UndefinedMetricWarning: Precision and F-score are ill-defined and being set to 0.0 in labels with no predicted samples. Use `zero_division` parameter to control this behavior.\n",
      "  _warn_prf(average, modifier, msg_start, len(result))\n",
      "C:\\Users\\Kamel\\.conda\\envs\\tf-gpu\\lib\\site-packages\\sklearn\\metrics\\_classification.py:1308: UndefinedMetricWarning: Precision and F-score are ill-defined and being set to 0.0 in labels with no predicted samples. Use `zero_division` parameter to control this behavior.\n",
      "  _warn_prf(average, modifier, msg_start, len(result))\n"
     ]
    }
   ],
   "source": [
    "arvore = DecisionTreeClassifier(criterion='entropy', max_depth=3)\n",
    "cross_validate(arvore, X_full, y_full)\n",
    "\n",
    "arvore_score = cross_val_score(arvore, X_full, y_full, cv=10, scoring=make_scorer(classification_report_with_accuracy_score))"
   ]
  },
  {
   "cell_type": "markdown",
   "id": "263a048a-87e7-47e3-98ce-b32c9463748e",
   "metadata": {
    "id": "lq2tdVFzp-cs",
    "tags": []
   },
   "source": [
    "## 6.4 Random Forest"
   ]
  },
  {
   "cell_type": "code",
   "execution_count": 150,
   "id": "c524aa4e-7ecf-4214-ba85-45f0a0644220",
   "metadata": {
    "execution": {
     "iopub.execute_input": "2021-11-20T21:14:13.433441Z",
     "iopub.status.busy": "2021-11-20T21:14:13.433441Z",
     "iopub.status.idle": "2021-11-20T21:14:27.574608Z",
     "shell.execute_reply": "2021-11-20T21:14:27.574608Z",
     "shell.execute_reply.started": "2021-11-20T21:14:13.433441Z"
    },
    "tags": []
   },
   "outputs": [
    {
     "name": "stdout",
     "output_type": "stream",
     "text": [
      "              precision    recall  f1-score   support\n",
      "\n",
      "           0       0.97      0.97      0.97       723\n",
      "           1       0.89      0.89      0.89       180\n",
      "           2       0.88      0.58      0.70        12\n",
      "           3       0.20      0.25      0.22         4\n",
      "\n",
      "    accuracy                           0.95       919\n",
      "   macro avg       0.73      0.67      0.70       919\n",
      "weighted avg       0.95      0.95      0.95       919\n",
      "\n"
     ]
    },
    {
     "name": "stderr",
     "output_type": "stream",
     "text": [
      "C:\\Users\\Kamel\\.conda\\envs\\tf-gpu\\lib\\site-packages\\sklearn\\metrics\\_classification.py:1308: UndefinedMetricWarning: Precision and F-score are ill-defined and being set to 0.0 in labels with no predicted samples. Use `zero_division` parameter to control this behavior.\n",
      "  _warn_prf(average, modifier, msg_start, len(result))\n",
      "C:\\Users\\Kamel\\.conda\\envs\\tf-gpu\\lib\\site-packages\\sklearn\\metrics\\_classification.py:1308: UndefinedMetricWarning: Precision and F-score are ill-defined and being set to 0.0 in labels with no predicted samples. Use `zero_division` parameter to control this behavior.\n",
      "  _warn_prf(average, modifier, msg_start, len(result))\n",
      "C:\\Users\\Kamel\\.conda\\envs\\tf-gpu\\lib\\site-packages\\sklearn\\metrics\\_classification.py:1308: UndefinedMetricWarning: Precision and F-score are ill-defined and being set to 0.0 in labels with no predicted samples. Use `zero_division` parameter to control this behavior.\n",
      "  _warn_prf(average, modifier, msg_start, len(result))\n"
     ]
    },
    {
     "name": "stdout",
     "output_type": "stream",
     "text": [
      "              precision    recall  f1-score   support\n",
      "\n",
      "           0       0.99      0.99      0.99       723\n",
      "           1       0.93      0.96      0.94       180\n",
      "           2       0.90      0.82      0.86        11\n",
      "           3       0.00      0.00      0.00         5\n",
      "\n",
      "    accuracy                           0.98       919\n",
      "   macro avg       0.70      0.69      0.70       919\n",
      "weighted avg       0.97      0.98      0.97       919\n",
      "\n",
      "              precision    recall  f1-score   support\n",
      "\n",
      "           0       0.97      0.99      0.98       723\n",
      "           1       0.96      0.87      0.91       180\n",
      "           2       0.80      0.73      0.76        11\n",
      "           3       0.75      0.60      0.67         5\n",
      "\n",
      "    accuracy                           0.96       919\n",
      "   macro avg       0.87      0.80      0.83       919\n",
      "weighted avg       0.96      0.96      0.96       919\n",
      "\n",
      "              precision    recall  f1-score   support\n",
      "\n",
      "           0       0.98      0.98      0.98       723\n",
      "           1       0.92      0.93      0.92       180\n",
      "           2       0.91      0.91      0.91        11\n",
      "           3       0.75      0.60      0.67         5\n",
      "\n",
      "    accuracy                           0.97       919\n",
      "   macro avg       0.89      0.85      0.87       919\n",
      "weighted avg       0.97      0.97      0.97       919\n",
      "\n",
      "              precision    recall  f1-score   support\n",
      "\n",
      "           0       0.99      0.99      0.99       723\n",
      "           1       0.94      0.95      0.95       179\n",
      "           2       0.73      0.67      0.70        12\n",
      "           3       0.75      0.60      0.67         5\n",
      "\n",
      "    accuracy                           0.98       919\n",
      "   macro avg       0.85      0.80      0.82       919\n",
      "weighted avg       0.98      0.98      0.98       919\n",
      "\n",
      "              precision    recall  f1-score   support\n",
      "\n",
      "           0       0.98      0.98      0.98       723\n",
      "           1       0.91      0.92      0.92       179\n",
      "           2       1.00      0.58      0.74        12\n",
      "           3       0.75      0.60      0.67         5\n",
      "\n",
      "    accuracy                           0.97       919\n",
      "   macro avg       0.91      0.77      0.83       919\n",
      "weighted avg       0.97      0.97      0.96       919\n",
      "\n",
      "              precision    recall  f1-score   support\n",
      "\n",
      "           0       0.99      0.98      0.99       723\n",
      "           1       0.92      0.94      0.93       179\n",
      "           2       0.86      1.00      0.92        12\n",
      "           3       1.00      0.20      0.33         5\n",
      "\n",
      "    accuracy                           0.97       919\n",
      "   macro avg       0.94      0.78      0.79       919\n",
      "weighted avg       0.97      0.97      0.97       919\n",
      "\n",
      "              precision    recall  f1-score   support\n",
      "\n",
      "           0       0.99      0.99      0.99       723\n",
      "           1       0.91      0.96      0.93       179\n",
      "           2       0.88      0.58      0.70        12\n",
      "           3       1.00      0.40      0.57         5\n",
      "\n",
      "    accuracy                           0.97       919\n",
      "   macro avg       0.94      0.73      0.80       919\n",
      "weighted avg       0.97      0.97      0.97       919\n",
      "\n",
      "              precision    recall  f1-score   support\n",
      "\n",
      "           0       1.00      0.99      0.99       723\n",
      "           1       0.93      0.95      0.94       179\n",
      "           2       0.53      0.67      0.59        12\n",
      "           3       0.67      0.40      0.50         5\n",
      "\n",
      "    accuracy                           0.97       919\n",
      "   macro avg       0.78      0.75      0.76       919\n",
      "weighted avg       0.98      0.97      0.98       919\n",
      "\n",
      "              precision    recall  f1-score   support\n",
      "\n",
      "           0       0.99      0.99      0.99       723\n",
      "           1       0.89      0.95      0.92       179\n",
      "           2       1.00      0.50      0.67        12\n",
      "           3       0.00      0.00      0.00         5\n",
      "\n",
      "    accuracy                           0.97       919\n",
      "   macro avg       0.72      0.61      0.64       919\n",
      "weighted avg       0.96      0.97      0.96       919\n",
      "\n"
     ]
    },
    {
     "name": "stderr",
     "output_type": "stream",
     "text": [
      "C:\\Users\\Kamel\\.conda\\envs\\tf-gpu\\lib\\site-packages\\sklearn\\metrics\\_classification.py:1308: UndefinedMetricWarning: Precision and F-score are ill-defined and being set to 0.0 in labels with no predicted samples. Use `zero_division` parameter to control this behavior.\n",
      "  _warn_prf(average, modifier, msg_start, len(result))\n",
      "C:\\Users\\Kamel\\.conda\\envs\\tf-gpu\\lib\\site-packages\\sklearn\\metrics\\_classification.py:1308: UndefinedMetricWarning: Precision and F-score are ill-defined and being set to 0.0 in labels with no predicted samples. Use `zero_division` parameter to control this behavior.\n",
      "  _warn_prf(average, modifier, msg_start, len(result))\n",
      "C:\\Users\\Kamel\\.conda\\envs\\tf-gpu\\lib\\site-packages\\sklearn\\metrics\\_classification.py:1308: UndefinedMetricWarning: Precision and F-score are ill-defined and being set to 0.0 in labels with no predicted samples. Use `zero_division` parameter to control this behavior.\n",
      "  _warn_prf(average, modifier, msg_start, len(result))\n"
     ]
    }
   ],
   "source": [
    "rf = RandomForestClassifier(n_estimators=200)\n",
    "cross_validate(rf, X_full, y_full)\n",
    "\n",
    "rf_score = cross_val_score(rf, X_full, y_full, cv=10, scoring=make_scorer(classification_report_with_accuracy_score))"
   ]
  },
  {
   "cell_type": "code",
   "execution_count": 151,
   "id": "6900dfb7-ad60-43af-aeb2-2bfaed037172",
   "metadata": {
    "execution": {
     "iopub.execute_input": "2021-11-20T21:14:27.574608Z",
     "iopub.status.busy": "2021-11-20T21:14:27.574608Z",
     "iopub.status.idle": "2021-11-20T21:14:28.472752Z",
     "shell.execute_reply": "2021-11-20T21:14:28.472752Z",
     "shell.execute_reply.started": "2021-11-20T21:14:27.574608Z"
    },
    "tags": []
   },
   "outputs": [],
   "source": [
    "rf.fit(X_train_final, y_train)\n",
    "res_rf = rf.predict(X_test_final)"
   ]
  },
  {
   "cell_type": "code",
   "execution_count": 152,
   "id": "61f65127-4ac1-49fe-97b9-7f2a4010a474",
   "metadata": {
    "execution": {
     "iopub.execute_input": "2021-11-20T21:14:28.472752Z",
     "iopub.status.busy": "2021-11-20T21:14:28.472752Z",
     "iopub.status.idle": "2021-11-20T21:14:28.754022Z",
     "shell.execute_reply": "2021-11-20T21:14:28.754022Z",
     "shell.execute_reply.started": "2021-11-20T21:14:28.472752Z"
    },
    "tags": []
   },
   "outputs": [
    {
     "data": {
      "image/png": "[encoded data removed]",
      "text/plain": [
       "<Figure size 864x432 with 2 Axes>"
      ]
     },
     "metadata": {},
     "output_type": "display_data"
    }
   ],
   "source": [
    "confusion_matrix_rf = pd.crosstab(y_test, res_rf, rownames=['Atual'], colnames=['Predição'])\n",
    "sns.heatmap(confusion_matrix_rf, annot=True, fmt='d');"
   ]
  }
 ],
 "metadata": {
  "kernelspec": {
   "display_name": "Python 3 (ipykernel)",
   "language": "python",
   "name": "python3"
  },
  "language_info": {
   "codemirror_mode": {
    "name": "ipython",
    "version": 3
   },
   "file_extension": ".py",
   "mimetype": "text/x-python",
   "name": "python",
   "nbconvert_exporter": "python",
   "pygments_lexer": "ipython3",
   "version": "3.8.12"
  }
 },
 "nbformat": 4,
 "nbformat_minor": 5
}
